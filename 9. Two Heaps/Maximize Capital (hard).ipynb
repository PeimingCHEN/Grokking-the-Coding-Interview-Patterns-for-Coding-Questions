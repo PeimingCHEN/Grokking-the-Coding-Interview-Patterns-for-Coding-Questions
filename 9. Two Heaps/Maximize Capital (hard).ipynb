{
 "cells": [
  {
   "cell_type": "markdown",
   "metadata": {},
   "source": [
    "# Maximize Capital (hard)"
   ]
  },
  {
   "cell_type": "markdown",
   "metadata": {},
   "source": [
    "### Problem Statement\n",
    "Given a set of investment projects with their respective profits, we need to find the most profitable projects. We are given an initial capital and are allowed to invest only in a fixed number of projects. Our goal is to choose projects that give us the maximum profit. Write a function that returns the maximum total capital after selecting the most profitable projects.\n",
    "\n",
    "We can start an investment project only when we have the required capital. Once a project is selected, we can assume that its profit has become our capital.\n",
    "\n",
    "Leetcode: [502. IPO](https://leetcode.com/problems/ipo/)\n",
    "\n",
    "##### Example 1\n",
    "**Input**: Project Capitals=[0,1,2], Project Profits=[1,2,3], Initial Capital=1, Number of Projects=2<br>\n",
    "**Output**: 6<br>\n",
    "**Explanation**:\n",
    "With initial capital of ‘1’, we will start the second project which will give us profit of ‘2’. Once we selected our first project, our total capital will become 3 (profit + initial capital).<br>\n",
    "With ‘3’ capital, we will select the third project, which will give us ‘3’ profit.<br>\n",
    "After the completion of the two projects, our total capital will be 6 (1+2+3).<br>\n",
    "\n",
    "##### Example 2\n",
    "**Input**: Project Capitals=[0,1,2,3], Project Profits=[1,2,3,5], Initial Capital=0, Number of Projects=3<br>\n",
    "**Output**: 8<br>\n",
    "**Explanation**:\n",
    "With ‘0’ capital, we can only select the first project, bringing out capital to 1.<br>\n",
    "Next, we will select the second project, which will bring our capital to 3.<br>\n",
    "Next, we will select the fourth project, giving us a profit of 5.<br>\n",
    "After selecting the three projects, our total capital will be 8 (1+2+5)."
   ]
  },
  {
   "cell_type": "markdown",
   "metadata": {},
   "source": [
    "### Solution\n",
    "While selecting projects we have two constraints:<br>\n",
    "1. We can select a project only when we have the required capital.\n",
    "2. There is a maximum limit on how many projects we can select.\n",
    "\n",
    "Since we don’t have any constraint on time, we should choose a project, among the projects for which we have enough capital, which gives us a maximum profit. Following this **greedy** approach will give us the best solution.\n",
    "\n",
    "While selecting a project, we will do two things:\n",
    "1. Find all the projects that we can choose with the available capital.\n",
    "2. From the list of projects in the 1st step, choose the project that gives us a maximum profit.\n",
    "\n",
    "Follow the Two Heaps approach:\n",
    "1. Add all project capitals to a min-heap, so that we can select a project with the smallest capital requirement.\n",
    "2. Go through the top projects of the min-heap and filter the projects that can be completed within our available capital. Insert the profits of all these projects into a max-heap, so that we can choose a project with the maximum profit.\n",
    "3. Finally, select the top project of the max-heap for investment.\n",
    "4. Repeat the 2nd and 3rd steps for the required number of projects."
   ]
  },
  {
   "cell_type": "code",
   "execution_count": 1,
   "metadata": {},
   "outputs": [
    {
     "name": "stdout",
     "output_type": "stream",
     "text": [
      "Maximum capital: 6\n",
      "Maximum capital: 8\n"
     ]
    }
   ],
   "source": [
    "from heapq import *\n",
    "\n",
    "def find_maximum_capital(capital, profits, numberOfProjects, initialCapital):\n",
    "    minCapitalHeap = []\n",
    "    maxprofitHeap = []\n",
    "    \n",
    "    # insert all project capitals to a min-heap\n",
    "    for i in range(len(capital)):\n",
    "        heappush(minCapitalHeap, (capital[i], i))\n",
    "    \n",
    "    # let's try to find a total of 'numberOfProjects' best projects\n",
    "    availableCapital = initialCapital\n",
    "    for _ in range(numberOfProjects):\n",
    "        # find all projects that can be selected within the available capital and insert them in a max-heap\n",
    "        while minCapitalHeap and minCapitalHeap[0][0] <= availableCapital:\n",
    "            capital, i = heappop(minCapitalHeap)\n",
    "            heappush(maxprofitHeap, (-profits[i], i))\n",
    "        \n",
    "        # terminate if we are not able to find any project that can be completed within the available capital\n",
    "        if not maxprofitHeap:\n",
    "            break\n",
    "        \n",
    "        # select the project with the maximum profit\n",
    "        availableCapital += -heappop(maxprofitHeap)[0]\n",
    "    return availableCapital\n",
    "\n",
    "def main():\n",
    "    print(\"Maximum capital: \" +\n",
    "            str(find_maximum_capital([0, 1, 2], [1, 2, 3], 2, 1)))\n",
    "    print(\"Maximum capital: \" +\n",
    "            str(find_maximum_capital([0, 1, 2, 3], [1, 2, 3, 5], 3, 0)))\n",
    "\n",
    "main()"
   ]
  },
  {
   "cell_type": "markdown",
   "metadata": {},
   "source": [
    "**Time Complexity**: $O(NlogN+KlogN)$, where ‘N’ is the total number of projects and ‘K’ is the number of projects we are selecting. Since, at the most, all the projects will be pushed to both the heaps once.\n",
    "\n",
    "**Space Complexity**: $O(N)$, because we will be storing all the projects in the heaps."
   ]
  }
 ],
 "metadata": {
  "kernelspec": {
   "display_name": "Python 3.7.10 ('base')",
   "language": "python",
   "name": "python3"
  },
  "language_info": {
   "codemirror_mode": {
    "name": "ipython",
    "version": 3
   },
   "file_extension": ".py",
   "mimetype": "text/x-python",
   "name": "python",
   "nbconvert_exporter": "python",
   "pygments_lexer": "ipython3",
   "version": "3.7.10"
  },
  "orig_nbformat": 4,
  "vscode": {
   "interpreter": {
    "hash": "f8b40d688a12481f01eadf7380c47edd8a49484a47dba3db091451640e880c68"
   }
  }
 },
 "nbformat": 4,
 "nbformat_minor": 2
}
