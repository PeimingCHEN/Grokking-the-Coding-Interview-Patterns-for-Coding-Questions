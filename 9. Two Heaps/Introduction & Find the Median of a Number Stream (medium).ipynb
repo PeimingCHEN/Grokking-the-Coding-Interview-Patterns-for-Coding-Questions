{
 "cells": [
  {
   "cell_type": "markdown",
   "metadata": {},
   "source": [
    "# Introduction & Find the Median of a Number Stream (medium)"
   ]
  },
  {
   "cell_type": "markdown",
   "metadata": {},
   "source": [
    "Divide a set of elements into two parts, and find the smallest element in one part and the biggest element in the other part. The Two Heaps pattern uses two **Heaps**; A **Min Heap** to find the smallest element and a **Max Heap** to find the biggest element."
   ]
  },
  {
   "cell_type": "markdown",
   "metadata": {},
   "source": [
    "### Problem Statement\n",
    "Design a class to calculate the median of a number stream. The class should have the following two methods:\n",
    "1. `insertNum(int num)`: stores the number in the class\n",
    "2. `findMedian()`: returns the median of all numbers inserted in the class<br>\n",
    "If the count of numbers inserted in the class is even, the median will be the average of the middle two numbers.\n",
    "\n",
    "Leetcode: [295. Find Median from Data Stream](https://leetcode.com/problems/find-median-from-data-stream/)\n",
    "\n",
    "##### Example 1\n",
    "1. insertNum(3)\n",
    "2. insertNum(1)\n",
    "3. findMedian() -> output: 2\n",
    "4. insertNum(5)\n",
    "5. findMedian() -> output: 3\n",
    "6. insertNum(4)\n",
    "7. findMedian() -> output: 3.5"
   ]
  },
  {
   "cell_type": "markdown",
   "metadata": {},
   "source": [
    "### Solution\n",
    "A brute force solution is to maintain a sorted list of all numbers inserted in the class and return the median whenever required. Inserting a number in a sorted list will take $O(N)$ time if there are ‘N’ numbers in the list. But we are only interested in finding the middle element.\n",
    "\n",
    "Assume ‘x’ is the median of a list. This means that half of the numbers in the list will be smaller than (or equal to) ‘x’ and half will be greater than (or equal to) ‘x’. So we can divide the list into two halves: one half to store all the smaller numbers (let’s call it smallNumList) and one half to store the larger numbers (let’s call it largeNumList). The median of all the numbers will either be the largest number in the smallNumList or the smallest number in the largeNumList. If the total number of elements is even, the median will be the average of these two numbers.\n",
    "\n",
    "The best data structure that comes to mind to find the smallest or largest number among a list of numbers is a **Heap**.\n",
    "1. We can store the first half of numbers (i.e., smallNumList) in a Max Heap. We should use a Max Heap as we are interested in knowing the largest number in the first half.\n",
    "2. We can store the second half of numbers (i.e., largeNumList) in a Min Heap, as we are interested in knowing the smallest number in the second half.\n",
    "3. Inserting a number in a heap will take $O(logN)$, which is better than the brute force approach.\n",
    "4. At any time, the median of the current list of numbers can be calculated from the top element of the two heaps.\n",
    "\n",
    "Let’s take the Example-1 mentioned above to go through each step of our algorithm:\n",
    "1. `insertNum(3)`: Insert a number in the **Max Heap** (i.e. first half) if the number is smaller than the top (largest) number of the heap. After every insertion, we will balance the number of elements in both heaps, so that they have an equal number of elements. If the count of numbers is odd, let’s decide to have more numbers in Max Heap than the Min Heap.\n",
    "2. `insertNum(1)`: As ‘1’ is smaller than ‘3’, let’s insert it into the **Max Heap**. Now, we have two elements in the Max Heap and no elements in Min Heap. Let’s take the largest element from the Max Heap and insert it into the Min Heap, to balance the number of elements in both heaps.\n",
    "3. `findMedian()`: As we have an even number of elements, the median will be the average of the top element of both the heaps -> (1+3)/2 = 2.0\n",
    "4. `insertNum(5)`: As ‘5’ is greater than the top element of the Max Heap, we can insert it into the Min Heap. After the insertion, the total count of elements will be odd. As we had decided to have more numbers in the Max Heap than the Min Heap, we can take the top (smallest) number from the Min Heap and insert it into the Max Heap.\n",
    "5. `findMedian()`: Since we have an odd number of elements, the median will be the top element of Max Heap -> 3. An odd number of elements also means that the Max Heap will have one extra element than the Min Heap.\n",
    "6. `insertNum(4)`: Insert ‘4’ into Min Heap.\n",
    "7. `findMedian()`: As we have an even number of elements, the median will be the average of the top element of both the heaps -> (3+4)/2 = 3.5"
   ]
  },
  {
   "cell_type": "code",
   "execution_count": 1,
   "metadata": {},
   "outputs": [
    {
     "name": "stdout",
     "output_type": "stream",
     "text": [
      "The median is: 2.0\n",
      "The median is: 3\n",
      "The median is: 3.5\n"
     ]
    }
   ],
   "source": [
    "from heapq import *\n",
    "\n",
    "class MedianOfAStream:\n",
    "    maxHeap = []  # containing first half of numbers\n",
    "    minHeap = []  # containing second half of numbers\n",
    "    \n",
    "    def insert_num(self, num):\n",
    "        if not self.maxHeap or -self.maxHeap[0] >= num:\n",
    "            heappush(self.maxHeap, -num)\n",
    "        else:\n",
    "            heappush(self.minHeap, num)\n",
    "        # either both the heaps will have equal number of elements or max-heap will have one\n",
    "        # more element than the min-heap\n",
    "        if len(self.maxHeap) > len(self.minHeap) + 1:\n",
    "            heappush(self.minHeap, -heappop(self.maxHeap))\n",
    "        elif len(self.maxHeap) < len(self.minHeap):\n",
    "            heappush(self.maxHeap, -heappop(self.minHeap))\n",
    "    \n",
    "    def find_median(self):\n",
    "        if len(self.maxHeap) == len(self.minHeap):\n",
    "            # we have even number of elements, take the average of middle two elements\n",
    "            return -self.maxHeap[0] / 2.0 + self.minHeap[0] / 2.0\n",
    "        # because max-heap will have one more element than the min-heap\n",
    "        return -self.maxHeap[0]\n",
    "         \n",
    "def main():\n",
    "    medianOfAStream = MedianOfAStream()\n",
    "    medianOfAStream.insert_num(3)\n",
    "    medianOfAStream.insert_num(1)\n",
    "    print(\"The median is: \" + str(medianOfAStream.find_median()))\n",
    "    medianOfAStream.insert_num(5)\n",
    "    print(\"The median is: \" + str(medianOfAStream.find_median()))\n",
    "    medianOfAStream.insert_num(4)\n",
    "    print(\"The median is: \" + str(medianOfAStream.find_median()))\n",
    "\n",
    "main()"
   ]
  },
  {
   "cell_type": "markdown",
   "metadata": {},
   "source": [
    "**Time Complexity**: `insertNum()` will be $O(logN)$ due to the insertion in the heap. `findMedian()` will be $O(1)  as we can find the median from the top elements of the heaps.<br>\n",
    "**Space Complexity**: $O(N)$ because, as at any time, we will be storing all the numbers."
   ]
  }
 ],
 "metadata": {
  "kernelspec": {
   "display_name": "Python 3.7.10 ('base')",
   "language": "python",
   "name": "python3"
  },
  "language_info": {
   "codemirror_mode": {
    "name": "ipython",
    "version": 3
   },
   "file_extension": ".py",
   "mimetype": "text/x-python",
   "name": "python",
   "nbconvert_exporter": "python",
   "pygments_lexer": "ipython3",
   "version": "3.7.10"
  },
  "orig_nbformat": 4,
  "vscode": {
   "interpreter": {
    "hash": "f8b40d688a12481f01eadf7380c47edd8a49484a47dba3db091451640e880c68"
   }
  }
 },
 "nbformat": 4,
 "nbformat_minor": 2
}
