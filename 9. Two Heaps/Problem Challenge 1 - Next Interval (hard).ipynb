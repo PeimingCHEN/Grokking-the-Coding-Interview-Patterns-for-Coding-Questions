{
 "cells": [
  {
   "cell_type": "markdown",
   "metadata": {},
   "source": [
    "# Problem Challenge 1: Next Interval (hard)"
   ]
  },
  {
   "cell_type": "markdown",
   "metadata": {},
   "source": [
    "### Problem Statement\n",
    "Given an array of intervals, find the next interval of each interval. In a list of intervals, for an interval ‘i’ its next interval ‘j’ will have the smallest ‘start’ greater than or equal to the ‘end’ of ‘i’.\n",
    "\n",
    "Write a function to return an array containing indices of the next interval of each input interval. If there is no next interval of a given interval, return -1. It is given that none of the intervals have the same start point.\n",
    "\n",
    "Leetcode: [436. Find Right Interval](https://leetcode.com/problems/find-right-interval/)\n",
    "\n",
    "##### Example 1\n",
    "**Input**: Intervals [[2,3], [3,4], [5,6]]<br>\n",
    "**Output**: [1, 2, -1]<br>\n",
    "**Explanation**: The next interval of [2,3] is [3,4] having index ‘1’. Similarly, the next interval of [3,4] is [5,6] having index ‘2’. There is no next interval for [5,6] hence we have ‘-1’.\n",
    "\n",
    "##### Example 2\n",
    "**Input**: Intervals [[3,4], [1,5], [4,6]]<br>\n",
    "**Output**: [2, -1, -1]<br>\n",
    "**Explanation**: The next interval of [3,4] is [4,6] which has index ‘2’. There is no next interval for [1,5] and [4,6]."
   ]
  },
  {
   "cell_type": "markdown",
   "metadata": {},
   "source": [
    "### Solution\n",
    "A brute force solution could be to take one interval at a time and go through all the other intervals to find the next interval. This algorithm will take $O(N^2)$ where N is the total number of intervals.\n",
    "\n",
    "We can utilize the Two Heaps approach. We can push all intervals into two heaps: one heap to sort the intervals on maximum start time (let’s call it maxStartHeap) and the other on maximum end time (let’s call it maxEndHeap). We can then iterate through all intervals of the maxEndHeap to find their next interval.\n",
    "1. Take out the top (having highest end) interval from the maxEndHeap to find its next interval. Let’s call this interval topEnd.\n",
    "2. Find an interval in the maxStartHeap with the closest start greater than or equal to the start of topEnd. Since maxStartHeap is sorted by ‘start’ of intervals, it is easy to find the interval with the highest ‘start’. Let’s call this interval topStart.\n",
    "3. Add the index of topStart in the result array as the next interval of topEnd. If we can’t find the next interval, add ‘-1’ in the result array.\n",
    "4. Put the topStart back in the maxStartHeap, as it could be the next interval of other intervals.\n",
    "5. Repeat steps 1-4 until we have no intervals left in maxEndHeap."
   ]
  },
  {
   "cell_type": "code",
   "execution_count": 2,
   "metadata": {},
   "outputs": [
    {
     "name": "stdout",
     "output_type": "stream",
     "text": [
      "Next interval indices are: [1, 2, -1]\n",
      "Next interval indices are: [2, -1, -1]\n"
     ]
    }
   ],
   "source": [
    "from heapq import *\n",
    "\n",
    "class Interval:\n",
    "    def __init__(self, start, end):\n",
    "        self.start = start\n",
    "        self.end = end\n",
    "    \n",
    "def find_next_interval(intervals):\n",
    "    n = len(intervals)\n",
    "    \n",
    "    # heaps for finding the maximum start and end\n",
    "    maxStartHeap, maxEndHeap = [], []\n",
    "    result = [0 for _ in range(n)]\n",
    "    for endIndex in range(n):\n",
    "        heappush(maxStartHeap, (-intervals[endIndex].start, endIndex))\n",
    "        heappush(maxEndHeap, (-intervals[endIndex].end, endIndex))\n",
    "    \n",
    "    # go through all the intervals to find each interval's next interval\n",
    "    for _ in range(n):\n",
    "        # let's find the next interval of the interval which has the highest 'end'\n",
    "        topEnd, endIndex = heappop(maxEndHeap)\n",
    "        result[endIndex] = -1  # defaults to - 1\n",
    "        if -maxStartHeap[0][0] >= -topEnd:\n",
    "            topStart, startIndex = heappop(maxStartHeap)\n",
    "            # find the the interval that has the closest 'start'\n",
    "            while maxStartHeap and -maxStartHeap[0][0] >= -topEnd:\n",
    "                topStart, startIndex = heappop(maxStartHeap)\n",
    "            result[endIndex] = startIndex\n",
    "            # put the interval back as it could be the next interval of other intervals\n",
    "            heappush(maxStartHeap, (topStart, startIndex))\n",
    "    return result\n",
    "\n",
    "def main():\n",
    "\n",
    "    result = find_next_interval(\n",
    "        [Interval(2, 3), Interval(3, 4), Interval(5, 6)])\n",
    "    print(\"Next interval indices are: \" + str(result))\n",
    "\n",
    "    result = find_next_interval(\n",
    "        [Interval(3, 4), Interval(1, 5), Interval(4, 6)])\n",
    "    print(\"Next interval indices are: \" + str(result))\n",
    "\n",
    "main()\n"
   ]
  },
  {
   "cell_type": "markdown",
   "metadata": {},
   "source": [
    "**Time Complexity**: $O(NlogN)$, where ‘N’ is the total number of intervals.\n",
    "\n",
    "**Space Complexity**: $O(N)$, because we will be storing all the intervals in the heaps."
   ]
  }
 ],
 "metadata": {
  "kernelspec": {
   "display_name": "Python 3.7.10 ('base')",
   "language": "python",
   "name": "python3"
  },
  "language_info": {
   "codemirror_mode": {
    "name": "ipython",
    "version": 3
   },
   "file_extension": ".py",
   "mimetype": "text/x-python",
   "name": "python",
   "nbconvert_exporter": "python",
   "pygments_lexer": "ipython3",
   "version": "3.7.10"
  },
  "orig_nbformat": 4,
  "vscode": {
   "interpreter": {
    "hash": "f8b40d688a12481f01eadf7380c47edd8a49484a47dba3db091451640e880c68"
   }
  }
 },
 "nbformat": 4,
 "nbformat_minor": 2
}
