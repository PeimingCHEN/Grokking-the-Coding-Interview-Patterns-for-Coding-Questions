{
 "cells": [
  {
   "cell_type": "markdown",
   "metadata": {},
   "source": [
    "# Reverse a Sub-list (medium)"
   ]
  },
  {
   "cell_type": "markdown",
   "metadata": {},
   "source": [
    "### Problem Statement\n",
    "Given the head of a LinkedList and two positions 'p' and 'q', reverse the LinkedList from position 'p' to 'q'.<br>\n",
    "Leetcode: [92. Reverse Linked List II](https://leetcode.com/problems/reverse-linked-list-ii/)\n",
    "\n",
    "##### Example 1\n",
    "Input: head = [1,2,3,4,5], p = 2, q = 4<br>\n",
    "Output: [1,4,3,2,5]"
   ]
  },
  {
   "cell_type": "markdown",
   "metadata": {},
   "source": [
    "### Solution\n",
    "1. Skip the first p-1 nodes, to reach the node at position p.\n",
    "2. Remember the node at position p-1 to be used later to connect with the reversed sub-list.\n",
    "3. Next, reverse the nodes from p to q using the same approach discussed in Reverse a LinkedList.\n",
    "4. Connect the p-1 and q+1 nodes to the reversed sub-list."
   ]
  },
  {
   "cell_type": "code",
   "execution_count": 1,
   "metadata": {},
   "outputs": [
    {
     "name": "stdout",
     "output_type": "stream",
     "text": [
      "Nodes of original LinkedList are: 1 2 3 4 5 \n",
      "Nodes of reversed LinkedList are: 1 4 3 2 5 \n"
     ]
    }
   ],
   "source": [
    "from __future__ import print_function\n",
    "\n",
    "\n",
    "class Node:\n",
    "    def __init__(self, value, next=None):\n",
    "        self.value = value\n",
    "        self.next = next\n",
    "\n",
    "    def print_list(self):\n",
    "        temp = self\n",
    "        while temp is not None:\n",
    "            print(temp.value, end=\" \")\n",
    "            temp = temp.next\n",
    "        print()\n",
    "        \n",
    "def reverse_sub_list(head, p, q):\n",
    "    if p == q:\n",
    "        return head\n",
    "    \n",
    "    # after skipping 'p-1' nodes, current will point to 'p'th node\n",
    "    current, previous = head, None\n",
    "    i = 0\n",
    "    while current and i < p - 1:\n",
    "        previous =current\n",
    "        current = current.next\n",
    "        i += 1\n",
    "    \n",
    "    # we are interested in three parts of the LinkedList, the part before index 'p',\n",
    "    # the part between 'p' and 'q', and the part after index 'q'\n",
    "    last_node_of_first_part = previous\n",
    "    # after reversing the LinkedList 'current' will become the last node of the sub-list\n",
    "    last_node_of_sub_part = current\n",
    "    \n",
    "    i = 0\n",
    "    # reverse nodes between 'p' and 'q'\n",
    "    while current and i < q-p + 1:\n",
    "        temp_next = current.next\n",
    "        current.next = previous\n",
    "        previous = current\n",
    "        current = temp_next\n",
    "        i += 1\n",
    "        \n",
    "    # connect with the first part\n",
    "    if last_node_of_first_part:\n",
    "        # 'previous' is now the first node of the sub-list\n",
    "        last_node_of_first_part.next = previous\n",
    "    # this means p == 1 i.e., we are changing the first node (head) of the LinkedList\n",
    "    else:\n",
    "        head = previous\n",
    "    # connect with the last part\n",
    "    last_node_of_sub_part.next = current\n",
    "    return head\n",
    "    \n",
    "def main():\n",
    "    head = Node(1)\n",
    "    head.next = Node(2)\n",
    "    head.next.next = Node(3)\n",
    "    head.next.next.next = Node(4)\n",
    "    head.next.next.next.next = Node(5)\n",
    "\n",
    "    print(\"Nodes of original LinkedList are: \", end='')\n",
    "    head.print_list()\n",
    "    result = reverse_sub_list(head, 2, 4)\n",
    "    print(\"Nodes of reversed LinkedList are: \", end='')\n",
    "    result.print_list()\n",
    "\n",
    "main()\n",
    "    \n",
    "    \n",
    "    \n",
    "    "
   ]
  },
  {
   "cell_type": "markdown",
   "metadata": {},
   "source": [
    "**Time Complexity**: $O(n)$.<br>\n",
    "**Space Complexity**: $O(1)$."
   ]
  },
  {
   "cell_type": "markdown",
   "metadata": {},
   "source": [
    "### Similar Questions\n",
    "**Problem 1**: Reverse the first 'k' elements of a given LinkedList.<br>\n",
    "**Solution**: Reverse the first 'k' nodes of the list, we need to pass p=1 and q=k.<br>\n",
    "**Problem 2**: Given a LinkedList with 'n' nodes, reverse it based on its size in the following way:<br>\n",
    "If 'n' is even, reverse the list in a group of n/2 nodes.<br>\n",
    "If n is odd, keep the middle node as it is, reverse the first 'n/2' nodes and reverse the last 'n/2' nodes.<br>\n",
    "**Solution**: \n",
    "When 'n' is even, Reverse first ‘n/2’ nodes: head = reverse(head, 1, n/2) and reverse last ‘n/2’ nodes: head = reverse(head, n/2 + 1, n)<br>\n",
    "When ‘n’ is odd, head = reverse(head, 1, n/2) and head = reverse(head, n/2 + 2, n)head = reverse(head, n/2 + 2, n)"
   ]
  }
 ],
 "metadata": {
  "kernelspec": {
   "display_name": "Python 3.7.10 ('base')",
   "language": "python",
   "name": "python3"
  },
  "language_info": {
   "codemirror_mode": {
    "name": "ipython",
    "version": 3
   },
   "file_extension": ".py",
   "mimetype": "text/x-python",
   "name": "python",
   "nbconvert_exporter": "python",
   "pygments_lexer": "ipython3",
   "version": "3.7.10"
  },
  "orig_nbformat": 4,
  "vscode": {
   "interpreter": {
    "hash": "f8b40d688a12481f01eadf7380c47edd8a49484a47dba3db091451640e880c68"
   }
  }
 },
 "nbformat": 4,
 "nbformat_minor": 2
}
