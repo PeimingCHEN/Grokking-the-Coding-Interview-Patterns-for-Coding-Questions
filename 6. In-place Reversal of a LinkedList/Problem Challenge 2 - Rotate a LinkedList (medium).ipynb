{
 "cells": [
  {
   "cell_type": "markdown",
   "metadata": {},
   "source": [
    "# Problem Challenge 2: Rotate a LinkedList (medium)"
   ]
  },
  {
   "cell_type": "markdown",
   "metadata": {},
   "source": [
    "### Problem Statement\n",
    "Given the head of a Singly LinkedList and a number 'k', rotate the LinkedList to the right by ‘k’ nodes.<br>\n",
    "Leetcode: [61. Rotate List](https://leetcode.com/problems/rotate-list/)\n",
    "\n",
    "##### Example 1\n",
    "**Input**: head = [1,2,3,4,5], k = 2<br>\n",
    "**Output**: [4,5,1,2,3]"
   ]
  },
  {
   "cell_type": "markdown",
   "metadata": {},
   "source": [
    "### Solution\n",
    "Another way of defining the rotation is to take the sub-list of 'k' ending nodes of the LinkedList and connect them to the beginning. \n",
    "1. Connect the last node of the LinkedList to the head, because the list will have a different tail after the rotation.\n",
    "2. The new head of the LinkedList will be the node at the beginning of the sublist.\n",
    "3. The node right before the start of sub-list will be the new tail of the rotated LinkedList."
   ]
  },
  {
   "cell_type": "code",
   "execution_count": 2,
   "metadata": {},
   "outputs": [
    {
     "name": "stdout",
     "output_type": "stream",
     "text": [
      "Nodes of original LinkedList are: 1 2 3 4 5 6 \n",
      "Nodes of rotated LinkedList are: 4 5 6 1 2 3 \n"
     ]
    }
   ],
   "source": [
    "from __future__ import print_function\n",
    "\n",
    "class Node:\n",
    "    def __init__(self, value, next=None):\n",
    "        self.value = value\n",
    "        self.next = next\n",
    "\n",
    "    def print_list(self):\n",
    "        temp = self\n",
    "        while temp is not None:\n",
    "            print(temp.value, end=\" \")\n",
    "            temp = temp.next\n",
    "        print()\n",
    "\n",
    "def rotate(head, rotations):\n",
    "    if head is None or head.next is None or rotations <= 0:\n",
    "        return head\n",
    "    \n",
    "    # find the length and the last node of the list\n",
    "    last_node = head\n",
    "    list_length = 1\n",
    "    while last_node.next:\n",
    "        last_node = last_node.next\n",
    "        list_length += 1\n",
    "\n",
    "    last_node.next = head   # connect the last node with the head to make it a circular list\n",
    "    rotations %= list_length  # no need to do rotations more than the length of the list\n",
    "    skip_length = list_length - rotations\n",
    "    last_node_of_rotated_list = head\n",
    "    for i in range(skip_length - 1):\n",
    "        last_node_of_rotated_list = last_node_of_rotated_list.next\n",
    "\n",
    "    # 'last_node_of_rotated_list.next' is pointing to the sub-list of 'k' ending nodes\n",
    "    head = last_node_of_rotated_list.next\n",
    "    last_node_of_rotated_list.next = None\n",
    "    return head\n",
    "\n",
    "def main():\n",
    "    head = Node(1)\n",
    "    head.next = Node(2)\n",
    "    head.next.next = Node(3)\n",
    "    head.next.next.next = Node(4)\n",
    "    head.next.next.next.next = Node(5)\n",
    "    head.next.next.next.next.next = Node(6)\n",
    "\n",
    "    print(\"Nodes of original LinkedList are: \", end='')\n",
    "    head.print_list()\n",
    "    result = rotate(head, 3)\n",
    "    print(\"Nodes of rotated LinkedList are: \", end='')\n",
    "    result.print_list()\n",
    "\n",
    "main()"
   ]
  },
  {
   "cell_type": "markdown",
   "metadata": {},
   "source": [
    "**Time Complexity**: $O(N)$.<br>\n",
    "**Space Complexity**: $O(1)$."
   ]
  }
 ],
 "metadata": {
  "kernelspec": {
   "display_name": "Python 3.7.10 ('base')",
   "language": "python",
   "name": "python3"
  },
  "language_info": {
   "codemirror_mode": {
    "name": "ipython",
    "version": 3
   },
   "file_extension": ".py",
   "mimetype": "text/x-python",
   "name": "python",
   "nbconvert_exporter": "python",
   "pygments_lexer": "ipython3",
   "version": "3.7.10"
  },
  "orig_nbformat": 4,
  "vscode": {
   "interpreter": {
    "hash": "f8b40d688a12481f01eadf7380c47edd8a49484a47dba3db091451640e880c68"
   }
  }
 },
 "nbformat": 4,
 "nbformat_minor": 2
}
