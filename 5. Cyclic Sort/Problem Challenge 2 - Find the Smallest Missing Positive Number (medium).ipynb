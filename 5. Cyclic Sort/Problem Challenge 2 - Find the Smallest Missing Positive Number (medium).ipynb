{
 "cells": [
  {
   "cell_type": "markdown",
   "metadata": {},
   "source": [
    "# Problem Challenge 2: Find the Smallest Missing Positive Number (medium)"
   ]
  },
  {
   "cell_type": "markdown",
   "metadata": {},
   "source": [
    "### Problem Statement\n",
    "Given an unsorted array containing numbers, find the smallest missing positive number in it.<br>\n",
    "Note: Positive numbers start from '1'.<br>\n",
    "Leetcode: [41. First Missing Positive](https://leetcode.com/problems/first-missing-positive/)\n",
    "\n",
    "##### Example 1\n",
    "**Input**: [-3, 1, 5, 4, 2]<br>\n",
    "**Output**: 3<br>\n",
    "**Explanation**: The smallest missing positive number is '3'\n",
    "\n",
    "##### Example 2\n",
    "**Input**: [3, -2, 0, 1, 2]<br>\n",
    "**Output**: 4\n",
    "\n",
    "##### Example 3\n",
    "**Input**: [3, 2, 5, 1]<br>\n",
    "**Output**: 4"
   ]
  },
  {
   "cell_type": "markdown",
   "metadata": {},
   "source": [
    "### Solution\n",
    "This problem follows the Cyclic Sort pattern and shares similarities with Find the Missing Number with one big difference. In this problem, the numbers are not bound by any range so we can have any number in the input array.<br>\n",
    "1. Place the numbers on their correct indices and ignore all numbers that are out of the range of the array (i.e., all negative numbers and all numbers greater than the length of the array).\n",
    "2. Iterate the array and the first index that does not have the correct number will be the smallest missing positive number."
   ]
  },
  {
   "cell_type": "code",
   "execution_count": 3,
   "metadata": {},
   "outputs": [
    {
     "name": "stdout",
     "output_type": "stream",
     "text": [
      "3\n",
      "4\n",
      "4\n"
     ]
    }
   ],
   "source": [
    "def find_first_smallest_missing_positive(nums):\n",
    "    i = 0\n",
    "    while i < len(nums):\n",
    "        j = nums[i] - 1\n",
    "        if nums[i] > 0 and nums[i] < len(nums) and nums[i] != nums[j]:\n",
    "            nums[i], nums[j] = nums[j], nums[i]\n",
    "        else:\n",
    "            i += 1\n",
    "    \n",
    "    for i in range(len(nums)):\n",
    "        if nums[i] != i + 1:\n",
    "            return i + 1\n",
    "    \n",
    "    return len(nums) + 1\n",
    "\n",
    "def main():\n",
    "    print(find_first_smallest_missing_positive([-3, 1, 5, 4, 2]))\n",
    "    print(find_first_smallest_missing_positive([3, -2, 0, 1, 2]))\n",
    "    print(find_first_smallest_missing_positive([3, 2, 5, 1]))\n",
    "\n",
    "main()"
   ]
  },
  {
   "cell_type": "markdown",
   "metadata": {},
   "source": [
    "**Time Complexity**: $O(n)$.<br>\n",
    "**Space Complexity**: $O(1)$."
   ]
  }
 ],
 "metadata": {
  "kernelspec": {
   "display_name": "Python 3.7.10 ('base')",
   "language": "python",
   "name": "python3"
  },
  "language_info": {
   "codemirror_mode": {
    "name": "ipython",
    "version": 3
   },
   "file_extension": ".py",
   "mimetype": "text/x-python",
   "name": "python",
   "nbconvert_exporter": "python",
   "pygments_lexer": "ipython3",
   "version": "3.7.10"
  },
  "orig_nbformat": 4,
  "vscode": {
   "interpreter": {
    "hash": "f8b40d688a12481f01eadf7380c47edd8a49484a47dba3db091451640e880c68"
   }
  }
 },
 "nbformat": 4,
 "nbformat_minor": 2
}
