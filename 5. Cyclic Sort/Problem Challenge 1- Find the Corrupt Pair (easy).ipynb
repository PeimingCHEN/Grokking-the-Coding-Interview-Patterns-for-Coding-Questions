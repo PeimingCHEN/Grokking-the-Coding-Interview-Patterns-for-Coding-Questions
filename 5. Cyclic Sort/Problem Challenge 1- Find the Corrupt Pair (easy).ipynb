{
 "cells": [
  {
   "cell_type": "markdown",
   "metadata": {},
   "source": [
    "# Problem Challenge 1: Find the Corrupt Pair (easy)"
   ]
  },
  {
   "cell_type": "markdown",
   "metadata": {},
   "source": [
    "### Problem Statement\n",
    "We are given an unsorted array containing ‘n’ numbers taken from the range 1 to ‘n’. The array originally contained all the numbers from 1 to ‘n’, but due to a data error, one of the numbers got duplicated which also resulted in one number going missing. Find both these numbers.<br>\n",
    "Leetcode: [645. Set Mismatch](https://leetcode.com/problems/set-mismatch/)\n",
    "\n",
    "##### Example 1\n",
    "**Input**: [3, 1, 2, 5, 2]\n",
    "**Output**: [2, 4]\n",
    "**Explanation**: '2' is duplicated and '4' is missing.\n",
    "\n",
    "##### Example 2\n",
    "**Input**: [3, 1, 2, 3, 6, 4]\n",
    "**Output**: [3, 5]\n",
    "**Explanation**: '3' is duplicated and '5' is missing."
   ]
  },
  {
   "cell_type": "markdown",
   "metadata": {},
   "source": [
    "### Solution\n",
    "1. Place each number at its correct index.\n",
    "2. Iterate through the array to find the number that is not at the correct index.\n",
    "3. Since only one number got corrupted, the number at the wrong index is the duplicated number and the index itself represents the missing number."
   ]
  },
  {
   "cell_type": "code",
   "execution_count": 2,
   "metadata": {},
   "outputs": [
    {
     "name": "stdout",
     "output_type": "stream",
     "text": [
      "[2, 4]\n",
      "[3, 5]\n"
     ]
    }
   ],
   "source": [
    "def find_corrupt_numbers(nums):\n",
    "    i = 0\n",
    "    while i < len(nums):\n",
    "        j = nums[i] - 1\n",
    "        if nums[i] != nums[j]:\n",
    "            nums[i], nums[j] = nums[j], nums[i]\n",
    "        else:\n",
    "            i += 1\n",
    "    \n",
    "    for i in range(len(nums)):\n",
    "        if nums[i] != i + 1:\n",
    "            return [nums[i], i + 1]\n",
    "    \n",
    "    return [-1, -1]\n",
    "\n",
    "def main():\n",
    "    print(find_corrupt_numbers([3, 1, 2, 5, 2]))\n",
    "    print(find_corrupt_numbers([3, 1, 2, 3, 6, 4]))\n",
    "\n",
    "main()"
   ]
  },
  {
   "cell_type": "markdown",
   "metadata": {},
   "source": [
    "**Time Complexity**: $O(n)$.<br>\n",
    "**Space Complexity**: $O(1)$."
   ]
  }
 ],
 "metadata": {
  "kernelspec": {
   "display_name": "Python 3.7.10 ('base')",
   "language": "python",
   "name": "python3"
  },
  "language_info": {
   "codemirror_mode": {
    "name": "ipython",
    "version": 3
   },
   "file_extension": ".py",
   "mimetype": "text/x-python",
   "name": "python",
   "nbconvert_exporter": "python",
   "pygments_lexer": "ipython3",
   "version": "3.7.10"
  },
  "orig_nbformat": 4,
  "vscode": {
   "interpreter": {
    "hash": "f8b40d688a12481f01eadf7380c47edd8a49484a47dba3db091451640e880c68"
   }
  }
 },
 "nbformat": 4,
 "nbformat_minor": 2
}
