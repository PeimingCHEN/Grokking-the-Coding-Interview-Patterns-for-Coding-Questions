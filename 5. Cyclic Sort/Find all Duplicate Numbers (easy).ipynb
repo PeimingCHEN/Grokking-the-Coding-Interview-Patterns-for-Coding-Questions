{
 "cells": [
  {
   "cell_type": "markdown",
   "metadata": {},
   "source": [
    "# Find all Duplicate Numbers (easy)"
   ]
  },
  {
   "cell_type": "markdown",
   "metadata": {},
   "source": [
    "### Problem Statement\n",
    "We are given an unsorted array containing n numbers taken from the range 1 to n. The array has some numbers appearing twice, **find all these duplicate numbers** using constant space.<br>\n",
    "Leetcode: [442. Find All Duplicates in an Array](https://leetcode.com/problems/find-all-duplicates-in-an-array/)\n",
    "\n",
    "##### Example 1\n",
    "**Input**: [3, 4, 4, 5, 5]<br>\n",
    "**Output**: [4, 5]\n",
    "\n",
    "##### Example 2\n",
    "**Input**: [5, 4, 7, 2, 3, 5, 3]<br>\n",
    "**Output**: [3, 5]"
   ]
  },
  {
   "cell_type": "markdown",
   "metadata": {},
   "source": [
    "### Solution\n",
    "This problem follows the Cyclic Sort pattern and shares similarities with Find the Duplicate Number. Following a similar approach, we will place each number at its correct index. After that, we will iterate through the array to find all numbers that are not at the correct indices. All these numbers are duplicates."
   ]
  },
  {
   "cell_type": "code",
   "execution_count": 3,
   "metadata": {},
   "outputs": [
    {
     "name": "stdout",
     "output_type": "stream",
     "text": [
      "[5, 4]\n",
      "[3, 5]\n"
     ]
    }
   ],
   "source": [
    "def find_all_duplicates(nums):\n",
    "    i = 0\n",
    "    while i < len(nums):\n",
    "        j = nums[i] - 1\n",
    "        if nums[i] != nums[j]:\n",
    "            nums[i], nums[j] = nums[j], nums[i]\n",
    "        else:\n",
    "            i += 1\n",
    "    \n",
    "    duplicateNumber = []\n",
    "    for i in range(len(nums)):\n",
    "        if nums[i] != i + 1:\n",
    "            duplicateNumber.append(nums[i])\n",
    "    \n",
    "    return duplicateNumber\n",
    "\n",
    "def main():\n",
    "  print(find_all_duplicates([3, 4, 4, 5, 5]))\n",
    "  print(find_all_duplicates([5, 4, 7, 2, 3, 5, 3]))\n",
    "\n",
    "main()"
   ]
  },
  {
   "cell_type": "markdown",
   "metadata": {},
   "source": [
    "**Time Complexity**: $O(n)$.<br>\n",
    "**Space Complexity**: $O(1)$, but ignore the space required for storing the duplicates."
   ]
  }
 ],
 "metadata": {
  "kernelspec": {
   "display_name": "Python 3.7.10 ('base')",
   "language": "python",
   "name": "python3"
  },
  "language_info": {
   "codemirror_mode": {
    "name": "ipython",
    "version": 3
   },
   "file_extension": ".py",
   "mimetype": "text/x-python",
   "name": "python",
   "nbconvert_exporter": "python",
   "pygments_lexer": "ipython3",
   "version": "3.7.10"
  },
  "orig_nbformat": 4,
  "vscode": {
   "interpreter": {
    "hash": "f8b40d688a12481f01eadf7380c47edd8a49484a47dba3db091451640e880c68"
   }
  }
 },
 "nbformat": 4,
 "nbformat_minor": 2
}
