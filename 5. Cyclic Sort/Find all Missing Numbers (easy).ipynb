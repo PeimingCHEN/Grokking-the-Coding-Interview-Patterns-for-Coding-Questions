{
 "cells": [
  {
   "cell_type": "markdown",
   "metadata": {},
   "source": [
    "# Find all Missing Number (easy)"
   ]
  },
  {
   "cell_type": "markdown",
   "metadata": {},
   "source": [
    "### Problem Statement\n",
    "We are given an unsorted array containing numbers taken from the range 1 to ‘n’. The array can have duplicates, which means some numbers will be missing. Find all those missing numbers.<br>\n",
    "Leetcode: [448. Find All Numbers Disappeared in an Array](https://leetcode.com/problems/find-all-numbers-disappeared-in-an-array/)\n",
    "\n",
    "##### Example 1\n",
    "**Input**: [2, 3, 1, 8, 2, 3, 5, 1]<br>\n",
    "**Output**: 4, 6, 7<br>\n",
    "**Explanation**: The array should have all numbers from 1 to 8, due to duplicates 4, 6, and 7 are missing.\n",
    "\n",
    "##### Example 2\n",
    "**Input**: [2, 4, 1, 2]<br>\n",
    "**Output**: 3\n",
    "\n",
    "##### Example 2\n",
    "**Input**: [2, 3, 2, 1]<br>\n",
    "**Output**: 4"
   ]
  },
  {
   "cell_type": "markdown",
   "metadata": {},
   "source": [
    "### Solution\n",
    "In this problem, there can be many duplicates whereas in ‘Find the Missing Number’ there were no duplicates and the range was greater than the length of the array. Once we are done with the cyclic sort we will iterate the array to find all indices that are missing the correct numbers."
   ]
  },
  {
   "cell_type": "code",
   "execution_count": 1,
   "metadata": {},
   "outputs": [
    {
     "name": "stdout",
     "output_type": "stream",
     "text": [
      "[4, 6, 7]\n",
      "[3]\n",
      "[4]\n"
     ]
    }
   ],
   "source": [
    "def find_missing_numbers(nums):\n",
    "    i = 0\n",
    "    while i < len(nums):\n",
    "        j = nums[i] - 1\n",
    "        if  nums[i] != nums[j]:\n",
    "            nums[i], nums[j] = nums[j], nums[i]\n",
    "        else:\n",
    "            i += 1\n",
    "            \n",
    "    missingNumbers = []\n",
    "    for i in range(len(nums)):\n",
    "        if nums[i] != i + 1:\n",
    "            missingNumbers.append(i+1)\n",
    "    return missingNumbers\n",
    "\n",
    "def main():\n",
    "    print(find_missing_numbers([2, 3, 1, 8, 2, 3, 5, 1]))\n",
    "    print(find_missing_numbers([2, 4, 1, 2]))\n",
    "    print(find_missing_numbers([2, 3, 2, 1]))\n",
    "\n",
    "main()\n"
   ]
  },
  {
   "cell_type": "markdown",
   "metadata": {},
   "source": [
    "**Time Complexity**: $O(n)$.<br>\n",
    "**Space Complexity**: $O(1)$."
   ]
  }
 ],
 "metadata": {
  "kernelspec": {
   "display_name": "Python 3.7.10 ('base')",
   "language": "python",
   "name": "python3"
  },
  "language_info": {
   "codemirror_mode": {
    "name": "ipython",
    "version": 3
   },
   "file_extension": ".py",
   "mimetype": "text/x-python",
   "name": "python",
   "nbconvert_exporter": "python",
   "pygments_lexer": "ipython3",
   "version": "3.7.10"
  },
  "orig_nbformat": 4,
  "vscode": {
   "interpreter": {
    "hash": "f8b40d688a12481f01eadf7380c47edd8a49484a47dba3db091451640e880c68"
   }
  }
 },
 "nbformat": 4,
 "nbformat_minor": 2
}
