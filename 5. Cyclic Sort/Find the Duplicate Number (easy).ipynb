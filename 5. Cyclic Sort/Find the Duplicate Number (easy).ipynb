{
 "cells": [
  {
   "cell_type": "markdown",
   "metadata": {},
   "source": [
    "# Find the Duplicate Number (easy)"
   ]
  },
  {
   "cell_type": "markdown",
   "metadata": {},
   "source": [
    "### Problem Statement\n",
    "We are given an unsorted array containing ‘n+1’ numbers taken from the range 1 to ‘n’. The array has only one duplicate but it can be repeated multiple times. **Find that duplicate number without using any extra space.** You are, however, allowed to modify the input array.<br>\n",
    "Leetcode: [287. Find the Duplicate Number](https://leetcode.com/problems/find-the-duplicate-number/)\n",
    "\n",
    "##### Example 1\n",
    "**Input**: [1, 4, 4, 3, 2]<br>\n",
    "**Output**: 4\n",
    "\n",
    "##### Example 2\n",
    "**Input**: [2, 1, 3, 3, 5, 4]<br>\n",
    "**Output**: 3\n",
    "\n",
    "##### Example 2\n",
    "**Input**: [2, 4, 1, 4, 4]<br>\n",
    "**Output**: 4"
   ]
  },
  {
   "cell_type": "markdown",
   "metadata": {},
   "source": [
    "### Solution\n",
    "Try to place each number on its correct index. Since there is only one duplicate, if while swapping the number with its index both the numbers being swapped are same, we have found our duplicate!"
   ]
  },
  {
   "cell_type": "code",
   "execution_count": 1,
   "metadata": {},
   "outputs": [
    {
     "name": "stdout",
     "output_type": "stream",
     "text": [
      "4\n",
      "3\n",
      "4\n"
     ]
    }
   ],
   "source": [
    "def find_duplicate(nums):\n",
    "    i = 0\n",
    "    while i < len(nums):\n",
    "        if nums[i] != i + 1:\n",
    "            j = nums[i] - 1\n",
    "            if nums[i] != nums[j]:\n",
    "                nums[i], nums[j] = nums[j], nums[i]  # swap\n",
    "            else:\n",
    "                return nums[i]\n",
    "        else:\n",
    "            i += 1\n",
    "    return -1\n",
    "\n",
    "def main():\n",
    "    print(find_duplicate([1, 4, 4, 3, 2]))\n",
    "    print(find_duplicate([2, 1, 3, 3, 5, 4]))\n",
    "    print(find_duplicate([2, 4, 1, 4, 4]))\n",
    "\n",
    "\n",
    "main()"
   ]
  },
  {
   "cell_type": "markdown",
   "metadata": {},
   "source": [
    "**Time Complexity**: $O(n)$.<br>\n",
    "**Space Complexity**: $O(1)$, but modifies the input array."
   ]
  },
  {
   "cell_type": "markdown",
   "metadata": {},
   "source": [
    "### Similar Problems\n",
    "solve the above problem in $O(1)$ space and without modifying the input array?"
   ]
  },
  {
   "cell_type": "markdown",
   "metadata": {},
   "source": [
    "### Solution\n",
    "While doing the cyclic sort, we realized that the array will have a cycle due to the duplicate number and that the start of the cycle will always point to the duplicate number. This means that we can use the fast & the slow pointer method to find the duplicate number or the start of the cycle similar to Start of LinkedList Cycle."
   ]
  },
  {
   "cell_type": "code",
   "execution_count": 2,
   "metadata": {},
   "outputs": [
    {
     "name": "stdout",
     "output_type": "stream",
     "text": [
      "4\n",
      "3\n",
      "4\n"
     ]
    }
   ],
   "source": [
    "def find_duplicate(arr):\n",
    "    slow, fast = arr[0], arr[arr[0]]\n",
    "    while slow != fast:\n",
    "        slow = arr[slow]\n",
    "        fast = arr[arr[fast]]\n",
    "    current = arr[arr[slow]]\n",
    "    cycleLength = 1\n",
    "    while current != arr[slow]:\n",
    "        current = arr[current]\n",
    "        cycleLength += 1\n",
    "    return find_start(arr, cycleLength)\n",
    "\n",
    "def find_start(arr, cycleLength):\n",
    "    pointer1, pointer2 = arr[0], arr[0]\n",
    "    # move pointer2 ahead 'cycleLength' steps\n",
    "    while cycleLength > 0:\n",
    "        pointer2 = arr[pointer2]\n",
    "        cycleLength -= 1\n",
    "    # increment both pointers until they meet at the start of the cycle\n",
    "    while pointer1 != pointer2:\n",
    "        pointer1 = arr[pointer1]\n",
    "        pointer2 = arr[pointer2]\n",
    "    return pointer1\n",
    "\n",
    "def main():\n",
    "    print(find_duplicate([1, 4, 4, 3, 2]))\n",
    "    print(find_duplicate([2, 1, 3, 3, 5, 4]))\n",
    "    print(find_duplicate([2, 4, 1, 4, 4]))\n",
    "\n",
    "main()"
   ]
  },
  {
   "cell_type": "markdown",
   "metadata": {},
   "source": [
    "**Time Complexity**: $O(n)$.<br>\n",
    "**Space Complexity**: $O(1)$."
   ]
  }
 ],
 "metadata": {
  "kernelspec": {
   "display_name": "Python 3.7.10 ('base')",
   "language": "python",
   "name": "python3"
  },
  "language_info": {
   "codemirror_mode": {
    "name": "ipython",
    "version": 3
   },
   "file_extension": ".py",
   "mimetype": "text/x-python",
   "name": "python",
   "nbconvert_exporter": "python",
   "pygments_lexer": "ipython3",
   "version": "3.7.10"
  },
  "orig_nbformat": 4,
  "vscode": {
   "interpreter": {
    "hash": "f8b40d688a12481f01eadf7380c47edd8a49484a47dba3db091451640e880c68"
   }
  }
 },
 "nbformat": 4,
 "nbformat_minor": 2
}
