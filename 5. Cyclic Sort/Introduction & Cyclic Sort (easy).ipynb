{
 "cells": [
  {
   "cell_type": "markdown",
   "metadata": {},
   "source": [
    "# Introduction & Cyclic Sort (easy)"
   ]
  },
  {
   "cell_type": "markdown",
   "metadata": {},
   "source": [
    "Deal with problems involving arrays containing numbers in a given range."
   ]
  },
  {
   "cell_type": "markdown",
   "metadata": {},
   "source": [
    "### Problem Statement\n",
    "We are given an array containing $n$ objects. Each object, when created, was assigned a unique number from the range 1 to $n$ based on their creation sequence. This means that the object with sequence number 3 was created just before the object with sequence number 4.\n",
    "\n",
    "Write a function to sort the objects in-place on their creation sequence number in $O(n)$ and without using any extra space. For simplicity, let’s assume we are passed an integer array containing only the sequence numbers, though each number is actually an object.\n",
    "\n",
    "##### Example 1\n",
    "**Input**: [3, 1, 5, 4, 2]<br>\n",
    "**Output**: [1, 2, 3, 4, 5]\n",
    "\n",
    "##### Example 2\n",
    "**Input**: [2, 6, 4, 3, 1, 5]<br>\n",
    "**Output**: [1, 2, 3, 4, 5, 6]\n",
    "\n",
    "##### Example 3\n",
    "**Input**: [1, 5, 6, 4, 3, 2]<br>\n",
    "**Output**: [1, 2, 3, 4, 5, 6]"
   ]
  },
  {
   "cell_type": "markdown",
   "metadata": {},
   "source": [
    "### Solution\n",
    "Since all numbers are unique, we can try placing each number at its correct place, i.e., placing 1 at index '0', placing 2 at index '1', and so on.<br>\n",
    "Iterate the array one number at a time, if the current number is not at the correct index, we swap it with the number at its correct index. This way, we will go through all numbers and place them at their correct indices, hence, sorting the whole array.\n"
   ]
  },
  {
   "cell_type": "code",
   "execution_count": 1,
   "metadata": {},
   "outputs": [
    {
     "name": "stdout",
     "output_type": "stream",
     "text": [
      "[1, 2, 3, 4, 5]\n",
      "[1, 2, 3, 4, 5, 6]\n",
      "[1, 2, 3, 4, 5, 6]\n"
     ]
    }
   ],
   "source": [
    "def cyclic_sort(nums):\n",
    "    i = 0\n",
    "    while i < len(nums):\n",
    "        j = nums[i] - 1\n",
    "        if nums[i] != nums[j]:\n",
    "            nums[i], nums[j] = nums[j], nums[i]  # swap\n",
    "        else:\n",
    "            i += 1\n",
    "    return nums\n",
    "\n",
    "def main():\n",
    "    print(cyclic_sort([3, 1, 5, 4, 2]))\n",
    "    print(cyclic_sort([2, 6, 4, 3, 1, 5]))\n",
    "    print(cyclic_sort([1, 5, 6, 4, 3, 2]))\n",
    "\n",
    "main()            "
   ]
  },
  {
   "cell_type": "markdown",
   "metadata": {},
   "source": [
    "**Time Complexity**: $O(n)$, Although we are not incrementing the index i when swapping the numbers, this will result in more than $n$ iterations of the loop, but in the worst-case scenario, the while loop will swap a total of $n-1$ numbers, and once a number is at its correct index, we will move on to the next number by incrementing $i$. So overall, our algorithm will take $O(n) + O(n-1)$, which is asymptotically equivalent to $O(n)$.<br>\n",
    "**Space Complexity**: $O(1)$."
   ]
  }
 ],
 "metadata": {
  "kernelspec": {
   "display_name": "Python 3.7.10 ('base')",
   "language": "python",
   "name": "python3"
  },
  "language_info": {
   "codemirror_mode": {
    "name": "ipython",
    "version": 3
   },
   "file_extension": ".py",
   "mimetype": "text/x-python",
   "name": "python",
   "nbconvert_exporter": "python",
   "pygments_lexer": "ipython3",
   "version": "3.7.10"
  },
  "orig_nbformat": 4,
  "vscode": {
   "interpreter": {
    "hash": "f8b40d688a12481f01eadf7380c47edd8a49484a47dba3db091451640e880c68"
   }
  }
 },
 "nbformat": 4,
 "nbformat_minor": 2
}
