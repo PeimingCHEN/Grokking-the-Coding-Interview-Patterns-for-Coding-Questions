{
 "cells": [
  {
   "cell_type": "markdown",
   "metadata": {},
   "source": [
    "# Find the Missing Number (easy)"
   ]
  },
  {
   "cell_type": "markdown",
   "metadata": {},
   "source": [
    "### Problem Statement\n",
    "We are given an array containing n distinct numbers taken from the range 0 to n. Since the array has only n numbers out of the total n+1 numbers, find the missing number.<br>\n",
    "Leetcode: [268. Missing Number](https://leetcode.com/problems/missing-number/)\n",
    "\n",
    "##### Example 1\n",
    "**Input**: [4, 0, 3, 1]<br>\n",
    "**Output**: 2\n",
    "\n",
    "##### Example 2\n",
    "**Input**: [8, 3, 5, 2, 4, 6, 0, 1]<br>\n",
    "**Output**: 7"
   ]
  },
  {
   "cell_type": "markdown",
   "metadata": {},
   "source": [
    "### Solution\n",
    "Use the similar strategy in Cyclic Sort. Once we have every number in its correct place, we can iterate the array to find the index which does not have the correct number, and that index will be our missing number.<br>\n",
    "Two differences with Cyclic Sort:\n",
    "1. The numbers are ranged from 0 to n, compared to 1 to n in the Cyclic Sort. So each number should be equal to its index, which means $nums[i] == nums[nums[i]]$. Since the array will have n numbers, which means array indices will range from 0 to n-1. Therefore, we will ignore the number n as we can’t place it in the array, so => $nums[i] < nums.length$\n",
    "2. we made sure to place one number at its correct place in each step, but that wouldn’t be enough in this problem as we have one extra number due to the larger range. Therefore, before swapping we will check if the number at index i is within the permissible range i.e., it is less than the length of the input array, if not, we will skip ahead."
   ]
  },
  {
   "cell_type": "code",
   "execution_count": 3,
   "metadata": {},
   "outputs": [
    {
     "name": "stdout",
     "output_type": "stream",
     "text": [
      "2\n",
      "7\n"
     ]
    }
   ],
   "source": [
    "def find_missing_number(nums):\n",
    "    i, n = 0, len(nums)\n",
    "    while i < n:\n",
    "        j = nums[i]\n",
    "        if nums[i] < n and nums[i] != nums[j]:\n",
    "            nums[i], nums[j] = nums[j], nums[i]\n",
    "        else:\n",
    "            i += 1\n",
    "\n",
    "    # find the first number missing from its index, that will be our required number\n",
    "    for i in range(n):\n",
    "        if nums[i] != i:\n",
    "            return i\n",
    "    return n\n",
    "\n",
    "def main():\n",
    "  print(find_missing_number([4, 0, 3, 1]))\n",
    "  print(find_missing_number([8, 3, 5, 2, 4, 6, 0, 1]))\n",
    "\n",
    "\n",
    "main()"
   ]
  },
  {
   "cell_type": "markdown",
   "metadata": {},
   "source": [
    "**Time Complexity**: $O(n)$, In the while loop, although we are not incrementing the index i when swapping the numbers, but in the worst-case scenario, the while loop will swap a total of n-1 numbers and once a number is at its correct index, we will move on to the next number by incrementing i. In the end, we iterate the input array again to find the first number missing from its index, so overall, our algorithm will take $O(n) + O(n-1) + O(n)$\n",
    "which is asymptotically equivalent to $O(n)$\n",
    "\n",
    ".<br>\n",
    "**Space Complexity**: $O(1)$."
   ]
  }
 ],
 "metadata": {
  "kernelspec": {
   "display_name": "Python 3.7.10 ('base')",
   "language": "python",
   "name": "python3"
  },
  "language_info": {
   "codemirror_mode": {
    "name": "ipython",
    "version": 3
   },
   "file_extension": ".py",
   "mimetype": "text/x-python",
   "name": "python",
   "nbconvert_exporter": "python",
   "pygments_lexer": "ipython3",
   "version": "3.7.10"
  },
  "orig_nbformat": 4,
  "vscode": {
   "interpreter": {
    "hash": "f8b40d688a12481f01eadf7380c47edd8a49484a47dba3db091451640e880c68"
   }
  }
 },
 "nbformat": 4,
 "nbformat_minor": 2
}
