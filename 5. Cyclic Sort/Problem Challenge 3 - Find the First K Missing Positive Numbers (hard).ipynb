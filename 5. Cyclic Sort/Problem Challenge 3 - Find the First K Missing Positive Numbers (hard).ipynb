{
 "cells": [
  {
   "cell_type": "markdown",
   "metadata": {},
   "source": [
    "# Problem Challenge 3: Find the First K Missing Positive Numbers (hard)"
   ]
  },
  {
   "cell_type": "markdown",
   "metadata": {},
   "source": [
    "### Problem Statement\n",
    "Given an unsorted array containing numbers and a number 'k', find the first 'k' missing positive numbers in the array.<br>\n",
    "Leetcode: [1539. Kth Missing Positive Number](https://leetcode.com/problems/kth-missing-positive-number/)\n",
    "\n",
    "##### Example 1\n",
    "**Input**: [3, -1, 4, 5, 5], k=3<br>\n",
    "**Output**: [1, 2, 6]<br>\n",
    "**Explanation**: The smallest missing positive numbers are 1, 2 and 6.\n",
    "\n",
    "##### Example 2\n",
    "**Input**: [2, 3, 4], k=3<br>\n",
    "**Output**: [1, 5, 6]<br>\n",
    "**Explanation**: The smallest missing positive numbers are 1, 5 and 6.\n",
    "\n",
    "##### Example 3\n",
    "**Input**: [-2, -3, 4], k=2<br>\n",
    "**Output**: [1, 2]<br>\n",
    "**Explanation**: The smallest missing positive numbers are 1 and 2."
   ]
  },
  {
   "cell_type": "markdown",
   "metadata": {},
   "source": [
    "### Solution\n",
    "1. Place the numbers on their correct indices and ignore all numbers that are out of the range of the array (i.e., all negative numbers and all numbers greater than the length of the array).\n",
    "2. If we are not able to find ‘k’ missing numbers from the array, we need to add additional numbers to the output array. To find these additional numbers we will use the length of the array.\n",
    "3. One tricky aspect is that any of these additional numbers could be part of the array. Remember, while sorting, we ignored all numbers that are greater than or equal to the length of the array. So all indices that have the missing numbers could possibly have these additional numbers. To handle this, we must keep track of all numbers from those indices that have missing numbers."
   ]
  },
  {
   "cell_type": "code",
   "execution_count": 1,
   "metadata": {},
   "outputs": [
    {
     "name": "stdout",
     "output_type": "stream",
     "text": [
      "[1, 2, 9]\n",
      "[1, 5, 6]\n",
      "[1, 2]\n"
     ]
    }
   ],
   "source": [
    "def find_first_k_missing_positive(nums, k):\n",
    "    n = len(nums)\n",
    "    i = 0\n",
    "    while i < len(nums):\n",
    "        j = nums[i] - 1\n",
    "        if nums[i] > 0 and nums[i] <= n and nums[i] != nums[j]:\n",
    "            nums[i], nums[j] = nums[j], nums[i]\n",
    "        else:\n",
    "            i += 1\n",
    "        \n",
    "    missingNumbers = []\n",
    "    extraNumbers = set()\n",
    "    for i in range(n):\n",
    "        if len(missingNumbers) < k:\n",
    "            if nums[i] != i + 1:\n",
    "                missingNumbers.append(i + 1)\n",
    "                extraNumbers.add(nums[i])\n",
    "    \n",
    "    # add the remaining missing numbers\n",
    "    while len(missingNumbers) < k:\n",
    "        candidateNumber = i + n\n",
    "        # ignore if the array contains the candidate number\n",
    "        if candidateNumber not in extraNumbers:\n",
    "            missingNumbers.append(candidateNumber)\n",
    "        i += 1\n",
    "    return missingNumbers\n",
    "\n",
    "def main():\n",
    "    print(find_first_k_missing_positive([3, -1, 4, 5, 5], 3))\n",
    "    print(find_first_k_missing_positive([2, 3, 4], 3))\n",
    "    print(find_first_k_missing_positive([-2, -3, 4], 2))\n",
    "\n",
    "main()"
   ]
  },
  {
   "cell_type": "markdown",
   "metadata": {},
   "source": [
    "**Time Complexity**: $O(n = K)$, as the last two for loops will run for $O(n)$ and $O(k)$ times respectively.<br>\n",
    "**Space Complexity**: $O(k)$ to store the extraNumbers.."
   ]
  }
 ],
 "metadata": {
  "kernelspec": {
   "display_name": "Python 3.7.10 ('base')",
   "language": "python",
   "name": "python3"
  },
  "language_info": {
   "codemirror_mode": {
    "name": "ipython",
    "version": 3
   },
   "file_extension": ".py",
   "mimetype": "text/x-python",
   "name": "python",
   "nbconvert_exporter": "python",
   "pygments_lexer": "ipython3",
   "version": "3.7.10"
  },
  "orig_nbformat": 4,
  "vscode": {
   "interpreter": {
    "hash": "f8b40d688a12481f01eadf7380c47edd8a49484a47dba3db091451640e880c68"
   }
  }
 },
 "nbformat": 4,
 "nbformat_minor": 2
}
