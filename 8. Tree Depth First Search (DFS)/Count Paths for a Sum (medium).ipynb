{
 "cells": [
  {
   "cell_type": "markdown",
   "metadata": {},
   "source": [
    "# Count Paths for a Sum (medium)"
   ]
  },
  {
   "cell_type": "markdown",
   "metadata": {},
   "source": [
    "### Problem Statement\n",
    "Given a binary tree and a number 'S', find all paths in the tree such that the sum of all the node values of each path equals 'S'. Please note that the paths can start or end at any node but all paths must follow direction from parent to child (top to bottom).<br>\n",
    "Leetcode: [437. Path Sum III](https://leetcode.com/problems/path-sum-iii/)\n",
    "\n",
    "##### Example 1\n",
    "**Input**: root = [10,5,-3,3,2,null,11,3,-2,null,1], targetSum = 8<br>\n",
    "**Output**: 3<br>\n",
    "**Explanation**: The paths that sum to 8 are shown."
   ]
  },
  {
   "cell_type": "markdown",
   "metadata": {},
   "source": [
    "### Solution\n",
    "Two differences from Binary Tree Path Sum pattern:\n",
    "1. We will keep track of the current path in a list which will be passed to every recursive call.\n",
    "2. Whenever we traverse a node we will do two things:\n",
    "* Add the current node to the current path.\n",
    "* As we added a new node to the current path, we should find the sums of all sub-paths ending at the current node. If the sum of any sub-path is equal to ‘S’ we will increment our path count.\n",
    "3. We will traverse all paths and will not stop processing after finding the first path.\n",
    "4. Remove the current node from the current path before returning from the function. This is needed to Backtrack while we are going up the recursive call stack to process other paths."
   ]
  },
  {
   "cell_type": "code",
   "execution_count": 1,
   "metadata": {},
   "outputs": [
    {
     "name": "stdout",
     "output_type": "stream",
     "text": [
      "Tree has paths: 2\n"
     ]
    }
   ],
   "source": [
    "class TreeNode:\n",
    "    def __init__(self, val, left=None, right=None):\n",
    "        self.val = val\n",
    "        self.left = left\n",
    "        self.right = right\n",
    "        \n",
    "def count_paths(root, S):\n",
    "    return count_paths_recursive(root, S, [])\n",
    "\n",
    "def count_paths_recursive(currentNode, S, currentPath):\n",
    "    if not currentNode:\n",
    "        return 0\n",
    "    \n",
    "    # add the current node to the path\n",
    "    currentPath.append(currentNode.val)\n",
    "    pathCount, pathSum = 0, 0\n",
    "    # find the sums of all sub-paths in the current path list\n",
    "    for i in range(len(currentPath)-1, -1, -1):\n",
    "        pathSum += currentPath[i]\n",
    "        # if the sum of any sub-path is equal to 'S' we increment our path count.\n",
    "        if pathSum == S:\n",
    "            pathCount += 1\n",
    "    \n",
    "    # traverse the left sub-tree\n",
    "    pathCount += count_paths_recursive(currentNode.left, S, currentPath)\n",
    "    # traverse the right sub-tree\n",
    "    pathCount += count_paths_recursive(currentNode.right, S, currentPath)\n",
    "    \n",
    "    # remove the current node from the path to backtrack\n",
    "    # we need to remove the current node while we are going up the recursive call stack\n",
    "    del currentPath[-1]\n",
    "    \n",
    "    return pathCount\n",
    "\n",
    "def main():\n",
    "    root = TreeNode(12)\n",
    "    root.left = TreeNode(7)\n",
    "    root.right = TreeNode(1)\n",
    "    root.left.left = TreeNode(4)\n",
    "    root.right.left = TreeNode(10)\n",
    "    root.right.right = TreeNode(5)\n",
    "    print(\"Tree has paths: \" + str(count_paths(root, 11)))\n",
    "\n",
    "main()"
   ]
  },
  {
   "cell_type": "markdown",
   "metadata": {},
   "source": [
    "**Time Complexity**: $O(N^2)$in the worst case, where 'N' is the total number of nodes in the tree. This is due to the fact that we traverse each node once, but for every node, we iterate the current path. The current path, in the worst case, can be $O(N)$ (in the case of a skewed tree). But, if the tree is balanced, then the current path will be equal to the height of the tree, i.e., $O(logN)$. So the best case of our algorithm will be $O(NlogN)$.<br>\n",
    "**Space Complexity**: $O(N)$. This space will be used to store the recursion stack. The worst case will happen when the given tree is a linked list (i.e., every node has only one child). We also need $O(N)$ space for storing the currentPath in the worst case. Overall space complexity of our algorithm is $O(N)$."
   ]
  },
  {
   "cell_type": "markdown",
   "metadata": {},
   "source": [
    "### A more efficient solution\n",
    "One thing we are repeating for each node is traversing the current path and seeing if any sub-path that ends at the current node gives us the required sum. We can use the **Prefix Sum** technique to efficiently manage the path sums."
   ]
  },
  {
   "cell_type": "markdown",
   "metadata": {},
   "source": [
    "### Prefix Sum\n",
    "For a given array, its Prefix Sum is another array where each element is the commutative sum of the corresponding element in the given array and all its previous elements.\n",
    "* Input Array: [$a_0$, $a_1$, $a_2$, $a_3$]<br>\n",
    "Prefix Sums: [$a_0$, $a_0 + a_1$, $a_0 + a_1 + a_2$, $a_0 + a_1 + a_2 + a_3$]<br>\n",
    "\n",
    "Here is an example:\n",
    "* Input Array: [1, 6, 2, 5]<br>\n",
    "Prefix Sums: [1, 7, 9, 14]\n",
    "\n",
    "Now, let’s say we want to find all subarrays of a given array with a target sum.<br>\n",
    "Let’s say our target sum is 7, and we want to find all the subarrays of the array mentioned above.\n",
    "We can clearly see that there are two such subarrays: 1) [1, 6], and 2) [2, 5].\n",
    "There are two ways Prefix Sum can help us:\n",
    "1. Since each element of the prefix sum array contains the cumulative sum of current and previous elements, therefore, whenever we see our target sum, we have found our targeted subarray. For example, since the second element of the prefix sum array is 7; therefore, our target subarray will be from the start of the array till the second element, i.e., [1, 6]\n",
    "2. The prefix sum array can also help us find our target subarray that is not starting from the first index.<br>\n",
    "If we subtract the target sum from any element of the prefix sum array, the result will also give us our target subarray (if that result is present in the prefix sum array).<br>\n",
    "For example, take the 4th element of the prefix sum array and subtract the target sum from it: 14 – 7 => 7<br>\n",
    "And result (7) present in the prefix sum array. This means the sum from the 3rd element to the current element (i.e., the 4th) is also 7. We can consider each path as an array and calculate its prefix sums to find any required sub-paths. In the above tree, the highlighted sub-paths are exactly the same as our previous array example.\n",
    "\n",
    "Hence, our target subarray will be from the 3rd element to the current element, i.e., [2, 5].\n"
   ]
  },
  {
   "cell_type": "code",
   "execution_count": 1,
   "metadata": {},
   "outputs": [
    {
     "name": "stdout",
     "output_type": "stream",
     "text": [
      "Tree has paths: 2\n"
     ]
    }
   ],
   "source": [
    "class TreeNode:\n",
    "    def __init__(self, val, left=None, right=None):\n",
    "        self.val = val\n",
    "        self.left = left\n",
    "        self.right = right\n",
    "        \n",
    "def count_paths(root, target_sum):\n",
    "    # A map that stores the number of times a prefix sum has occurred so far.\n",
    "    map = {}\n",
    "    return count_paths_prefix_sum(root, target_sum, map, 0)\n",
    "\n",
    "def count_paths_prefix_sum(current_node, target_sum, map, current_path_sum):\n",
    "    if not current_node:\n",
    "        return 0\n",
    "\n",
    "    # The number of paths that have the required sum.\n",
    "    path_count = 0\n",
    "    \n",
    "    # 'current_path_sum' is the prefix sum, i.e., sum of all node values from root to current node.\n",
    "    current_path_sum += current_node.val\n",
    "    \n",
    "    # This is the base case. If the current sum is equal to the target sum, we have found a path from root to\n",
    "    # the current node having the required sum. Hence, we increment the path count by 1.\n",
    "    if target_sum == current_path_sum:\n",
    "        path_count += 1\n",
    "    \n",
    "    # 'current_path_sum' is the path sum from root to the current node. If within this path, there is a\n",
    "    # valid solution, then there must be an 'old_path_sum' such that:\n",
    "    # => current_path_sum - old_path_sum = target_sum\n",
    "    # => current_path_sum - target_sum = old_path_sum\n",
    "    # Hence, we can search such an 'old_path_sum' in the map from the key 'current_path_sum - target_sum'.\n",
    "    path_count += map.get(current_path_sum - target_sum, 0)\n",
    "    \n",
    "    # This is the key step in the algorithm. We are storing the number of times the prefix sum\n",
    "    # `current_path_sum` has occurred so far.\n",
    "    map[current_path_sum] = map.get(current_path_sum, 0) + 1\n",
    "    \n",
    "    # Counting the number of paths from the left and right subtrees.\n",
    "    path_count += count_paths_prefix_sum(current_node.left, target_sum, map, current_path_sum)\n",
    "    path_count += count_paths_prefix_sum(current_node.right, target_sum, map, current_path_sum)\n",
    "    \n",
    "    # Removing the current path sum from the map for backtracking.\n",
    "    # 'current_path_sum' is the prefix sum up to the current node. When we go back (i.e., backtrack), then\n",
    "    # the current node is no more a part of the path, hence, we should remove its prefix sum from the map.\n",
    "    map[current_path_sum] = map.get(current_path_sum, 1) - 1\n",
    "    \n",
    "    return path_count\n",
    "\n",
    "def main():\n",
    "    root = TreeNode(12)\n",
    "    root.left = TreeNode(7)\n",
    "    root.right = TreeNode(1)\n",
    "    root.left.left = TreeNode(4)\n",
    "    root.right.left = TreeNode(10)\n",
    "    root.right.right = TreeNode(5)\n",
    "    print(\"Tree has paths: \" + str(count_paths(root, 11)))\n",
    "\n",
    "main()"
   ]
  },
  {
   "cell_type": "markdown",
   "metadata": {},
   "source": [
    "**Time Complexity**: $O(N)$in the worst case, where 'N' is the total number of nodes in the tree.<br>\n",
    "**Space Complexity**: $O(N)$. This space will be used to store the recursion stack, as well as for the prefix sum."
   ]
  }
 ],
 "metadata": {
  "kernelspec": {
   "display_name": "Python 3.9.6 64-bit",
   "language": "python",
   "name": "python3"
  },
  "language_info": {
   "codemirror_mode": {
    "name": "ipython",
    "version": 3
   },
   "file_extension": ".py",
   "mimetype": "text/x-python",
   "name": "python",
   "nbconvert_exporter": "python",
   "pygments_lexer": "ipython3",
   "version": "3.9.6"
  },
  "orig_nbformat": 4,
  "vscode": {
   "interpreter": {
    "hash": "31f2aee4e71d21fbe5cf8b01ff0e069b9275f58929596ceb00d14d90e3e16cd6"
   }
  }
 },
 "nbformat": 4,
 "nbformat_minor": 2
}
