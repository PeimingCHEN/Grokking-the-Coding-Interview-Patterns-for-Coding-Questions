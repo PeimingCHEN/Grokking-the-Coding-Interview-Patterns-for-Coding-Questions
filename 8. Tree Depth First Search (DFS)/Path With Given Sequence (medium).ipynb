{
 "cells": [
  {
   "cell_type": "markdown",
   "metadata": {},
   "source": [
    "# Path With Given Sequence (medium)"
   ]
  },
  {
   "cell_type": "markdown",
   "metadata": {},
   "source": [
    "### Problem Statement\n",
    "Given a binary tree and a number sequence, find if the sequence is present as a root-to-leaf path in the given tree.<br>\n",
    "Leetcode: [1430. Check If a String Is a Valid Sequence from Root to Leaves Path in a Binary Tree](https://leetcode.com/problems/check-if-a-string-is-a-valid-sequence-from-root-to-leaves-path-in-a-binary-tree/)\n",
    "\n",
    "##### Example 1\n",
    "**Input**: root = [0,1,0,0,1,0,null,null,1,0,0], arr = [0,1,0,1]<br>\n",
    "**Output**: true<br>\n",
    "**Explanation**: \n",
    "The path 0 -> 1 -> 0 -> 1 is a valid sequence (green color in the figure). <br>\n",
    "Other valid sequences are: <br>\n",
    "0 -> 1 -> 1 -> 0 <br>\n",
    "0 -> 0 -> 0<br>"
   ]
  },
  {
   "cell_type": "markdown",
   "metadata": {},
   "source": [
    "### Solution\n",
    "Track the element of the given sequence that we should match with the current node. Also, we can return false as soon as we find a mismatch between the sequence and the node value."
   ]
  },
  {
   "cell_type": "code",
   "execution_count": 1,
   "metadata": {},
   "outputs": [
    {
     "name": "stdout",
     "output_type": "stream",
     "text": [
      "Tree has path sequence: False\n",
      "Tree has path sequence: True\n"
     ]
    }
   ],
   "source": [
    "class TreeNode:\n",
    "    def __init__(self, val, left=None, right=None):\n",
    "        self.val = val\n",
    "        self.left = left\n",
    "        self.right = right\n",
    "        \n",
    "def find_path(root, sequence):\n",
    "    if not root:\n",
    "        return len(sequence) == 0\n",
    "    return find_path_recursive(root, sequence, 0)\n",
    "\n",
    "def find_path_recursive(currentNode, sequence, sequenceIndex):\n",
    "    if not currentNode:\n",
    "        return False\n",
    "    \n",
    "    seqLen = len(sequence)\n",
    "    if sequenceIndex >= seqLen or currentNode.val != sequence[sequenceIndex]:\n",
    "        return False\n",
    "    \n",
    "    # if the current node is a leaf, add it is the end of the sequence, we have found a path!\n",
    "    if not currentNode.left and not currentNode.right and sequenceIndex == seqLen - 1:\n",
    "        return True\n",
    "    \n",
    "    # recursively call to traverse the left and right sub-tree\n",
    "    # return true if any of the two recursive call return true\n",
    "    return find_path_recursive(currentNode.left, sequence, sequenceIndex + 1) or find_path_recursive(currentNode.right, sequence, sequenceIndex + 1)\n",
    "\n",
    "def main():\n",
    "    root = TreeNode(1)\n",
    "    root.left = TreeNode(0)\n",
    "    root.right = TreeNode(1)\n",
    "    root.left.left = TreeNode(1)\n",
    "    root.right.left = TreeNode(6)\n",
    "    root.right.right = TreeNode(5)\n",
    "\n",
    "    print(\"Tree has path sequence: \" + str(find_path(root, [1, 0, 7])))\n",
    "    print(\"Tree has path sequence: \" + str(find_path(root, [1, 1, 6])))\n",
    "\n",
    "main()"
   ]
  },
  {
   "cell_type": "markdown",
   "metadata": {},
   "source": [
    "**Time Complexity**: $O(N)$, where 'N' is the total number of nodes in the tree. This is due to the fact that we traverse each node once.<br>\n",
    "**Space Complexity**: $O(N)$ in the worst case. This space will be used to store the recursion stack. The worst case will happen when the given tree is a linked list (i.e., every node has only one child)."
   ]
  }
 ],
 "metadata": {
  "kernelspec": {
   "display_name": "Python 3.9.6 64-bit",
   "language": "python",
   "name": "python3"
  },
  "language_info": {
   "codemirror_mode": {
    "name": "ipython",
    "version": 3
   },
   "file_extension": ".py",
   "mimetype": "text/x-python",
   "name": "python",
   "nbconvert_exporter": "python",
   "pygments_lexer": "ipython3",
   "version": "3.9.6"
  },
  "orig_nbformat": 4,
  "vscode": {
   "interpreter": {
    "hash": "31f2aee4e71d21fbe5cf8b01ff0e069b9275f58929596ceb00d14d90e3e16cd6"
   }
  }
 },
 "nbformat": 4,
 "nbformat_minor": 2
}
