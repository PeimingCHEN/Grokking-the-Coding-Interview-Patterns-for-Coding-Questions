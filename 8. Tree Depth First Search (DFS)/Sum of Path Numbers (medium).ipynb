{
 "cells": [
  {
   "cell_type": "markdown",
   "metadata": {},
   "source": [
    "# Sum of Path Numbers (medium)"
   ]
  },
  {
   "cell_type": "markdown",
   "metadata": {},
   "source": [
    "### Problem Statement\n",
    "Given a binary tree where each node can only have a digit (0-9) value, each root-to-leaf path will represent a number. Find the total sum of all the numbers represented by all paths.<br>\n",
    "Leetcode: [129. Sum Root to Leaf Numbers](https://leetcode.com/problems/sum-root-to-leaf-numbers/)\n",
    "\n",
    "##### Example 1\n",
    "**Input**: root = [1,2,3]<br>\n",
    "**Output**: 25<br>\n",
    "**Explanation**:\n",
    "The root-to-leaf path 1->2 represents the number 12.<br>\n",
    "The root-to-leaf path 1->3 represents the number 13.<br>\n",
    "Therefore, sum = 12 + 13 = 25."
   ]
  },
  {
   "cell_type": "markdown",
   "metadata": {},
   "source": [
    "### Solution\n",
    "Keep track of the number representing the current path."
   ]
  },
  {
   "cell_type": "code",
   "execution_count": 1,
   "metadata": {},
   "outputs": [
    {
     "name": "stdout",
     "output_type": "stream",
     "text": [
      "Total Sum of Path Numbers: 332\n"
     ]
    }
   ],
   "source": [
    "class TreeNode:\n",
    "    def __init__(self, val, left=None, right=None):\n",
    "        self.val = val\n",
    "        self.left = left\n",
    "        self.right = right\n",
    "\n",
    "def find_sum_of_path_numbers(root):\n",
    "    return find_root_to_leaf_path_numbers(root, 0)\n",
    "\n",
    "def find_root_to_leaf_path_numbers(currentNode, pathSum):\n",
    "    if not currentNode:\n",
    "        return 0\n",
    "    \n",
    "    # calculate the path number of the current node\n",
    "    pathSum = 10 * pathSum + currentNode.val\n",
    "    \n",
    "    # if the current node is a leaf, return the current path sum\n",
    "    if not currentNode.left and not currentNode.right:\n",
    "        return pathSum\n",
    "    \n",
    "    return find_root_to_leaf_path_numbers(currentNode.left, pathSum) + find_root_to_leaf_path_numbers(currentNode.right, pathSum)\n",
    "\n",
    "def main():\n",
    "    root = TreeNode(1)\n",
    "    root.left = TreeNode(0)\n",
    "    root.right = TreeNode(1)\n",
    "    root.left.left = TreeNode(1)\n",
    "    root.right.left = TreeNode(6)\n",
    "    root.right.right = TreeNode(5)\n",
    "    print(\"Total Sum of Path Numbers: \" + str(find_sum_of_path_numbers(root)))\n",
    "\n",
    "main()"
   ]
  },
  {
   "cell_type": "markdown",
   "metadata": {},
   "source": [
    "**Time Complexity**: $O(N)$, where 'N' is the total number of nodes in the tree. This is due to the fact that we traverse each node once.<br>\n",
    "**Space Complexity**: $O(N)$ in the worst case. This space will be used to store the recursion stack. The worst case will happen when the given tree is a linked list (i.e., every node has only one child)."
   ]
  }
 ],
 "metadata": {
  "kernelspec": {
   "display_name": "Python 3.7.10 ('base')",
   "language": "python",
   "name": "python3"
  },
  "language_info": {
   "codemirror_mode": {
    "name": "ipython",
    "version": 3
   },
   "file_extension": ".py",
   "mimetype": "text/x-python",
   "name": "python",
   "nbconvert_exporter": "python",
   "pygments_lexer": "ipython3",
   "version": "3.7.10"
  },
  "orig_nbformat": 4,
  "vscode": {
   "interpreter": {
    "hash": "f8b40d688a12481f01eadf7380c47edd8a49484a47dba3db091451640e880c68"
   }
  }
 },
 "nbformat": 4,
 "nbformat_minor": 2
}
