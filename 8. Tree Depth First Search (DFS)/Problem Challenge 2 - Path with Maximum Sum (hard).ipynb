{
 "cells": [
  {
   "cell_type": "markdown",
   "metadata": {},
   "source": [
    "# Problem Challenge 2: Path with Maximum Sum (hard)"
   ]
  },
  {
   "cell_type": "markdown",
   "metadata": {},
   "source": [
    "### Problem Statement\n",
    "Find the path with the maximum sum in a given binary tree. Write a function that returns the maximum sum.<br>\n",
    "A path can be defined as a sequence of nodes between any two nodes and doesn’t necessarily pass through the root. The path must contain at least one node.<br>\n",
    "Leetcode: [124. Binary Tree Maximum Path Sum](https://leetcode.com/problems/binary-tree-maximum-path-sum/)"
   ]
  },
  {
   "cell_type": "markdown",
   "metadata": {},
   "source": [
    "### Solution\n",
    "This problem follows the Binary Tree Path Sum pattern and shares the algorithmic logic with Tree Diameter. We can follow the same DFS approach. The only difference will be to ignore the paths with negative sums. Since we need to find the overall maximum sum, we should ignore any path which has an overall negative sum."
   ]
  },
  {
   "cell_type": "code",
   "execution_count": 1,
   "metadata": {},
   "outputs": [
    {
     "name": "stdout",
     "output_type": "stream",
     "text": [
      "Maximum Path Sum: 6\n",
      "Maximum Path Sum: 31\n",
      "Maximum Path Sum: -1\n"
     ]
    }
   ],
   "source": [
    "import math\n",
    "\n",
    "class TreeNode:\n",
    "    def __init__(self, val, left=None, right=None):\n",
    "        self.val = val\n",
    "        self.left = left\n",
    "        self.right = right\n",
    "        \n",
    "class MaximumPathSum:\n",
    "    def find_maximum_path_sum(self, root):\n",
    "        self.globalMaximumSum = -math.inf\n",
    "        self.find_maximum_path_sum_recursive(root)\n",
    "        return self.globalMaximumSum\n",
    "    \n",
    "    def find_maximum_path_sum_recursive(self, currentNode):\n",
    "        if not currentNode:\n",
    "            return 0\n",
    "        \n",
    "        maxPathSumFromLeft = self.find_maximum_path_sum_recursive(currentNode.left)\n",
    "        maxPathSumFromRight = self.find_maximum_path_sum_recursive(currentNode.right)\n",
    "        \n",
    "        # ignore paths with negative sums, since we need to find the maximum sum we should\n",
    "        # ignore any path which has an overall negative sum.\n",
    "        maxPathSumFromLeft = max(maxPathSumFromLeft, 0)\n",
    "        maxPathSumFromRight = max(maxPathSumFromRight, 0)\n",
    "        \n",
    "        # maximum path sum at the current node will be equal to the sum from the left subtree +\n",
    "        # the sum from right subtree + val of current node\n",
    "        localMaximumSum = maxPathSumFromLeft + maxPathSumFromRight + currentNode.val\n",
    "        \n",
    "        # update the global maximum sum\n",
    "        self.globalMaximumSum = max(self.globalMaximumSum, localMaximumSum)\n",
    "        \n",
    "        # maximum sum of any path from the current node will be equal to the maximum of\n",
    "        # the sums from left or right subtrees plus the value of the current node\n",
    "        return max(maxPathSumFromLeft, maxPathSumFromRight) + currentNode.val\n",
    "    \n",
    "def main():\n",
    "    maximumPathSum = MaximumPathSum()\n",
    "    root = TreeNode(1)\n",
    "    root.left = TreeNode(2)\n",
    "    root.right = TreeNode(3)\n",
    "\n",
    "    print(\"Maximum Path Sum: \" + str(maximumPathSum.find_maximum_path_sum(root)))\n",
    "    root.left.left = TreeNode(1)\n",
    "    root.left.right = TreeNode(3)\n",
    "    root.right.left = TreeNode(5)\n",
    "    root.right.right = TreeNode(6)\n",
    "    root.right.left.left = TreeNode(7)\n",
    "    root.right.left.right = TreeNode(8)\n",
    "    root.right.right.left = TreeNode(9)\n",
    "    print(\"Maximum Path Sum: \" + str(maximumPathSum.find_maximum_path_sum(root)))\n",
    "\n",
    "    root = TreeNode(-1)\n",
    "    root.left = TreeNode(-3)\n",
    "    print(\"Maximum Path Sum: \" + str(maximumPathSum.find_maximum_path_sum(root)))\n",
    "\n",
    "main()"
   ]
  },
  {
   "cell_type": "markdown",
   "metadata": {},
   "source": [
    "**Time Complexity**: $O(N)$, where 'N' is the total number of nodes in the tree. This is due to the fact that we traverse each node once.<br>\n",
    "**Space Complexity**: $O(N)$ in the worst case. This space will be used to store the recursion stack. The worst case will happen when the given tree is a linked list (i.e., every node has only one child)."
   ]
  }
 ],
 "metadata": {
  "kernelspec": {
   "display_name": "Python 3.7.10 ('base')",
   "language": "python",
   "name": "python3"
  },
  "language_info": {
   "codemirror_mode": {
    "name": "ipython",
    "version": 3
   },
   "file_extension": ".py",
   "mimetype": "text/x-python",
   "name": "python",
   "nbconvert_exporter": "python",
   "pygments_lexer": "ipython3",
   "version": "3.7.10"
  },
  "orig_nbformat": 4,
  "vscode": {
   "interpreter": {
    "hash": "f8b40d688a12481f01eadf7380c47edd8a49484a47dba3db091451640e880c68"
   }
  }
 },
 "nbformat": 4,
 "nbformat_minor": 2
}
