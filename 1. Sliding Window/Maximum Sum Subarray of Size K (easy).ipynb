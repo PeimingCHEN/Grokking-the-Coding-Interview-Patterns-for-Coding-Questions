{
 "cells": [
  {
   "cell_type": "markdown",
   "metadata": {},
   "source": [
    "# Maximum Sum Subarray of Size K (easy)"
   ]
  },
  {
   "cell_type": "markdown",
   "metadata": {},
   "source": [
    "###  Problem Statement\n",
    "Given an array of positive numbers and a positive number ‘k,’ find the **maximum sum of any contiguous subarray of size 'k'**.<br>\n",
    "Leetcode: Close to [53. Maximum Subarray](https://leetcode.com/problems/maximum-subarray/)\n",
    "\n",
    "##### Example 1\n",
    "**Input**: [2, 1, 5, 1, 3, 2], k=3  <br>\n",
    "**Output**: 9 <br>\n",
    "**Explanation**: Subarray with maximum sum is [5, 1, 3]. <br>\n",
    "\n",
    "##### Example 2\n",
    "**Input**: [2, 3, 4, 1, 5], k=2 <br>\n",
    "**Output**: 7 <br>\n",
    "**Explanation**: Subarray with maximum sum is [3, 4]. <br>"
   ]
  },
  {
   "cell_type": "markdown",
   "metadata": {},
   "source": [
    "### Brute Force\n",
    "Calculate the sum of all 'k' sized subarrays to find the subarray with the highest sum"
   ]
  },
  {
   "cell_type": "code",
   "execution_count": 1,
   "metadata": {},
   "outputs": [
    {
     "name": "stdout",
     "output_type": "stream",
     "text": [
      "Maximum sum of a subarray of size K: 9\n",
      "Maximum sum of a subarray of size K: 7\n"
     ]
    }
   ],
   "source": [
    "def max_sub_array_of_size_k(k, arr):\n",
    "    max_sum = 0\n",
    "    window_sum = 0\n",
    "    for i in range(len(arr) - k + 1):\n",
    "        window_sum = 0\n",
    "        for j in range(i, i+k):\n",
    "            window_sum += arr[j]\n",
    "        max_sum = max(max_sum, window_sum)\n",
    "    return max_sum\n",
    "\n",
    "def main():\n",
    "  print(\"Maximum sum of a subarray of size K: \" + str(max_sub_array_of_size_k(3, [2, 1, 5, 1, 3, 2])))\n",
    "  print(\"Maximum sum of a subarray of size K: \" + str(max_sub_array_of_size_k(2, [2, 3, 4, 1, 5])))\n",
    "\n",
    "main()"
   ]
  },
  {
   "cell_type": "markdown",
   "metadata": {},
   "source": [
    "**Time Complexity**: $O(N*K)$, where 'N' is the number of elements in the input array."
   ]
  },
  {
   "cell_type": "markdown",
   "metadata": {},
   "source": [
    "### Sliding Window\n",
    "**Reuse the sum of the previous subarray** <br>\n",
    "Subtract the element going out of the window and add the new element getting included in the window. <br>\n",
    "**Advantages**: save time on re-calculating the sum of the overlapping part of adjacent windows."
   ]
  },
  {
   "cell_type": "code",
   "execution_count": 2,
   "metadata": {},
   "outputs": [
    {
     "name": "stdout",
     "output_type": "stream",
     "text": [
      "Maximum sum of a subarray of size K: 9\n",
      "Maximum sum of a subarray of size K: 7\n"
     ]
    }
   ],
   "source": [
    "def max_sub_array_of_size_k(k, arr):\n",
    "    max_sum, window_sum = 0, 0\n",
    "    window_start = 0\n",
    "    for window_end in range(len(arr)):\n",
    "        window_sum += arr[window_end] # add the new element getting included in the window\n",
    "        # slide the window, we don't need to slide if we've not hit the required window size of 'k'\n",
    "        if window_end >= k - 1:\n",
    "            max_sum = max(max_sum, window_sum)\n",
    "            window_sum -= arr[window_start] # subtract the element going out\n",
    "            window_start += 1 # slide the window ahead\n",
    "    return max_sum\n",
    "\n",
    "def main():\n",
    "  print(\"Maximum sum of a subarray of size K: \" + str(max_sub_array_of_size_k(3, [2, 1, 5, 1, 3, 2])))\n",
    "  print(\"Maximum sum of a subarray of size K: \" + str(max_sub_array_of_size_k(2, [2, 3, 4, 1, 5])))\n",
    "\n",
    "main() "
   ]
  },
  {
   "cell_type": "markdown",
   "metadata": {},
   "source": [
    "**Time Complexity**: $O(N)$, where 'N' is the number of elements in the input array. <br>\n",
    "**Space Complexity**: $O(1)$"
   ]
  }
 ],
 "metadata": {
  "kernelspec": {
   "display_name": "Python 3.7.10 ('base')",
   "language": "python",
   "name": "python3"
  },
  "language_info": {
   "codemirror_mode": {
    "name": "ipython",
    "version": 3
   },
   "file_extension": ".py",
   "mimetype": "text/x-python",
   "name": "python",
   "nbconvert_exporter": "python",
   "pygments_lexer": "ipython3",
   "version": "3.7.10"
  },
  "orig_nbformat": 4,
  "vscode": {
   "interpreter": {
    "hash": "f8b40d688a12481f01eadf7380c47edd8a49484a47dba3db091451640e880c68"
   }
  }
 },
 "nbformat": 4,
 "nbformat_minor": 2
}
