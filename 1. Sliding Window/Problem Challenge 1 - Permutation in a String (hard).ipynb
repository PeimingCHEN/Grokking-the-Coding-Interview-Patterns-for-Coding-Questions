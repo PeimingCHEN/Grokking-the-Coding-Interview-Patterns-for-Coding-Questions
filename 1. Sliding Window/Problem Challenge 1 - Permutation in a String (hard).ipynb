{
 "cells": [
  {
   "cell_type": "markdown",
   "metadata": {},
   "source": [
    "# Problem Challenge 1: Permutation in a String (hard)"
   ]
  },
  {
   "cell_type": "markdown",
   "metadata": {},
   "source": [
    "### Problem Statement\n",
    "Given a string and a pattern, find out if the **string contains any permutation of the pattern**. <br>\n",
    "Permutation is defined as the re-arranging of the characters of the string. For example, \"abc\" has the following six permutations:<br>\n",
    "*abc, acb, bac, bca, cab, cba* <br>\n",
    "If a string has 'n' distinct characters, it will have $n!$ permutations.<br>\n",
    "Leetcode: [567. Permutation in String](https://leetcode.com/problems/permutation-in-string/)\n",
    "\n",
    "##### Example 1\n",
    "**Input**: String=\"oidbcaf\", Pattern=\"abc\"  <br>\n",
    "**Output**: true <br>\n",
    "**Explanation**: The string contains \"bca\" which is a permutation of the given pattern. <br>\n",
    "\n",
    "##### Example 2\n",
    "**Input**: String=\"odicf\", Pattern=\"dc\" <br>\n",
    "**Output**: false <br>\n",
    "**Explanation**: No permutation of the pattern is present in the given string as a substring. <br>\n",
    "\n",
    "##### Example 3\n",
    "**Input**: String=\"bcdxabcdy\", Pattern=\"bcdyabcdx\" <br>\n",
    "**Output**: true <br>\n",
    "**Explanation**: Both the string and the pattern are a permutation of each other. <br>\n",
    "\n",
    "##### Example 4\n",
    "**Input**: String=\"aaacb\", Pattern=\"abc\" <br>\n",
    "**Output**: true <br>\n",
    "**Explanation**: The string contains \"acb\" which is a permutation of the given pattern. <br>"
   ]
  },
  {
   "cell_type": "markdown",
   "metadata": {},
   "source": [
    "### My Solution (Error: not consider the consecutive repeat character!!!)\n",
    "1. Iterate through the string, judging whether each character exists in the pattern.\n",
    "2. If true, add one character at a time in the sliding window.\n",
    "3. If the new character does not exist in the pattern, we move the window's left index to next character\n",
    "4. If at any time, the size of the sliding window is equal to the pattern's size, we have gotten our required permutation."
   ]
  },
  {
   "cell_type": "code",
   "execution_count": 7,
   "metadata": {},
   "outputs": [
    {
     "name": "stdout",
     "output_type": "stream",
     "text": [
      "Permutation exist: True\n",
      "Permutation exist: False\n",
      "Permutation exist: True\n",
      "Permutation exist: True\n"
     ]
    }
   ],
   "source": [
    "def find_permutation(str, pattern):\n",
    "  window_start = 0\n",
    "  for window_end in range(len(str)):\n",
    "      if str[window_end] not in pattern:\n",
    "          window_start = window_end + 1\n",
    "      elif window_end - window_start + 1 == len(pattern):\n",
    "          return True\n",
    "  return False\n",
    "\n",
    "def main():\n",
    "  print('Permutation exist: ' + str(find_permutation(\"oidbcaf\", \"abc\")))\n",
    "  print('Permutation exist: ' + str(find_permutation(\"odicf\", \"dc\")))\n",
    "  print('Permutation exist: ' + str(find_permutation(\"bcdxabcdy\", \"bcdyabcdx\")))\n",
    "  print('Permutation exist: ' + str(find_permutation(\"aaacb\", \"abc\")))\n",
    "\n",
    "main()"
   ]
  },
  {
   "cell_type": "markdown",
   "metadata": {},
   "source": [
    "**Time Complexity**: $O(N*M)$, where 'N' and 'M' are the number of characters in the input string and the pattern, respectively. The *for* loop runs for all elements, and we need to judge whether the element is in the pattern in each loop.<br>\n",
    "**Space Complexity**: $O(1)$"
   ]
  },
  {
   "cell_type": "markdown",
   "metadata": {},
   "source": [
    "### Original Solution\n",
    "Use a **HashMap** to remember the frequencies of all characters in the given pattern. Our goal will be to match all the characters from this HashMap with a sliding window in the given string.<br>\n",
    "1. Create a HashMap to calculate the frequencies of all characters in the pattern.\n",
    "2. Iterate through the string, adding one character at a time in the sliding window.\n",
    "3. If the character being added matches a character in the HashMap, decrement its frequency in the map. If the character frequency becomes zero, we got a complete match.\n",
    "4. If at any time, the number of characters matched is equal to the number of distinct characters in the pattern, we have gotten our required permutation.\n",
    "5. If the window size is greater than the length of the pattern, shrink the window to make it equal to the pattern’s size. At the same time, if the character going out was part of the pattern, put it back in the frequency HashMap."
   ]
  },
  {
   "cell_type": "code",
   "execution_count": 23,
   "metadata": {},
   "outputs": [
    {
     "name": "stdout",
     "output_type": "stream",
     "text": [
      "Permutation exist: True\n",
      "Permutation exist: False\n",
      "Permutation exist: True\n",
      "Permutation exist: True\n"
     ]
    }
   ],
   "source": [
    "def find_permutation(str1, pattern):\n",
    "    window_start, matched = 0, 0\n",
    "    char_frequency = {}\n",
    "    \n",
    "    # pattern str ==> hashmap\n",
    "    for chr in pattern:\n",
    "        if chr not in char_frequency:\n",
    "            char_frequency[chr] = 0\n",
    "        char_frequency[chr] += 1\n",
    "    \n",
    "    # match all the characters from the 'char_frequency' with the current window\n",
    "    # extend the size of window\n",
    "    for window_end in range(len(str1)):\n",
    "        right_char = str1[window_end]\n",
    "        if right_char in char_frequency:\n",
    "            # decrement the frequency of matched character\n",
    "            char_frequency[right_char] -= 1\n",
    "            if char_frequency[right_char] == 0:\n",
    "                matched += 1\n",
    "        \n",
    "        if matched == len(char_frequency):\n",
    "            return True\n",
    "        \n",
    "        # shrink the window by one character\n",
    "        if window_end >= len(pattern) - 1:\n",
    "            left_char = str1[window_start]\n",
    "            window_start += 1\n",
    "            if left_char in char_frequency:\n",
    "                if char_frequency[left_char] == 0:\n",
    "                    matched -= 1\n",
    "                char_frequency[left_char] += 1\n",
    "    return False\n",
    "\n",
    "def main():\n",
    "  print('Permutation exist: ' + str(find_permutation(\"oidbcaf\", \"abc\")))\n",
    "  print('Permutation exist: ' + str(find_permutation(\"odicf\", \"dc\")))\n",
    "  print('Permutation exist: ' + str(find_permutation(\"bcdxabcdy\", \"bcdyabcdx\")))\n",
    "  print('Permutation exist: ' + str(find_permutation(\"aaacb\", \"abc\")))\n",
    "\n",
    "main()\n",
    "        "
   ]
  },
  {
   "cell_type": "markdown",
   "metadata": {},
   "source": [
    "**Time Complexity**: $O(N+M)$, where 'N' and 'M' are the number of characters in the input string and the pattern, respectively.<br>\n",
    "**Space Complexity**: $O(M)$, in the worst case, the whole pattern can have distinct characters that will go into the HashMap."
   ]
  }
 ],
 "metadata": {
  "kernelspec": {
   "display_name": "Python 3.7.10 ('base')",
   "language": "python",
   "name": "python3"
  },
  "language_info": {
   "codemirror_mode": {
    "name": "ipython",
    "version": 3
   },
   "file_extension": ".py",
   "mimetype": "text/x-python",
   "name": "python",
   "nbconvert_exporter": "python",
   "pygments_lexer": "ipython3",
   "version": "3.7.10"
  },
  "orig_nbformat": 4,
  "vscode": {
   "interpreter": {
    "hash": "f8b40d688a12481f01eadf7380c47edd8a49484a47dba3db091451640e880c68"
   }
  }
 },
 "nbformat": 4,
 "nbformat_minor": 2
}
