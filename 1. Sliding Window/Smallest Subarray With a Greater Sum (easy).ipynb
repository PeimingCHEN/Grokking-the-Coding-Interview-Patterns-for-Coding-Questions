{
 "cells": [
  {
   "cell_type": "markdown",
   "metadata": {},
   "source": [
    "# Smallest Subarray With a Greater Sum (easy)"
   ]
  },
  {
   "cell_type": "markdown",
   "metadata": {},
   "source": [
    "### Problem Statement\n",
    "Given an array of positive integers and a number ‘S,’ find the length of the smallest contiguous subarray whose sum is greater than or equal to 'S'. Return 0 if no such subarray exists. <br>\n",
    "Leetcode: [209.Minimum Size Subarray Sum](https://leetcode.com/problems/minimum-size-subarray-sum/)\n",
    "\n",
    "##### Example 1\n",
    "**Input**: [2, 1, 5, 2, 3, 2], S=7  <br>\n",
    "**Output**: 2 <br>\n",
    "**Explanation**: The smallest subarray with a sum greater than or equal to '7' is [5, 2]. <br>\n",
    "\n",
    "##### Example 2\n",
    "**Input**: [2, 1, 5, 2, 8], S=7 <br>\n",
    "**Output**: 1 <br>\n",
    "**Explanation**: The smallest subarray with a sum greater than or equal to '7' is [8]. <br>\n",
    "\n",
    "##### Example 3\n",
    "**Input**: [3, 4, 1, 1, 6], S=8 <br>\n",
    "**Output**: 3 <br>\n",
    "**Explanation**: Smallest subarrays with a sum greater than or equal to '8' are [3, 4, 1] or [1, 1, 6]. <br>"
   ]
  },
  {
   "cell_type": "markdown",
   "metadata": {},
   "source": [
    "### Solution\n",
    "**Sliding window size is not fixed.**\n",
    "1. Add elements until the sum becomes greater than or equal to 'S' (add next element).\n",
    "2. Remember the length of this window as the initial smallest window or check if the current window length is the smallest so far.\n",
    "3. Shrink the window until the window’s sum is smaller than 'S' (subtract the first element of the window).\n",
    "4. Repeat the above steps."
   ]
  },
  {
   "cell_type": "code",
   "execution_count": 2,
   "metadata": {},
   "outputs": [
    {
     "name": "stdout",
     "output_type": "stream",
     "text": [
      "Smallest subarray length: 2\n",
      "Smallest subarray length: 3\n",
      "Smallest subarray length: 3\n"
     ]
    }
   ],
   "source": [
    "# My solution\n",
    "def smallest_subarray_sum(s, arr):\n",
    "    window_sum = 0\n",
    "    window_start = 0\n",
    "    for window_end in range(len(arr)):\n",
    "        window_sum += arr[window_end] # add next element\n",
    "        while window_sum >= s:\n",
    "            if window_start == 0:\n",
    "                # initialize the smallest window\n",
    "                min_length = window_end - window_start + 1\n",
    "            else:\n",
    "                # check the current window length\n",
    "                min_length = min(min_length, window_end - window_start + 1)\n",
    "            # Shrink the window until the window’s sum is smaller than 'S'\n",
    "            window_sum -= arr[window_start]\n",
    "            window_start += 1\n",
    "    return min_length\n",
    "\n",
    "def main():\n",
    "  print(\"Smallest subarray length: \" + str(smallest_subarray_sum(7, [2, 1, 5, 2, 3, 2])))\n",
    "  print(\"Smallest subarray length: \" + str(smallest_subarray_sum(8, [3, 4, 1, 1, 6])))\n",
    "  print(\"Smallest subarray length: \" + str(smallest_subarray_sum(8, [2, 1, 5, 2, 3, 2])))\n",
    "\n",
    "main()"
   ]
  },
  {
   "cell_type": "code",
   "execution_count": 3,
   "metadata": {},
   "outputs": [
    {
     "name": "stdout",
     "output_type": "stream",
     "text": [
      "Smallest subarray length: 2\n",
      "Smallest subarray length: 3\n",
      "Smallest subarray length: 3\n"
     ]
    }
   ],
   "source": [
    "# Answer\n",
    "import math\n",
    "\n",
    "def smallest_subarray_sum(s, arr):\n",
    "  \n",
    "  min_length = math.inf\n",
    "  window_sum = 0\n",
    "  window_start = 0\n",
    "  for window_end in range(0, len(arr)):\n",
    "      window_sum += arr[window_end]  # add the next element\n",
    "    # shrink the window as small as possible until the 'window_sum' is smaller than 's'\n",
    "      while window_sum >= s:\n",
    "        min_length = min(min_length, window_end - window_start + 1)\n",
    "        window_sum -= arr[window_start]\n",
    "        window_start += 1\n",
    "      \n",
    "  if min_length == math.inf:\n",
    "    return 0\n",
    "  return min_length\n",
    "\n",
    "def main():\n",
    "  print(\"Smallest subarray length: \" + str(smallest_subarray_sum(7, [2, 1, 5, 2, 3, 2])))\n",
    "  print(\"Smallest subarray length: \" + str(smallest_subarray_sum(8, [3, 4, 1, 1, 6])))\n",
    "  print(\"Smallest subarray length: \" + str(smallest_subarray_sum(8, [2, 1, 5, 2, 3, 2])))\n",
    "\n",
    "main()"
   ]
  },
  {
   "cell_type": "markdown",
   "metadata": {},
   "source": [
    "**Time Complexity**: $O(N)$, the outer *for* loop runs for all elements, and the inner *while* loop processes each element once. $O(N+N)\\sim O(N)$ <br>\n",
    "**Space Complexity**: $O(1)$"
   ]
  }
 ],
 "metadata": {
  "kernelspec": {
   "display_name": "Python 3.7.10 ('base')",
   "language": "python",
   "name": "python3"
  },
  "language_info": {
   "codemirror_mode": {
    "name": "ipython",
    "version": 3
   },
   "file_extension": ".py",
   "mimetype": "text/x-python",
   "name": "python",
   "nbconvert_exporter": "python",
   "pygments_lexer": "ipython3",
   "version": "3.7.10"
  },
  "orig_nbformat": 4,
  "vscode": {
   "interpreter": {
    "hash": "f8b40d688a12481f01eadf7380c47edd8a49484a47dba3db091451640e880c68"
   }
  }
 },
 "nbformat": 4,
 "nbformat_minor": 2
}
