{
 "cells": [
  {
   "cell_type": "markdown",
   "metadata": {},
   "source": [
    "# Longest Subarray with Ones after Replacement (hard)"
   ]
  },
  {
   "cell_type": "markdown",
   "metadata": {},
   "source": [
    "### Problem Statement\n",
    "Given an array containing 0s and 1s, if you are allowed to **replace no more than 'k' 0s with 1s**, find the length of the **longest contiguous subarray having all 1s**. <br>\n",
    "Leetcode: [1004. Max Consecutive Ones III](https://leetcode.com/problems/max-consecutive-ones-iii/)\n",
    "\n",
    "##### Example 1\n",
    "**Input**: Array=[0, 1, 1, 0, 0, 0, 1, 1, 0, 1, 1], k=2<br>\n",
    "**Output**: 6<br>\n",
    "**Explanation**: Replace the '0' at index 5 and 8 to have the longest contiguous subarray of 1s having length 6.<br>\n",
    "\n",
    "##### Example 2\n",
    "**Input**: Array=[0, 1, 0, 0, 1, 1, 0, 1, 1, 0, 0, 1, 1], k=3 <br>\n",
    "**Output**: 9<br>\n",
    "**Explanation**: Replace the '0' at index 6, 9, and 10 to have the longest contiguous subarray of 1s having length 9.<br>"
   ]
  },
  {
   "cell_type": "markdown",
   "metadata": {},
   "source": [
    "### Solution\n",
    "The difference with Longest Substring with same Letters after Replacement: only two characters (1s and 0s) in the arrays.<br>\n",
    "1. Iterate through the array to add one number at a time in the window and keep track of the maximum number of repeating 1s in the current window (maxOnesCount)\n",
    "2. At any time, we have a window with 1s repeating maxOnesCount time, and try to replace the remaining 0s\n",
    "3. If we have more than ‘k’ remaining 0s, we should shrink the window as we are not allowed to replace more than 'k' 0s."
   ]
  },
  {
   "cell_type": "code",
   "execution_count": 1,
   "metadata": {},
   "outputs": [
    {
     "name": "stdout",
     "output_type": "stream",
     "text": [
      "6\n",
      "9\n"
     ]
    }
   ],
   "source": [
    "def length_of_longest_substring(arr, k):\n",
    "    window_start, max_length, max_ones_count = 0, 0, 0\n",
    "    \n",
    "    # Try to extend the range [window_start, window_end]\n",
    "    for window_end in range(len(arr)):\n",
    "        if arr[window_end] == 1:\n",
    "            max_ones_count += 1\n",
    "            \n",
    "        # Current window size is from window_start to window_end, overall we have a maximum of 1s repeating 'max_ones_count' times,\n",
    "        # this means we can have a window with 'max_ones_count' 1s and the remaining are 0s which should replace with 1s.\n",
    "        # If the remaining 0s are more than 'k', it is time to shrink the window as we are not allowed to replace more than 'k' 0s\n",
    "        if window_end - window_start + 1 - max_ones_count > k:\n",
    "            if arr[window_start] == 1:\n",
    "                max_ones_count -= 1\n",
    "            window_start += 1\n",
    "        max_length = max(max_length, window_end - window_start + 1)\n",
    "    return max_length\n",
    "\n",
    "def main():\n",
    "    print(length_of_longest_substring([0, 1, 1, 0, 0, 0, 1, 1, 0, 1, 1], 2))\n",
    "    print(length_of_longest_substring([0, 1, 0, 0, 1, 1, 0, 1, 1, 0, 0, 1, 1], 3))\n",
    "\n",
    "main()"
   ]
  },
  {
   "cell_type": "markdown",
   "metadata": {},
   "source": [
    "**Time Complexity**: $O(N)$, where 'N' is the number of letters in the input string. <br>\n",
    "**Space Complexity**: $O(1)$"
   ]
  }
 ],
 "metadata": {
  "kernelspec": {
   "display_name": "Python 3.7.10 ('base')",
   "language": "python",
   "name": "python3"
  },
  "language_info": {
   "codemirror_mode": {
    "name": "ipython",
    "version": 3
   },
   "file_extension": ".py",
   "mimetype": "text/x-python",
   "name": "python",
   "nbconvert_exporter": "python",
   "pygments_lexer": "ipython3",
   "version": "3.7.10"
  },
  "orig_nbformat": 4,
  "vscode": {
   "interpreter": {
    "hash": "f8b40d688a12481f01eadf7380c47edd8a49484a47dba3db091451640e880c68"
   }
  }
 },
 "nbformat": 4,
 "nbformat_minor": 2
}
