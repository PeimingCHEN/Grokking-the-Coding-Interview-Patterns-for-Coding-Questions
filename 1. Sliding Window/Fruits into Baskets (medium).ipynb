{
 "cells": [
  {
   "cell_type": "markdown",
   "metadata": {},
   "source": [
    "# Fruits into Baskets (medium)"
   ]
  },
  {
   "cell_type": "markdown",
   "metadata": {},
   "source": [
    "### Problem Statement\n",
    "You are visiting a farm to collect fruits. The farm has a single row of fruit trees. You will be given two baskets, and your goal is to pick as many fruits as possible to be placed in the given baskets.\n",
    "\n",
    "You will be given an array of characters where each character represents a fruit tree. The farm has following restrictions:\n",
    "1. Each basket can have only one type of fruit. There is no limit to how many fruit a basket can hold.\n",
    "2. You can start with any tree, but you can’t skip a tree once you have started.\n",
    "3. You will pick exactly one fruit from every tree until you cannot, i.e., you will stop when you have to pick from a third fruit type.\n",
    "Write a function to return the maximum number of fruits in both baskets.<br>\n",
    "Leetcode: [904. Fruit Into Baskets](https://leetcode.com/problems/fruit-into-baskets/)\n",
    "\n",
    "##### Example 1\n",
    "**Input**: Fruit=['A', 'B', 'C', 'A', 'C']<br>\n",
    "**Output**: 3<br>\n",
    "**Explanation**: We can put 2 'C' in one basket and one 'A' in the other from the subarray ['C', 'A', 'C']<br>\n",
    "\n",
    "##### Example 2\n",
    "**Input**: Fruit=['A', 'B', 'C', 'B', 'B', 'C']<br>\n",
    "**Output**: 5<br>\n",
    "**Explanation**: We can put 3 'B' in one basket and two 'C' in the other basket from the subarray ['B', 'C', 'B', 'B', 'C'].<br>"
   ]
  },
  {
   "cell_type": "markdown",
   "metadata": {},
   "source": [
    "### Solution\n",
    "Find the length of the longest subarray with no more than two distinct characters.  This transforms the current problem into Longest Substring with K Distinct Characters where K=2.<br>"
   ]
  },
  {
   "cell_type": "code",
   "execution_count": 1,
   "metadata": {},
   "outputs": [
    {
     "name": "stdout",
     "output_type": "stream",
     "text": [
      "Maximum number of fruits: 3\n",
      "Maximum number of fruits: 5\n"
     ]
    }
   ],
   "source": [
    "def fruits_into_baskets(fruits):\n",
    "    window_start = 0\n",
    "    max_length = 0\n",
    "    fruit_frequency = {}\n",
    "    \n",
    "    # try to extend the range [window_start, window_end]\n",
    "    for window_end in range(len(fruits)):\n",
    "        right_fruit = fruits[window_end]\n",
    "        if right_fruit not in fruit_frequency:\n",
    "            fruit_frequency[right_fruit] = 0\n",
    "        fruit_frequency[right_fruit] += 1\n",
    "        \n",
    "        # shrink the sliding window, until we are left with '2' fruits in the fruit frequency dictionary\n",
    "        while len(fruit_frequency) > 2:\n",
    "            left_fruit = fruits[window_start]\n",
    "            fruit_frequency[left_fruit] -= 1\n",
    "            if fruit_frequency[left_fruit] == 0:\n",
    "                del fruit_frequency[left_fruit]\n",
    "            window_start += 1  # shrink the window\n",
    "        max_length = max(max_length, window_end - window_start + 1)\n",
    "    return max_length\n",
    "\n",
    "def main():\n",
    "  print(\"Maximum number of fruits: \" + str(fruits_into_baskets(['A', 'B', 'C', 'A', 'C'])))\n",
    "  print(\"Maximum number of fruits: \" + str(fruits_into_baskets(['A', 'B', 'C', 'B', 'B', 'C'])))\n",
    "\n",
    "main()"
   ]
  },
  {
   "cell_type": "markdown",
   "metadata": {},
   "source": [
    "**Time Complexity**: $O(N)$, the outer *for* loop runs for all elements, and the inner *while* loop processes each element once. $O(N+N)\\sim O(N)$ <br>\n",
    "**Space Complexity**: $O(1)$ as there can be a maximum of three types of fruits stored in the frequency map."
   ]
  }
 ],
 "metadata": {
  "kernelspec": {
   "display_name": "Python 3.7.10 ('base')",
   "language": "python",
   "name": "python3"
  },
  "language_info": {
   "codemirror_mode": {
    "name": "ipython",
    "version": 3
   },
   "file_extension": ".py",
   "mimetype": "text/x-python",
   "name": "python",
   "nbconvert_exporter": "python",
   "pygments_lexer": "ipython3",
   "version": "3.7.10"
  },
  "orig_nbformat": 4,
  "vscode": {
   "interpreter": {
    "hash": "f8b40d688a12481f01eadf7380c47edd8a49484a47dba3db091451640e880c68"
   }
  }
 },
 "nbformat": 4,
 "nbformat_minor": 2
}
