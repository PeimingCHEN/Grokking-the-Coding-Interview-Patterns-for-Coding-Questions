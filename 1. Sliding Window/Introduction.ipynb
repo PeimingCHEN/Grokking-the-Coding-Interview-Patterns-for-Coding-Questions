{
 "cells": [
  {
   "cell_type": "markdown",
   "metadata": {},
   "source": [
    "# Introduction\n",
    "When dealing with an array (or a LinkedList), find or calculate something among a given size's subarrays (or sublists)."
   ]
  },
  {
   "cell_type": "markdown",
   "metadata": {},
   "source": [
    "### Problem Statement\n",
    "Given an array, find the average of all subarrays of ‘K’ contiguous elements in it.\n",
    "\n",
    "##### Example 1\n",
    "**Input**: [1, 3, 2, 6, -1, 4, 1, 8, 2], K=5 <br>\n",
    "**Output**: [2.2, 2.8, 2.4, 3.6, 2.8] <br>\n",
    "**Explanation**: <br>\n",
    "For the first 5 numbers (subarray from index 0-4), the average is: $(1+3+2+6-1)/5 => 2.2$ <br>\n",
    "The average of next 5 numbers (subarray from index 1-5) is: $(3+2+6-1+4)/5 => 2.8$ <br>\n",
    "For the next 5 numbers (subarray from index 2-6), the average is: $(2+6-1+4+1)/5 => 2.4$ <br>"
   ]
  },
  {
   "cell_type": "markdown",
   "metadata": {},
   "source": [
    "### Brute Force\n",
    "Calculate the sum of every 5-element subarray of the given array and divide the sum by ‘5’ to find the average. <br>\n",
    "**Inefficiency**: for any two consecutive subarrays of size '5', the overlapping part (which will contain four elements) will be evaluated twice. \n"
   ]
  },
  {
   "cell_type": "code",
   "execution_count": 1,
   "metadata": {},
   "outputs": [
    {
     "name": "stdout",
     "output_type": "stream",
     "text": [
      "Averages of subarrays of size K: [2.2, 2.8, 2.4, 3.6, 2.8]\n"
     ]
    }
   ],
   "source": [
    "def find_averages_of_subarrays(K, arr):\n",
    "  result = []\n",
    "  for i in range(len(arr)-K+1):\n",
    "    # find sum of next 'K' elements\n",
    "    _sum = 0.0\n",
    "    for j in range(i, i+K):\n",
    "      _sum += arr[j]\n",
    "    result.append(_sum/K)  # calculate average\n",
    "  return result\n",
    "\n",
    "def main():\n",
    "  result = find_averages_of_subarrays(5, [1, 3, 2, 6, -1, 4, 1, 8, 2])\n",
    "  print(\"Averages of subarrays of size K: \" + str(result))\n",
    "\n",
    "main()"
   ]
  },
  {
   "cell_type": "markdown",
   "metadata": {},
   "source": [
    "**Time Complexity**: $O(N*K)$, where 'N' is the number of elements in the input array."
   ]
  },
  {
   "cell_type": "markdown",
   "metadata": {},
   "source": [
    "### Sliding Window\n",
    "* Slide the window by one element when moving on to the next subarray.\n",
    "* Subtract the element going out of the window and add the element being included in the sliding window to reuse the sum from the previous subarray."
   ]
  },
  {
   "cell_type": "code",
   "execution_count": 1,
   "metadata": {},
   "outputs": [
    {
     "name": "stdout",
     "output_type": "stream",
     "text": [
      "Averages of subarrays of size K: [3.0, 3.0, 4.0, 4.0]\n"
     ]
    }
   ],
   "source": [
    "def find_averages_of_subarrays(K, arr):\n",
    "    result = []\n",
    "    windowSum,  windowStart = 0.0, 0\n",
    "    for windowEnd in range(len(arr)):\n",
    "        windowSum +=  arr[windowEnd] # add the next element\n",
    "        # slide the window, we don't need to slide if we've not hit the required window size of 'k'\n",
    "        if windowEnd > K - 1:\n",
    "            result.append(windowSum/K) # calculate the average\n",
    "            windowSum -= arr[windowStart] # subtract the element going out\n",
    "            windowStart += 1 # slide the window ahead\n",
    "    return result\n",
    "\n",
    "def main():\n",
    "  result = find_averages_of_subarrays(5, [1, 3, 2, 6, -1, 4, 1, 8, 2])\n",
    "  print(\"Averages of subarrays of size K: \" + str(result))\n",
    "\n",
    "main()"
   ]
  },
  {
   "cell_type": "markdown",
   "metadata": {},
   "source": [
    "**Time Complexity**: $O(N)$, where 'N' is the number of elements in the input array."
   ]
  }
 ],
 "metadata": {
  "kernelspec": {
   "display_name": "Python 3.7.5 64-bit",
   "language": "python",
   "name": "python3"
  },
  "language_info": {
   "codemirror_mode": {
    "name": "ipython",
    "version": 3
   },
   "file_extension": ".py",
   "mimetype": "text/x-python",
   "name": "python",
   "nbconvert_exporter": "python",
   "pygments_lexer": "ipython3",
   "version": "3.7.5"
  },
  "orig_nbformat": 4,
  "vscode": {
   "interpreter": {
    "hash": "3c131d9f6474af261955aa1e8207c8433a778a6baed14433cc473bd0afc9ca1d"
   }
  }
 },
 "nbformat": 4,
 "nbformat_minor": 2
}
