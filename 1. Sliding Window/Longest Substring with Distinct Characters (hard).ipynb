{
 "cells": [
  {
   "cell_type": "markdown",
   "metadata": {},
   "source": [
    "# Longest Substring with Distinct Characters (hard)"
   ]
  },
  {
   "cell_type": "markdown",
   "metadata": {},
   "source": [
    "### Problem Statement\n",
    "Given a string, find the **length of the longest substring**, which has all **distinct characters**. <br>\n",
    "Leetcode: [3. Longest Substring Without Repeating Characters](https://leetcode.com/problems/longest-substring-without-repeating-characters/)\n",
    "\n",
    "##### Example 1\n",
    "**Input**: String=\"aabccbb\"<br>\n",
    "**Output**: 3<br>\n",
    "**Explanation**: The longest substring with distinct characters is \"abc\".<br>\n",
    "\n",
    "##### Example 2\n",
    "**Input**: String=\"abbbb\"<br>\n",
    "**Output**: 2<br>\n",
    "**Explanation**: The longest substring with distinct characters is \"ab\".<br>\n",
    "\n",
    "##### Example 3\n",
    "**Input**: String=\"abccde\"<br>\n",
    "**Output**: 3<br>\n",
    "**Explanation**: Longest substrings with distinct characters are \"abc\" & \"cde\".<br>"
   ]
  },
  {
   "cell_type": "markdown",
   "metadata": {},
   "source": [
    "### Solution\n",
    "Use a **HashMap** to remember the last index of each character we have processed."
   ]
  },
  {
   "cell_type": "code",
   "execution_count": 1,
   "metadata": {},
   "outputs": [
    {
     "name": "stdout",
     "output_type": "stream",
     "text": [
      "Length of the longest substring: 3\n",
      "Length of the longest substring: 2\n",
      "Length of the longest substring: 3\n"
     ]
    }
   ],
   "source": [
    "def non_repeat_substring(str1):\n",
    "    window_start = 0\n",
    "    max_length = 0\n",
    "    char_index_map = {}\n",
    "    \n",
    "    # try to extend the range [windowStart, windowEnd]\n",
    "    for window_end in range(len(str1)):\n",
    "        right_char = str1[window_end]\n",
    "        # if the map already contains the 'right_char', shrink the window from the beginning so that\n",
    "        # we have only one occurrence of 'right_char'\n",
    "        if right_char in char_index_map:\n",
    "            # this is tricky; in the current window, we will not have any 'right_char' after its previous index\n",
    "            # and if 'window_start' is already ahead of the last index of 'right_char', we'll keep 'window_start'\n",
    "            window_start = max(window_start, char_index_map[right_char] + 1)\n",
    "        # insert the 'right_char' into the map\n",
    "        char_index_map[right_char] = window_end\n",
    "        # remember the maximum length so far\n",
    "        max_length = max(max_length, window_end - window_start + 1)\n",
    "    return max_length\n",
    "\n",
    "def main():\n",
    "  print(\"Length of the longest substring: \" + str(non_repeat_substring(\"aabccbb\")))\n",
    "  print(\"Length of the longest substring: \" + str(non_repeat_substring(\"abbbb\")))\n",
    "  print(\"Length of the longest substring: \" + str(non_repeat_substring(\"abccde\")))\n",
    "\n",
    "main()"
   ]
  },
  {
   "cell_type": "markdown",
   "metadata": {},
   "source": [
    "**Time Complexity**: $O(N)$, where ‘N’ is the number of characters in the input string. <br>\n",
    "**Space Complexity**: $O(K)$, where K is the number of distinct characters in the input string. Since we can expect a fixed set of characters in the input string (e.g., 26 for English letters), we can say that the algorithm runs in fixed space O(1); in this case, we can use a fixed-size array instead of the HashMap."
   ]
  }
 ],
 "metadata": {
  "kernelspec": {
   "display_name": "Python 3.7.10 ('base')",
   "language": "python",
   "name": "python3"
  },
  "language_info": {
   "codemirror_mode": {
    "name": "ipython",
    "version": 3
   },
   "file_extension": ".py",
   "mimetype": "text/x-python",
   "name": "python",
   "nbconvert_exporter": "python",
   "pygments_lexer": "ipython3",
   "version": "3.7.10"
  },
  "orig_nbformat": 4,
  "vscode": {
   "interpreter": {
    "hash": "f8b40d688a12481f01eadf7380c47edd8a49484a47dba3db091451640e880c68"
   }
  }
 },
 "nbformat": 4,
 "nbformat_minor": 2
}
