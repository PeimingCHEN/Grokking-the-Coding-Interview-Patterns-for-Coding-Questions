{
 "cells": [
  {
   "cell_type": "markdown",
   "metadata": {},
   "source": [
    "# Longest Substring with maximum K Distinct Characters (medium)"
   ]
  },
  {
   "cell_type": "markdown",
   "metadata": {},
   "source": [
    "### Problem Statement\n",
    "Given a string, find the length of the longest substring in it with no more than K distinct characters. <br>\n",
    "Leetcode: [340. Longest Substring with At Most K Distinct Characters](https://leetcode.com/problems/longest-substring-with-at-most-k-distinct-characters/)\n",
    "\n",
    "##### Example 1\n",
    "**Input**: String=\"araaci\", K=2  <br>\n",
    "**Output**: 4 <br>\n",
    "**Explanation**: The longest substring with no more than '2' distinct characters is \"araa\". <br>\n",
    "\n",
    "##### Example 2\n",
    "**Input**: String=\"araaci\", K=1 <br>\n",
    "**Output**: 2 <br>\n",
    "**Explanation**: The longest substring with no more than '1' distinct characters is \"aa\". <br>\n",
    "\n",
    "##### Example 3\n",
    "**Input**: String=\"cbbebi\", K=3 <br>\n",
    "**Output**: 5 <br>\n",
    "**Explanation**: The longest substrings with no more than '3' distinct characters are \"cbbeb\" & \"bbebi\". <br>\n",
    "\n",
    "##### Example 4\n",
    "**Input**: String=\"cbbebi\", K=10 <br>\n",
    "**Output**: 6 <br>\n",
    "**Explanation**: The longest substring with no more than '10' distinct characters is \"cbbebi\". <br>"
   ]
  },
  {
   "cell_type": "markdown",
   "metadata": {},
   "source": [
    "### Solution\n",
    "Use a dynamic sliding window and a **HashMap** to remember the frequency of each character.\n",
    "1. Insert characters from the beginning of the string until having K distinct characters in the HashMap.\n",
    "2. These characters will constitute the sliding window. We will remember the length of this window as the longest window so far.\n",
    "3. Keep adding one character in the sliding window in a stepwise fashion.\n",
    "4. In each step, try to shrink the window from the beginning until we have no more than K distinct characters in the HashMap.\n",
    "5. Decrement the character’s frequency going out of the window and remove it from the HashMap if its frequency becomes zero while shrinking.\n",
    "6. At the end of each step, check if the current window length is the longest so far."
   ]
  },
  {
   "cell_type": "code",
   "execution_count": 1,
   "metadata": {},
   "outputs": [
    {
     "name": "stdout",
     "output_type": "stream",
     "text": [
      "Length of the longest substring: 4\n",
      "Length of the longest substring: 2\n",
      "Length of the longest substring: 5\n"
     ]
    }
   ],
   "source": [
    "def longest_substring_with_k_distinct(str1, k):\n",
    "    window_start = 0\n",
    "    max_length = 0\n",
    "    char_frequency = {}\n",
    "    # in the following loop we'll try to extend the range [window_start, window_end]\n",
    "    for window_end in range(len(str1)):\n",
    "        right_char = str1[window_end]\n",
    "        if right_char not in char_frequency:\n",
    "            char_frequency[right_char] = 0\n",
    "        char_frequency[right_char] += 1\n",
    "        \n",
    "        # shrink the sliding window, until we are left with 'k' distinct characters in the char_frequency\n",
    "        while len(char_frequency) > k:\n",
    "            left_char = str1[window_start]\n",
    "            char_frequency[left_char] -= 1\n",
    "            if char_frequency[left_char] == 0:\n",
    "                del char_frequency[left_char]\n",
    "            window_start += 1 # shrink the window\n",
    "        # remember the maximum length so far\n",
    "        max_length = max(max_length, window_end-window_start + 1)\n",
    "    return max_length\n",
    "\n",
    "def main():\n",
    "  print(\"Length of the longest substring: \" + str(longest_substring_with_k_distinct(\"araaci\", 2)))\n",
    "  print(\"Length of the longest substring: \" + str(longest_substring_with_k_distinct(\"araaci\", 1)))\n",
    "  print(\"Length of the longest substring: \" + str(longest_substring_with_k_distinct(\"cbbebi\", 3)))\n",
    "\n",
    "main()\n",
    "    "
   ]
  },
  {
   "cell_type": "markdown",
   "metadata": {},
   "source": [
    "**Time Complexity**: $O(N)$, the outer *for* loop runs for all elements, and the inner *while* loop processes each element once. $O(N+N)\\sim O(N)$ <br>\n",
    "**Space Complexity**: $O(K)$, need to store a maximum of K+1 characters in the HashMap."
   ]
  },
  {
   "cell_type": "markdown",
   "metadata": {},
   "source": [
    "### My Solution\n",
    "Not use HashMap"
   ]
  },
  {
   "cell_type": "code",
   "execution_count": 2,
   "metadata": {},
   "outputs": [
    {
     "name": "stdout",
     "output_type": "stream",
     "text": [
      "Length of the longest substring: 4\n",
      "Length of the longest substring: 2\n",
      "Length of the longest substring: 5\n"
     ]
    }
   ],
   "source": [
    "def longest_substring_with_k_distinct(str1, k):\n",
    "    window_start = 0\n",
    "    max_length = 0\n",
    "    for window_end in range(len(str1)):\n",
    "        right_char = str1[window_end]\n",
    "        if right_char not in str1[window_start : window_end]:\n",
    "            k -= 1\n",
    "        while k < 0:\n",
    "            left_char = str1[window_start]\n",
    "            window_start += 1 \n",
    "            if left_char not in str1[window_start : window_end]:\n",
    "                k +=1\n",
    "        max_length = max(max_length, window_end-window_start + 1)\n",
    "    return max_length\n",
    "\n",
    "def main():\n",
    "  print(\"Length of the longest substring: \" + str(longest_substring_with_k_distinct(\"araaci\", 2)))\n",
    "  print(\"Length of the longest substring: \" + str(longest_substring_with_k_distinct(\"araaci\", 1)))\n",
    "  print(\"Length of the longest substring: \" + str(longest_substring_with_k_distinct(\"cbbebi\", 3)))\n",
    "\n",
    "main()"
   ]
  },
  {
   "cell_type": "markdown",
   "metadata": {},
   "source": [
    "**Time Complexity**: $O(KN)$, the outer *for* loop runs for all elements, and the inner *while* loop processes each element once, but need to judge whether the element is in the list.<br>\n",
    "**Space Complexity**: $O(1)$"
   ]
  }
 ],
 "metadata": {
  "kernelspec": {
   "display_name": "Python 3.7.10 ('base')",
   "language": "python",
   "name": "python3"
  },
  "language_info": {
   "codemirror_mode": {
    "name": "ipython",
    "version": 3
   },
   "file_extension": ".py",
   "mimetype": "text/x-python",
   "name": "python",
   "nbconvert_exporter": "python",
   "pygments_lexer": "ipython3",
   "version": "3.7.10"
  },
  "orig_nbformat": 4,
  "vscode": {
   "interpreter": {
    "hash": "f8b40d688a12481f01eadf7380c47edd8a49484a47dba3db091451640e880c68"
   }
  }
 },
 "nbformat": 4,
 "nbformat_minor": 2
}
