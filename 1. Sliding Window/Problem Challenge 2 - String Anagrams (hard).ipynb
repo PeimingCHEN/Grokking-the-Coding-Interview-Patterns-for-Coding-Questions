{
 "cells": [
  {
   "cell_type": "markdown",
   "metadata": {},
   "source": [
    "# Problem Challenge 2: String Anagrams (hard)"
   ]
  },
  {
   "cell_type": "markdown",
   "metadata": {},
   "source": [
    "### Problem Statement\n",
    "Given a string and a pattern, find **all anagrams of the pattern in the given string**. <br>\n",
    "Every anagram is a permutation of a string. As we know, when we are **not allowed to repeat characters** while finding permutations of a string, we get $N!$ permutations (or anagrams) of a string having $N$ characters. For example, here are the six anagrams of the string \"abc\":<br>\n",
    "*abc, acb, bac, bca, cab, cba* <br>\n",
    "Write a function to return a list of starting indices of the anagrams of the pattern in the given string.<br>\n",
    "Leetcode: [438. Find All Anagrams in a String](https://leetcode.com/problems/find-all-anagrams-in-a-string/)\n",
    "\n",
    "##### Example 1\n",
    "**Input**: String=\"ppqp\", Pattern=\"pq\"  <br>\n",
    "**Output**: [1, 2] <br>\n",
    "**Explanation**: The two anagrams of the pattern in the given string are \"pq\" and \"qp\". <br>\n",
    "\n",
    "##### Example 2\n",
    "**Input**: String=\"abbcabc\", Pattern=\"abc\" <br>\n",
    "**Output**: [2, 3, 4] <br>\n",
    "**Explanation**: The three anagrams of the pattern in the given string are \"bca\", \"cab\", and \"abc\". <br>"
   ]
  },
  {
   "cell_type": "markdown",
   "metadata": {},
   "source": [
    "### Solution\n",
    "Use a **HashMap** to remember the frequencies of all characters in the given pattern. Our goal will be to match all the characters from this HashMap with a sliding window in the given string.<br>\n",
    "1. Create a HashMap to calculate the frequencies of all characters in the pattern.\n",
    "2. Iterate through the string, adding one character at a time in the sliding window.\n",
    "3. If the character being added matches a character in the HashMap, decrement its frequency in the map. If the character frequency becomes zero, we got a complete match.\n",
    "4. Find every occurrence of any permutation of the pattern in the string. (**Different from Problem Challenge 1**)\n",
    "5. If the window size is greater than the length of the pattern, shrink the window to make it equal to the pattern’s size. At the same time, if the character going out was part of the pattern, put it back in the frequency HashMap."
   ]
  },
  {
   "cell_type": "code",
   "execution_count": 1,
   "metadata": {},
   "outputs": [
    {
     "name": "stdout",
     "output_type": "stream",
     "text": [
      "[1, 2]\n",
      "[2, 3, 4]\n"
     ]
    }
   ],
   "source": [
    "def find_string_anagrams(str, pattern):\n",
    "    result_indexes = []\n",
    "    char_frequency = {}\n",
    "    window_start, matched = 0, 0\n",
    "    \n",
    "    for chr in pattern:\n",
    "        if chr not in char_frequency:\n",
    "            char_frequency[chr] = 0\n",
    "        char_frequency[chr] += 1\n",
    "        \n",
    "    # Our goal is to match all the characters from the 'char_frequency' with the current window\n",
    "    # try to extend the range [window_start, window_end]\n",
    "    for window_end in range(len(str)):\n",
    "        right_char = str[window_end]\n",
    "        if right_char in char_frequency:\n",
    "            # Decrement the frequency of matched character\n",
    "            char_frequency[right_char] -= 1\n",
    "            if char_frequency[right_char] == 0:\n",
    "                matched += 1\n",
    "        # Different from Problem Challenge 1\n",
    "        # find every occurrence of any permutation of the pattern in the string.\n",
    "        if matched == len(char_frequency):\n",
    "            result_indexes.append(window_start)\n",
    "        # Shrink the sliding window\n",
    "        if window_end - window_start + 1 >= len(pattern):\n",
    "            left_char = str[window_start]\n",
    "            window_start += 1\n",
    "            if left_char in char_frequency:\n",
    "                if char_frequency[left_char] == 0:\n",
    "                    matched -= 1 # Before putting the character back, decrement the matched count\n",
    "                char_frequency[left_char] += 1 # Put the character back\n",
    "    return result_indexes\n",
    "\n",
    "def main():\n",
    "  print(find_string_anagrams(\"ppqp\", \"pq\"))\n",
    "  print(find_string_anagrams(\"abbcabc\", \"abc\"))\n",
    "\n",
    "main()"
   ]
  },
  {
   "cell_type": "markdown",
   "metadata": {},
   "source": [
    "**Time Complexity**: $O(N+M)$, where 'N' and 'M' are the number of characters in the input string and the pattern, respectively.<br>\n",
    "**Space Complexity**: $O(M)$, in the worst case, the whole pattern can have distinct characters that will go into the HashMap. We also need $O(N)$ for the result list, this will happen when the pattern has only one character and the string contains only that character."
   ]
  }
 ],
 "metadata": {
  "kernelspec": {
   "display_name": "Python 3.7.10 ('base')",
   "language": "python",
   "name": "python3"
  },
  "language_info": {
   "codemirror_mode": {
    "name": "ipython",
    "version": 3
   },
   "file_extension": ".py",
   "mimetype": "text/x-python",
   "name": "python",
   "nbconvert_exporter": "python",
   "pygments_lexer": "ipython3",
   "version": "3.7.10"
  },
  "orig_nbformat": 4,
  "vscode": {
   "interpreter": {
    "hash": "f8b40d688a12481f01eadf7380c47edd8a49484a47dba3db091451640e880c68"
   }
  }
 },
 "nbformat": 4,
 "nbformat_minor": 2
}
