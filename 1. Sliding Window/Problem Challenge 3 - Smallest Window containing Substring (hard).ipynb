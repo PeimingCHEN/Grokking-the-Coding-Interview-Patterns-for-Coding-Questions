{
 "cells": [
  {
   "cell_type": "markdown",
   "metadata": {},
   "source": [
    "# Problem Challenge 3: Smallest Window containing Substring (hard)"
   ]
  },
  {
   "cell_type": "markdown",
   "metadata": {},
   "source": [
    "### Problem Statement\n",
    "Given a string and a pattern, find the **smallest substring** in the given string which has **all the character occurrences of the given pattern**.<br>\n",
    "Leetcode: [76. Minimum Window Substring](https://leetcode.com/problems/minimum-window-substring/)\n",
    "\n",
    "##### Example 1\n",
    "**Input**: String=\"aabdec\", Pattern=\"abc\"<br>\n",
    "**Output**: \"abdec\"<br>\n",
    "**Explanation**: The smallest substring having all characters of the pattern is \"abdec\"<br>\n",
    "\n",
    "##### Example 2\n",
    "**Input**: String=\"aabdec\", Pattern=\"abac\"<br>\n",
    "**Output**: \"aabdec\"<br>\n",
    "**Explanation**: The smallest substring having all character occurrences of the pattern is \"aabdec\"<br>\n",
    "\n",
    "##### Example 3\n",
    "**Input**: String=\"abdbca\", Pattern=\"abc\"<br>\n",
    "**Output**: \"bca\"<br>\n",
    "**Explanation**: The smallest substring having all characters of the pattern is \"bca\".<br>\n",
    "\n",
    "##### Example 4\n",
    "**Input**: String=\"adcad\", Pattern=\"abc\"<br>\n",
    "**Output**: \"\"<br>\n",
    "**Explanation**: No substring in the given string has all characters of the pattern.<br>"
   ]
  },
  {
   "cell_type": "markdown",
   "metadata": {},
   "source": [
    "### Solution\n",
    "Has one difference with Problem Challenge 1: find a substring having all characters of the pattern which means that the required substring can have some additional characters and doesn’t need to be a permutation of the pattern. <br>\n",
    "1. Counting every matching instance of a character. <br>\n",
    "2. Whenever all the characters are matched, shrink the window from the beginning to find the smallest substring. <br>\n",
    "3. Stop shrink as soon as we remove a matched character from the sliding window. <br>\n",
    "**Attention**: We could have redundant matching characters, e.g., we might have two 'a in the sliding window when we only need one 'a'. In that case, when we encounter the first 'a', we will simply shrink the window without decrementing the matched count. We will decrement the matched count when the second 'a' goes out of the window."
   ]
  },
  {
   "cell_type": "code",
   "execution_count": 4,
   "metadata": {},
   "outputs": [
    {
     "name": "stdout",
     "output_type": "stream",
     "text": [
      "abdec\n",
      "aabdec\n",
      "bca\n",
      "\n"
     ]
    }
   ],
   "source": [
    "def find_substring(str1, pattern):\n",
    "    window_start, matched, substr_start = 0, 0, 0\n",
    "    min_length = len(str1) + 1\n",
    "    char_frequency = {}\n",
    "    # change pattern string to frequency map\n",
    "    for chr in pattern:\n",
    "        if chr not in char_frequency:\n",
    "            char_frequency[chr] = 0\n",
    "        char_frequency[chr] += 1\n",
    "    # try to extend the range [window_start, window_end]\n",
    "    for window_end in range(len(str1)):\n",
    "        right_char = str1[window_end]\n",
    "        if right_char in char_frequency:\n",
    "            char_frequency[right_char] -= 1\n",
    "            if char_frequency[right_char] >= 0: # Count every matching of a character\n",
    "                matched += 1\n",
    "        # Shrink the window if we can, finish as soon as we remove a matched character\n",
    "        while matched == len(pattern):\n",
    "            if min_length > window_end - window_start + 1:\n",
    "                substr_start = window_start\n",
    "                min_length = window_end - window_start +1 \n",
    "            \n",
    "            left_char = str1[window_start]\n",
    "            window_start += 1\n",
    "            if left_char in char_frequency:\n",
    "                # Note that we could have redundant matching characters, therefore we'll decrement the\n",
    "                # matched count only when a useful occurrence of a matched character is going out of the window\n",
    "                if char_frequency[left_char] == 0:\n",
    "                    matched -= 1\n",
    "                char_frequency[left_char] += 1\n",
    "    if min_length > len(str1):\n",
    "        return ''\n",
    "    else:\n",
    "        return str1[substr_start:substr_start + min_length]\n",
    "    \n",
    "def main():\n",
    "  print(find_substring(\"aabdec\", \"abc\"))\n",
    "  print(find_substring(\"aabdec\", \"abac\"))\n",
    "  print(find_substring(\"abdbca\", \"abc\"))\n",
    "  print(find_substring(\"adcad\", \"abc\"))\n",
    "\n",
    "main()"
   ]
  },
  {
   "cell_type": "markdown",
   "metadata": {},
   "source": [
    "**Time Complexity**: $O(N+M)$, where 'N' and 'M' are the number of characters in the input string and the pattern, respectively.<br>\n",
    "**Space Complexity**: $O(M)$, in the worst case, the whole pattern can have distinct characters that will go into the HashMap. We also need $O(N)$ for the result list, this will happen when the pattern has only one character and the string contains only that character."
   ]
  }
 ],
 "metadata": {
  "kernelspec": {
   "display_name": "Python 3.7.10 ('base')",
   "language": "python",
   "name": "python3"
  },
  "language_info": {
   "codemirror_mode": {
    "name": "ipython",
    "version": 3
   },
   "file_extension": ".py",
   "mimetype": "text/x-python",
   "name": "python",
   "nbconvert_exporter": "python",
   "pygments_lexer": "ipython3",
   "version": "3.7.10"
  },
  "orig_nbformat": 4,
  "vscode": {
   "interpreter": {
    "hash": "f8b40d688a12481f01eadf7380c47edd8a49484a47dba3db091451640e880c68"
   }
  }
 },
 "nbformat": 4,
 "nbformat_minor": 2
}
