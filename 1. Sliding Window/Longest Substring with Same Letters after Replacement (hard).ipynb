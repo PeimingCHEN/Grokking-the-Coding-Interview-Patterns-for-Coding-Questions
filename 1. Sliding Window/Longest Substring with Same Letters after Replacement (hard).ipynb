{
 "cells": [
  {
   "cell_type": "markdown",
   "metadata": {},
   "source": [
    "# Longest Substring with Same Letters after Replacement (hard)"
   ]
  },
  {
   "cell_type": "markdown",
   "metadata": {},
   "source": [
    "### Problem Statement\n",
    "Given a string with lowercase letters only, if you are allowed to **replace no more than k letters** with any letter, find the **length of the longest substring having the same letters** after replacement. <br>\n",
    "Leetcode: [424. Longest Repeating Character Replacement](https://leetcode.com/problems/longest-repeating-character-replacement/)\n",
    "\n",
    "##### Example 1\n",
    "**Input**: String=\"aabccbb\", k=2<br>\n",
    "**Output**: 5<br>\n",
    "**Explanation**: Replace the two 'c' with 'b' to have the longest repeating substring \"bbbbb\".<br>\n",
    "\n",
    "##### Example 2\n",
    "**Input**: String=\"abbcb\", k=1<br>\n",
    "**Output**: 4<br>\n",
    "**Explanation**: Replace the 'c' with 'b' to have the longest repeating substring \"bbbb\".<br>\n",
    "\n",
    "##### Example 3\n",
    "**Input**: String=\"abccde\", k=1<br>\n",
    "**Output**: 3<br>\n",
    "**Explanation**: Replace the 'b' or 'd' with 'c' to have the longest repeating substring \"ccc\".<br>"
   ]
  },
  {
   "cell_type": "markdown",
   "metadata": {},
   "source": [
    "### Solution\n",
    "Use a HashMap to count the frequency of each letter.\n",
    "1. Iterate through the string to add one letter at a time in the window. <br>\n",
    "2. Keep track of the count of the maximum repeating letter in any window (maxRepeatLetterCount).<br>\n",
    "3. So, at any time, we have a window with one letter repeating maxRepeatLetterCount times; this means we should try to replace the remaining letters.<br>\n",
    "If the remaining letters are less than or equal to k, we can replace them all.<br>\n",
    "If we have more than k remaining letters, we should shrink the window as we cannot replace more than k letters.<br>\n",
    "4. While shrinking the window, we don’t need to update maxRepeatLetterCount. Since we are only interested in the longest valid substring, our sliding windows do not have to shrink, even if a window may cover an invalid substring. Either we expand the window by appending a character to the right or we shift the entire window to the right by one. We only expand the window when the frequency of the newly added character exceeds the historical maximum frequency.<br>"
   ]
  },
  {
   "cell_type": "code",
   "execution_count": 1,
   "metadata": {},
   "outputs": [
    {
     "name": "stdout",
     "output_type": "stream",
     "text": [
      "5\n",
      "4\n",
      "3\n"
     ]
    }
   ],
   "source": [
    "def length_of_longest_substring(str1, k):\n",
    "    window_start, max_length, max_repeat_letter_count = 0, 0, 0\n",
    "    frequency_map = {}\n",
    "    \n",
    "    # Try to extend the range [window_start, window_end]\n",
    "    for window_end in range(len(str1)):\n",
    "        right_char = str1[window_end]\n",
    "        if right_char not in frequency_map:\n",
    "            frequency_map[right_char] = 0\n",
    "        frequency_map[right_char] += 1\n",
    "        max_repeat_letter_count = max(max_repeat_letter_count, frequency_map[right_char])\n",
    "        \n",
    "        # Current window size is from window_start to window_end, overall we have a letter which is\n",
    "        # repeating 'max_repeat_letter_count' times, this means we can have a window which has one letter\n",
    "        # repeating 'max_repeat_letter_count' times and the remaining letters we should replace.\n",
    "        # if the remaining letters are more than 'k', it is the time to shrink the window as we\n",
    "        # are not allowed to replace more than 'k' letters\n",
    "        if window_end - window_start + 1 - max_repeat_letter_count > k:\n",
    "            left_char = str1[window_start]\n",
    "            frequency_map[left_char] -= 1\n",
    "            window_start += 1\n",
    "        max_length = max(max_length, window_end - window_start + 1)\n",
    "    return max_length\n",
    "\n",
    "def main():\n",
    "  print(length_of_longest_substring(\"aabccbb\", 2))\n",
    "  print(length_of_longest_substring(\"abbcb\", 1))\n",
    "  print(length_of_longest_substring(\"abccde\", 1))\n",
    "\n",
    "main()"
   ]
  },
  {
   "cell_type": "markdown",
   "metadata": {},
   "source": [
    "**Time Complexity**: $O(N)$, where 'N' is the number of letters in the input string. <br>\n",
    "**Space Complexity**: $O(1)$, need $O(26)$ to store each letter’s frequency in the HashMap."
   ]
  }
 ],
 "metadata": {
  "kernelspec": {
   "display_name": "Python 3.7.10 ('base')",
   "language": "python",
   "name": "python3"
  },
  "language_info": {
   "codemirror_mode": {
    "name": "ipython",
    "version": 3
   },
   "file_extension": ".py",
   "mimetype": "text/x-python",
   "name": "python",
   "nbconvert_exporter": "python",
   "pygments_lexer": "ipython3",
   "version": "3.7.10"
  },
  "orig_nbformat": 4,
  "vscode": {
   "interpreter": {
    "hash": "f8b40d688a12481f01eadf7380c47edd8a49484a47dba3db091451640e880c68"
   }
  }
 },
 "nbformat": 4,
 "nbformat_minor": 2
}
