{
 "cells": [
  {
   "cell_type": "markdown",
   "metadata": {},
   "source": [
    "# Problem Challenge 1: Count of Subset Sum (hard)"
   ]
  },
  {
   "cell_type": "markdown",
   "metadata": {},
   "source": [
    "### Problem Statement\n",
    "Given a set of positive numbers, find the total number of subsets whose sum is equal to a given number 'S'.<br>\n",
    "\n",
    "##### Example 1\n",
    "**Input**: {1, 1, 2, 3}, S=4<br>\n",
    "**Output**: 3<br>\n",
    "The given set has '3' subsets whose sum is '4': {1, 1, 2}, {1, 3}, {1, 3}<br>\n",
    "Note that we have two similar sets {1, 3}, because we have two '1' in our input.\n",
    "\n",
    "##### Example 2\n",
    "**Input**: {1, 2, 7, 1, 5}, S=9<br>\n",
    "**Output**: 3<br>\n",
    "The given set has '3' subsets whose sum is '9': {2, 7}, {1, 7, 1}, {1, 2, 1, 5}"
   ]
  },
  {
   "cell_type": "markdown",
   "metadata": {},
   "source": [
    "### Basic Solution\n",
    "This problem follows the 0/1 Knapsack pattern and is quite similar to Subset Sum. The only difference in this problem is that we need to count the number of subsets, whereas in Subset Sum we only wanted to know if a subset with the given sum existed.\n",
    "\n",
    "A basic brute-force solution could be to try all subsets of the given numbers to count the subsets that have a sum equal to 'S'."
   ]
  },
  {
   "cell_type": "code",
   "execution_count": 1,
   "metadata": {},
   "outputs": [
    {
     "name": "stdout",
     "output_type": "stream",
     "text": [
      "Total number of subsets 3\n",
      "Total number of subsets: 3\n"
     ]
    }
   ],
   "source": [
    "def count_subsets(num, sum):\n",
    "    return count_subsets_recursive(num, sum, 0)\n",
    "\n",
    "def count_subsets_recursive(num, sum, currentIndex):\n",
    "    # base checks\n",
    "    if sum == 0:\n",
    "        return 1\n",
    "    n = len(num)\n",
    "    if n == 0 or currentIndex >= n:\n",
    "        return 0\n",
    "    \n",
    "    # recursive call after selecting the number at the currentIndex\n",
    "    # if the number at currentIndex exceeds the sum, we shouldn't process this\n",
    "    sum1 = 0\n",
    "    if num[currentIndex] <= sum:\n",
    "        sum1 = count_subsets_recursive(num, sum - num[currentIndex], currentIndex + 1)\n",
    "    \n",
    "    # recursive call after excluding the number at the currentIndex\n",
    "    sum2 = count_subsets_recursive(num, sum, currentIndex + 1)\n",
    "    \n",
    "    return sum1 + sum2\n",
    "\n",
    "def main():\n",
    "  print(\"Total number of subsets \" + str(count_subsets([1, 1, 2, 3], 4)))\n",
    "  print(\"Total number of subsets: \" + str(count_subsets([1, 2, 7, 1, 5], 9)))\n",
    "\n",
    "main()"
   ]
  },
  {
   "cell_type": "markdown",
   "metadata": {},
   "source": [
    "**Time Complexity**: $O(2^n)$, where 'n' represents the total number.<br>\n",
    "**Space Complexity**: $O(n)$ to store the recursion stack."
   ]
  },
  {
   "cell_type": "markdown",
   "metadata": {},
   "source": [
    "### Top-down Dynamic Programming with Memoization\n",
    "Store results for every subset and for every possible sum."
   ]
  },
  {
   "cell_type": "code",
   "execution_count": 3,
   "metadata": {},
   "outputs": [
    {
     "name": "stdout",
     "output_type": "stream",
     "text": [
      "Total number of subsets 3\n",
      "Total number of subsets: 3\n"
     ]
    }
   ],
   "source": [
    "def count_subsets(num, sum):\n",
    "    # create a two dimensional array for Memoization, each element is initialized to '-1'\n",
    "    dp = [[-1 for x in range(sum+1)] for y in range(len(num))]\n",
    "    return count_subsets_recursive(dp, num, sum, 0)\n",
    "\n",
    "def count_subsets_recursive(dp, num, sum, currentIndex):\n",
    "    # base checks\n",
    "    if sum == 0:\n",
    "        return 1\n",
    "    n = len(num)\n",
    "    if n == 0 or currentIndex >= n:\n",
    "        return 0\n",
    "    \n",
    "    # check if we have not already processed a similar problem\n",
    "    if dp[currentIndex][sum] == -1:\n",
    "        # recursive call after choosing the number at the currentIndex\n",
    "        # if the number at currentIndex exceeds the sum, we shouldn't process this\n",
    "        sum1 = 0\n",
    "        if num[currentIndex] <= sum:\n",
    "            sum1 = count_subsets_recursive(dp, num, sum - num[currentIndex], currentIndex + 1)\n",
    "        # recursive call after excluding the number at the currentIndex\n",
    "        sum2 = count_subsets_recursive(dp, num, sum, currentIndex + 1)\n",
    "        dp[currentIndex][sum] = sum1 + sum2\n",
    "    return dp[currentIndex][sum]\n",
    "\n",
    "def main():\n",
    "    print(\"Total number of subsets \" + str(count_subsets([1, 1, 2, 3], 4)))\n",
    "    print(\"Total number of subsets: \" + str(count_subsets([1, 2, 7, 1, 5], 9)))\n",
    "\n",
    "main()"
   ]
  },
  {
   "cell_type": "markdown",
   "metadata": {},
   "source": [
    "### Bottom-up Dynamic Programming\n",
    "make all possible sums with every subset to populate the array *db[TotalNumbers][S+1]*.\n",
    "\n",
    "So, at every step we have two options:\n",
    "1. Exclude the number. Count all the subsets without the given number up to the given sum => *dp[index-1][sum]*\n",
    "2. Include the number if its value is not more than the ‘sum’. In this case, we will count all the subsets to get the remaining sum => *dp[index-1][sum-num[index]]*\n",
    "\n",
    "To find the total sets, we will add both of the above two values: *dp[index][sum] = dp[index-1][sum] + dp[index-1][sum-num[index]])*"
   ]
  },
  {
   "cell_type": "code",
   "execution_count": 4,
   "metadata": {},
   "outputs": [
    {
     "name": "stdout",
     "output_type": "stream",
     "text": [
      "Total number of subsets 3\n",
      "Total number of subsets: 3\n"
     ]
    }
   ],
   "source": [
    "def count_subsets(num, sum):\n",
    "    n = len(num)\n",
    "    dp = [[-1 for x in range(sum+1)] for y in range(n)]\n",
    "    \n",
    "    # populate the sum = 0 columns, as we will always have an empty set for zero sum\n",
    "    for i in range(n):\n",
    "        dp[i][0] = 1\n",
    "        \n",
    "    # with only one number, we can form a subset only when the required sum is\n",
    "    # equal to its value\n",
    "    for s in range(1, sum+1):\n",
    "        dp[0][s] = 1 if num[0] == s else 0\n",
    "    \n",
    "    # process all subsets for all sums\n",
    "    for i in range(1, n):\n",
    "        for s in range(1, sum+1):\n",
    "            # exclude the number\n",
    "            dp[i][s] = dp[i - 1][s]\n",
    "            # include the number, if it does not exceed the sum\n",
    "            if s >= num[i]:\n",
    "                dp[i][s] += dp[i - 1][s - num[i]]\n",
    "    # the bottom-right corner will have our answer.\n",
    "    return dp[n - 1][sum]\n",
    "\n",
    "def main():\n",
    "  print(\"Total number of subsets \" + str(count_subsets([1, 1, 2, 3], 4)))\n",
    "  print(\"Total number of subsets: \" + str(count_subsets([1, 2, 7, 1, 5], 9)))\n",
    "\n",
    "main()"
   ]
  },
  {
   "cell_type": "markdown",
   "metadata": {},
   "source": [
    "**Time Complexity**: $O(N∗S)$, , where ‘N’ represents total numbers and ‘S’ is the total sum of all the numbers.<br>\n",
    "**Space Complexity**: $O(N∗S)$."
   ]
  },
  {
   "cell_type": "markdown",
   "metadata": {},
   "source": [
    "### Challenge\n",
    "find an algorithm that has O(S) space complexity"
   ]
  },
  {
   "cell_type": "code",
   "execution_count": 7,
   "metadata": {},
   "outputs": [
    {
     "name": "stdout",
     "output_type": "stream",
     "text": [
      "Total number of subsets 3\n",
      "Total number of subsets: 3\n"
     ]
    }
   ],
   "source": [
    "def count_subsets(num, sum):\n",
    "    n = len(num)\n",
    "    dp = [0 for x in range(sum+1)]\n",
    "    dp[0] = 1\n",
    "    \n",
    "    # with only one number, we can form a subset only when the required sum is equal to the number\n",
    "    for s in range(1, sum + 1):\n",
    "        dp[s] = 1 if num[0] == s else 0\n",
    "        \n",
    "    # process all subsets for all sums\n",
    "    for i in range(1, n):\n",
    "        for s in range(sum, -1, -1):\n",
    "            if s >= num[i]:\n",
    "                dp[s] += dp[s - num[i]]\n",
    "    \n",
    "    return dp[sum]\n",
    "\n",
    "def main():\n",
    "  print(\"Total number of subsets \" + str(count_subsets([1, 1, 2, 3], 4)))\n",
    "  print(\"Total number of subsets: \" + str(count_subsets([1, 2, 7, 1, 5], 9)))\n",
    "\n",
    "main()"
   ]
  }
 ],
 "metadata": {
  "kernelspec": {
   "display_name": "Python 3.7.10 ('base')",
   "language": "python",
   "name": "python3"
  },
  "language_info": {
   "codemirror_mode": {
    "name": "ipython",
    "version": 3
   },
   "file_extension": ".py",
   "mimetype": "text/x-python",
   "name": "python",
   "nbconvert_exporter": "python",
   "pygments_lexer": "ipython3",
   "version": "3.7.10"
  },
  "orig_nbformat": 4,
  "vscode": {
   "interpreter": {
    "hash": "f8b40d688a12481f01eadf7380c47edd8a49484a47dba3db091451640e880c68"
   }
  }
 },
 "nbformat": 4,
 "nbformat_minor": 2
}
