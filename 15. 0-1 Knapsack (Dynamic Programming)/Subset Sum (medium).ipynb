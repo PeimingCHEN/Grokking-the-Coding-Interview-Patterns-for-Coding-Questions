{
 "cells": [
  {
   "cell_type": "markdown",
   "metadata": {},
   "source": [
    "# Subset Sum (medium)"
   ]
  },
  {
   "cell_type": "markdown",
   "metadata": {},
   "source": [
    "### Problem Statement\n",
    "Given a set of positive numbers, determine if a subset exists whose sum is equal to a given number ‘S’.<br>\n",
    "\n",
    "##### Example 1\n",
    "**Input**: {1, 2, 3, 7}, S=6<br>\n",
    "**Output**: True<br>\n",
    "The given set has a subset whose sum is '6': {1, 2, 3}\n",
    "\n",
    "##### Example 2\n",
    "**Input**: {1, 2, 7, 1, 5}, S=10<br>\n",
    "**Output**: True<br>\n",
    "The given set has a subset whose sum is '10': {1, 2, 7}\n",
    "\n",
    "##### Example 3\n",
    "**Input**: {1, 3, 4, 8}, S=6<br>\n",
    "**Output**: False<br>\n",
    "The given set does not have any subset whose sum is equal to '6'."
   ]
  },
  {
   "cell_type": "markdown",
   "metadata": {},
   "source": [
    "### Basic Solution\n",
    "Try all subsets of the given numbers to see if any set has a sum equal to ‘S’."
   ]
  },
  {
   "cell_type": "code",
   "execution_count": 1,
   "metadata": {},
   "outputs": [
    {
     "name": "stdout",
     "output_type": "stream",
     "text": [
      "Can partition: True\n",
      "Can partition: True\n",
      "Can partition: False\n"
     ]
    }
   ],
   "source": [
    "def can_partition(num, sum):\n",
    "    return can_partition_recursive(num, sum, 0)\n",
    "\n",
    "def can_partition_recursive(num, sum, currentIndex):\n",
    "    if sum == 0:\n",
    "        return True\n",
    "    \n",
    "    n = len(num)\n",
    "    if n == 0 or currentIndex >= n:\n",
    "        return False\n",
    "    \n",
    "    if num[currentIndex] <= sum:\n",
    "        if can_partition_recursive(num, sum-num[currentIndex], currentIndex+1):\n",
    "            return True\n",
    "        \n",
    "    return can_partition_recursive(num, sum, currentIndex+1)\n",
    "\n",
    "def main():\n",
    "    print(\"Can partition: \" + str(can_partition([1, 2, 3, 7], 6)))\n",
    "    print(\"Can partition: \" + str(can_partition([1, 2, 7, 1, 5], 10)))\n",
    "    print(\"Can partition: \" + str(can_partition([1, 3, 4, 8], 6)))\n",
    "\n",
    "main()"
   ]
  },
  {
   "cell_type": "markdown",
   "metadata": {},
   "source": [
    "### Top-down Dynamic Programming with Memoization"
   ]
  },
  {
   "cell_type": "code",
   "execution_count": 2,
   "metadata": {},
   "outputs": [
    {
     "name": "stdout",
     "output_type": "stream",
     "text": [
      "Can partition: True\n",
      "Can partition: True\n",
      "Can partition: False\n"
     ]
    }
   ],
   "source": [
    "def can_partition(num, sum):\n",
    "    # initialize the 'dp' array, -1 for default, 1 for true and 0 for false\n",
    "    dp = [[-1 for x in range(sum+1)] for y in range(len(num))]\n",
    "    return True if can_partition_recursive(dp, num, sum, 0) == 1 else False\n",
    "\n",
    "def can_partition_recursive(dp, num, sum, currentIndex):\n",
    "    if sum == 0:\n",
    "        return 1\n",
    "    \n",
    "    n = len(num)\n",
    "    if n == 0 or currentIndex >= n:\n",
    "        return 0\n",
    "    \n",
    "    if dp[currentIndex][sum] == -1:\n",
    "        if num[currentIndex] <= sum:\n",
    "            if can_partition_recursive(dp, num, sum-num[currentIndex], currentIndex+1) == 1:\n",
    "                dp[currentIndex][sum] == 1\n",
    "                return 1\n",
    "        dp[currentIndex][sum] = can_partition_recursive(dp, num, sum, currentIndex+1)\n",
    "    return dp[currentIndex][sum]\n",
    "\n",
    "def main():\n",
    "    print(\"Can partition: \" + str(can_partition([1, 2, 3, 7], 6)))\n",
    "    print(\"Can partition: \" + str(can_partition([1, 2, 7, 1, 5], 10)))\n",
    "    print(\"Can partition: \" + str(can_partition([1, 3, 4, 8], 6)))\n",
    "\n",
    "main()"
   ]
  },
  {
   "cell_type": "markdown",
   "metadata": {},
   "source": [
    "### Bottom-up Dynamic Programming\n",
    "We’ll try to find if we can make all possible sums with every subset to populate the array *dp[TotalNumbers][S+1]*.\n",
    "\n",
    "For every possible sum ‘s’ (where 0 <= s <= S), we have two options:\n",
    "1. Exclude the number. In this case, we will see if we can get the sum ‘s’ from the subset excluding this number => dp[index-1][s]\n",
    "2. Include the number if its value is not more than ‘s’. In this case, we will see if we can find a subset to get the remaining sum => dp[index-1][s-num[index]]\n",
    "\n",
    "If either of the above two scenarios returns true, we can find a subset with a sum equal to ‘s’."
   ]
  },
  {
   "cell_type": "code",
   "execution_count": 8,
   "metadata": {},
   "outputs": [
    {
     "name": "stdout",
     "output_type": "stream",
     "text": [
      "Can partition: True\n",
      "Can partition: True\n",
      "Can partition: False\n"
     ]
    }
   ],
   "source": [
    "def can_partition(num, sum):\n",
    "    n = len(num)\n",
    "    dp = [[False for x in range(sum+1)] for y in range(n)]\n",
    "    \n",
    "    # populate the sum = 0 columns, as we can always form '0' sum with an empty set\n",
    "    for i in range(n):\n",
    "        dp[i][0] = True\n",
    "    \n",
    "    # with only one number, we can form a subset only when the required sum is\n",
    "    # equal to its value\n",
    "    for s in range(1, sum+1):\n",
    "        dp[0][s] = True if num[0] == s else False\n",
    "    # process all subsets for all sums\n",
    "    for i in range(1, n):\n",
    "        for s in range(1, sum+1):\n",
    "            # if we can get the sum 's' without the number at index 'i'\n",
    "            if dp[i-1][s]:\n",
    "                dp[i][s] = dp[i-1][s]\n",
    "            elif s >= num[i]:\n",
    "                # else include the number and see if we can find a subset to get the remaining sum\n",
    "                dp[i][s] = dp[i-1][s-num[i]]\n",
    "    # the bottom-right corner will have our answer.\n",
    "    return dp[n-1][sum]\n",
    "\n",
    "def main():\n",
    "  print(\"Can partition: \" + str(can_partition([1, 2, 3, 7], 6)))\n",
    "  print(\"Can partition: \" + str(can_partition([1, 2, 7, 1, 5], 10)))\n",
    "  print(\"Can partition: \" + str(can_partition([1, 3, 4, 8], 6)))\n",
    "\n",
    "\n",
    "main()"
   ]
  },
  {
   "cell_type": "markdown",
   "metadata": {},
   "source": [
    "**Time Complexity**: $O(N∗S)$, , where ‘N’ represents total numbers and ‘S’ is the total sum of all the numbers.<br>\n",
    "**Space Complexity**: $O(N∗S)$."
   ]
  },
  {
   "cell_type": "markdown",
   "metadata": {},
   "source": [
    "### Challenge\n",
    "improve bottom-up DP solution that has $O(S)$ space complexity."
   ]
  },
  {
   "cell_type": "code",
   "execution_count": 9,
   "metadata": {},
   "outputs": [
    {
     "name": "stdout",
     "output_type": "stream",
     "text": [
      "Can partition: True\n",
      "Can partition: True\n",
      "Can partition: False\n"
     ]
    }
   ],
   "source": [
    "def can_partition(num, sum):\n",
    "    n = len(num)\n",
    "    dp = [False for x in range(sum+1)]\n",
    "    \n",
    "    # handle sum=0, as we can always have '0' sum with an empty set\n",
    "    dp[0] = True\n",
    "    \n",
    "    # with only one number, we can have a subset only when the required sum is equal to its value\n",
    "    for s in range(1, sum+1):\n",
    "        dp[s] = num[0] == s\n",
    "        \n",
    "    # process all subsets for all sums\n",
    "    for i in range(1, n):\n",
    "        for s in range(sum, -1, -1):\n",
    "            # if dp[s]==true, this means we can get the sum 's' without num[i], hence we can move on to\n",
    "            # the next number else we can include num[i] and see if we can find a subset to get the\n",
    "            # remaining sum\n",
    "            if not dp[s] and s >= num[i]:\n",
    "                dp[s] = dp[s-num[i]]\n",
    "    \n",
    "    return dp[sum]\n",
    "\n",
    "def main():\n",
    "    print(\"Can partition: \" + str(can_partition([1, 2, 3, 7], 6)))\n",
    "    print(\"Can partition: \" + str(can_partition([1, 2, 7, 1, 5], 10)))\n",
    "    print(\"Can partition: \" + str(can_partition([1, 3, 4, 8], 6)))\n",
    "\n",
    "main()"
   ]
  }
 ],
 "metadata": {
  "kernelspec": {
   "display_name": "Python 3.7.10 ('base')",
   "language": "python",
   "name": "python3"
  },
  "language_info": {
   "codemirror_mode": {
    "name": "ipython",
    "version": 3
   },
   "file_extension": ".py",
   "mimetype": "text/x-python",
   "name": "python",
   "nbconvert_exporter": "python",
   "pygments_lexer": "ipython3",
   "version": "3.7.10"
  },
  "orig_nbformat": 4,
  "vscode": {
   "interpreter": {
    "hash": "f8b40d688a12481f01eadf7380c47edd8a49484a47dba3db091451640e880c68"
   }
  }
 },
 "nbformat": 4,
 "nbformat_minor": 2
}
