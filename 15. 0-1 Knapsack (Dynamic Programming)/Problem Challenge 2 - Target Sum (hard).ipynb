{
 "cells": [
  {
   "cell_type": "markdown",
   "metadata": {},
   "source": [
    "# Problem Challenge 2: Target Sum (hard)"
   ]
  },
  {
   "cell_type": "markdown",
   "metadata": {},
   "source": [
    "### Problem Statement\n",
    "You are given a set of positive numbers and a target sum ‘S’. Each number should be assigned either a ‘+’ or ‘-’ sign. We need to find the total ways to assign symbols to make the sum of the numbers equal to the target ‘S’.<br>\n",
    "\n",
    "##### Example 1\n",
    "**Input**: {1, 1, 2, 3}, S=1<br>\n",
    "**Output**: 3<br>\n",
    "**Explanation**: The given set has '3' ways to make a sum of '1': {+1-1-2+3} & {-1+1-2+3} & {+1+1+2-3}\n",
    "\n",
    "##### Example 2\n",
    "**Input**: {1, 2, 7, 1, 5}, S=9<br>\n",
    "**Output**: 2<br>\n",
    "**Explanation**: The given set has '2' ways to make a sum of '9': {+1+2+7-1} & {-1+2+7+1}"
   ]
  },
  {
   "cell_type": "markdown",
   "metadata": {},
   "source": [
    "### Solution\n",
    "We are asked to find two subsets of the given numbers whose difference is equal to the given target ‘S’. Take the first example above. As we saw, one solution is {+1-1-2+3}. So, the two subsets we are asked to find are {1, 3} & {1, 2} because $(1 + 3) - (1 + 2 ) = 1$\n",
    "\n",
    "Now, let’s say ‘Sum(s1)’ denotes the total sum of set ‘s1’, and ‘Sum(s2)’ denotes the total sum of set ‘s2’. So the required equation is $Sum(s1) - Sum(s2) = S$\n",
    "\n",
    "This equation can be reduced to the subset sum problem. Let’s assume that ‘Sum(num)’ denotes the total sum of all the numbers, therefore: $Sum(s1) + Sum(s2) = Sum(num)$\n",
    "\n",
    "Let’s add the above two equations:<br>\n",
    "    => $Sum(s1) - Sum(s2) + Sum(s1) + Sum(s2) = S + Sum(num)$<br>\n",
    "    => $2 * Sum(s1) =  S + Sum(num)$<br>\n",
    "    => $Sum(s1) = (S + Sum(num)) / 2$\n",
    "\n",
    "Which means that one of the set ‘s1’ has a sum equal to $(S + Sum(num)) / 2$. This essentially converts our problem to: \"Find the count of subsets of the given numbers whose sum is equal to $(S + Sum(num)) / 2$\""
   ]
  },
  {
   "cell_type": "code",
   "execution_count": 5,
   "metadata": {},
   "outputs": [
    {
     "name": "stdout",
     "output_type": "stream",
     "text": [
      "Total ways: 3\n",
      "Total ways: 2\n"
     ]
    }
   ],
   "source": [
    "def find_target_subsets(num, s):\n",
    "    totalSum = sum(num)\n",
    "    \n",
    "    # if 's + totalSum' is odd, we can't find a subset with sum equal to '(s + totalSum) / 2'\n",
    "    if totalSum < s or (s + totalSum) % 2 == 1:\n",
    "        return 0\n",
    "    \n",
    "    return count_subsets(num, (s + totalSum) // 2)\n",
    "\n",
    "def count_subsets(num, sum):\n",
    "    n = len(num)\n",
    "    dp = [[0 for x in range(sum+1)] for y in range(n)]\n",
    "    \n",
    "    # populate the sum = 0 columns, as we will always have an empty set for zero sum\n",
    "    for i in range(n):\n",
    "        dp[i][0] = 1\n",
    "    \n",
    "    # with only one number, we can form a subset only when the required sum is\n",
    "    # equal to the number\n",
    "    for s in range(1, sum+1):\n",
    "        dp[0][s] = 1 if num[0] == s else 0\n",
    "        \n",
    "    # process all subsets for all sums\n",
    "    for i in range(1, n):\n",
    "        for s in range(1, sum+1):\n",
    "            dp[i][s] = dp[i-1][s]\n",
    "            if s >= num[i]:\n",
    "                dp[i][s] += dp[i-1][s-num[i]]\n",
    "    \n",
    "    # the bottom-right corner will have our answer.\n",
    "    return dp[n - 1][s]\n",
    "\n",
    "def main():\n",
    "    print(\"Total ways: \" + str(find_target_subsets([1, 1, 2, 3], 1)))\n",
    "    print(\"Total ways: \" + str(find_target_subsets([1, 2, 7, 1], 9)))\n",
    "\n",
    "main()  "
   ]
  },
  {
   "cell_type": "markdown",
   "metadata": {},
   "source": [
    "**Time Complexity**: $O(N∗S)$, , where ‘N’ represents total numbers and ‘S’ is the total sum of all the numbers.<br>\n",
    "**Space Complexity**: $O(N∗S)$."
   ]
  },
  {
   "cell_type": "markdown",
   "metadata": {},
   "source": [
    "# Space Optimized Solution\n",
    "Use only a single array"
   ]
  },
  {
   "cell_type": "code",
   "execution_count": 7,
   "metadata": {},
   "outputs": [
    {
     "name": "stdout",
     "output_type": "stream",
     "text": [
      "Total ways: 3\n",
      "Total ways: 2\n"
     ]
    }
   ],
   "source": [
    "def find_target_subsets(num, s):\n",
    "    total_sum = sum(num)\n",
    "    \n",
    "    # if 's + totalSum' is odd, we can't find a subset with sum equal to '(s +totalSum) / 2'\n",
    "    if total_sum < s or (s + total_sum) % 2 == 1:\n",
    "        return 0\n",
    "    \n",
    "    return count_subsets(num, (s + total_sum) // 2)\n",
    "\n",
    "# this function is exactly similar to what we have in 'Count of Subset Sum' problem\n",
    "def count_subsets(num, sum):\n",
    "    n = len(num)\n",
    "    dp = [0 for x in range(sum + 1)]\n",
    "    dp[0] = 1\n",
    "    \n",
    "    # with only one number, we can form a subset only when the required sum is equal to the number\n",
    "    for s in range(1, sum+1):\n",
    "        dp[s] = 1 if num[0] == s else 0\n",
    "        \n",
    "    # process all subsets for all sums\n",
    "    for i in range(1, n):\n",
    "        for s in range(sum, -1, -1):\n",
    "            if s >= num[i]:\n",
    "                dp[s] += dp[s - num[i]]\n",
    "    \n",
    "    return dp[sum]\n",
    "\n",
    "def main():\n",
    "    print(\"Total ways: \" + str(find_target_subsets([1, 1, 2, 3], 1)))\n",
    "    print(\"Total ways: \" + str(find_target_subsets([1, 2, 7, 1], 9)))\n",
    "\n",
    "main()"
   ]
  }
 ],
 "metadata": {
  "kernelspec": {
   "display_name": "Python 3.7.10 ('base')",
   "language": "python",
   "name": "python3"
  },
  "language_info": {
   "codemirror_mode": {
    "name": "ipython",
    "version": 3
   },
   "file_extension": ".py",
   "mimetype": "text/x-python",
   "name": "python",
   "nbconvert_exporter": "python",
   "pygments_lexer": "ipython3",
   "version": "3.7.10"
  },
  "orig_nbformat": 4,
  "vscode": {
   "interpreter": {
    "hash": "f8b40d688a12481f01eadf7380c47edd8a49484a47dba3db091451640e880c68"
   }
  }
 },
 "nbformat": 4,
 "nbformat_minor": 2
}
