{
 "cells": [
  {
   "cell_type": "markdown",
   "metadata": {},
   "source": [
    "# Insert Interval (medium)"
   ]
  },
  {
   "cell_type": "markdown",
   "metadata": {},
   "source": [
    "### Problem Statement\n",
    "Given a list of non-overlapping intervals sorted by their start time, **insert a given interval at the correct position** and merge all necessary intervals to produce a list that has only mutually exclusive intervals.<br>\n",
    "Leetcode: [57. Insert Interval](https://leetcode.com/problems/insert-interval/)\n",
    "\n",
    "##### Example 1\n",
    "**Input**: Intervals=[[1,3], [5,7], [8,12]], New Interval=[4,6]<br>\n",
    "**Output**: [[1,3], [4,7], [8,12]]<br>\n",
    "**Explanation**: After insertion, since [4,6] overlaps with [5,7], we merged them into one [4,7].<br>\n",
    "\n",
    "##### Example 2\n",
    "**Input**: Intervals=[[1,3], [5,7], [8,12]], New Interval=[4,10]<br>\n",
    "**Output**: [[1,3], [4,12]]<br>\n",
    "**Explanation**: After insertion, since [4,10] overlaps with [5,7] & [8,12], we merged them into [4,12].<br>\n",
    "\n",
    "##### Example 3\n",
    "**Input**: Intervals=[[2,3],[5,7]], New Interval=[1,4]<br>\n",
    "**Output**: [[1,4], [5,7]]<br>\n",
    "**Explanation**: After insertion, since [1,4] overlaps with [2,3], we merged them into one [1,4].<br>"
   ]
  },
  {
   "cell_type": "markdown",
   "metadata": {},
   "source": [
    "### Solution\n",
    "If the given list was not sorted, we could have simply appended the new interval to it and used the method from Merge Intervals.<br>\n",
    "1. Skip all intervals which end before the start of the new interval: intervals[i].end < new Interval.start\n",
    "2. Until finding the last interval 'b' that does not satisfy the above condition. If 'b' overlaps with the new interval (a) (i.e. b.start <= a.end), merge them into a new interval 'c': c.start = min(a.start, b.start) and c.end = max(a.end, b.end)\n",
    "3. Repeat the above two steps to merge 'c' with the next overlapping interval.\n"
   ]
  },
  {
   "cell_type": "code",
   "execution_count": 2,
   "metadata": {},
   "outputs": [
    {
     "name": "stdout",
     "output_type": "stream",
     "text": [
      "Intervals after inserting the new interval: [[1, 3], [4, 7], [8, 12]]\n",
      "Intervals after inserting the new interval: [[1, 3], [4, 12]]\n",
      "Intervals after inserting the new interval: [[1, 4], [5, 7]]\n"
     ]
    }
   ],
   "source": [
    "def insert(intervals, new_interval):\n",
    "    merged = []\n",
    "    i = 0\n",
    "    # skip (and add to output) all intervals that come before the 'new_interval'\n",
    "    while i < len(intervals) and intervals[i][1] < new_interval[0]:\n",
    "        merged.append(intervals[i])\n",
    "        i += 1\n",
    "    \n",
    "    # merge all intervals that overlap with 'new_interval'\n",
    "    while i < len(intervals) and intervals[i][0] <= new_interval[1]:\n",
    "        new_interval[0] = min(new_interval[0], intervals[i][0])\n",
    "        new_interval[1] = max(new_interval[1], intervals[i][1])\n",
    "        i += 1\n",
    "    \n",
    "    # insert the new_interval\n",
    "    merged.append(new_interval)\n",
    "    \n",
    "    # add all the remaining intervals to the output\n",
    "    while i < len(intervals):\n",
    "        merged.append(intervals[i])\n",
    "        i += 1\n",
    "    return merged\n",
    "    \n",
    "def main():\n",
    "  print(\"Intervals after inserting the new interval: \" + str(insert([[1, 3], [5, 7], [8, 12]], [4, 6])))\n",
    "  print(\"Intervals after inserting the new interval: \" + str(insert([[1, 3], [5, 7], [8, 12]], [4, 10])))\n",
    "  print(\"Intervals after inserting the new interval: \" + str(insert([[2, 3], [5, 7]], [1, 4])))\n",
    "\n",
    "main()"
   ]
  },
  {
   "cell_type": "markdown",
   "metadata": {},
   "source": [
    "**Time Complexity**: $O(N)$, where 'N' is the total number of intervals. Because we iterate through all the intervals only once<br>\n",
    "**Space Complexity**: $O(N)$ for the output list containing all the merged intervals."
   ]
  }
 ],
 "metadata": {
  "kernelspec": {
   "display_name": "Python 3.7.10 ('base')",
   "language": "python",
   "name": "python3"
  },
  "language_info": {
   "codemirror_mode": {
    "name": "ipython",
    "version": 3
   },
   "file_extension": ".py",
   "mimetype": "text/x-python",
   "name": "python",
   "nbconvert_exporter": "python",
   "pygments_lexer": "ipython3",
   "version": "3.7.10"
  },
  "orig_nbformat": 4,
  "vscode": {
   "interpreter": {
    "hash": "f8b40d688a12481f01eadf7380c47edd8a49484a47dba3db091451640e880c68"
   }
  }
 },
 "nbformat": 4,
 "nbformat_minor": 2
}
