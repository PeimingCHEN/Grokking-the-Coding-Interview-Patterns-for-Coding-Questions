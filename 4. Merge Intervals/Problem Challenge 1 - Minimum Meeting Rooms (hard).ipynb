{
 "cells": [
  {
   "cell_type": "markdown",
   "metadata": {},
   "source": [
    "# Problem Challenge 1: Minimum Meeting Rooms (hard)"
   ]
  },
  {
   "cell_type": "markdown",
   "metadata": {},
   "source": [
    "### Problem Statement\n",
    "Given a list of intervals representing the start and end time of 'N' meetings, find the **minimum number of rooms** required to **hold all the meetings**.<br>\n",
    "Leetcode: [253. Meeting Rooms II](https://leetcode.com/problems/meeting-rooms-ii/)\n",
    "\n",
    "##### Example 1\n",
    "**Meetings**: [[1,4], [2,5], [7,9]]<br>\n",
    "**Output**: 2<br>\n",
    "**Explanation**: Since [1,4] and [2,5] overlap, we need two rooms to hold these two meetings. [7,9] can occur in any of the two rooms later.<br>\n",
    "\n",
    "##### Example 2\n",
    "**Meetings**: [[6,7], [2,4], [8,12]]<br>\n",
    "**Output**: 1<br>\n",
    "**Explanation**: None of the meetings overlap, therefore we only need one room to hold all meetings.<br>\n",
    "\n",
    "##### Example 3\n",
    "**Meetings**: [[1,4], [2,3], [3,6]]<br>\n",
    "**Output**:2<br>\n",
    "**Explanation**: Since [1,4] overlaps with the other two meetings [2,3] and [3,6], we need two rooms to hold all the meetings.<br>\n",
    "\n",
    "##### Example 4\n",
    "**Meetings**: [[4,5], [2,3], [2,4], [3,5]]<br>\n",
    "**Output**: 2<br>\n",
    "**Explanation**: We will need one room for [2,3] and [3,5], and another room for [2,4] and [4,5]."
   ]
  },
  {
   "cell_type": "markdown",
   "metadata": {},
   "source": [
    "### Solution\n",
    "Keeping track of the mutual exclusiveness of the overlapping meetings means **keeping track of the ending time of all the meetings currently happening**. A **Min Heap** would fit our requirements best.<br>\n",
    "1. Sort all the meetings on their start time.\n",
    "2. Create a min-heap to store all the active meetings. This min-heap will also be used to find the active meeting with the smallest end time.\n",
    "3. Iterate through all the meetings one by one to add them to the min-heap. Let’s say we are trying to schedule the meeting *m1*.\n",
    "4. Since the min-heap contains all the active meetings, before scheduling *m1* we can remove all meetings from the heap that has ended before *m1*, i.e., remove all meetings from the heap that have an end time smaller than or equal to the start time of *m1*.\n",
    "5. Now add *m1* to the heap.\n",
    "6. The heap will always have all the overlapping meetings, so we will need rooms for all of them. Keep a counter to remember the maximum size of the heap at any time which will be the minimum number of rooms needed.<br>\n",
    "\n",
    "\n",
    "**Tips for minHeap**: minHeap will sort all elements from small to big according to the first number of the array. E.g. [[4,6][2,7]] will be sorted automatically to [[2,7], [4,6]], because $2<4$"
   ]
  },
  {
   "cell_type": "code",
   "execution_count": 13,
   "metadata": {},
   "outputs": [
    {
     "name": "stdout",
     "output_type": "stream",
     "text": [
      "Minimum meeting rooms required: 2\n",
      "Minimum meeting rooms required: 1\n",
      "Minimum meeting rooms required: 2\n",
      "Minimum meeting rooms required: 2\n"
     ]
    }
   ],
   "source": [
    "from heapq import *\n",
    "\n",
    "def min_meeting_rooms(meetings):\n",
    "    # sort the meetings by start time\n",
    "    meetings.sort(key=lambda x: x[0])\n",
    "    \n",
    "    minRoom = 0\n",
    "    minHeap = []\n",
    "    for meeting in meetings:\n",
    "      # remove all the meetings that have ended\n",
    "      while len(minHeap) > 0 and meeting[0] >= minHeap[0]:\n",
    "            heappop(minHeap)\n",
    "      # add the current meeting into min_heap\n",
    "      heappush(minHeap, meeting[1])\n",
    "      # all active meetings are in the min_heap, so we need rooms for all of them.\n",
    "      minRoom = max(minRoom, len(minHeap))\n",
    "    return minRoom\n",
    "      \n",
    "\n",
    "def main():\n",
    "  print(\"Minimum meeting rooms required: \" +\n",
    "        str(min_meeting_rooms([[1, 4], [2, 5], [7, 9]])))\n",
    "  print(\"Minimum meeting rooms required: \" +\n",
    "        str(min_meeting_rooms([[6, 7], [2, 4], [8, 12]])))\n",
    "  print(\"Minimum meeting rooms required: \" +\n",
    "        str(min_meeting_rooms([[1, 4], [2, 3], [3, 6]])))\n",
    "  print(\"Minimum meeting rooms required: \" +\n",
    "        str(min_meeting_rooms([[4, 5], [2, 3], [2, 4], [3, 5]])))\n",
    "\n",
    "main()"
   ]
  },
  {
   "cell_type": "markdown",
   "metadata": {},
   "source": [
    "**Time Complexity**: $O(N*logN)$ for sorting the intervals.<br>\n",
    "**Space Complexity**: $O(N)$ for sorting. Also, in the worst case scenario, we’ll have to insert all the meetings into the Min Heap (when all meetings overlap) which will also take $O(N)$ space."
   ]
  }
 ],
 "metadata": {
  "kernelspec": {
   "display_name": "Python 3.7.10 ('base')",
   "language": "python",
   "name": "python3"
  },
  "language_info": {
   "codemirror_mode": {
    "name": "ipython",
    "version": 3
   },
   "file_extension": ".py",
   "mimetype": "text/x-python",
   "name": "python",
   "nbconvert_exporter": "python",
   "pygments_lexer": "ipython3",
   "version": "3.7.10"
  },
  "orig_nbformat": 4,
  "vscode": {
   "interpreter": {
    "hash": "f8b40d688a12481f01eadf7380c47edd8a49484a47dba3db091451640e880c68"
   }
  }
 },
 "nbformat": 4,
 "nbformat_minor": 2
}
