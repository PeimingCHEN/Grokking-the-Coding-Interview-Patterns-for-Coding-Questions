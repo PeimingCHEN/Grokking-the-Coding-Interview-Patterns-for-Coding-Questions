{
 "cells": [
  {
   "cell_type": "markdown",
   "metadata": {},
   "source": [
    "# Conflicting Appointments (medium)"
   ]
  },
  {
   "cell_type": "markdown",
   "metadata": {},
   "source": [
    "### Problem Statement\n",
    "Given an array of intervals representing 'N' appointments, find out if a person can **attend all the appointments**.<br>\n",
    "Leetcode: [252. Meeting Rooms](https://leetcode.com/problems/meeting-rooms/)\n",
    "\n",
    "##### Example 1\n",
    "**Appointments**: [[1,4], [2,5], [7,9]]<br>\n",
    "**Output**: false<br>\n",
    "**Explanation**: Since [1,4] and [2,5] overlap, a person cannot attend both of these appointments.<br>\n",
    "\n",
    "##### Example 2\n",
    "**Appointments**: [[6,7], [2,4], [8,12]]<br>\n",
    "**Output**: true<br>\n",
    "**Explanation**: None of the appointments overlap, therefore a person can attend all of them.<br>\n",
    "\n",
    "##### Example 3\n",
    "**Appointments**: [[4,5], [2,3], [3,6]]<br>\n",
    "**Output**: false<br>\n",
    "**Explanation**: Since [4,5] and [3,6] overlap, a person cannot attend both of these appointments.<br>"
   ]
  },
  {
   "cell_type": "markdown",
   "metadata": {},
   "source": [
    "### Solution\n",
    "Sort all the intervals by start time and then check if any two intervals overlap."
   ]
  },
  {
   "cell_type": "code",
   "execution_count": 1,
   "metadata": {},
   "outputs": [
    {
     "name": "stdout",
     "output_type": "stream",
     "text": [
      "Can attend all appointments: False\n",
      "Can attend all appointments: True\n",
      "Can attend all appointments: False\n"
     ]
    }
   ],
   "source": [
    "def can_attend_all_appointments(intervals):\n",
    "    intervals.sort(key=lambda x: x[0])\n",
    "    for i in range(1, len(intervals)):\n",
    "        if intervals[i][0] < intervals[i-1][1]:\n",
    "            # please note the comparison above, it is \"<\" and not \"<=\"\n",
    "            # while merging we needed \"<=\" comparison, as we will be merging the two\n",
    "            # intervals having condition \"intervals[i][start] == intervals[i - 1][end]\" but\n",
    "            # such intervals don't represent conflicting appointments as one starts right\n",
    "            # after the other\n",
    "            return False\n",
    "    return True\n",
    "\n",
    "def main():\n",
    "    print(\"Can attend all appointments: \" + str(can_attend_all_appointments([[1, 4], [2, 5], [7, 9]])))\n",
    "    print(\"Can attend all appointments: \" + str(can_attend_all_appointments([[6, 7], [2, 4], [8, 12]])))\n",
    "    print(\"Can attend all appointments: \" + str(can_attend_all_appointments([[4, 5], [2, 3], [3, 6]])))\n",
    "\n",
    "main()"
   ]
  },
  {
   "cell_type": "markdown",
   "metadata": {},
   "source": [
    "**Time Complexity**: $O(N*logN)$ for sorting the intervals.<br>\n",
    "**Space Complexity**: $O(N)$ for sorting."
   ]
  }
 ],
 "metadata": {
  "kernelspec": {
   "display_name": "Python 3.7.10 ('base')",
   "language": "python",
   "name": "python3"
  },
  "language_info": {
   "codemirror_mode": {
    "name": "ipython",
    "version": 3
   },
   "file_extension": ".py",
   "mimetype": "text/x-python",
   "name": "python",
   "nbconvert_exporter": "python",
   "pygments_lexer": "ipython3",
   "version": "3.7.10"
  },
  "orig_nbformat": 4,
  "vscode": {
   "interpreter": {
    "hash": "f8b40d688a12481f01eadf7380c47edd8a49484a47dba3db091451640e880c68"
   }
  }
 },
 "nbformat": 4,
 "nbformat_minor": 2
}
