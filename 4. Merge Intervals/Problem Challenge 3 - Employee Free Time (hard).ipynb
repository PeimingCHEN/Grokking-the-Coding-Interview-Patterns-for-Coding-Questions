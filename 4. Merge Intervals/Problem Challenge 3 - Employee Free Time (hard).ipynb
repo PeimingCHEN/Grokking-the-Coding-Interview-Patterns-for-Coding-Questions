{
 "cells": [
  {
   "cell_type": "markdown",
   "metadata": {},
   "source": [
    "# Problem Challenge 3: Employee Free Time (hard)"
   ]
  },
  {
   "cell_type": "markdown",
   "metadata": {},
   "source": [
    "### Problem Statement\n",
    "For 'K' employees, we are given a list of intervals representing the working hours of each employee. Our goal is to find out if there is a **free interval that is common to all employees**. You can assume that each list of employee working hours is sorted on the start time.<br>\n",
    "Leetcode: [759. Employee Free Time](https://leetcode.com/problems/employee-free-time/)\n",
    "\n",
    "##### Example 1\n",
    "**Input**: Employee Working Hours=[[[1,3], [5,6]], [[2,3], [6,8]]]<br>\n",
    "**Output**: [3,5]<br>\n",
    "**Explanation**: Both the employees are free between [3,5].<br>\n",
    "\n",
    "##### Example 2\n",
    "**Input**: Employee Working Hours=[[[1,3], [9,12]], [[2,4]], [[6,8]]]<br>\n",
    "**Output**: [4,6], [8,9]<br>\n",
    "**Explanation**: All employees are free between [4,6] and [8,9].<br>\n",
    "\n",
    "##### Example 3\n",
    "**Input**: Employee Working Hours=[[[1,3]], [[2,4]], [[3,5], [7,9]]]<br>\n",
    "**Output**: [5,7]<br>\n",
    "**Explanation**: All employees are free between [5,7].<br>"
   ]
  },
  {
   "cell_type": "markdown",
   "metadata": {},
   "source": [
    "### Solution\n",
    "One simple solution can be to put all employees' working hours in a list and sort them on the start time. Then we can iterate through the list to find the gaps. This algorithm will take $O(N * logN)$ time for sorting all the intervals. The space complexity will be $O(N)$ for sorting.\n",
    "\n",
    "**Using a Heap to Sort the Intervals**\n",
    "\n",
    "One fact that we are not utilizing is that each employee list is individually sorted!\n",
    "\n",
    "We take the first interval of each employee and insert it in a Min Heap. This Min Heap can always give us the interval with the smallest start time. Once we have the smallest start-time interval, we can then compare it with the next smallest start-time interval (again from the Heap) to find the gap.\n",
    "\n",
    "Whenever we take an interval out of the Min Heap, we can insert the same employee’s next interval. This also means that we need to know which interval belongs to which employee."
   ]
  },
  {
   "cell_type": "code",
   "execution_count": 1,
   "metadata": {},
   "outputs": [
    {
     "name": "stdout",
     "output_type": "stream",
     "text": [
      "Free intervals:  [[3, 5]]\n",
      "\n",
      "Free intervals:  [[4, 6], [8, 9]]\n",
      "\n",
      "Free intervals:  [[5, 7]]\n",
      "\n"
     ]
    }
   ],
   "source": [
    "from heapq import *\n",
    "\n",
    "def find_employee_free_time(schedule):\n",
    "    if schedule is None:\n",
    "        return []\n",
    "\n",
    "    result, minHeap = [], []\n",
    "    \n",
    "    # insert the first interval of each employee to the queue\n",
    "    for i in range(len(schedule)):\n",
    "        for j in range(len(schedule[i])):\n",
    "            heappush(minHeap, [schedule[i][j][0], schedule[i][j][1]])\n",
    "    firstInterval = heappop(minHeap)\n",
    "    global_end = firstInterval[1]\n",
    "    while minHeap:\n",
    "        currentInterval = heappop(minHeap)\n",
    "        # if previousInterval is not overlapping with the currentInterval, insert a free interval\n",
    "        if currentInterval[0] > global_end:\n",
    "            free_interval = [global_end, currentInterval[0]]\n",
    "            result.append(free_interval)\n",
    "        # if there are more intervals available for the same employee, add their next interval\n",
    "        global_end = max(global_end, currentInterval[1])\n",
    "    return result\n",
    "\n",
    "def main():\n",
    "\n",
    "    input = [[[1, 3], [5, 6]], [[2, 3], [6, 8]]]\n",
    "    print(\"Free intervals: \", find_employee_free_time(input))\n",
    "    print()\n",
    "\n",
    "    input = [[[1, 3], [9, 12]], [[2, 4]], [[6, 8]]]\n",
    "    print(\"Free intervals: \", find_employee_free_time(input))\n",
    "    print()\n",
    "\n",
    "    input = [[[1, 3]], [[2, 4]], [[3, 5], [7, 9]]]\n",
    "    print(\"Free intervals: \", find_employee_free_time(input))\n",
    "    print()\n",
    "\n",
    "main() "
   ]
  },
  {
   "cell_type": "markdown",
   "metadata": {},
   "source": [
    "**Time Complexity**: $O(N*logK)$, where 'N' is the total number of intervals, and 'K' is the total number of employees.  This is because we are iterating through the intervals only once (which will take $O(N)$), and every time we process an interval, we remove (and can insert) one interval in the Min Heap, (which will take $O(logK)$). At any time, the heap will not have more than 'K' elements.<br>\n",
    "**Space Complexity**: $O(K)$, the heap will not have more than 'K' elements."
   ]
  }
 ],
 "metadata": {
  "kernelspec": {
   "display_name": "Python 3.7.10 ('base')",
   "language": "python",
   "name": "python3"
  },
  "language_info": {
   "codemirror_mode": {
    "name": "ipython",
    "version": 3
   },
   "file_extension": ".py",
   "mimetype": "text/x-python",
   "name": "python",
   "nbconvert_exporter": "python",
   "pygments_lexer": "ipython3",
   "version": "3.7.10"
  },
  "orig_nbformat": 4,
  "vscode": {
   "interpreter": {
    "hash": "f8b40d688a12481f01eadf7380c47edd8a49484a47dba3db091451640e880c68"
   }
  }
 },
 "nbformat": 4,
 "nbformat_minor": 2
}
