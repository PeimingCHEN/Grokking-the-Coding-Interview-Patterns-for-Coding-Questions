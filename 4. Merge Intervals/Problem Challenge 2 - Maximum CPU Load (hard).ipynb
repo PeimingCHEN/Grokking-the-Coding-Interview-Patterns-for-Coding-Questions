{
 "cells": [
  {
   "cell_type": "markdown",
   "metadata": {},
   "source": [
    "# Problem Challenge 2: Maximum CPU Load (hard)"
   ]
  },
  {
   "cell_type": "markdown",
   "metadata": {},
   "source": [
    "### Problem Statement\n",
    "We are given a list of Jobs. Each job has a Start time, an End time, and a CPU load when it is running. Our goal is to find the **maximum CPU load** at any time if all the **jobs are running on the same machine**.<br>\n",
    "Leetcode: [Find Max Bandwidth](https://leetcode.com/discuss/interview-question/algorithms/124554/Find-Max-Bandwidth)\n",
    "\n",
    "##### Example 1\n",
    "**Jobs**: [[1,4,3], [2,5,4], [7,9,6]]<br>\n",
    "**Output**: 7<br>\n",
    "**Explanation**: Since [1,4,3] and [2,5,4] overlap, their maximum CPU load (3+4=7) will be when both the jobs are running at the same time i.e., during the time interval (2,4).\n",
    "\n",
    "##### Example 2\n",
    "**Jobs**: [[6,7,10], [2,4,11], [8,12,15]]<br>\n",
    "**Output**: 15<br>\n",
    "**Explanation**: None of the jobs overlap, therefore we will take the maximum load of any job which is 15.<br>\n",
    "\n",
    "##### Example 3\n",
    "**Jobs**: [[1,4,2], [2,4,1], [3,6,5]]<br>\n",
    "**Output**: 8<br>\n",
    "**Explanation**: Maximum CPU load will be 8 as all jobs overlap during the time interval [3,4].<br>"
   ]
  },
  {
   "cell_type": "markdown",
   "metadata": {},
   "source": [
    "### Solution\n",
    "The problem follows the Merge Interval pattern and can be converted to Minimum Meeting Rooms, which trying to find the maximum number of meetings happening at any time. We will need to keep a running count of the maximum CPU load at any time to find the overall maximum load."
   ]
  },
  {
   "cell_type": "code",
   "execution_count": 7,
   "metadata": {},
   "outputs": [
    {
     "name": "stdout",
     "output_type": "stream",
     "text": [
      "Maximum CPU load at any time: 9\n",
      "Maximum CPU load at any time: 15\n",
      "Maximum CPU load at any time: 8\n"
     ]
    }
   ],
   "source": [
    "from heapq import *\n",
    "\n",
    "def find_max_cpu_load(jobs):\n",
    "    jobs.sort(key=lambda x: x[0])\n",
    "    max_cpu_load, current_cpu_load = 0, 0\n",
    "    end_time_heap=[]\n",
    "    \n",
    "    for job in jobs:\n",
    "        while len(end_time_heap) > 0 and job[0] >= end_time_heap[0][0]:\n",
    "            current_cpu_load -= end_time_heap[0][1]\n",
    "            heappop(end_time_heap)\n",
    "        heappush(end_time_heap, job[1:])\n",
    "        current_cpu_load += job[2]\n",
    "        max_cpu_load = max(max_cpu_load, current_cpu_load)\n",
    "    return max_cpu_load\n",
    "\n",
    "def main():\n",
    "    print(\"Maximum CPU load at any time: \" + str(find_max_cpu_load([[1, 9, 3], [2, 5, 4], [7, 9, 6]])))\n",
    "    print(\"Maximum CPU load at any time: \" + str(find_max_cpu_load([[6, 7, 10], [2, 4, 11], [8, 12, 15]])))\n",
    "    print(\"Maximum CPU load at any time: \" + str(find_max_cpu_load([[1, 4, 2], [2, 4, 1], [3, 6, 5]])))\n",
    "\n",
    "main()"
   ]
  },
  {
   "cell_type": "markdown",
   "metadata": {},
   "source": [
    "**Time Complexity**: $O(N*logN)$. This is due to the sorting. Also, while iterating the jobs, we need to poll/offer jobs to the priority queue. Each of these operations can take $O(logN)$. Overall our algorithm will take $O(NlogN)$.<br>\n",
    "**Space Complexity**: $O(N)$ for sorting. Also, in the worst case scenario, we’ll have to insert all the jobs into the priority queue (when all jobs  overlap) which will also take $O(N)$ space."
   ]
  }
 ],
 "metadata": {
  "kernelspec": {
   "display_name": "Python 3.7.10 ('base')",
   "language": "python",
   "name": "python3"
  },
  "language_info": {
   "codemirror_mode": {
    "name": "ipython",
    "version": 3
   },
   "file_extension": ".py",
   "mimetype": "text/x-python",
   "name": "python",
   "nbconvert_exporter": "python",
   "pygments_lexer": "ipython3",
   "version": "3.7.10"
  },
  "orig_nbformat": 4,
  "vscode": {
   "interpreter": {
    "hash": "f8b40d688a12481f01eadf7380c47edd8a49484a47dba3db091451640e880c68"
   }
  }
 },
 "nbformat": 4,
 "nbformat_minor": 2
}
