{
 "cells": [
  {
   "cell_type": "markdown",
   "metadata": {},
   "source": [
    "# Intervals Intersection (medium)"
   ]
  },
  {
   "cell_type": "markdown",
   "metadata": {},
   "source": [
    "### Problem Statement\n",
    "Given two lists of intervals, find the **intersection of these two lists**. Each list consists of **disjoint intervals sorted on their start time**.<br>\n",
    "Leetcode: [986. Interval List Intersections](https://leetcode.com/problems/insert-interval/)\n",
    "\n",
    "##### Example 1\n",
    "**Input**: arr1=[[1, 3], [5, 6], [7, 9]], arr2=[[2, 3], [5, 7]]<br>\n",
    "**Output**: [2, 3], [5, 6], [7, 7]<br>\n",
    "**Explanation**: The output list contains the common intervals between the two lists.<br>\n",
    "\n",
    "##### Example 2\n",
    "**Input**: arr1=[[1, 3], [5, 7], [9, 12]], arr2=[[5, 10]]<br>\n",
    "**Output**: [5, 7], [9, 10]<br>\n",
    "**Explanation**: The output list contains the common intervals between the two lists.<br>"
   ]
  },
  {
   "cell_type": "markdown",
   "metadata": {},
   "source": [
    "### Solution\n",
    "whenever the two intervals overlap, one of the interval’s start lies within the other interval.<br>\n",
    "the overlapping interval is equal to: start = max(a.start, b.start) and end = min(a.end, b.end) <br>\n",
    "So our algorithm will be to iterate through both the lists together to see if any two intervals overlap. If two intervals overlap, we will insert the overlapped part into a result list and move on to the next interval which is finishing early."
   ]
  },
  {
   "cell_type": "code",
   "execution_count": 2,
   "metadata": {},
   "outputs": [
    {
     "name": "stdout",
     "output_type": "stream",
     "text": [
      "Intervals Intersection: [[2, 3], [5, 6], [7, 7]]\n",
      "Intervals Intersection: [[5, 7], [9, 10]]\n"
     ]
    }
   ],
   "source": [
    "def merge(intervals_a, intervals_b):\n",
    "    result = []\n",
    "    i, j = 0, 0\n",
    "    \n",
    "    while i < len(intervals_a) and j < len(intervals_b):\n",
    "        # check if intervals overlap and intervals_a[i]'s start time lies within the other intervals_b[j]\n",
    "        a_overlaps_b = intervals_a[i][0] >= intervals_b[j][0] and intervals_a[i][0] <= intervals_b[j][1]\n",
    "        # check if intervals overlap and intervals_b[j]'s start time lies within the other intervals_a[i]\n",
    "        b_overlaps_a = intervals_b[j][0] >= intervals_a[i][0] and intervals_b[j][0] <= intervals_a[i][1]\n",
    "        \n",
    "        # store the intersection part\n",
    "        if a_overlaps_b or b_overlaps_a:\n",
    "            result.append([max(intervals_a[i][0], intervals_b[j][0]), min(intervals_a[i][1], intervals_b[j][1])])\n",
    "            \n",
    "        # move next from the interval which is finishing first\n",
    "        if intervals_a[i][1] < intervals_b[j][1]:\n",
    "            i += 1\n",
    "        else:\n",
    "            j += 1\n",
    "    return result\n",
    "\n",
    "def main():\n",
    "  print(\"Intervals Intersection: \" + str(merge([[1, 3], [5, 6], [7, 9]], [[2, 3], [5, 7]])))\n",
    "  print(\"Intervals Intersection: \" + str(merge([[1, 3], [5, 7], [9, 12]], [[5, 10]])))\n",
    "\n",
    "\n",
    "main()"
   ]
  },
  {
   "cell_type": "markdown",
   "metadata": {},
   "source": [
    "**Time Complexity**: $O(N+M)$, where 'N' and 'M' are the total number of intervals in the input arrays respectively.<br>\n",
    "**Space Complexity**: Ignoring the space needed for the result list, the algorithm runs in constant space $O(1)$."
   ]
  }
 ],
 "metadata": {
  "kernelspec": {
   "display_name": "Python 3.7.10 ('base')",
   "language": "python",
   "name": "python3"
  },
  "language_info": {
   "codemirror_mode": {
    "name": "ipython",
    "version": 3
   },
   "file_extension": ".py",
   "mimetype": "text/x-python",
   "name": "python",
   "nbconvert_exporter": "python",
   "pygments_lexer": "ipython3",
   "version": "3.7.10"
  },
  "orig_nbformat": 4,
  "vscode": {
   "interpreter": {
    "hash": "f8b40d688a12481f01eadf7380c47edd8a49484a47dba3db091451640e880c68"
   }
  }
 },
 "nbformat": 4,
 "nbformat_minor": 2
}
