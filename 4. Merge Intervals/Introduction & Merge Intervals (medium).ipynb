{
 "cells": [
  {
   "cell_type": "markdown",
   "metadata": {},
   "source": [
    "# Introduction & Merge Intervals (medium)"
   ]
  },
  {
   "cell_type": "markdown",
   "metadata": {},
   "source": [
    "An efficient technique to find overlapping intervals or merge intervals if they overlap."
   ]
  },
  {
   "cell_type": "markdown",
   "metadata": {},
   "source": [
    "### Problem Statement\n",
    "Given a list of intervals, **merge all the overlapping intervals** to produce a list that has only mutually exclusive intervals.<br>\n",
    "Leetcode: [56. Merge Intervals](https://leetcode.com/problems/merge-intervals/)\n",
    "\n",
    "##### Example 1\n",
    "**Intervals**: [[1,4], [2,5], [7,9]]<br>\n",
    "**Output**: [[1,5], [7,9]]<br>\n",
    "**Explanation**: Since the first two intervals [1,4] and [2,5] overlap, we merged them into \n",
    "one [1,5].\n",
    "\n",
    "##### Example 2\n",
    "**Intervals**: [[6,7], [2,4], [5,9]]<br>\n",
    "**Output**: [[2,4], [5,9]]<br>\n",
    "**Explanation**: Since the intervals [6,7] and [5,9] overlap, we merged them into one [5,9].<br>\n",
    "\n",
    "##### Example 3\n",
    "**Intervals**: [[1,4], [2,6], [3,5]]<br>\n",
    "**Output**: [[1,6]]<br>\n",
    "**Explanation**: Since all the given intervals overlap, we merged them into one."
   ]
  },
  {
   "cell_type": "markdown",
   "metadata": {},
   "source": [
    "### Solution\n",
    "1. Sort the intervals on the start time to ensure a.start <= b.start\n",
    "2. If 'a' overlaps 'b' (i.e. b.start <= a.end), we need to merge them into a new interval 'c' such that:<br>\n",
    "c.start = a.start and c.end = max(a.end, b.end)\n",
    "3. Repeat the above two steps to merge 'c' with the next interval if it overlaps with 'c'."
   ]
  },
  {
   "cell_type": "code",
   "execution_count": 1,
   "metadata": {},
   "outputs": [
    {
     "name": "stdout",
     "output_type": "stream",
     "text": [
      "Merged intervals: [1, 5][7, 9]\n",
      "Merged intervals: [2, 4][5, 9]\n",
      "Merged intervals: [1, 6]\n"
     ]
    }
   ],
   "source": [
    "class Interval:\n",
    "    def __init__(self, start, end):\n",
    "        self.start = start\n",
    "        self.end = end\n",
    "\n",
    "    def print_interval(self):\n",
    "        print(\"[\" + str(self.start) + \", \" + str(self.end) + \"]\", end='')\n",
    "        \n",
    "\n",
    "def merge(intervals):\n",
    "    if len(intervals) < 2:\n",
    "        return intervals\n",
    "    \n",
    "    # sort the intervals on the start time\n",
    "    intervals.sort(key=lambda x: x.start)\n",
    "    mergedIntervals = []\n",
    "    start = intervals[0].start\n",
    "    end = intervals[0].end\n",
    "    for i in range(1, len(intervals)):\n",
    "        interval = intervals[i]\n",
    "        if interval.start <= end:  # overlapping intervals, adjust the 'end'\n",
    "            end = max(interval.end, end)\n",
    "        else:  # non-overlapping interval, add the previous internval and reset\n",
    "            mergedIntervals.append(Interval(start, end))\n",
    "            start = interval.start\n",
    "            end = interval.end\n",
    "    \n",
    "    # add the last interval\n",
    "    mergedIntervals.append(Interval(start, end))\n",
    "    return mergedIntervals\n",
    "\n",
    "def main():\n",
    "    print(\"Merged intervals: \", end='')\n",
    "    for i in merge([Interval(1, 4), Interval(2, 5), Interval(7, 9)]):\n",
    "        i.print_interval()\n",
    "    print()\n",
    "\n",
    "    print(\"Merged intervals: \", end='')\n",
    "    for i in merge([Interval(6, 7), Interval(2, 4), Interval(5, 9)]):\n",
    "        i.print_interval()\n",
    "    print()\n",
    "\n",
    "    print(\"Merged intervals: \", end='')\n",
    "    for i in merge([Interval(1, 4), Interval(2, 6), Interval(3, 5)]):\n",
    "        i.print_interval()\n",
    "    print()\n",
    "\n",
    "main()"
   ]
  },
  {
   "cell_type": "markdown",
   "metadata": {},
   "source": [
    "**Time Complexity**: $O(N*logN)$, where 'N' is the total number of intervals. Iterating the intervals only once takeS $O(N)$, but sort the intervals takes $O(N*logN)$.<br>\n",
    "**Space Complexity**: $O(N)$ for the output list, and also need $O(N)$ space for sorting. Overall, our algorithm has a space complexity of $O(N)$."
   ]
  }
 ],
 "metadata": {
  "kernelspec": {
   "display_name": "Python 3.7.10 ('base')",
   "language": "python",
   "name": "python3"
  },
  "language_info": {
   "codemirror_mode": {
    "name": "ipython",
    "version": 3
   },
   "file_extension": ".py",
   "mimetype": "text/x-python",
   "name": "python",
   "nbconvert_exporter": "python",
   "pygments_lexer": "ipython3",
   "version": "3.7.10"
  },
  "orig_nbformat": 4,
  "vscode": {
   "interpreter": {
    "hash": "f8b40d688a12481f01eadf7380c47edd8a49484a47dba3db091451640e880c68"
   }
  }
 },
 "nbformat": 4,
 "nbformat_minor": 2
}
