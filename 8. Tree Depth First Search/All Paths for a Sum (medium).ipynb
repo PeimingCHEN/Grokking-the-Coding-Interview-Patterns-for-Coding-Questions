{
 "cells": [
  {
   "cell_type": "markdown",
   "metadata": {},
   "source": [
    "# All Paths for a Sum (medium)"
   ]
  },
  {
   "cell_type": "markdown",
   "metadata": {},
   "source": [
    "### Problem Statement\n",
    "Given a binary tree and a number 'S', find all paths from root-to-leaf such that the sum of all the node values of each path equals 'S'.<br>\n",
    "Leetcode: [113. Path Sum II](https://leetcode.com/problems/path-sum-ii/)\n",
    "\n",
    "##### Example 1\n",
    "**Input**: root = [5,4,8,11,null,13,4,7,2,null,null,5,1], targetSum = 22<br>\n",
    "**Output**: [[5,4,11,2],[5,8,4,5]]<br>\n",
    "**Explanation**: There are two paths whose sum equals targetSum:\n",
    "* 5 + 4 + 11 + 2 = 22\n",
    "* 5 + 8 + 4 + 5 = 22"
   ]
  },
  {
   "cell_type": "markdown",
   "metadata": {},
   "source": [
    "### Solution\n",
    "Two differences from Binary Tree Path Sum pattern:\n",
    "1. Every time we find a root-to-leaf path, we will store it in a list.\n",
    "2. We will traverse all paths and will not stop processing after finding the first path."
   ]
  },
  {
   "cell_type": "code",
   "execution_count": 17,
   "metadata": {},
   "outputs": [
    {
     "name": "stdout",
     "output_type": "stream",
     "text": [
      "Tree paths with required_sum 23: [[12, 7, 4], [12, 1, 10]]\n"
     ]
    }
   ],
   "source": [
    "class TreeNode:\n",
    "    def __init__(self, val, left=None, right=None):\n",
    "        self.val = val\n",
    "        self.left = left\n",
    "        self.right = right\n",
    "        \n",
    "def find_paths(root, required_sum):\n",
    "    all_path = []\n",
    "    find_paths_recursive(root, required_sum, [], all_path)\n",
    "    return all_path\n",
    "\n",
    "def find_paths_recursive(currentNode, required_sum, current_path, all_path):\n",
    "    if not currentNode:\n",
    "        return \n",
    "    \n",
    "    # add the current node to the path\n",
    "    current_path.append(currentNode.val)\n",
    "    # if the current node is a leaf and its value is equal to required_sum, save the current path\n",
    "    if currentNode.val == required_sum and not currentNode.left and not currentNode.right:\n",
    "        # Note: append(current_path) just calls the address of current_path\n",
    "        # append(current_path[:]) or append(list(current_path)) is to copy and save the value of current_path\n",
    "        all_path.append(current_path[:])\n",
    "    else:\n",
    "        # traverse the left sub-tree\n",
    "        find_paths_recursive(currentNode.left, required_sum - currentNode.val, current_path, all_path)\n",
    "        # traverse the right sub-tree\n",
    "        find_paths_recursive(currentNode.right, required_sum - currentNode.val, current_path, all_path)\n",
    "        \n",
    "    # remove the current node from the path to backtrack,\n",
    "    # we need to remove the current node while we are going up the recursive call stack.\n",
    "    del current_path[-1]\n",
    "\n",
    "def main():\n",
    "    root = TreeNode(12)\n",
    "    root.left = TreeNode(7)\n",
    "    root.right = TreeNode(1)\n",
    "    root.left.left = TreeNode(4)\n",
    "    root.right.left = TreeNode(10)\n",
    "    root.right.right = TreeNode(5)\n",
    "    required_sum = 23\n",
    "    print(\"Tree paths with required_sum \" + str(required_sum) +\n",
    "        \": \" + str(find_paths(root, required_sum)))\n",
    "\n",
    "main()"
   ]
  },
  {
   "cell_type": "markdown",
   "metadata": {},
   "source": [
    "**Time Complexity**: $O(N^2)$, where 'N' is the total number of nodes in the tree. This is due to the fact that we traverse each node once (which will take $O(N)$, and for every leaf node, we might have to store its path (by making a copy of the current path) which will take $O(N)$.<br>\n",
    "**Space Complexity**: $O(N*logN)$.<br>\n",
    "If we ignore the space required for the allPaths list, the space complexity of the above algorithm will be $O(N)$ in the worst case. This space will be used to store the recursion stack. The worst-case will happen when the given tree is a linked list (i.e., every node has only one child).\n",
    "\n",
    "If we consider the allPaths arraym, there exists only one path to reach any leaf node, we can easily say that total root-to-leaf paths in a binary tree can’t be more than the number of leaves. As we know that there can’t be more than $(N+1)/2$ leaves in a binary tree, therefore the maximum number of elements in allPaths will be $O((N+1)/2) = O(N)$. Now, each of these paths can have many nodes in them. For a balanced binary tree, each leaf node will be at maximum depth. As we know that the depth (or height) of a balanced binary tree is $O(logN)$ we can say that, at the most, each path can have $log(N)$ nodes in it. This means that the total size of the allPaths list will be $O(N*logN)$. If the tree is not balanced, we will still have the same worst-case space complexity.\n",
    "\n",
    "Also, from the above discussion, since for each leaf node, in the worst case, we have to copy $log(N) nodes to store its path; therefore, the time complexity of our algorithm will also be $O(N*logN)$."
   ]
  }
 ],
 "metadata": {
  "kernelspec": {
   "display_name": "Python 3.7.10 ('base')",
   "language": "python",
   "name": "python3"
  },
  "language_info": {
   "codemirror_mode": {
    "name": "ipython",
    "version": 3
   },
   "file_extension": ".py",
   "mimetype": "text/x-python",
   "name": "python",
   "nbconvert_exporter": "python",
   "pygments_lexer": "ipython3",
   "version": "3.7.10"
  },
  "orig_nbformat": 4,
  "vscode": {
   "interpreter": {
    "hash": "f8b40d688a12481f01eadf7380c47edd8a49484a47dba3db091451640e880c68"
   }
  }
 },
 "nbformat": 4,
 "nbformat_minor": 2
}
