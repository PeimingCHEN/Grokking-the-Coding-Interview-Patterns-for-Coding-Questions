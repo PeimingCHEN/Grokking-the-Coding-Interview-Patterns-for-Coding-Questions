{
 "cells": [
  {
   "cell_type": "markdown",
   "metadata": {},
   "source": [
    "# Introduction & Binary Tree Path Sum (easy)"
   ]
  },
  {
   "cell_type": "markdown",
   "metadata": {},
   "source": [
    "This pattern is based on the Depth First Search (DFS) technique to traverse a tree.<br>\n",
    "\n",
    "We will be using **recursion** (or we can also use a stack for the iterative approach) to keep track of all the previous (parent) nodes while traversing. This also means that the space complexity of the algorithm will be $O(H)$, where 'H' is the maximum height of the tree."
   ]
  },
  {
   "cell_type": "markdown",
   "metadata": {},
   "source": [
    "### Problem Statement\n",
    "Given a binary tree and a number 'S', find if the tree has a path from root-to-leaf such that the sum of all the node values of that path equals 'S'.<br>\n",
    "Leetcode: [112. Path Sum](https://leetcode.com/problems/path-sum/)\n",
    "\n",
    "##### Example 1\n",
    "**Input**: root = [5,4,8,11,null,13,4,7,2,null,null,null,1], targetSum = 22<br>\n",
    "**Output**: true"
   ]
  },
  {
   "cell_type": "markdown",
   "metadata": {},
   "source": [
    "### Solution\n",
    "As we are trying to search for a root-to-leaf path, we can use the Depth First Search (DFS) technique to solve this problem.\n",
    "\n",
    "To **recursively traverse** a binary tree in a DFS fashion, we can **start from the root and at every step, make two recursive calls one for the left and one for the right child**.\n",
    "\n",
    "1. Start DFS with the root of the tree.\n",
    "2. If the current node is not a leaf node, do two things:\n",
    "* Subtract the value of the current node from the given number to get a new sum => *S = S - node.value*\n",
    "* Make two recursive calls for both the children of the current node with the new number calculated in the previous step.\n",
    "3. At every step, see if the current node being visited is a leaf node and if its value is equal to the given number 'S'. If both these conditions are true, we have found the required root-to-leaf path, therefore return true.\n",
    "4. If the current node is a leaf but its value is not equal to the given number 'S', return false."
   ]
  },
  {
   "cell_type": "code",
   "execution_count": 1,
   "metadata": {},
   "outputs": [
    {
     "name": "stdout",
     "output_type": "stream",
     "text": [
      "Tree has path: True\n",
      "Tree has path: False\n"
     ]
    }
   ],
   "source": [
    "class TreeNode:\n",
    "    def __init__(self, val, left=None, right=None):\n",
    "        self.val = val\n",
    "        self.left = left\n",
    "        self.right = right\n",
    "\n",
    "def has_path(root, sum):\n",
    "    if not root:\n",
    "        return False\n",
    "    \n",
    "    # if the current node is a leaf and its value is equal to the sum, we've found a path\n",
    "    if root.val == sum and not root.left and not root.right:\n",
    "        return True\n",
    "    \n",
    "    # recursively call to traverse the left and right sub-tree\n",
    "    # return true if any of the two recursive call return true\n",
    "    return has_path(root.left, sum - root.val) or has_path(root.right, sum - root.val)\n",
    "\n",
    "def main():\n",
    "    root = TreeNode(12)\n",
    "    root.left = TreeNode(7)\n",
    "    root.right = TreeNode(1)\n",
    "    root.left.left = TreeNode(9)\n",
    "    root.right.left = TreeNode(10)\n",
    "    root.right.right = TreeNode(5)\n",
    "    print(\"Tree has path: \" + str(has_path(root, 23)))\n",
    "    print(\"Tree has path: \" + str(has_path(root, 16)))\n",
    "\n",
    "main()"
   ]
  },
  {
   "cell_type": "markdown",
   "metadata": {},
   "source": [
    "**Time Complexity**: $O(N)$, where 'N' is the total number of nodes in the tree. This is due to the fact that we traverse each node once.<br>\n",
    "**Space Complexity**: $O(N)$ in the worst case. This space will be used to store the recursion stack. The worst case will happen when the given tree is a linked list (i.e., every node has only one child)."
   ]
  }
 ],
 "metadata": {
  "kernelspec": {
   "display_name": "Python 3.7.10 ('base')",
   "language": "python",
   "name": "python3"
  },
  "language_info": {
   "codemirror_mode": {
    "name": "ipython",
    "version": 3
   },
   "file_extension": ".py",
   "mimetype": "text/x-python",
   "name": "python",
   "nbconvert_exporter": "python",
   "pygments_lexer": "ipython3",
   "version": "3.7.10"
  },
  "orig_nbformat": 4,
  "vscode": {
   "interpreter": {
    "hash": "f8b40d688a12481f01eadf7380c47edd8a49484a47dba3db091451640e880c68"
   }
  }
 },
 "nbformat": 4,
 "nbformat_minor": 2
}
