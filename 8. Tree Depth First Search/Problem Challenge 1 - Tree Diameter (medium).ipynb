{
 "cells": [
  {
   "cell_type": "markdown",
   "metadata": {},
   "source": [
    "# Problem Challenge 1 - Tree Diameter (medium)"
   ]
  },
  {
   "cell_type": "markdown",
   "metadata": {},
   "source": [
    "### Problem Statement\n",
    "Given a binary tree, find the length of its diameter. The diameter of a tree is the number of nodes on the longest path between any two leaf nodes. The diameter of a tree may or may not pass through the root.<br>\n",
    "Note: You can always assume that there are at least two leaf nodes in the given tree.<br>\n",
    "Leetcode: [543. Diameter of Binary Tree](https://leetcode.com/problems/diameter-of-binary-tree/)"
   ]
  },
  {
   "cell_type": "markdown",
   "metadata": {},
   "source": [
    "### Solution\n",
    "Differences from Binary Tree Path Sum pattern:\n",
    "1. At every step, we need to find the height of both children of the current node. For this, we will make two recursive calls similar to DFS.\n",
    "2. The height of the current node will be equal to the maximum of the heights of its left or right children, plus ‘1’ for the current node.\n",
    "3. The tree diameter at the current node will be equal to the height of the left child plus the height of the right child plus ‘1’ for the current node: *diameter = leftTreeHeight + rightTreeHeight + 1*$*. To find the overall tree diameter, we will use a class level variable. This variable will store the maximum diameter of all the nodes visited so far, hence, eventually, it will have the final tree diameter."
   ]
  },
  {
   "cell_type": "code",
   "execution_count": 2,
   "metadata": {},
   "outputs": [
    {
     "name": "stdout",
     "output_type": "stream",
     "text": [
      "Tree Diameter: 5\n",
      "Tree Diameter: 7\n"
     ]
    }
   ],
   "source": [
    "class TreeNode:\n",
    "    def __init__(self, val, left=None, right=None):\n",
    "        self.val = val\n",
    "        self.left = left\n",
    "        self.right = right\n",
    "\n",
    "class TreeDiameter:\n",
    "    def __init__(self) -> None:\n",
    "        self.treeDiameter = 0\n",
    "    \n",
    "    def find_diameter(self, root):\n",
    "        self.calculate_height(root)\n",
    "        return self.treeDiameter\n",
    "    \n",
    "    def calculate_height(self, currentNode):\n",
    "        if not currentNode:\n",
    "            return 0\n",
    "        \n",
    "        leftTreeHeight = self.calculate_height(currentNode.left)\n",
    "        rightTreeHeight = self.calculate_height(currentNode.right)\n",
    "        \n",
    "        # if the current node doesn't have a left or right subtree, we can't have\n",
    "        # a path passing through it, since we need a leaf node on each side\n",
    "        if leftTreeHeight != 0 and rightTreeHeight != 0:\n",
    "            diameter = leftTreeHeight + rightTreeHeight + 1\n",
    "            \n",
    "            # update the global tree diameter\n",
    "            self.treeDiameter = max(self.treeDiameter, diameter)\n",
    "            \n",
    "        # height of the current node will be equal to the maximum of the heights of\n",
    "        # left or right subtrees plus '1' for the current node\n",
    "        return max(leftTreeHeight, rightTreeHeight) + 1\n",
    "    \n",
    "def main():\n",
    "    treeDiameter = TreeDiameter()\n",
    "    root = TreeNode(1)\n",
    "    root.left = TreeNode(2)\n",
    "    root.right = TreeNode(3)\n",
    "    root.left.left = TreeNode(4)\n",
    "    root.right.left = TreeNode(5)\n",
    "    root.right.right = TreeNode(6)\n",
    "    print(\"Tree Diameter: \" + str(treeDiameter.find_diameter(root)))\n",
    "    root.left.left = None\n",
    "    root.right.left.left = TreeNode(7)\n",
    "    root.right.left.right = TreeNode(8)\n",
    "    root.right.right.left = TreeNode(9)\n",
    "    root.right.left.right.left = TreeNode(10)\n",
    "    root.right.right.left.left = TreeNode(11)\n",
    "    print(\"Tree Diameter: \" + str(treeDiameter.find_diameter(root)))\n",
    "\n",
    "main()\n",
    "    "
   ]
  },
  {
   "cell_type": "markdown",
   "metadata": {},
   "source": [
    "**Time Complexity**: $O(N)$, where 'N' is the total number of nodes in the tree. This is due to the fact that we traverse each node once.<br>\n",
    "**Space Complexity**: $O(N)$ in the worst case. This space will be used to store the recursion stack. The worst case will happen when the given tree is a linked list (i.e., every node has only one child)."
   ]
  }
 ],
 "metadata": {
  "kernelspec": {
   "display_name": "Python 3.7.10 ('base')",
   "language": "python",
   "name": "python3"
  },
  "language_info": {
   "codemirror_mode": {
    "name": "ipython",
    "version": 3
   },
   "file_extension": ".py",
   "mimetype": "text/x-python",
   "name": "python",
   "nbconvert_exporter": "python",
   "pygments_lexer": "ipython3",
   "version": "3.7.10"
  },
  "orig_nbformat": 4,
  "vscode": {
   "interpreter": {
    "hash": "f8b40d688a12481f01eadf7380c47edd8a49484a47dba3db091451640e880c68"
   }
  }
 },
 "nbformat": 4,
 "nbformat_minor": 2
}
