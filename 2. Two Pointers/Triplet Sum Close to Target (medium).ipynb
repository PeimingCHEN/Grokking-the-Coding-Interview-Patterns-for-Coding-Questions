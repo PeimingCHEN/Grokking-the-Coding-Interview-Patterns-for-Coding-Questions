{
 "cells": [
  {
   "cell_type": "markdown",
   "metadata": {},
   "source": [
    "# Triplet Sum Close to Target (medium)"
   ]
  },
  {
   "cell_type": "markdown",
   "metadata": {},
   "source": [
    "### Problem Statement\n",
    "Given an array of unsorted numbers and a target number, find a **triplet in the array whose sum is as close to the target number as possible**, return the sum of the triplet. If there are more than one such triplet, return the sum of the triplet with the smallest sum.<br>\n",
    "Leetcode: [16. 3Sum Closest](https://leetcode.com/problems/3sum-closest/)\n",
    "\n",
    "##### Example 1\n",
    "**Input**: [-2, 0, 1, 2], target=2<br>\n",
    "**Output**: 1<br>\n",
    "**Explanation**: The triplet [-2, 1, 2] has the closest sum to the target.<br>\n",
    "\n",
    "##### Example 2\n",
    "**Input**: [-3, -1, 1, 2], target=1<br>\n",
    "**Output**: 0<br>\n",
    "**Explanation**: The triplet [-3, 1, 2] has the closest sum to the target.<br>\n",
    "\n",
    "##### Example 3\n",
    "**Input**: [1, 0, 1, 1], target=100<br>\n",
    "**Output**: 3<br>\n",
    "**Explanation**: The triplet [1, 1, 1] has the closest sum to the target.<br>"
   ]
  },
  {
   "cell_type": "markdown",
   "metadata": {},
   "source": [
    "### Solution\n",
    "At every step, save the difference between the triplet and the target number."
   ]
  },
  {
   "cell_type": "code",
   "execution_count": 2,
   "metadata": {},
   "outputs": [
    {
     "name": "stdout",
     "output_type": "stream",
     "text": [
      "1\n",
      "0\n",
      "3\n"
     ]
    }
   ],
   "source": [
    "import math\n",
    "\n",
    "def triplet_sum_close_to_target(arr, target_sum):\n",
    "    arr.sort()\n",
    "    smallest_difference = math.inf\n",
    "    for i in range(len(arr)):\n",
    "        if i > 0 and arr[i] == arr[i-1]:  # skip same element to avoid duplicate triplets\n",
    "            continue\n",
    "        left = i + 1\n",
    "        right = len(arr) - 1\n",
    "        while left < right:\n",
    "            target_diff = target_sum - arr[i] - arr[left] - arr[right]\n",
    "            if target_diff == 0:  # we've found a triplet with an exact sum\n",
    "                return target_sum  # return sum of all the numbers\n",
    "            \n",
    "            # the second part of the following 'if' is to handle the smallest sum when we have more than one solution\n",
    "            if abs(target_diff) < abs(smallest_difference) or (abs(target_diff) == abs(smallest_difference) and target_diff > smallest_difference):\n",
    "                smallest_difference = target_diff\n",
    "                \n",
    "            if target_diff > 0:\n",
    "                left += 1  # we need a triplet with a bigger sum\n",
    "            else:\n",
    "                right -= 1  # we need a triplet with a smaller sum\n",
    "    return target_sum - smallest_difference\n",
    "\n",
    "def main():\n",
    "  print(triplet_sum_close_to_target([-2, 0, 1, 2], 2))\n",
    "  print(triplet_sum_close_to_target([-3, -1, 1, 2], 1))\n",
    "  print(triplet_sum_close_to_target([1, 0, 1, 1], 100))\n",
    "\n",
    "main()"
   ]
  },
  {
   "cell_type": "markdown",
   "metadata": {},
   "source": [
    "**Time Complexity**: $O(N^2)$. Sorting the array will take $O(N*logN)$, and the two pointer function will take $O(N)$ for every element in the input array, so the whole algorithm will take $O(N*logN+N^2)$, which is asymptotically equivalent to $O(N^2)$.<br>\n",
    "**Space Complexity**: $O(N)$ for sorting the array."
   ]
  }
 ],
 "metadata": {
  "kernelspec": {
   "display_name": "Python 3.7.10 ('base')",
   "language": "python",
   "name": "python3"
  },
  "language_info": {
   "codemirror_mode": {
    "name": "ipython",
    "version": 3
   },
   "file_extension": ".py",
   "mimetype": "text/x-python",
   "name": "python",
   "nbconvert_exporter": "python",
   "pygments_lexer": "ipython3",
   "version": "3.7.10"
  },
  "orig_nbformat": 4,
  "vscode": {
   "interpreter": {
    "hash": "f8b40d688a12481f01eadf7380c47edd8a49484a47dba3db091451640e880c68"
   }
  }
 },
 "nbformat": 4,
 "nbformat_minor": 2
}
