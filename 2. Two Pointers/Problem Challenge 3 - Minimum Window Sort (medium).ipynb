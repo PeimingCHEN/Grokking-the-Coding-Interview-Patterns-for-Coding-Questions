{
 "cells": [
  {
   "cell_type": "markdown",
   "metadata": {},
   "source": [
    "# Problem Challenge 3: Minimum Window Sort (medium)"
   ]
  },
  {
   "cell_type": "markdown",
   "metadata": {},
   "source": [
    "### Problem Statement\n",
    "Given an array, find the length of the smallest subarray in it which when sorted will sort the whole array.<br>\n",
    "Leetcode: [581. Shortest Unsorted Continuous Subarray](https://leetcode.com/problems/shortest-unsorted-continuous-subarray/)\n",
    "\n",
    "##### Example 1\n",
    "**Input**: [1, 2, 5, 3, 7, 10, 9, 12]<br>\n",
    "**Output**: 5<br>\n",
    "**Explanation**: We need to sort only the subarray [5, 3, 7, 10, 9] to make the whole array sorted<br>\n",
    "\n",
    "##### Example 2\n",
    "**Input**: [1, 3, 2, 0, -1, 7, 10]<br>\n",
    "**Output**: 5<br>\n",
    "**Explanation**: We need to sort only the subarray [1, 3, 2, 0, -1] to make the whole array sorted<br>\n",
    "\n",
    "##### Example 3\n",
    "**Input**: [1, 2, 3]<br>\n",
    "**Output**: 0<br>\n",
    "**Explanation**: The array is already sorted<br>\n",
    "\n",
    "##### Example 4\n",
    "**Input**: [3, 2, 1]<br>\n",
    "**Output**: 3<br>\n",
    "**Explanation**: The whole array needs to be sorted.<br>"
   ]
  },
  {
   "cell_type": "markdown",
   "metadata": {},
   "source": [
    "### Solution\n",
    "To sort the whole array we need to include all such elements that are smaller than the biggest element of the subarray.<br>\n",
    "1. From the beginning and end of the array, find the first elements that are out of the sorting order. The two elements will be our candidate subarray.<br>\n",
    "**ATTENTION! Remember to extend the subarray;** otherwise, the maximum of the subarray may be bigger than some elements at the end of the array, which is similar to the beginning of the array. <br>\n",
    "2. Find the maximum and minimum of this subarray.<br>\n",
    "3. Extend the subarray from the beginning to include any number which is bigger than the minimum of the subarray.<br>\n",
    "4. Similarly, extend the subarray from the end to include any number which is smaller than the maximum of the subarray.<br>"
   ]
  },
  {
   "cell_type": "code",
   "execution_count": 1,
   "metadata": {},
   "outputs": [
    {
     "name": "stdout",
     "output_type": "stream",
     "text": [
      "5\n",
      "5\n",
      "0\n",
      "3\n"
     ]
    }
   ],
   "source": [
    "import math\n",
    "\n",
    "def shortest_window_sort(arr):\n",
    "    low, high = 0, len(arr) - 1\n",
    "    # find the first number out of sorting order from the beginning\n",
    "    while low < len(arr) - 1 and arr[low] <= arr[low+1]:\n",
    "        low += 1\n",
    "    if low == len(arr) - 1:  # if the array is sorted\n",
    "        return 0\n",
    "    \n",
    "    # find the first number out of sorting order from the end\n",
    "    while high > 0 and arr[high] >= arr[high-1]:\n",
    "        high -= 1\n",
    "        \n",
    "    # find the maximum and minimum of the subarray\n",
    "    subarray_max = -math.inf\n",
    "    subarray_min = math.inf\n",
    "    for i in range(low, high+1):\n",
    "        subarray_max = max(subarray_max, arr[i])\n",
    "        subarray_min = min(subarray_min, arr[i])\n",
    "\n",
    "    # extend the subarray to include any number which is bigger than the minimum of the subarray\n",
    "    while low > 0 and arr[low-1] > subarray_min:\n",
    "        low -= 1\n",
    "    # extend the subarray to include any number which is smaller than the maximum of the subarray\n",
    "    while high < len(arr) - 1 and arr[high+1] < subarray_max:\n",
    "        high += 1\n",
    "    \n",
    "    return high - low + 1\n",
    "\n",
    "def main():\n",
    "  print(shortest_window_sort([1, 2, 5, 3, 7, 10, 9, 12]))\n",
    "  print(shortest_window_sort([1, 3, 2, 0, -1, 7, 10]))\n",
    "  print(shortest_window_sort([1, 2, 3]))\n",
    "  print(shortest_window_sort([3, 2, 1]))\n",
    "\n",
    "main()"
   ]
  },
  {
   "cell_type": "markdown",
   "metadata": {},
   "source": [
    "**Time Complexity**: $O(N)$<br>\n",
    "**Space Complexity**: $O(1)$"
   ]
  }
 ],
 "metadata": {
  "kernelspec": {
   "display_name": "Python 3.7.10 ('base')",
   "language": "python",
   "name": "python3"
  },
  "language_info": {
   "codemirror_mode": {
    "name": "ipython",
    "version": 3
   },
   "file_extension": ".py",
   "mimetype": "text/x-python",
   "name": "python",
   "nbconvert_exporter": "python",
   "pygments_lexer": "ipython3",
   "version": "3.7.10"
  },
  "orig_nbformat": 4,
  "vscode": {
   "interpreter": {
    "hash": "f8b40d688a12481f01eadf7380c47edd8a49484a47dba3db091451640e880c68"
   }
  }
 },
 "nbformat": 4,
 "nbformat_minor": 2
}
