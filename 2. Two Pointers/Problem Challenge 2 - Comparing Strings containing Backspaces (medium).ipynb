{
 "cells": [
  {
   "cell_type": "markdown",
   "metadata": {},
   "source": [
    "# Problem Challenge 2: Comparing Strings containing Backspaces (medium)"
   ]
  },
  {
   "cell_type": "markdown",
   "metadata": {},
   "source": [
    "### Problem Statement\n",
    "Given two strings containing backspaces (identified by the character '#'), check if the two strings are equal.<br>\n",
    "Leetcode: [844. Backspace String Compare](https://leetcode.com/problems/backspace-string-compare/)\n",
    "\n",
    "##### Example 1\n",
    "**Input**: str1=\"xy#z\", str2=\"xzz#\"<br>\n",
    "**Output**: true<br>\n",
    "**Explanation**: After applying backspaces the strings become \"xz\" and \"xz\" respectively.<br>\n",
    "\n",
    "##### Example 2\n",
    "**Input**: str1=\"xy#z\", str2=\"xyz#\"<br>\n",
    "**Output**: false<br>\n",
    "**Explanation**: After applying backspaces the strings become \"xz\" and \"xy\" respectively.<br>\n",
    "\n",
    "##### Example 3\n",
    "**Input**: str1=\"xp#\", str2=\"xyz##\" <br>\n",
    "**Output**: true<br>\n",
    "**Explanation**: After applying backspaces the strings become \"x\" and \"x\" respectively.\n",
    "In \"xyz##\", the first '#' removes the character 'z' and the second '#' removes the character 'y'.<br>\n",
    "\n",
    "##### Example 4\n",
    "**Input**: str1=\"xywrrmp\", str2=\"xywrrmu#p\"<br>\n",
    "**Output**: true<br>\n",
    "**Explanation**: After applying backspaces the strings become \"xywrrmp\" and \"xywrrmp\" respectively.<br>"
   ]
  },
  {
   "cell_type": "markdown",
   "metadata": {},
   "source": [
    "### Solution\n",
    "1. Use separate pointers, pointing to the last element of two strings.<br>\n",
    "2. Compare the characters pointed out by both the pointers to see if the strings are equal.<br>\n",
    "3. If the character is a backspace ('#'), skip and apply the backspace until  a valid character available for comparison.<br>"
   ]
  },
  {
   "cell_type": "code",
   "execution_count": 1,
   "metadata": {},
   "outputs": [
    {
     "name": "stdout",
     "output_type": "stream",
     "text": [
      "True\n",
      "False\n",
      "True\n",
      "True\n"
     ]
    }
   ],
   "source": [
    "def backspace_compare(str1, str2):\n",
    "    # use two pointer approach to compare the strings\n",
    "    pointer1 = len(str1) - 1\n",
    "    pointer2 = len(str2) - 1\n",
    "    while pointer1 >= 0 and pointer2 >= 0:\n",
    "        index_1 = get_next_valid_char_index(str1, pointer1)\n",
    "        index_2 = get_next_valid_char_index(str2, pointer2)\n",
    "        if index_1 < 0 and index_2 < 0:  # reached the end of both the strings\n",
    "            return True\n",
    "        if index_1 < 0 or index_2 < 0:  # reached the end of one of the strings\n",
    "            return False\n",
    "        if str1[index_1] != str2[index_2]:  # check if the characters are equal\n",
    "            return False\n",
    "        pointer1 = index_1 - 1\n",
    "        pointer2 = index_2 - 1\n",
    "    return True\n",
    "\n",
    "def get_next_valid_char_index(str, pointer):\n",
    "    backspace_count = 0\n",
    "    while pointer >= 0:\n",
    "        if str[pointer] == '#':  # found a backspace character\n",
    "            backspace_count += 1\n",
    "        elif backspace_count > 0:  # a non-backspace character\n",
    "            backspace_count -= 1\n",
    "        else:\n",
    "            break\n",
    "        pointer -= 1  # skip a backspace or a valid character\n",
    "    return pointer\n",
    "\n",
    "def main():\n",
    "  print(backspace_compare(\"xy#z\", \"xzz#\"))\n",
    "  print(backspace_compare(\"xy#z\", \"xyz#\"))\n",
    "  print(backspace_compare(\"xp#\", \"xyz##\"))\n",
    "  print(backspace_compare(\"xywrrmp\", \"xywrrmu#p\"))\n",
    "\n",
    "main()"
   ]
  },
  {
   "cell_type": "markdown",
   "metadata": {},
   "source": [
    "**Time Complexity**: $O(M+N)$, where 'M' and 'N' are the lengths of the two input strings respectively.<br>\n",
    "**Space Complexity**: $O(1)$"
   ]
  }
 ],
 "metadata": {
  "kernelspec": {
   "display_name": "Python 3.7.10 ('base')",
   "language": "python",
   "name": "python3"
  },
  "language_info": {
   "codemirror_mode": {
    "name": "ipython",
    "version": 3
   },
   "file_extension": ".py",
   "mimetype": "text/x-python",
   "name": "python",
   "nbconvert_exporter": "python",
   "pygments_lexer": "ipython3",
   "version": "3.7.10"
  },
  "orig_nbformat": 4,
  "vscode": {
   "interpreter": {
    "hash": "f8b40d688a12481f01eadf7380c47edd8a49484a47dba3db091451640e880c68"
   }
  }
 },
 "nbformat": 4,
 "nbformat_minor": 2
}
