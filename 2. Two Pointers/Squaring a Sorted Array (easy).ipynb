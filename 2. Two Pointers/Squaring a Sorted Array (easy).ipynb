{
 "cells": [
  {
   "cell_type": "markdown",
   "metadata": {},
   "source": [
    "# Squaring a Sorted Array (easy)"
   ]
  },
  {
   "cell_type": "markdown",
   "metadata": {},
   "source": [
    "### Problem Statement\n",
    "Given a sorted array, create a new array containing **squares of all the numbers of the input array** in the sorted order.<br>\n",
    "Leetcode: [977. Squares of a Sorted Array](https://leetcode.com/problems/squares-of-a-sorted-array/)\n",
    "\n",
    "##### Example 1\n",
    "**Input**: [-2, -1, 0, 2, 3]<br>\n",
    "**Output**: [0, 1, 4, 4, 9]<br>\n",
    "\n",
    "##### Example 2\n",
    "**Input**: [-3, -1, 0, 1, 2]<br>\n",
    "**Output**: [0, 1, 1, 4, 9]<br>"
   ]
  },
  {
   "cell_type": "markdown",
   "metadata": {},
   "source": [
    "### Solution\n",
    "Trick: have negative numbers in the input array, which will make it difficult to generate the output array with squares in sorted order.<br>\n",
    "1. Find the index of the first non-negative number in the array.<br>\n",
    "2. Use Two Pointers to iterate the array, one pointer will move forward to iterate the non-negative numbers, and the other pointer will move backward to iterate the negative numbers.<br>\n",
    "3. At any step, whichever number has a bigger square will be added to the output array.<br>\n",
    "\n",
    "### Alternate Approach\n",
    "Numbers at both ends can give us the largest square.<br>\n",
    "1. Use two pointers starting at both ends of the input array.<br>\n",
    "2. At any step, whichever pointer has the bigger square will be added to the end of result array and the pointer will move to the next/previous number.<br>"
   ]
  },
  {
   "cell_type": "code",
   "execution_count": 3,
   "metadata": {},
   "outputs": [
    {
     "name": "stdout",
     "output_type": "stream",
     "text": [
      "Squares: [0, 1, 4, 4, 9]\n",
      "Squares: [0, 1, 1, 4, 9]\n"
     ]
    }
   ],
   "source": [
    "def make_squares(arr):\n",
    "    n = len(arr)\n",
    "    squares = [0] * n\n",
    "    highestSquareIdx = n - 1\n",
    "    left, right = 0, n-1\n",
    "    while left <= right:\n",
    "        left_square = arr[left] ** 2\n",
    "        right_square = arr[right] ** 2\n",
    "        if left_square >right_square:\n",
    "            # add bigger square to the end of the result list\n",
    "            squares[highestSquareIdx] = left_square\n",
    "            left += 1\n",
    "        else:\n",
    "            squares[highestSquareIdx] = right_square\n",
    "            right -=1\n",
    "        highestSquareIdx -= 1\n",
    "    return squares\n",
    "\n",
    "def main():\n",
    "\n",
    "  print(\"Squares: \" + str(make_squares([-2, -1, 0, 2, 3])))\n",
    "  print(\"Squares: \" + str(make_squares([-3, -1, 0, 1, 2])))\n",
    "\n",
    "main()"
   ]
  },
  {
   "cell_type": "markdown",
   "metadata": {},
   "source": [
    "**Time Complexity**: $O(N)$, where 'N' is the total number of elements in the input array.<br>\n",
    "**Space Complexity**: $O(N)$ for the output array."
   ]
  }
 ],
 "metadata": {
  "kernelspec": {
   "display_name": "Python 3.7.10 ('base')",
   "language": "python",
   "name": "python3"
  },
  "language_info": {
   "codemirror_mode": {
    "name": "ipython",
    "version": 3
   },
   "file_extension": ".py",
   "mimetype": "text/x-python",
   "name": "python",
   "nbconvert_exporter": "python",
   "pygments_lexer": "ipython3",
   "version": "3.7.10"
  },
  "orig_nbformat": 4,
  "vscode": {
   "interpreter": {
    "hash": "f8b40d688a12481f01eadf7380c47edd8a49484a47dba3db091451640e880c68"
   }
  }
 },
 "nbformat": 4,
 "nbformat_minor": 2
}
