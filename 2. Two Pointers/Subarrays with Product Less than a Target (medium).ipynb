{
 "cells": [
  {
   "cell_type": "markdown",
   "metadata": {},
   "source": [
    "# Subarrays with Product Less than a Target (medium)"
   ]
  },
  {
   "cell_type": "markdown",
   "metadata": {},
   "source": [
    "### Problem Statement\n",
    "Given an array with positive numbers and a positive target number, find all of its contiguous subarrays whose **product is less than the target number**.<br>\n",
    "Leetcode: [713. Subarray Product Less Than K](https://leetcode.com/problems/subarray-product-less-than-k/)\n",
    "\n",
    "##### Example 1\n",
    "**Input**: [2, 5, 3, 10], target=30 <br>\n",
    "**Output**: [2], [5], [2, 5], [3], [5, 3], [10]<br>\n",
    "**Explanation**: There are six contiguous subarrays whose product is less than the target.<br>\n",
    "\n",
    "##### Example 2\n",
    "**Input**: [8, 2, 6, 5], target=50 <br>\n",
    "**Output**: [8], [2], [8, 2], [6], [2, 6], [5], [6, 5] <br>\n",
    "**Explanation**: There are seven contiguous subarrays whose product is less than the target.<br>"
   ]
  },
  {
   "cell_type": "markdown",
   "metadata": {},
   "source": [
    "### Solution\n",
    "This problem follows the Sliding Window and the Two Pointers pattern."
   ]
  },
  {
   "cell_type": "code",
   "execution_count": 3,
   "metadata": {},
   "outputs": [
    {
     "name": "stdout",
     "output_type": "stream",
     "text": [
      "[[2], [5], [2, 5], [3], [5, 3], [10]]\n",
      "[[8], [2], [8, 2], [6], [2, 6], [5], [6, 5]]\n"
     ]
    }
   ],
   "source": [
    "from collections import deque  # 双向队列\n",
    "\n",
    "def find_subarrays(arr, target):\n",
    "    result = []\n",
    "    product = 1\n",
    "    left = 0\n",
    "    for right in range(len(arr)):\n",
    "        product *= arr[right]\n",
    "        while product >= target and left <= right:\n",
    "            product /= arr[left]\n",
    "            left += 1\n",
    "        # since the product of all numbers from left to right is less than the target, \n",
    "        # all subarrays from left to right will have a product less than the target too; to avoid\n",
    "        # duplicates, we will start with a subarray containing only arr[right] and then extend it\n",
    "        temp_list = deque()\n",
    "        for i in range(right, left-1, -1):\n",
    "            temp_list.appendleft(arr[i])\n",
    "            result.append(list(temp_list))\n",
    "    return result\n",
    "    \n",
    "def main():\n",
    "  print(find_subarrays([2, 5, 3, 10], 30))\n",
    "  print(find_subarrays([8, 2, 6, 5], 50))\n",
    "\n",
    "main()"
   ]
  },
  {
   "cell_type": "markdown",
   "metadata": {},
   "source": [
    "**Time Complexity**: $O(N^3)$. The main for-loop managing the sliding window takes $O(N)$ but creating subarrays can take up to $O(N^2)$ in the worst case.<br>\n",
    "**Space Complexity**: $O(N)$ for the temp list, $O(n^2)$ for the output lists ($n + (n-1) + (n-2) + ... 3 + 2 + 1 = n*(n+1)/2$)."
   ]
  }
 ],
 "metadata": {
  "kernelspec": {
   "display_name": "Python 3.7.10 ('base')",
   "language": "python",
   "name": "python3"
  },
  "language_info": {
   "codemirror_mode": {
    "name": "ipython",
    "version": 3
   },
   "file_extension": ".py",
   "mimetype": "text/x-python",
   "name": "python",
   "nbconvert_exporter": "python",
   "pygments_lexer": "ipython3",
   "version": "3.7.10"
  },
  "orig_nbformat": 4,
  "vscode": {
   "interpreter": {
    "hash": "f8b40d688a12481f01eadf7380c47edd8a49484a47dba3db091451640e880c68"
   }
  }
 },
 "nbformat": 4,
 "nbformat_minor": 2
}
