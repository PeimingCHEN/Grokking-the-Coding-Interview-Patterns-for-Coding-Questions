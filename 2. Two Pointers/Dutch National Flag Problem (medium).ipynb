{
 "cells": [
  {
   "cell_type": "markdown",
   "metadata": {},
   "source": [
    "# Dutch National Flag Problem (medium)"
   ]
  },
  {
   "cell_type": "markdown",
   "metadata": {},
   "source": [
    "### Problem Statement\n",
    "Given an array containing 0s, 1s and 2s, sort the array in-place. You should treat numbers of the array as objects, hence, we can’t count 0s, 1s, and 2s to recreate the array.<br>\n",
    "Leetcode: [75. Sort Colors](https://leetcode.com/problems/sort-colors/)\n",
    "\n",
    "##### Example 1\n",
    "**Input**: [1, 0, 2, 1, 0]<br>\n",
    "**Output**: [0, 0, 1, 1, 2]<br>\n",
    "\n",
    "##### Example 2\n",
    "**Input**: [2, 2, 0, 1, 2, 0]<br>\n",
    "**Output**: [0, 0, 1, 2, 2, 2,]<br>"
   ]
  },
  {
   "cell_type": "markdown",
   "metadata": {},
   "source": [
    "### Brute Force\n",
    "Use an in-place sorting algorithm like Heapsort which will take $O(N*logN)$"
   ]
  },
  {
   "cell_type": "markdown",
   "metadata": {},
   "source": [
    "### Solution\n",
    "1. Use two pointers called low and high pointing to the first and the last element of the array.\n",
    "2. While iterating, move all 0s before low and all 2s after high so that in the end, all 1s will be between low and high."
   ]
  },
  {
   "cell_type": "code",
   "execution_count": 1,
   "metadata": {},
   "outputs": [
    {
     "name": "stdout",
     "output_type": "stream",
     "text": [
      "[0, 0, 1, 1, 2]\n",
      "[0, 0, 1, 2, 2, 2]\n"
     ]
    }
   ],
   "source": [
    "def dutch_flag_sort(arr):\n",
    "    # all elements < low are 0, and all elements > high are 2\n",
    "    # all elements from >= low < i are 1\n",
    "    low, high = 0, len(arr) - 1\n",
    "    i = 0\n",
    "    while i <= high:\n",
    "        if arr[i] == 0:\n",
    "            arr[i], arr[low] = arr[low], arr[i]\n",
    "            # increment 'i' and 'low'\n",
    "            i += 1\n",
    "            low += 1\n",
    "        elif arr[i] == 1:\n",
    "            i += 1\n",
    "        else:  # the case for arr[i] == 2\n",
    "            arr[i], arr[high] = arr[high], arr[i]\n",
    "            # decrement 'high' only, after the swap the number at index 'i' could be 0, 1 or 2\n",
    "            high -= 1\n",
    "\n",
    "def main():\n",
    "  arr = [1, 0, 2, 1, 0]\n",
    "  dutch_flag_sort(arr)\n",
    "  print(arr)\n",
    "\n",
    "  arr = [2, 2, 0, 1, 2, 0]\n",
    "  dutch_flag_sort(arr)\n",
    "  print(arr)\n",
    "\n",
    "main()      \n",
    "     "
   ]
  },
  {
   "cell_type": "markdown",
   "metadata": {},
   "source": [
    "**Time Complexity**: $O(N)$ for iterating the input array once.<br>\n",
    "**Space Complexity**: $O(1)$"
   ]
  }
 ],
 "metadata": {
  "kernelspec": {
   "display_name": "Python 3.7.10 ('base')",
   "language": "python",
   "name": "python3"
  },
  "language_info": {
   "codemirror_mode": {
    "name": "ipython",
    "version": 3
   },
   "file_extension": ".py",
   "mimetype": "text/x-python",
   "name": "python",
   "nbconvert_exporter": "python",
   "pygments_lexer": "ipython3",
   "version": "3.7.10"
  },
  "orig_nbformat": 4,
  "vscode": {
   "interpreter": {
    "hash": "f8b40d688a12481f01eadf7380c47edd8a49484a47dba3db091451640e880c68"
   }
  }
 },
 "nbformat": 4,
 "nbformat_minor": 2
}
