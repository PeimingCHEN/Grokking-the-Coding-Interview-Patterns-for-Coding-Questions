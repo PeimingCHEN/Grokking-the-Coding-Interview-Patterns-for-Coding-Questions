{
 "cells": [
  {
   "cell_type": "markdown",
   "metadata": {},
   "source": [
    "# Triplets with Smaller Sum (medium)"
   ]
  },
  {
   "cell_type": "markdown",
   "metadata": {},
   "source": [
    "### Problem Statement\n",
    "Given an array arr of unsorted numbers and a target sum, **count all triplets** in it such that arr[i] + arr[j] + arr[k] < target where i, j, and k are three different indices. Write a function to return the count of such triplets.<br>\n",
    "Leetcode: [259. 3Sum Smaller](https://leetcode.com/problems/3sum-smaller/)\n",
    "\n",
    "##### Example 1\n",
    "**Input**: [-1, 0, 2, 3], target=3<br>\n",
    "**Output**: 2<br>\n",
    "**Explanation**: There are two triplets whose sum is less than the target: [-1, 0, 3], [-1, 0, 2]<br>\n",
    "\n",
    "##### Example 2\n",
    "**Input**: [-1, 4, 2, 1, 3], target=5 <br>\n",
    "**Output**: 4<br>\n",
    "**Explanation**: There are four triplets whose sum is less than the target: [-1, 1, 4], [-1, 1, 3], [-1, 1, 2], [-1, 2, 3]<br>"
   ]
  },
  {
   "cell_type": "markdown",
   "metadata": {},
   "source": [
    "### Solution\n",
    "Find the triplets whose sum is less than the target.\n",
    "1. Sort the array and then iterate through it taking one number at a time.\n",
    "2. At each number 'X', find a pair whose sum is less than the target (Y + Z < target - X)."
   ]
  },
  {
   "cell_type": "code",
   "execution_count": 1,
   "metadata": {},
   "outputs": [
    {
     "name": "stdout",
     "output_type": "stream",
     "text": [
      "2\n",
      "4\n"
     ]
    }
   ],
   "source": [
    "def triplet_with_smaller_sum(arr, target):\n",
    "    arr.sort()\n",
    "    count = 0\n",
    "    for i in range(len(arr)):\n",
    "        if i > 0 and arr[i] == arr[i-1]:\n",
    "            continue\n",
    "        count += search_pair(arr, target - arr[i], i)\n",
    "    return count\n",
    "\n",
    "def search_pair(arr, target_sum, first_index):\n",
    "    count = 0\n",
    "    left, right = first_index + 1, len(arr) - 1\n",
    "    while left < right:\n",
    "        if arr[left] + arr[right] < target_sum:\n",
    "            count += right - left\n",
    "            left += 1\n",
    "        else:\n",
    "            right -= 1\n",
    "    return count\n",
    "\n",
    "def main():\n",
    "  print(triplet_with_smaller_sum([-1, 0, 2, 3], 3))\n",
    "  print(triplet_with_smaller_sum([-1, 4, 2, 1, 3], 5))\n",
    "\n",
    "main()"
   ]
  },
  {
   "cell_type": "markdown",
   "metadata": {},
   "source": [
    "**Time Complexity**: $O(N^2)$. Sorting the array will take $O(N*logN)$, and the searchPair() function will take $O(N)$ for every element in the input array, so the whole algorithm will take $O(N*logN+N^2)$, which is asymptotically equivalent to $O(N^2)$.<br>\n",
    "**Space Complexity**: $O(N)$ for sorting the array."
   ]
  },
  {
   "cell_type": "markdown",
   "metadata": {},
   "source": [
    "# Similar Problems"
   ]
  },
  {
   "cell_type": "markdown",
   "metadata": {},
   "source": [
    "### Problem Statement\n",
    "Write a function to return the list of all such triplets instead of the count. How will the time complexity change in this case?<br>"
   ]
  },
  {
   "cell_type": "code",
   "execution_count": 2,
   "metadata": {},
   "outputs": [
    {
     "name": "stdout",
     "output_type": "stream",
     "text": [
      "[[-1, 0, 2], [-1, 0, 3]]\n",
      "[[-1, 1, 2], [-1, 1, 3], [-1, 1, 4], [-1, 2, 3]]\n"
     ]
    }
   ],
   "source": [
    "def triplet_with_smaller_sum(arr, target):\n",
    "    arr.sort()\n",
    "    triplets = []\n",
    "    for i in range(len(arr)):\n",
    "        if i > 0 and arr[i] == arr[i-1]:\n",
    "            continue\n",
    "        search_pair(arr, target - arr[i], i, triplets)\n",
    "    return triplets\n",
    "\n",
    "def search_pair(arr, target_sum, first_index, triplets):\n",
    "    left, right = first_index + 1, len(arr) - 1\n",
    "    while left < right:\n",
    "        if arr[left] + arr[right] < target_sum:\n",
    "            for i in range(left + 1, right + 1):\n",
    "                triplets.append([arr[first_index], arr[left], arr[i]])\n",
    "            left += 1\n",
    "        else:\n",
    "            right -= 1\n",
    "\n",
    "def main():\n",
    "  print(triplet_with_smaller_sum([-1, 0, 2, 3], 3))\n",
    "  print(triplet_with_smaller_sum([-1, 4, 2, 1, 3], 5))\n",
    "\n",
    "main()"
   ]
  },
  {
   "cell_type": "markdown",
   "metadata": {},
   "source": [
    "**Time Complexity**: $O(N^3)$. Sorting the array will take $O(N*logN)$, and the searchPair() function will take $O(N^2)$; the main while loop will run in $O(N)$ but the nested for loop can also take $O(N)$, so the whole algorithm will take $O(N*logN+N^3)$, which is asymptotically equivalent to $O(N^3)$.<br>\n",
    "**Space Complexity**: $O(N)$ for sorting the array."
   ]
  }
 ],
 "metadata": {
  "kernelspec": {
   "display_name": "Python 3.7.10 ('base')",
   "language": "python",
   "name": "python3"
  },
  "language_info": {
   "codemirror_mode": {
    "name": "ipython",
    "version": 3
   },
   "file_extension": ".py",
   "mimetype": "text/x-python",
   "name": "python",
   "nbconvert_exporter": "python",
   "pygments_lexer": "ipython3",
   "version": "3.7.10"
  },
  "orig_nbformat": 4,
  "vscode": {
   "interpreter": {
    "hash": "f8b40d688a12481f01eadf7380c47edd8a49484a47dba3db091451640e880c68"
   }
  }
 },
 "nbformat": 4,
 "nbformat_minor": 2
}
