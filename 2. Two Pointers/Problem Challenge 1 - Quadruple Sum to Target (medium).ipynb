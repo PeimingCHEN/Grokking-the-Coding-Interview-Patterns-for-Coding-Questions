{
 "cells": [
  {
   "cell_type": "markdown",
   "metadata": {},
   "source": [
    "# Problem Challenge 1: Quadruple Sum to Target (medium)"
   ]
  },
  {
   "cell_type": "markdown",
   "metadata": {},
   "source": [
    "### Problem Statement\n",
    "Given an array of unsorted numbers and a target number, find all **unique quadruplets** in it, whose **sum is equal to the target number**.<br>\n",
    "Leetcode: [18. 4Sum](https://leetcode.com/problems/4sum/)\n",
    "\n",
    "##### Example 1\n",
    "**Input**: [4, 1, 2, -1, 1, -3], target=1 <br>\n",
    "**Output**: [-3, -1, 1, 4], [-3, 1, 1, 2] <br>\n",
    "**Explanation**: Both the quadruplets add up to the target. <br>\n",
    "\n",
    "##### Example 2\n",
    "**Input**: [2, 0, -1, 1, -2, 2], target=2<br>\n",
    "**Output**: [-2, 0, 2, 2], [-1, 0, 1, 2]<br>\n",
    "**Explanation**: Both the quadruplets add up to the target.<br>"
   ]
  },
  {
   "cell_type": "markdown",
   "metadata": {},
   "source": [
    "### Solution\n",
    "This problem follows the Two Pointers pattern and shares similarities with Triplet Sum to Zero.\n",
    "1. Sort the array and then iterate through it taking one number at a time.\n",
    "2. Search for the quadruplets similar to Triplet Sum to Zero whose sum is equal to the given target."
   ]
  },
  {
   "cell_type": "code",
   "execution_count": 1,
   "metadata": {},
   "outputs": [
    {
     "name": "stdout",
     "output_type": "stream",
     "text": [
      "[[-3, -1, 1, 4], [-3, 1, 1, 2]]\n",
      "[[-2, 0, 2, 2], [-1, 0, 1, 2]]\n"
     ]
    }
   ],
   "source": [
    "def search_quadruplets(arr, target):\n",
    "    arr.sort()\n",
    "    quadruplets = []\n",
    "    for i in range(len(arr)-3):\n",
    "        # skip same element to avoid duplicate quadruplets\n",
    "        if i > 0 and arr[i] == arr[i-1]:\n",
    "            continue\n",
    "        for j in range(i+1, len(arr)-2):\n",
    "            # skip same element to avoid duplicate quadruplets\n",
    "            if j > i+1 and arr[j] == arr[j-1]:\n",
    "                continue\n",
    "            search_pairs(arr, target, i, j, quadruplets)\n",
    "    return quadruplets\n",
    "\n",
    "def search_pairs(arr, target, first_index, second_index, quadruplets):\n",
    "    left = second_index + 1\n",
    "    right = len(arr) - 1\n",
    "    while left < right:\n",
    "        quad_sum = arr[first_index] + arr[second_index] + arr[left] + arr[right]\n",
    "        if quad_sum == target:  # found the quadruplet\n",
    "            quadruplets.append([arr[first_index], arr[second_index], arr[left], arr[right]])\n",
    "            left += 1\n",
    "            right -= 1\n",
    "            while left < right and arr[left] == arr[left - 1]:\n",
    "                left += 1  # skip same element to avoid duplicate quadruplets\n",
    "            while left <right and arr[right] == arr[right + 1]:\n",
    "                right -= 1  # skip same element to avoid duplicate quadruplets\n",
    "        elif quad_sum < target:\n",
    "            left += 1  # we need a pair with a bigger sum\n",
    "        else:\n",
    "            right -= 1  # we need a pair with a smaller sum\n",
    "\n",
    "def main():\n",
    "  print(search_quadruplets([4, 1, 2, -1, 1, -3], 1))\n",
    "  print(search_quadruplets([2, 0, -1, 1, -2, 2], 2))\n",
    "\n",
    "main()"
   ]
  },
  {
   "cell_type": "markdown",
   "metadata": {},
   "source": [
    "**Time Complexity**: $O(N^3)$. Sorting the array will take $O(N*logN)$, and Overall function will take $O(N * logN + N^3)$, which is asymptotically equivalent to $O(N^3)$.<br>\n",
    "**Space Complexity**: $O(N)$ for sorting the array."
   ]
  }
 ],
 "metadata": {
  "kernelspec": {
   "display_name": "Python 3.7.10 ('base')",
   "language": "python",
   "name": "python3"
  },
  "language_info": {
   "codemirror_mode": {
    "name": "ipython",
    "version": 3
   },
   "file_extension": ".py",
   "mimetype": "text/x-python",
   "name": "python",
   "nbconvert_exporter": "python",
   "pygments_lexer": "ipython3",
   "version": "3.7.10"
  },
  "orig_nbformat": 4,
  "vscode": {
   "interpreter": {
    "hash": "f8b40d688a12481f01eadf7380c47edd8a49484a47dba3db091451640e880c68"
   }
  }
 },
 "nbformat": 4,
 "nbformat_minor": 2
}
