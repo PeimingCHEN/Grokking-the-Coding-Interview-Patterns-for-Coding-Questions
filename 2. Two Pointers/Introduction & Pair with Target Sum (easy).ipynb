{
 "cells": [
  {
   "cell_type": "markdown",
   "metadata": {},
   "source": [
    "# Introduction & Pair with Target Sum (easy)\n",
    "When dealing with **sorted** arrays (or LinkedLists), find a set of elements that fulfill certain constraints. The set of elements could be a pair, a triplet or even a subarray."
   ]
  },
  {
   "cell_type": "markdown",
   "metadata": {},
   "source": [
    "### Problem Statement\n",
    "Given an array of sorted numbers and a target sum, find a pair in the array whose sum is equal to the given target.<br>\n",
    "Leetcode: [1. Two Sum](https://leetcode.com/problems/two-sum/)\n",
    "\n",
    "##### Example 1\n",
    "**Input**: [1, 2, 3, 4, 6], target=6<br>\n",
    "**Output**: [1, 3]<br>\n",
    "**Explanation**: The numbers at index 1 and 3 add up to 6: 2+4=6<br>\n",
    "\n",
    "##### Example 2\n",
    "**Input**: [2, 5, 9, 11], target=11<br>\n",
    "**Output**: [0, 2]<br>\n",
    "**Explanation**: The numbers at index 0 and 2 add up to 11: 2+9=11<br>"
   ]
  },
  {
   "cell_type": "markdown",
   "metadata": {},
   "source": [
    "### Brute Force\n",
    "consider each element one by one (pointed out by the first pointer) and iterate through the remaining elements (pointed out by the second pointer) to find a pair with the given sum.\n"
   ]
  },
  {
   "cell_type": "code",
   "execution_count": 2,
   "metadata": {},
   "outputs": [
    {
     "name": "stdout",
     "output_type": "stream",
     "text": [
      "[1, 3]\n",
      "[0, 2]\n"
     ]
    }
   ],
   "source": [
    "def pair_with_targetsum(arr, target_sum):\n",
    "    for i in range(len(arr)):\n",
    "        for j in range(i, len(arr)):\n",
    "            if arr[i] + arr[j] == target_sum:\n",
    "                return [i, j]\n",
    "    return [-1, -1]\n",
    "\n",
    "def main():\n",
    "  print(pair_with_targetsum([1, 2, 3, 4, 6], 6))\n",
    "  print(pair_with_targetsum([2, 5, 9, 11], 11))\n",
    "\n",
    "main()"
   ]
  },
  {
   "cell_type": "markdown",
   "metadata": {},
   "source": [
    "**Time Complexity**: $O(N^2)$, where 'N' is the number of elements in the input array.<br>\n",
    "**Space Complexity**: $O(1)$."
   ]
  },
  {
   "cell_type": "markdown",
   "metadata": {},
   "source": [
    "### Two Pointers\n",
    "1. Start with one pointer pointing to the beginning of the array and another pointing at the end.<br>\n",
    "2. At every step, add up the numbers pointed by the two pointers.<br>\n",
    "3. If the sum of the two numbers is greater than the target sum, this means that we need a pair with a smaller sum. So, we can decrement the end-pointer.\n",
    "4. If the sum of the two numbers is smaller than the target sum, this means that we need a pair with a larger sum. So, we can increment the start-pointer."
   ]
  },
  {
   "cell_type": "code",
   "execution_count": 3,
   "metadata": {},
   "outputs": [
    {
     "name": "stdout",
     "output_type": "stream",
     "text": [
      "[1, 3]\n",
      "[0, 2]\n"
     ]
    }
   ],
   "source": [
    "def pair_with_targetsum(arr, target_sum):\n",
    "    left, right = 0, len(arr) - 1\n",
    "    while left < right:\n",
    "        current_sum = arr[left] + arr[right]\n",
    "        if current_sum == target_sum:\n",
    "            return [left, right]\n",
    "        if target_sum > current_sum:\n",
    "            left += 1  # we need a pair with a bigger sum\n",
    "        else:\n",
    "            right -= 1  # we need a pair with a smaller sum\n",
    "    return [-1, -1]\n",
    "\n",
    "def main():\n",
    "  print(pair_with_targetsum([1, 2, 3, 4, 6], 6))\n",
    "  print(pair_with_targetsum([2, 5, 9, 11], 11))\n",
    "\n",
    "main()"
   ]
  },
  {
   "cell_type": "markdown",
   "metadata": {},
   "source": [
    "**Time Complexity**: $O(N)$, where 'N' is the number of elements in the given array.<br>\n",
    "**Space Complexity**: $O(1)$."
   ]
  },
  {
   "cell_type": "markdown",
   "metadata": {},
   "source": [
    "### HashTable\n",
    "1. Iterate through the array one number 'X' at a time.\n",
    "2. Search for 'Y' (which is equivalent to 'Target - X') in the HashTable. If it is there, we have found the required pair.\n",
    "3. Otherwise, insert 'X' in the HashTable, so that we can search it for the later numbers."
   ]
  },
  {
   "cell_type": "code",
   "execution_count": 4,
   "metadata": {},
   "outputs": [
    {
     "name": "stdout",
     "output_type": "stream",
     "text": [
      "[1, 3]\n",
      "[0, 2]\n"
     ]
    }
   ],
   "source": [
    "def pair_with_targetsum(arr, target_sum):\n",
    "    nums = {}  # to store numbers and their indices\n",
    "    for i, num in enumerate(arr):\n",
    "        if target_sum - num in nums:\n",
    "            return [nums[target_sum - num], i]\n",
    "        else:\n",
    "            nums[arr[i]] = i\n",
    "    return [-1, -1]\n",
    "\n",
    "def main():\n",
    "  print(pair_with_targetsum([1, 2, 3, 4, 6], 6))\n",
    "  print(pair_with_targetsum([2, 5, 9, 11], 11))\n",
    "\n",
    "main()"
   ]
  },
  {
   "cell_type": "markdown",
   "metadata": {},
   "source": [
    "**Time Complexity**: $O(N)$, where 'N' is the number of elements in the given array.<br>\n",
    "**Space Complexity**: $O(N)$, as, in the worst case, we will be pushing 'N' numbers in the HashTable."
   ]
  }
 ],
 "metadata": {
  "kernelspec": {
   "display_name": "Python 3.7.10 ('base')",
   "language": "python",
   "name": "python3"
  },
  "language_info": {
   "codemirror_mode": {
    "name": "ipython",
    "version": 3
   },
   "file_extension": ".py",
   "mimetype": "text/x-python",
   "name": "python",
   "nbconvert_exporter": "python",
   "pygments_lexer": "ipython3",
   "version": "3.7.10"
  },
  "orig_nbformat": 4,
  "vscode": {
   "interpreter": {
    "hash": "f8b40d688a12481f01eadf7380c47edd8a49484a47dba3db091451640e880c68"
   }
  }
 },
 "nbformat": 4,
 "nbformat_minor": 2
}
