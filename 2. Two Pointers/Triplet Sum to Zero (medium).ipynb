{
 "cells": [
  {
   "cell_type": "markdown",
   "metadata": {},
   "source": [
    "# Triplet Sum to Zero (medium)"
   ]
  },
  {
   "cell_type": "markdown",
   "metadata": {},
   "source": [
    "### Problem Statement\n",
    "Given an array of unsorted numbers, find all **unique triplets in it that add up to zero**.<br>\n",
    "Leetcode: [15. 3Sum](https://leetcode.com/problems/3sum/)\n",
    "\n",
    "##### Example 1\n",
    "**Input**: [-3, 0, 1, 2, -1, 1, -2]<br>\n",
    "**Output**: [-3, 1, 2], [-2, 0, 2], [-2, 1, 1], [-1, 0, 1]<br>\n",
    "**Explanation**: There are four unique triplets whose sum is equal to zero.<br>\n",
    "\n",
    "##### Example 2\n",
    "**Input**: [-5, 2, -1, -2, 3]<br>\n",
    "**Output**: [[-5, 2, 3], [-2, -1, 3]]<br>\n",
    "**Explanation**: There are two unique triplets whose sum is equal to zero.<br>"
   ]
  },
  {
   "cell_type": "markdown",
   "metadata": {},
   "source": [
    "### Solution\n",
    "Differences with Pair with Target Sum: 1) The input array is not sorted; 2) needs to find triplets; 3) skip any duplicate number to find all the unique triplets. <br>\n",
    "1. Sort the array and then iterate through it taking one number at a time.\n",
    "2. At each number 'X', find a pair whose sum is '-X' (Y + Z = -X)."
   ]
  },
  {
   "cell_type": "code",
   "execution_count": 2,
   "metadata": {},
   "outputs": [
    {
     "name": "stdout",
     "output_type": "stream",
     "text": [
      "[[-3, 1, 2], [-2, 0, 2], [-2, 1, 1], [-1, 0, 1]]\n",
      "[[-5, 2, 3], [-2, -1, 3]]\n"
     ]
    }
   ],
   "source": [
    "def search_triplets(arr):\n",
    "    arr.sort()\n",
    "    triplets = []\n",
    "    for i in range(len(arr)):\n",
    "        if i > 0 and arr[i] == arr[i-1]:  # skip same element to avoid duplicate triplets\n",
    "            continue\n",
    "        search_pair(arr, i, triplets)\n",
    "    return triplets\n",
    "\n",
    "def search_pair(arr, i, triplets):\n",
    "    target_sum = -arr[i]\n",
    "    left = i + 1\n",
    "    right = len(arr) - 1\n",
    "    while left < right:\n",
    "        current_sum = arr[left] + arr[right]  # found the triplet\n",
    "        if current_sum == target_sum:\n",
    "            triplets.append([arr[i], arr[left], arr[right]])\n",
    "            left += 1\n",
    "            right -= 1\n",
    "            # Notice!\n",
    "            while left < right and arr[left] == arr[left-1]:\n",
    "                left += 1  # skip same element to avoid duplicate triplets\n",
    "            while left < right and arr[right] == arr[right+1]:\n",
    "                right -= 1  # skip same element to avoid duplicate triplets\n",
    "            \n",
    "        elif current_sum > target_sum:\n",
    "            right -= 1  # need a pair with a smaller sum\n",
    "        else:\n",
    "            left += 1  # need a pair with a bigger sum\n",
    "\n",
    "def main():\n",
    "  print(search_triplets([-3, 0, 1, 2, -1, 1, -2]))\n",
    "  print(search_triplets([-5, 2, -1, -2, 3]))\n",
    "\n",
    "main()"
   ]
  },
  {
   "cell_type": "markdown",
   "metadata": {},
   "source": [
    "**Time Complexity**: $O(N^2)$. Sorting the array will take $O(N*logN)$, and the searchPair() function will take $O(N)$ for every element in the input array, so the whole algorithm will take $O(N*logN+N^2)$, which is asymptotically equivalent to $O(N^2)$.<br>\n",
    "**Space Complexity**: $O(N)$ for sorting the array."
   ]
  }
 ],
 "metadata": {
  "kernelspec": {
   "display_name": "Python 3.7.10 ('base')",
   "language": "python",
   "name": "python3"
  },
  "language_info": {
   "codemirror_mode": {
    "name": "ipython",
    "version": 3
   },
   "file_extension": ".py",
   "mimetype": "text/x-python",
   "name": "python",
   "nbconvert_exporter": "python",
   "pygments_lexer": "ipython3",
   "version": "3.7.10"
  },
  "orig_nbformat": 4,
  "vscode": {
   "interpreter": {
    "hash": "f8b40d688a12481f01eadf7380c47edd8a49484a47dba3db091451640e880c68"
   }
  }
 },
 "nbformat": 4,
 "nbformat_minor": 2
}
