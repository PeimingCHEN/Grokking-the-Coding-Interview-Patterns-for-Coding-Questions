{
 "cells": [
  {
   "cell_type": "markdown",
   "metadata": {},
   "source": [
    "# Remove Duplicates (easy)"
   ]
  },
  {
   "cell_type": "markdown",
   "metadata": {},
   "source": [
    "### Problem Statement\n",
    "Given an array of sorted numbers, remove all duplicate number instances from it in-place, such that each element appears only once. The relative order of the elements should be kept the same and you should **not use any extra space** so that that the solution have a space complexity of O(1).<br>\n",
    "Leetcode: [26. Remove Duplicates from Sorted Array](https://leetcode.com/problems/remove-duplicates-from-sorted-array/)\n",
    "\n",
    "##### Example 1\n",
    "**Input**: [2, 3, 3, 3, 6, 9, 9]<br>\n",
    "**Output**: 4<br>\n",
    "**Explanation**: The first four elements after removing the duplicates will be [2, 3, 6, 9].<br>\n",
    "\n",
    "##### Example 2\n",
    "**Input**: [2, 2, 2, 11]<br>\n",
    "**Output**: 2<br>\n",
    "**Explanation**: The first two elements after removing the duplicates will be [2, 11].<br>"
   ]
  },
  {
   "cell_type": "markdown",
   "metadata": {},
   "source": [
    "### Solution\n",
    "Separate the duplicates in-place such that the resultant length of the array remains sorted.<br>\n",
    "1. Keep one pointer for iterating the array and one pointer for placing the next non-duplicate number.<br>\n",
    "2. Iterate the array, and move the non-duplicate number next to the last non-duplicate number, which means shifting the duplicate elements left."
   ]
  },
  {
   "cell_type": "code",
   "execution_count": 1,
   "metadata": {},
   "outputs": [
    {
     "name": "stdout",
     "output_type": "stream",
     "text": [
      "4\n",
      "2\n"
     ]
    }
   ],
   "source": [
    "def remove_duplicates(arr):\n",
    "    # index of the next non-duplicate element\n",
    "    next_non_duplicate = 1\n",
    "    for i in range(len(arr)):\n",
    "        if arr[next_non_duplicate - 1] != arr[i]:\n",
    "            arr[next_non_duplicate] = arr[i]\n",
    "            next_non_duplicate += 1\n",
    "    return next_non_duplicate\n",
    "\n",
    "def main():\n",
    "  print(remove_duplicates([2, 3, 3, 3, 6, 9, 9]))\n",
    "  print(remove_duplicates([2, 2, 2, 11]))\n",
    "\n",
    "main()"
   ]
  },
  {
   "cell_type": "markdown",
   "metadata": {},
   "source": [
    "**Time Complexity**: $O(N)$, where 'N' is the total number of elements in the given array.<br>\n",
    "**Space Complexity**: $O(1)$"
   ]
  },
  {
   "cell_type": "markdown",
   "metadata": {},
   "source": [
    "# Similar Questions"
   ]
  },
  {
   "cell_type": "markdown",
   "metadata": {},
   "source": [
    "### Problem Statement\n",
    "Given an unsorted array of numbers and a target ‘key’, remove all instances of ‘key’ in-place and return the new length of the array.<br>\n",
    "\n",
    "##### Example 1\n",
    "**Input**: [3, 2, 3, 6, 3, 10, 9, 3], Key=3<br>\n",
    "**Output**: 4<br>\n",
    "**Explanation**: The first four elements after removing every 'Key' will be [2, 6, 10, 9].<br>\n",
    "\n",
    "##### Example 2\n",
    "**Input**: [2, 11, 2, 2, 1], Key=2<br>\n",
    "**Output**: 2<br>\n",
    "**Explanation**: The first two elements after removing every 'Key' will be [11, 1].<br>"
   ]
  },
  {
   "cell_type": "markdown",
   "metadata": {},
   "source": [
    "### Solution\n",
    "Follow a two-pointer approach and shift numbers left upon encountering the 'key'."
   ]
  },
  {
   "cell_type": "code",
   "execution_count": 2,
   "metadata": {},
   "outputs": [
    {
     "name": "stdout",
     "output_type": "stream",
     "text": [
      "Array new length: 4\n",
      "Array new length: 2\n"
     ]
    }
   ],
   "source": [
    "def remove_element(arr, key):\n",
    "    next_Element = 0  # index of the next element which is not 'key'\n",
    "    for i in range(len(arr)):\n",
    "        if arr[i] != key:\n",
    "            arr[next_Element] = arr[i]\n",
    "            next_Element += 1\n",
    "    return next_Element\n",
    "\n",
    "def main():\n",
    "  print(\"Array new length: \" +\n",
    "        str(remove_element([3, 2, 3, 6, 3, 10, 9, 3], 3)))\n",
    "  print(\"Array new length: \" +\n",
    "        str(remove_element([2, 11, 2, 2, 1], 2)))\n",
    "\n",
    "main()"
   ]
  },
  {
   "cell_type": "markdown",
   "metadata": {},
   "source": [
    "**Time Complexity**: $O(N)$, where 'N' is the total number of elements in the given array.<br>\n",
    "**Space Complexity**: $O(1)$"
   ]
  }
 ],
 "metadata": {
  "kernelspec": {
   "display_name": "Python 3.7.10 ('base')",
   "language": "python",
   "name": "python3"
  },
  "language_info": {
   "codemirror_mode": {
    "name": "ipython",
    "version": 3
   },
   "file_extension": ".py",
   "mimetype": "text/x-python",
   "name": "python",
   "nbconvert_exporter": "python",
   "pygments_lexer": "ipython3",
   "version": "3.7.10"
  },
  "orig_nbformat": 4,
  "vscode": {
   "interpreter": {
    "hash": "f8b40d688a12481f01eadf7380c47edd8a49484a47dba3db091451640e880c68"
   }
  }
 },
 "nbformat": 4,
 "nbformat_minor": 2
}
