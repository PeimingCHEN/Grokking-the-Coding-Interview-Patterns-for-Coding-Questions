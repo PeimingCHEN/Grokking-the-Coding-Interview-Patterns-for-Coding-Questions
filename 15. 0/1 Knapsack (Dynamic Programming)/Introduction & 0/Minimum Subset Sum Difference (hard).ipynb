{
 "cells": [
  {
   "cell_type": "markdown",
   "metadata": {},
   "source": [
    "# Minimum Subset Sum Difference (hard)"
   ]
  },
  {
   "cell_type": "markdown",
   "metadata": {},
   "source": [
    "### Problem Statement\n",
    "Given a set of positive numbers, partition the set into two subsets with minimum difference between their subset sums.<br>\n",
    "\n",
    "##### Example 1\n",
    "**Input**: {1, 2, 3, 9}<br>\n",
    "**Output**: 3<br>\n",
    "**Explanation**: We can partition the given set into two subsets where minimum absolute difference \n",
    "between the sum of numbers is '3'. Following are the two subsets: {1, 2, 3} & {9}.\n",
    "\n",
    "##### Example 2\n",
    "**Input**: {1, 2, 7, 1, 5}<br>\n",
    "**Output**: 0<br>\n",
    "**Explanation**: We can partition the given set into two subsets where minimum absolute difference \n",
    "between the sum of number is '0'. Following are the two subsets: {1, 2, 5} & {7, 1}.\n",
    "\n",
    "##### Example 3\n",
    "**Input**: {1, 3, 100, 4}<br>\n",
    "**Output**: 92<br>\n",
    "**Explanation**: We can partition the given set into two subsets where minimum absolute difference \n",
    "between the sum of numbers is '92'. Here are the two subsets: {1, 3, 4} & {100}."
   ]
  },
  {
   "cell_type": "markdown",
   "metadata": {},
   "source": [
    "### Basic Solution\n",
    "Let’s assume S1 and S2 are the two desired subsets. A basic brute-force solution could be to try adding each element either in S1 or S2 in order to find the combination that gives the minimum sum difference between the two sets."
   ]
  },
  {
   "cell_type": "code",
   "execution_count": 1,
   "metadata": {},
   "outputs": [
    {
     "name": "stdout",
     "output_type": "stream",
     "text": [
      "Can partition: 3\n",
      "Can partition: 0\n",
      "Can partition: 92\n"
     ]
    }
   ],
   "source": [
    "def can_partition(num):\n",
    "    return can_partition_recursive(num, 0, 0, 0)\n",
    "\n",
    "def can_partition_recursive(num, currentIndex, sum1, sum2):\n",
    "    # base check\n",
    "    if currentIndex == len(num):\n",
    "        return abs(sum1 - sum2)\n",
    "    \n",
    "    # recursive call after including the number at the currentIndex in the first set\n",
    "    diff1 = can_partition_recursive(num, currentIndex+1, sum1+num[currentIndex], sum2)\n",
    "    \n",
    "    # recursive call after including the number at the currentIndex in the second set\n",
    "    diff2 = can_partition_recursive(num, currentIndex+1, sum1, sum2+num[currentIndex])\n",
    "    \n",
    "    return min(diff1, diff2)\n",
    "\n",
    "def main():\n",
    "    print(\"Can partition: \" + str(can_partition([1, 2, 3, 9])))\n",
    "    print(\"Can partition: \" + str(can_partition([1, 2, 7, 1, 5])))\n",
    "    print(\"Can partition: \" + str(can_partition([1, 3, 100, 4])))\n",
    "\n",
    "main()"
   ]
  },
  {
   "cell_type": "markdown",
   "metadata": {},
   "source": [
    "**Time Complexity**: $O(2^n)$, where 'n' represents the total number.<br>\n",
    "**Space Complexity**: $O(n)$ to store the recursion stack."
   ]
  },
  {
   "cell_type": "markdown",
   "metadata": {},
   "source": [
    "### Top-down Dynamic Programming with Memoization\n",
    "Use a two-dimensional array to store the results of the solved sub-problems.<br>\n",
    "We can uniquely identify a sub-problem from ‘currentIndex’ and ‘Sum1’ as ‘Sum2’ will always be the sum of the remaining numbers."
   ]
  },
  {
   "cell_type": "code",
   "execution_count": 2,
   "metadata": {},
   "outputs": [
    {
     "name": "stdout",
     "output_type": "stream",
     "text": [
      "Can partition: 3\n",
      "Can partition: 0\n",
      "Can partition: 92\n"
     ]
    }
   ],
   "source": [
    "def can_partition(num):\n",
    "    s = sum(num)\n",
    "    dp = [[-1 for x in range(s+1)] for y in range(len(num))]\n",
    "    return can_partition_recursive(dp, num, 0, 0, 0)\n",
    "\n",
    "def can_partition_recursive(dp, num, currentIndex, sum1, sum2):\n",
    "    # base check\n",
    "    if currentIndex == len(num):\n",
    "        return abs(sum1 - sum2)\n",
    "    \n",
    "    # check if we have not already processed similar problem\n",
    "    if dp[currentIndex][sum1] == -1:\n",
    "        # recursive call after including the number at the currentIndex in the first set\n",
    "        diff1 = can_partition_recursive(dp, num, currentIndex+1, sum1 + num[currentIndex], sum2)\n",
    "        \n",
    "        # recursive call after including the number at the currentIndex in the second set\n",
    "        diff2 = can_partition_recursive(dp, num, currentIndex+1, sum1, sum2+num[currentIndex])\n",
    "        \n",
    "        dp[currentIndex][sum1] = min(diff1, diff2)\n",
    "        \n",
    "    return dp[currentIndex][sum1]\n",
    "\n",
    "def main():\n",
    "    print(\"Can partition: \" + str(can_partition([1, 2, 3, 9])))\n",
    "    print(\"Can partition: \" + str(can_partition([1, 2, 7, 1, 5])))\n",
    "    print(\"Can partition: \" + str(can_partition([1, 3, 100, 4])))\n",
    "\n",
    "main()"
   ]
  },
  {
   "cell_type": "markdown",
   "metadata": {},
   "source": [
    "### Bottom-up Dynamic Programming"
   ]
  },
  {
   "cell_type": "markdown",
   "metadata": {},
   "source": [
    "Let’s assume ‘S’ represents the total sum of all the numbers. So, in this problem, we are trying to find a subset whose sum is as close to ‘S/2’ as possible, because if we can partition the given set into two subsets of an equal sum, we get the minimum difference, i.e. zero. This transforms our problem to Subset Sum, where we try to find a subset whose sum is equal to a given number-- ‘S/2’ in our case. If we can’t find such a subset, then we will take the subset which has the sum closest to ‘S/2’. This is easily possible, as we will be calculating all possible sums with every subset.\n",
    "\n",
    "For every possible sum ‘s’ (where 0 <= s <= S/2), we have two options:\n",
    "1. Exclude the number. In this case, we will see if we can get the sum ‘s’ from the subset excluding this number => dp[index-1][s]\n",
    "2. Include the number if its value is not more than ‘s’. In this case, we will see if we can find a subset to get the remaining sum => dp[index-1][s-num[index]]\n",
    "\n",
    "If either of the two above scenarios is true, we can find a subset with a sum equal to ‘s’. We should dig into this before we can learn how to find the closest subset."
   ]
  },
  {
   "cell_type": "code",
   "execution_count": 3,
   "metadata": {},
   "outputs": [
    {
     "name": "stdout",
     "output_type": "stream",
     "text": [
      "Can partition: 3\n",
      "Can partition: 0\n",
      "Can partition: 92\n"
     ]
    }
   ],
   "source": [
    "def can_partition(num):\n",
    "    s = sum(num)\n",
    "    n = len(num)\n",
    "    dp = [[False for x in range(int(s/2)+1)] for y in range(n)]\n",
    "    \n",
    "    # populate the s=0 columns, as we can always form '0' sum with an empty set\n",
    "    for i in range(n):\n",
    "        dp[i][0] = True\n",
    "        \n",
    "    # with only one number, we can form a subset only when the required sum is equal to that number\n",
    "    for j in range(int(s/2)+1):\n",
    "        dp[0][j] = num[0] == j\n",
    "    \n",
    "    # process all subsets for all sums\n",
    "    for i in range(1, n):\n",
    "        for j in range(1, int(s/2)+1):\n",
    "            # if we can get the sum 's' without the number at index 'i'\n",
    "            if dp[i-1][j]:\n",
    "                dp[i][j] = True\n",
    "            elif j >= num[i]:\n",
    "                # else include the number and see if we can find a subset to get the remaining sum\n",
    "                dp[i][j] = dp[i-1][j - num[i]]\n",
    "                \n",
    "    sum1 = 0\n",
    "    # find the largest index in the last row which is true\n",
    "    for i in range(int(s/2), -1, -1):\n",
    "        if dp[n-1][i]:\n",
    "            sum1 = i\n",
    "            break\n",
    "    \n",
    "    sum2 = s - sum1\n",
    "    return abs(sum2 - sum1)\n",
    "\n",
    "def main():\n",
    "    print(\"Can partition: \" + str(can_partition([1, 2, 3, 9])))\n",
    "    print(\"Can partition: \" + str(can_partition([1, 2, 7, 1, 5])))\n",
    "    print(\"Can partition: \" + str(can_partition([1, 3, 100, 4])))\n",
    "\n",
    "main()"
   ]
  },
  {
   "cell_type": "markdown",
   "metadata": {},
   "source": [
    "**Time Complexity**: $O(N∗S)$, , where ‘N’ represents total numbers and ‘S’ is the total sum of all the numbers.<br>\n",
    "**Space Complexity**: $O(N∗S)$."
   ]
  }
 ],
 "metadata": {
  "kernelspec": {
   "display_name": "Python 3.7.10 ('base')",
   "language": "python",
   "name": "python3"
  },
  "language_info": {
   "codemirror_mode": {
    "name": "ipython",
    "version": 3
   },
   "file_extension": ".py",
   "mimetype": "text/x-python",
   "name": "python",
   "nbconvert_exporter": "python",
   "pygments_lexer": "ipython3",
   "version": "3.7.10"
  },
  "orig_nbformat": 4,
  "vscode": {
   "interpreter": {
    "hash": "f8b40d688a12481f01eadf7380c47edd8a49484a47dba3db091451640e880c68"
   }
  }
 },
 "nbformat": 4,
 "nbformat_minor": 2
}
