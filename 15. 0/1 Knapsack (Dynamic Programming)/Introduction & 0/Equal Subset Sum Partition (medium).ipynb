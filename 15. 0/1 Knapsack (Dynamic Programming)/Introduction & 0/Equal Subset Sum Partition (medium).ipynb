{
 "cells": [
  {
   "cell_type": "markdown",
   "metadata": {},
   "source": [
    "# Equal Subset Sum Partition (medium)"
   ]
  },
  {
   "cell_type": "markdown",
   "metadata": {},
   "source": [
    "### Problem Statement\n",
    "Given a set of positive numbers, find if we can partition it into two subsets such that the sum of elements in both subsets is equal.<br>\n",
    "Leetcode: [416. Partition Equal Subset Sum](https://leetcode.com/problems/partition-equal-subset-sum/)\n",
    "\n",
    "##### Example 1\n",
    "**Input**: {1, 2, 3, 4}<br>\n",
    "**Output**: True<br>\n",
    "**Explanation**: The given set can be partitioned into two subsets with equal sum: {1, 4} & {2, 3}\n",
    "\n",
    "##### Example 2\n",
    "**Input**: {1, 1, 3, 4, 7}<br>\n",
    "**Output**: True<br>\n",
    "**Explanation**: The given set can be partitioned into two subsets with equal sum: {1, 3, 4} & {1, 7}<br>\n",
    "\n",
    "##### Example 3\n",
    "**Input**: {2, 3, 4, 6}<br>\n",
    "**Output**: False<br>\n",
    "**Explanation**: The given set cannot be partitioned into two subsets with equal sum."
   ]
  },
  {
   "cell_type": "markdown",
   "metadata": {},
   "source": [
    "### Basic Solution\n",
    "A basic brute-force solution could be to try all combinations of partitioning the given numbers into two sets to see if any pair of sets has an equal sum.\n",
    "\n",
    "Assume that *S* represents the total sum of all the given numbers. Then the two equal subsets must have a sum equal to **S/2**. This essentially transforms our problem to: \"Find a subset of the given numbers that has a total sum of **S/2**\"."
   ]
  },
  {
   "cell_type": "code",
   "execution_count": 2,
   "metadata": {},
   "outputs": [
    {
     "name": "stdout",
     "output_type": "stream",
     "text": [
      "Can partition: True\n",
      "Can partition: True\n",
      "Can partition: False\n"
     ]
    }
   ],
   "source": [
    "def can_partition(num):\n",
    "    s= sum(num)\n",
    "    # if 's' is a an odd number, we can't have two subsets with equal sum\n",
    "    if s % 2 != 0:\n",
    "        return False\n",
    "    \n",
    "    return can_partition_recursive(num, s / 2, 0)\n",
    "\n",
    "def can_partition_recursive(num, sum, currentIndex):\n",
    "    # base check\n",
    "    if sum == 0:\n",
    "        return True\n",
    "    \n",
    "    n = len(num)\n",
    "    if n == 0 or currentIndex >= n:\n",
    "        return False\n",
    "    \n",
    "    # recursive call after choosing the number at the `currentIndex`\n",
    "    # if the number at `currentIndex` exceeds the sum, we shouldn't process this\n",
    "    if num[currentIndex] <= sum:\n",
    "        if can_partition_recursive(num, sum - num[currentIndex], currentIndex + 1):\n",
    "            return True\n",
    "    \n",
    "    # recursive call after excluding the number at the 'currentIndex'\n",
    "    return can_partition_recursive(num, sum, currentIndex + 1)\n",
    "\n",
    "def main():\n",
    "  print(\"Can partition: \" + str(can_partition([1, 2, 3, 4])))\n",
    "  print(\"Can partition: \" + str(can_partition([1, 1, 3, 4, 7])))\n",
    "  print(\"Can partition: \" + str(can_partition([2, 3, 4, 6])))\n",
    "\n",
    "\n",
    "main()"
   ]
  },
  {
   "cell_type": "markdown",
   "metadata": {},
   "source": [
    "**Time Complexity**: $O(2^n)$, where 'n' represents the total number.<br>\n",
    "**Space Complexity**: $O(n)$ to store the recursion stack."
   ]
  },
  {
   "cell_type": "markdown",
   "metadata": {},
   "source": [
    "### Top-down Dynamic Programming with Memoization\n",
    "We can use memoization to overcome the overlapping sub-problems. Since we need to store the results for every subset and for every possible sum, therefore we will be using a two-dimensional array to store the results of the solved sub-problems. The first dimension of the array will represent different subsets and the second dimension will represent different ‘sums’ that we can calculate from each subset. These two dimensions of the array can also be inferred from the two changing values (sum and currentIndex) in our recursive function *canPartitionRecursive()*."
   ]
  },
  {
   "cell_type": "code",
   "execution_count": 3,
   "metadata": {},
   "outputs": [
    {
     "name": "stdout",
     "output_type": "stream",
     "text": [
      "Can partition: True\n",
      "Can partition: True\n",
      "Can partition: False\n"
     ]
    }
   ],
   "source": [
    "def can_partition(num):\n",
    "    s = sum(num)\n",
    "    \n",
    "    # if 's' is a an odd number, we can't have two subsets with equal sum\n",
    "    if s % 2 != 0:\n",
    "        return False\n",
    "    \n",
    "    # initialize the 'dp' array, -1 for default, 1 for true and 0 for false\n",
    "    dp = [[-1 for x in range(int(s/2)+1)] for y in range(len(num))]\n",
    "    return True if can_partition_recursive(dp, num, int(s/2), 0) == 1 else False\n",
    "\n",
    "def can_partition_recursive(dp, num, sum, currentIndex):\n",
    "    # base check\n",
    "    if sum == 0:\n",
    "        return 1\n",
    "    \n",
    "    n = len(num)\n",
    "    if n ==0 or currentIndex >= n:\n",
    "        return 0\n",
    "    \n",
    "    #  if we have not already processed a similar problem\n",
    "    if dp[currentIndex][sum] == -1:\n",
    "        # recursive call after choosing the number at the currentIndex\n",
    "        # if the number at currentIndex exceeds the sum, we shouldn't process this\n",
    "        if num[currentIndex] <= sum:\n",
    "            if can_partition_recursive(dp, num, sum-num[currentIndex], currentIndex+1) == 1:\n",
    "                dp[currentIndex][sum] = 1\n",
    "                return 1\n",
    "            \n",
    "        # recursive call after excluding the number at the currentIndex\n",
    "        dp[currentIndex][sum] = can_partition_recursive(\n",
    "            dp, num, sum, currentIndex+1\n",
    "        )\n",
    "    return dp[currentIndex][sum]\n",
    "\n",
    "def main():\n",
    "  print(\"Can partition: \" + str(can_partition([1, 2, 3, 4])))\n",
    "  print(\"Can partition: \" + str(can_partition([1, 1, 3, 4, 7])))\n",
    "  print(\"Can partition: \" + str(can_partition([2, 3, 4, 6])))\n",
    "\n",
    "\n",
    "main()"
   ]
  },
  {
   "cell_type": "markdown",
   "metadata": {},
   "source": [
    "**Time Complexity**: $O(N∗S)$, , where ‘N’ represents total numbers and ‘S’ is the total sum of all the numbers.<br>\n",
    "**Space Complexity**: $O(N∗S)$."
   ]
  },
  {
   "cell_type": "markdown",
   "metadata": {},
   "source": [
    "### Bottom-up Dynamic Programming\n",
    "Essentially, we want to find if we can make all possible sums with every subset. **This means, dp[i][s] will be ‘true’ if we can make the sum ‘s’ from the first ‘i’ numbers**.\n",
    "\n",
    "So, for each number at index ‘i’ (0 <= i < num.length) and sum ‘s’ (0 <= s <= S/2), we have two options:\n",
    "1. Exclude the number. In this case, we will see if we can get ‘s’ from the subset excluding this number: dp[i-1][s]\n",
    "2. Include the number if its value is not more than ‘s’. In this case, we will see if we can find a subset to get the remaining sum: dp[i-1][s-num[i]]\n",
    "\n",
    "If either of the two above scenarios is true, we can find a subset of numbers with a sum equal to ‘s’."
   ]
  },
  {
   "cell_type": "code",
   "execution_count": 5,
   "metadata": {},
   "outputs": [
    {
     "name": "stdout",
     "output_type": "stream",
     "text": [
      "Can partition: True\n",
      "Can partition: True\n",
      "Can partition: False\n"
     ]
    }
   ],
   "source": [
    "def can_partition(num):\n",
    "    s = sum(num)\n",
    "    # if 's' is a an odd number, we can't have two subsets with same total\n",
    "    if s % 2 != 0:\n",
    "        return False\n",
    "    \n",
    "    # we are trying to find a subset of given numbers that has a total sum of 's/2'.\n",
    "    s = int(s/2)\n",
    "    \n",
    "    n = len(num)\n",
    "    dp = [[False for x in range(s+1)] for y in range(n)]\n",
    "    \n",
    "    # populate the s=0 columns, as we can always for '0' sum with an empty set\n",
    "    for i in range(n):\n",
    "        dp[i][0] = True\n",
    "        \n",
    "    # with only one number, we can form a subset only when the required sum is equal to its value\n",
    "    for j in range(1, s+1):\n",
    "        dp[0][j] = num[0] == j\n",
    "        \n",
    "    # process all subsets for all sums\n",
    "    for i in range(1, n):\n",
    "        for j in range(1, s+1):\n",
    "            # if we can get the sum 'j' without the number at index 'i'\n",
    "            if dp[i - 1][j]:\n",
    "                dp[i][j] = dp[i - 1][j]\n",
    "            elif j >= num[i]: # else if we can find a subset to get the remaining sum\n",
    "                dp[i][j] = dp[i-1][j-num[i]]\n",
    "    # the bottom-right corner will have our answer.\n",
    "    return dp[n - 1][s]\n",
    "\n",
    "def main():\n",
    "  print(\"Can partition: \" + str(can_partition([1, 2, 3, 4])))\n",
    "  print(\"Can partition: \" + str(can_partition([1, 1, 3, 4, 7])))\n",
    "  print(\"Can partition: \" + str(can_partition([2, 3, 4, 6])))\n",
    "\n",
    "\n",
    "main()"
   ]
  },
  {
   "cell_type": "markdown",
   "metadata": {},
   "source": [
    "**Time Complexity**: $O(N∗S)$, , where ‘N’ represents total numbers and ‘S’ is the total sum of all the numbers.<br>\n",
    "**Space Complexity**: $O(N∗S)$."
   ]
  }
 ],
 "metadata": {
  "kernelspec": {
   "display_name": "Python 3.7.10 ('base')",
   "language": "python",
   "name": "python3"
  },
  "language_info": {
   "codemirror_mode": {
    "name": "ipython",
    "version": 3
   },
   "file_extension": ".py",
   "mimetype": "text/x-python",
   "name": "python",
   "nbconvert_exporter": "python",
   "pygments_lexer": "ipython3",
   "version": "3.7.10"
  },
  "orig_nbformat": 4,
  "vscode": {
   "interpreter": {
    "hash": "f8b40d688a12481f01eadf7380c47edd8a49484a47dba3db091451640e880c68"
   }
  }
 },
 "nbformat": 4,
 "nbformat_minor": 2
}
