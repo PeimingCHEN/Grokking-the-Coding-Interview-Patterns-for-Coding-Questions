{
 "cells": [
  {
   "cell_type": "markdown",
   "metadata": {},
   "source": [
    "# Introduction & 0/1 Knapsack (medium)"
   ]
  },
  {
   "cell_type": "markdown",
   "metadata": {},
   "source": [
    "Apply advanced techniques of Memoization and Bottom-Up Dynamic Programming to solve the overlapping subproblems.\n",
    "\n",
    "Given the weights and profits of 'N' items, we are asked to put these items in a knapsack with a capacity 'C'. The goal is to get the maximum profit out of the knapsack items. Each item can only be selected once, as we don’t have multiple quantities of any item.\n",
    "\n",
    "Let’s take Merry’s example, who wants to carry some fruits in the knapsack to get maximum profit. Here are the weights and profits of the fruits:\n",
    "\n",
    "Items: { Apple, Orange, Banana, Melon }<br>\n",
    "Weights: { 2, 3, 1, 4 }<br>\n",
    "Profits: { 4, 5, 3, 7 }<br>\n",
    "Knapsack capacity: 5<br>\n",
    "\n",
    "Let’s try to put various combinations of fruits in the knapsack, such that their total weight is not more than 5:\n",
    "\n",
    "Apple + Orange (total weight 5) => 9 profit<br>\n",
    "Apple + Banana (total weight 3) => 7 profit<br>\n",
    "Orange + Banana (total weight 4) => 8 profit<br>\n",
    "Banana + Melon (total weight 5) => 10 profit<br>\n",
    "\n",
    "This shows that Banana + Melon is the best combination as it gives us the maximum profit, and the total weight does not exceed the capacity."
   ]
  },
  {
   "cell_type": "markdown",
   "metadata": {},
   "source": [
    "### Problem Statement\n",
    "Given two integer arrays to represent weights and profits of 'N' items, we need to find a subset of these items which will give us maximum profit such that their cumulative weight is not more than a given number 'C'. Each item can only be selected once, which means either we put an item in the knapsack or we skip it.<br>\n",
    "\n",
    "**IMPORTANT**: https://www.educative.io/courses/grokking-the-coding-interview/gkZNLjV2kBk"
   ]
  },
  {
   "cell_type": "markdown",
   "metadata": {},
   "source": [
    "### Brute Force\n",
    "Try all combinations of the given items to choose the one with maximum profit and a weight that doesn't exceed 'C'."
   ]
  },
  {
   "cell_type": "code",
   "execution_count": 1,
   "metadata": {},
   "outputs": [
    {
     "name": "stdout",
     "output_type": "stream",
     "text": [
      "22\n",
      "17\n"
     ]
    }
   ],
   "source": [
    "def solve_knapsack(profits, weights, capacity):\n",
    "    return knapsack_recursive(profits, weights, capacity, 0)\n",
    "\n",
    "def knapsack_recursive(profits, weights, capacity, currentIndex):\n",
    "    # base check\n",
    "    if capacity <= 0 or currentIndex >= len(profits):\n",
    "        return 0\n",
    "    \n",
    "    # recursive call after choosing the element at the currentIndex\n",
    "    # if the weight of the element at currentIndex exceeds the capacity, we  shouldn't process this\n",
    "    profit1 = 0\n",
    "    if weights[currentIndex] <= capacity:\n",
    "        profit1 = profits[currentIndex] + knapsack_recursive(\n",
    "            profits, weights, capacity - weights[currentIndex], currentIndex + 1)\n",
    "    \n",
    "    # recursive call after excluding the element at the currentIndex\n",
    "    profit2 = knapsack_recursive(profits, weights, capacity, currentIndex + 1)\n",
    "    \n",
    "    return max(profit1, profit2)\n",
    "\n",
    "def main():\n",
    "    print(solve_knapsack([1, 6, 10, 16], [1, 2, 3, 5], 7))\n",
    "    print(solve_knapsack([1, 6, 10, 16], [1, 2, 3, 5], 6))\n",
    "\n",
    "main()"
   ]
  },
  {
   "cell_type": "markdown",
   "metadata": {},
   "source": [
    "**Time Complexity**: $O(2^n)$, where 'n' represents the total number of items. This can also be confirmed from the above recursion tree. As we can see, we will have a total of '31' recursive calls – calculated through $(2^n) + (2^n) - 1$, which is asymptotically equivalent to $O(2^n)$.<br>\n",
    "**Space Complexity**: $O(n)$ to store the recursion stack."
   ]
  },
  {
   "cell_type": "markdown",
   "metadata": {},
   "source": [
    "### Top-down Dynamic Programming with Memoization"
   ]
  },
  {
   "cell_type": "markdown",
   "metadata": {},
   "source": [
    "Memoization is when we store the results of all the previously solved sub-problems and return the results from memory if we encounter a problem that has already been solved.\n",
    "\n",
    "Since we have two changing values (*capacity* and *currentIndex*) in our recursive function *knapsackRecursive()*, we can use a two-dimensional array to store the results of all the solved sub-problems. As mentioned above, we need to store results for every sub-array (i.e., for every possible index 'i') and every possible capacity 'c'."
   ]
  },
  {
   "cell_type": "code",
   "execution_count": 5,
   "metadata": {},
   "outputs": [
    {
     "name": "stdout",
     "output_type": "stream",
     "text": [
      "22\n",
      "17\n"
     ]
    }
   ],
   "source": [
    "def solve_knapsack(profits, weights, capacity):\n",
    "    # create a two dimensional array for Memoization, each element is initialized to '-1'\n",
    "    dp = [[-1 for x in range(capacity+1)] for y in range(len(profits))]\n",
    "    return knapsack_recursive(dp, profits, weights, capacity, 0)\n",
    "\n",
    "def knapsack_recursive(dp, profits, weights, capacity, currentIndex):\n",
    "    # base check\n",
    "    if capacity <= 0 or currentIndex >= len(profits):\n",
    "        return 0\n",
    "    \n",
    "    # if we have already solved a similar problem, return the result from memory\n",
    "    if dp[currentIndex][capacity] != -1:\n",
    "        return dp[currentIndex][capacity]\n",
    "    \n",
    "    # recursive call after choosing the element at the currentIndex\n",
    "    # if the weight of the element at currentIndex exceeds the capacity, we\n",
    "    # shouldn't process this\n",
    "    profit1 = 0\n",
    "    if weights[currentIndex] <= capacity:\n",
    "        profit1 = profits[currentIndex] + knapsack_recursive(\n",
    "            dp, profits, weights, capacity - weights[currentIndex], currentIndex + 1)\n",
    "    \n",
    "    # recursive call after excluding the element at the currentIndex\n",
    "    profit2 = knapsack_recursive(\n",
    "        dp, profits, weights, capacity, currentIndex + 1)\n",
    "    \n",
    "    dp[currentIndex][capacity] = max(profit1, profit2)\n",
    "    return dp[currentIndex][capacity]\n",
    "\n",
    "def main():\n",
    "    print(solve_knapsack([1, 6, 10, 16], [1, 2, 3, 5], 7))\n",
    "    print(solve_knapsack([1, 6, 10, 16], [1, 2, 3, 5], 6))\n",
    "\n",
    "main()"
   ]
  },
  {
   "cell_type": "markdown",
   "metadata": {},
   "source": [
    "**Time Complexity**: $O(N * C)$. Since our memoization array dp[profits.length][capacity+1] stores the results for all subproblems, we can conclude that we will not have more than $N*C$ subproblems (where 'N' is the number of items and 'C' is the knapsack capacity).<br>\n",
    "**Space Complexity**: $O(N * C)$. $O(N * C)$ space for the memoization array and $O(N)$ space for the recursion call-stack. So the total space complexity will be $O(N*C + N)$, which is asymptotically equivalent to $O(N*C)$."
   ]
  },
  {
   "cell_type": "markdown",
   "metadata": {},
   "source": [
    "### Bottom-up Dynamic Programming"
   ]
  },
  {
   "cell_type": "markdown",
   "metadata": {},
   "source": [
    "Let’s try to populate our *dp[][]* array from the above solution by working in a bottom-up fashion. Essentially, we want to find the maximum profit for every sub-array and every possible capacity. **This means that dp[i][c] will represent the maximum knapsack profit for capacity 'c' calculated from the first 'i' items.**\n",
    "\n",
    "So, for each item at index 'i' (0 <= i < items.length) and capacity 'c' (0 <= c <= capacity), we have two options:\n",
    "1. Exclude the item at index 'i'. In this case, we will take whatever profit we get from the sub-array excluding this item => *dp[i-1][c]*\n",
    "2. Include the item at index ‘i’ if its weight is not more than the capacity. In this case, we include its profit plus whatever profit we get from the remaining capacity and from remaining items => *profit[i] + dp[i-1][c-weight[i]]*\n",
    "\n",
    "Finally, our optimal solution will be maximum of the above two values:<br>\n",
    "**$dp[i][c] = max (dp[i-1][c], profit[i] + dp[i-1][c-weight[i]])$**"
   ]
  },
  {
   "cell_type": "code",
   "execution_count": 6,
   "metadata": {},
   "outputs": [
    {
     "name": "stdout",
     "output_type": "stream",
     "text": [
      "16\n",
      "17\n",
      "22\n"
     ]
    }
   ],
   "source": [
    "def solve_knapsack(profits, weights, capacity):\n",
    "    # basic checks\n",
    "    n = len(profits)\n",
    "    if capacity <= 0 or n == 0 or len(weights) != n:\n",
    "        return 0\n",
    "    \n",
    "    dp = [[0 for x in range(capacity+1)] for y in range(n)]\n",
    "    \n",
    "    # populate the capacity = 0 columns, with '0' capacity we have '0' profit\n",
    "    for i in range(0, n):\n",
    "        dp[i][0] = 0\n",
    "        \n",
    "    # if we have only one weight, we will take it if it is not more than the capacity\n",
    "    for c in range(1, capacity+1):\n",
    "        if weights[0] <= c:\n",
    "            dp[0][c] = profits[0]\n",
    "            \n",
    "    # process all sub-arrays for all the capacities\n",
    "    for i in range(1, n):\n",
    "        for c in range(1, capacity+1):\n",
    "            profit1, profit2 = 0, 0\n",
    "            # include the item, if it is not more than the capacity\n",
    "            if weights[i] <= c:\n",
    "                profit1 = profits[i] + dp[i-1][c-weights[i]]\n",
    "            # exclude the item\n",
    "            profit2 = dp[i-1][c]\n",
    "            # take maximum\n",
    "            dp[i][c] = max(profit1, profit2)\n",
    "            \n",
    "    # maximum profit will be at the bottom-right corner.\n",
    "    return dp[n-1][capacity]\n",
    "\n",
    "def main():\n",
    "    print(solve_knapsack([1, 6, 10, 16], [1, 2, 3, 5], 5))\n",
    "    print(solve_knapsack([1, 6, 10, 16], [1, 2, 3, 5], 6))\n",
    "    print(solve_knapsack([1, 6, 10, 16], [1, 2, 3, 5], 7))\n",
    "\n",
    "main()"
   ]
  },
  {
   "cell_type": "markdown",
   "metadata": {},
   "source": [
    "**Time Complexity**: $O(N * C)$, where 'N' is the number of items and 'C' is the knapsack capacity).<br>\n",
    "**Space Complexity**: $O(N * C)$."
   ]
  },
  {
   "cell_type": "markdown",
   "metadata": {},
   "source": [
    "# How can we find the selected items?"
   ]
  },
  {
   "cell_type": "markdown",
   "metadata": {},
   "source": [
    "As we know, the final profit is at the bottom-right corner. Therefore, we will start from there to find the items that will be going into the knapsack.\n",
    "\n",
    "As you remember, at every step, we had two options: include an item or skip it. If we skip an item, we take the profit from the remaining items (i.e., from the cell right above it); if we include the item, then we jump to the remaining profit to find more items."
   ]
  },
  {
   "cell_type": "code",
   "execution_count": 11,
   "metadata": {},
   "outputs": [
    {
     "name": "stdout",
     "output_type": "stream",
     "text": [
      "Selected weights are: 5 2 \n",
      "Total knapsack profit: 22\n",
      "Selected weights are: 3 2 \n",
      "Total knapsack profit: 16\n"
     ]
    }
   ],
   "source": [
    "from __future__ import print_function\n",
    "\n",
    "def solve_knapsack(profits, weights, capacity):\n",
    "    # basic checks\n",
    "    n = len(profits)\n",
    "    if capacity <= 0 or n ==0 or len(weights) != n:\n",
    "        return 0\n",
    "    \n",
    "    dp = [[0 for x in range(capacity+1)] for y in range(n)]\n",
    "    \n",
    "    # populate the capacity = 0 columns, with '0' capacity we have '0' profit\n",
    "    for i in range(0, n):\n",
    "        dp[i][0] = 0\n",
    "    \n",
    "    # if we have only one weight, we will take it if it is not more than the capacity\n",
    "    for c in range(capacity+1):\n",
    "        if weights[0] <= c:\n",
    "            dp[0][c] == profits[0]\n",
    "            \n",
    "    # process all sub-arrays for all the capacities\n",
    "    for i in range(1, n):\n",
    "        for c in range(1, capacity+1):\n",
    "            profit1, profit2 = 0, 0\n",
    "            # include the item, if it is not more than the capacity\n",
    "            if weights[i] <= c:\n",
    "                profit1 = profits[i] + dp[i-1][c - weights[i]]\n",
    "            # exclude the item\n",
    "            profit2 = dp[i - 1][c]\n",
    "            # take maximum\n",
    "            dp[i][c] = max(profit1, profit2)\n",
    "    print_selected_elements(dp, weights, profits, capacity)\n",
    "    # maximum profit will be at the bottom-right corner.\n",
    "    return dp[n - 1][capacity]\n",
    "\n",
    "def print_selected_elements(dp, weights, profits, capacity):\n",
    "    print(\"Selected weights are: \", end='')\n",
    "    n = len(weights)\n",
    "    totalProfit = dp[n-1][capacity]\n",
    "    for i in range(n-1, 0, -1):\n",
    "        if totalProfit != dp[i - 1][capacity]:\n",
    "            print(str(weights[i]) + \" \", end='')\n",
    "            capacity -= weights[i]\n",
    "            totalProfit -= profits[i]\n",
    "\n",
    "    if totalProfit != 0:\n",
    "        print(str(weights[0]) + \" \", end='')\n",
    "    print()\n",
    "\n",
    "def main():\n",
    "    print(\"Total knapsack profit: \" +\n",
    "            str(solve_knapsack([1, 6, 10, 16], [1, 2, 3, 5], 7)))\n",
    "    print(\"Total knapsack profit: \" +\n",
    "            str(solve_knapsack([1, 6, 10, 16], [1, 2, 3, 5], 6)))\n",
    "\n",
    "\n",
    "main()"
   ]
  },
  {
   "cell_type": "markdown",
   "metadata": {},
   "source": [
    "### Challenge\n",
    "Can we improve our bottom-up DP solution even further? Can you find an algorithm that has O(C) space complexity?\n",
    "\n",
    "We only need one previous row to find the optimal solution!"
   ]
  },
  {
   "cell_type": "code",
   "execution_count": 19,
   "metadata": {},
   "outputs": [
    {
     "name": "stdout",
     "output_type": "stream",
     "text": [
      "Total knapsack profit: 22\n",
      "Total knapsack profit: 17\n"
     ]
    }
   ],
   "source": [
    "def solve_knapsack(profits, weights, capacity):\n",
    "    # basic checks\n",
    "    n = len(profits)\n",
    "    if capacity <= 0 or n == 0 or len(weights) != n:\n",
    "        return 0\n",
    "    \n",
    "    # we only need one previous row to find the optimal solution, overall we need '2' rows\n",
    "    # the above solution is similar to the previous solution, the only difference is that\n",
    "    # we use `i % 2` instead if `i` and `(i-1) % 2` instead if `i-1`\n",
    "    dp = [[0 for x in range(capacity+1)] for y in range(2)]\n",
    "    \n",
    "    # if we have only one weight, we will take it if it is not more than the capacity\n",
    "    for c in range(capacity+1):\n",
    "        if weights[0] <= c:\n",
    "            dp[0][c] = dp[1][c] = profits[0]\n",
    "            \n",
    "    # process all sub-arrays for all the capacities\n",
    "    for i in range(1, n):\n",
    "        for c in range(0, capacity+1):\n",
    "            profit1, profit2 = 0, 0\n",
    "            # include the item, if it is not more than the capacity\n",
    "            if weights[i] <= c:\n",
    "                profit1 = profits[i] + dp[(i - 1) % 2][c - weights[i]]\n",
    "            # exclude the item\n",
    "            profit2 = dp[(i - 1) % 2][c]\n",
    "            # take maximum\n",
    "            dp[i % 2][c] = max(profit1, profit2)\n",
    "    return dp[(n - 1) % 2][capacity]\n",
    "\n",
    "def main():\n",
    "    print(\"Total knapsack profit: \" +\n",
    "            str(solve_knapsack([1, 6, 10, 16], [1, 2, 3, 5], 7)))\n",
    "    print(\"Total knapsack profit: \" +\n",
    "            str(solve_knapsack([1, 6, 10, 16], [1, 2, 3, 5], 6)))\n",
    "\n",
    "main()"
   ]
  },
  {
   "cell_type": "markdown",
   "metadata": {},
   "source": [
    "The solution above is similar to the previous solution; the only difference is that we use i%2 instead of i and (i-1)%2 instead of i-1. This solution has a space complexity of $O(2*C) = O(C)$, where 'C' is the knapsack’s maximum capacity.\n",
    "\n",
    "If you see closely, we need two values from the previous iteration: dp[c] and dp[c-weight[i]]\n",
    "\n",
    "Since our inner loop is iterating over c:0-->capacity, let’s see how this might affect our two required values:\n",
    "\n",
    "1. When we access dp[c], it has not been overridden yet for the current iteration, so it should be fine.\n",
    "2. dp[c-weight[i]] might be overridden if “weight[i] > 0”. Therefore we can’t use this value for the current iteration.\n",
    "\n",
    "To solve the second case, we can change our inner loop to process in the reverse direction: c:capacity-->0. This will ensure that whenever we change a value in dp[], we will not need it again in the current iteration."
   ]
  },
  {
   "cell_type": "code",
   "execution_count": 20,
   "metadata": {},
   "outputs": [
    {
     "name": "stdout",
     "output_type": "stream",
     "text": [
      "Total knapsack profit: 22\n",
      "Total knapsack profit: 17\n"
     ]
    }
   ],
   "source": [
    "def solve_knapsack(profits, weights, capacity):\n",
    "    # basic checks\n",
    "    n = len(profits)\n",
    "    if capacity <= 0 or n == 0 or len(weights) != n:\n",
    "        return 0\n",
    "    \n",
    "    dp = [0 for x in range(capacity+1)]\n",
    "    \n",
    "    # if we have only one weight, we will take it if it is not more than the capacity\n",
    "    for c in range(capacity+1):\n",
    "        if weights[0] <= c:\n",
    "            dp[c] = profits[0]\n",
    "    \n",
    "    # process all sub-arrays for all the capacities\n",
    "    for i in range(1, n):\n",
    "        for c in range(capacity, -1, -1):\n",
    "            profit1, profit2 = 0, 0\n",
    "            # include the item, if it is not more than the capacity\n",
    "            if weights[i] <= c:\n",
    "                profit1 = profits[i] + dp[c - weights[i]]\n",
    "            # exclude the item\n",
    "            profit2 = dp[c]\n",
    "            # take maximum\n",
    "            dp[c] = max(profit1, profit2)\n",
    "    return dp[capacity]\n",
    "\n",
    "def main():\n",
    "  print(\"Total knapsack profit: \" +\n",
    "        str(solve_knapsack([1, 6, 10, 16], [1, 2, 3, 5], 7)))\n",
    "  print(\"Total knapsack profit: \" +\n",
    "        str(solve_knapsack([1, 6, 10, 16], [1, 2, 3, 5], 6)))\n",
    "\n",
    "main()"
   ]
  }
 ],
 "metadata": {
  "kernelspec": {
   "display_name": "Python 3.7.10 ('base')",
   "language": "python",
   "name": "python3"
  },
  "language_info": {
   "codemirror_mode": {
    "name": "ipython",
    "version": 3
   },
   "file_extension": ".py",
   "mimetype": "text/x-python",
   "name": "python",
   "nbconvert_exporter": "python",
   "pygments_lexer": "ipython3",
   "version": "3.7.10"
  },
  "orig_nbformat": 4,
  "vscode": {
   "interpreter": {
    "hash": "f8b40d688a12481f01eadf7380c47edd8a49484a47dba3db091451640e880c68"
   }
  }
 },
 "nbformat": 4,
 "nbformat_minor": 2
}
