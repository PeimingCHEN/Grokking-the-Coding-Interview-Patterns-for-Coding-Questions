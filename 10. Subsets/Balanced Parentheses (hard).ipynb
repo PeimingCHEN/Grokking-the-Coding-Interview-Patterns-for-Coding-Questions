{
 "cells": [
  {
   "cell_type": "markdown",
   "metadata": {},
   "source": [
    "# Balanced Parentheses (hard)"
   ]
  },
  {
   "cell_type": "markdown",
   "metadata": {},
   "source": [
    "### Problem Statement\n",
    "For a given number ‘N’, write a function to generate all combination of ‘N’ pairs of balanced parentheses.<br>\n",
    "Leetcode: [22. Generate Parentheses](https://leetcode.com/problems/generate-parentheses/)\n",
    "\n",
    "##### Example 1\n",
    "**Input**: N=2<br>\n",
    "**Output**: (()), ()()\n",
    "\n",
    "##### Example 2\n",
    "**Input**: N=3<br>\n",
    "**Output**: ((())), (()()), (())(), ()(()), ()()()"
   ]
  },
  {
   "cell_type": "markdown",
   "metadata": {},
   "source": [
    "### Solution\n",
    "Keep two things in mind:\n",
    "* Can’t add more than ‘N’ open parenthesis.\n",
    "* Add a close parenthesis ) only when adding enough open parenthesis (. We can keep a count of open and close parenthesis with every combination.\n",
    "\n",
    "Let’s generate parentheses for N=3:\n",
    "1. Start with an empty combination: “”\n",
    "2. At every step, let’s take all combinations of the previous step and add ( or ) keeping the above-mentioned two rules in mind.\n",
    "3. For the empty combination, we can add ( since the count of open parenthesis will be less than ‘N’. We can’t add ) as we don’t have an equivalent open parenthesis, so our list of combinations will now be: “(”\n",
    "4. For the next iteration, let’s take all combinations of the previous set. For “(” we can add another ( to it since the count of open parenthesis will be less than ‘N’. We can also add ) as we do have an equivalent open parenthesis, so our list of combinations will be: “((”, “()”\n",
    "5. In the next iteration, for the first combination “((”, we can add another ( to it as the count of open parenthesis will be less than ‘N’, we can also add ) as we do have an equivalent open parenthesis. This gives us two new combinations: “(((” and “(()”. For the second combination “()”, we can add another ( to it since the count of open parenthesis will be less than ‘N’. We can’t add ) as we don’t have an equivalent open parenthesis, so our list of combinations will be: “(((”, “(()”, ()(\"\n",
    "6. Following the same approach, next we will get the following list of combinations: “((()”, “(()(”, “(())”, “()((”, “()()”\n",
    "7. Next we will get: “((())”, “(()()”, “(())(”, “()(()”, “()()(”\n",
    "8. Finally, we will have the following combinations of balanced parentheses: “((()))”, “(()())”, “(())()”, “()(())”, “()()()”\n",
    "9. We can’t add more parentheses to any of the combinations, so we stop here."
   ]
  },
  {
   "cell_type": "code",
   "execution_count": 1,
   "metadata": {},
   "outputs": [
    {
     "name": "stdout",
     "output_type": "stream",
     "text": [
      "All combinations of balanced parentheses are: ['(())', '()()']\n",
      "All combinations of balanced parentheses are: ['((()))', '(()())', '(())()', '()(())', '()()()']\n"
     ]
    }
   ],
   "source": [
    "from collections import deque\n",
    "\n",
    "class ParenthesesString:\n",
    "    def __init__(self, str, openCount, closeCount):\n",
    "        self.str = str\n",
    "        self.openCount = openCount\n",
    "        self.closeCount = closeCount\n",
    "\n",
    "def generate_valid_parentheses(num):\n",
    "    result = []\n",
    "    queue = deque()\n",
    "    queue.append(ParenthesesString(\"\", 0, 0))\n",
    "    while queue:\n",
    "        ps = queue.popleft()\n",
    "        # if we've reached the maximum number of open and close parentheses, add to the result\n",
    "        if ps.openCount == num and ps.closeCount == num:\n",
    "            result.append(ps.str)\n",
    "        else:\n",
    "            if ps.openCount < num:  # if we can add an open parentheses, add it\n",
    "                queue.append(ParenthesesString(\n",
    "                    ps.str+'(', ps.openCount+1, ps.closeCount\n",
    "                ))\n",
    "            \n",
    "            if ps.openCount > ps.closeCount:  # if we can add a close parentheses, add it\n",
    "                queue.append(ParenthesesString(\n",
    "                    ps.str+')', ps.openCount, ps.closeCount+1\n",
    "                ))\n",
    "    return result\n",
    "\n",
    "def main():\n",
    "  print(\"All combinations of balanced parentheses are: \" +\n",
    "        str(generate_valid_parentheses(2)))\n",
    "  print(\"All combinations of balanced parentheses are: \" +\n",
    "        str(generate_valid_parentheses(3)))\n",
    "\n",
    "main()"
   ]
  },
  {
   "cell_type": "markdown",
   "metadata": {},
   "source": [
    "**Time Complexity**: In the worst case, it is equivalent to a binary tree that has $2^N$ leaf nodes and $2^N -1$ intermediate nodes. So the total number of elements pushed to the queue will be $2^N + 2^N - 1$, which is asymptotically equivalent to $O(2^N)$. While processing each element, we need $O(N)$ to concatenate the current string with ( or ). So the overall time complexity of our algorithm will be $O(N*2^N)$.<br>\n",
    "**Space Complexity**: $O(N*2^N)$ for the output list."
   ]
  },
  {
   "cell_type": "markdown",
   "metadata": {},
   "source": [
    "### Recursive Solution"
   ]
  },
  {
   "cell_type": "code",
   "execution_count": 4,
   "metadata": {},
   "outputs": [
    {
     "name": "stdout",
     "output_type": "stream",
     "text": [
      "All combinations of balanced parentheses are: ['(())', '()()']\n",
      "All combinations of balanced parentheses are: ['((()))', '(()())', '(())()', '()(())', '()()()']\n"
     ]
    }
   ],
   "source": [
    "def generate_valid_parentheses(num):\n",
    "    result = []\n",
    "    ParenthesesString = [0] * 2 * num\n",
    "    generate_valid_parentheses_rec(num, 0, 0, ParenthesesString, 0, result)\n",
    "    return result\n",
    "\n",
    "def generate_valid_parentheses_rec(num, openCount, closeCount, ParenthesesString, index, result):\n",
    "    # if we've reached the maximum number of open and close parentheses, add to the result\n",
    "    if openCount == num and closeCount == num:\n",
    "        result.append(''.join(ParenthesesString))\n",
    "    else:\n",
    "        if openCount < num:  # if we can add an open parentheses, add it\n",
    "            ParenthesesString[index] = '('\n",
    "            generate_valid_parentheses_rec(num, openCount+1, closeCount, ParenthesesString, index+1, result)\n",
    "        if closeCount < openCount:  # if we can add a close parentheses, add it\n",
    "            ParenthesesString[index] = ')'\n",
    "            generate_valid_parentheses_rec(num, openCount, closeCount+1, ParenthesesString, index+1, result)\n",
    "\n",
    "def main():\n",
    "    print(\"All combinations of balanced parentheses are: \" +\n",
    "            str(generate_valid_parentheses(2)))\n",
    "    print(\"All combinations of balanced parentheses are: \" +\n",
    "            str(generate_valid_parentheses(3)))\n",
    "\n",
    "main()"
   ]
  }
 ],
 "metadata": {
  "kernelspec": {
   "display_name": "Python 3.7.10 ('base')",
   "language": "python",
   "name": "python3"
  },
  "language_info": {
   "codemirror_mode": {
    "name": "ipython",
    "version": 3
   },
   "file_extension": ".py",
   "mimetype": "text/x-python",
   "name": "python",
   "nbconvert_exporter": "python",
   "pygments_lexer": "ipython3",
   "version": "3.7.10"
  },
  "orig_nbformat": 4,
  "vscode": {
   "interpreter": {
    "hash": "f8b40d688a12481f01eadf7380c47edd8a49484a47dba3db091451640e880c68"
   }
  }
 },
 "nbformat": 4,
 "nbformat_minor": 2
}
