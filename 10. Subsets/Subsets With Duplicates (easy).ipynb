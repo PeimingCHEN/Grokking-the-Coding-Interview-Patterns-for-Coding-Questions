{
 "cells": [
  {
   "cell_type": "markdown",
   "metadata": {},
   "source": [
    "# Subsets With Duplicates (easy)"
   ]
  },
  {
   "cell_type": "markdown",
   "metadata": {},
   "source": [
    "### Problem Statement\n",
    "Given a set of numbers that might contain duplicates, find all of its distinct subsets.<br>\n",
    "Leetcode: [90. Subsets II](https://leetcode.com/problems/subsets-ii/)\n",
    "\n",
    "##### Example 1\n",
    "**Input**: [1, 3, 3]<br>\n",
    "**Output**: [], [1], [3], [1,3], [3,3], [1,3,3]\n",
    "\n",
    "##### Example 2\n",
    "**Input**: [1, 5, 3, 3]<br>\n",
    "**Output**: [], [1], [5], [3], [1,5], [1,3], [5,3], [1,5,3], [3,3], [1,3,3], [3,3,5], [1,5,3,3] "
   ]
  },
  {
   "cell_type": "markdown",
   "metadata": {},
   "source": [
    "### Solution\n",
    "Since the given set can have duplicate numbers, if we follow the same approach discussed in Subsets, we will end up with duplicate subsets, which is not acceptable. To handle this, we will do two extra things:\n",
    "1. Sort all numbers of the given set. This will ensure that all duplicate numbers are next to each other.\n",
    "2. Follow the same BFS approach but whenever we are about to process a duplicate (i.e., when the current and the previous numbers are same), instead of adding the current number (which is a duplicate) to all the existing subsets, only add it to the subsets which were created in the previous step.\n",
    "\n",
    "Let’s take Example-2 mentioned above to go through each step of our algorithm:\n",
    "`Given set: [1, 5, 3, 3] ` \n",
    "`Sorted set: [1, 3, 3, 5]`\n",
    "1. Start with an empty set: [[]]\n",
    "2. Add the first number (1) to all the existing subsets to create new subsets: [[], [1]];\n",
    "3. Add the second number (3) to all the existing subsets: [[], [1], [3], [1,3]].\n",
    "4. The next number (3) is a duplicate. If we add it to all existing subsets we will get: [[], [1], [3], [1,3], [3], [1,3], [3,3], [1,3,3]]<br>\n",
    "We got two duplicate subsets: [3], [1,3]. Whereas we only needed the new subsets: [3,3], [1,3,3]<br>\n",
    "We only add it to the new subsets which were created in the previous (3rd) step: [[], [1], [3], [1,3], [3,3], [1,3,3]]\n",
    "5. Finally, add the fourth number (5) to all the existing subsets: [[], [1], [3], [1,3], [3,3], [1,3,3], [5], [1,5], [3,5], [1,3,5], [3,3,5], [1,3,3,5]]\n"
   ]
  },
  {
   "cell_type": "code",
   "execution_count": 5,
   "metadata": {},
   "outputs": [
    {
     "name": "stdout",
     "output_type": "stream",
     "text": [
      "Here is the list of subsets: [[], [1], [3], [1, 3], [3, 3], [1, 3, 3]]\n",
      "Here is the list of subsets: [[], [1], [3], [1, 3], [3, 3], [1, 3, 3], [5], [1, 5], [3, 5], [1, 3, 5], [3, 3, 5], [1, 3, 3, 5]]\n"
     ]
    }
   ],
   "source": [
    "def find_subsets(nums):\n",
    "    # sort the numbers to handle duplicates\n",
    "    nums.sort()\n",
    "    subsets = []\n",
    "    subsets.append([])\n",
    "    startIndex, endIndex = 0, 0\n",
    "    for i in range(len(nums)):\n",
    "        startIndex = 0\n",
    "        # if current and the previous elements are same, create new subsets only from the subsets\n",
    "        # added in the previous step\n",
    "        if i > 0 and nums[i] == nums[i-1]:\n",
    "            startIndex = endIndex + 1\n",
    "        endIndex = len(subsets) - 1\n",
    "        for j in range(startIndex, endIndex+1):\n",
    "            # create a new subset from the existing subset and add the current element to it\n",
    "            set1 = list(subsets[j])\n",
    "            set1.append(nums[i])\n",
    "            subsets.append(set1)\n",
    "    return subsets\n",
    "\n",
    "def main():\n",
    "    print(\"Here is the list of subsets: \" + str(find_subsets([1, 3, 3])))\n",
    "    print(\"Here is the list of subsets: \" + str(find_subsets([1, 5, 3, 3])))\n",
    "\n",
    "main()\n"
   ]
  },
  {
   "cell_type": "markdown",
   "metadata": {},
   "source": [
    "**Time Complexity**: Since, in each step, the number of subsets doubles (if not duplicate) as we add each element to all the existing subsets, therefore, we will have a total of $O(2^N)$ subsets, where ‘N’ is the total number of elements in the input set. And since we construct a new subset from an existing set, therefore, the time complexity of the above algorithm will be $O(N*2^N)$.<br>\n",
    "**Space Complexity**: All the additional space used by our algorithm is for the output list. Since we will have a total of $O(2^N)$ subsets, and each subset can take up to $O(N)$ space, therefore, the space complexity of our algorithm will be $O(N*2^N)$."
   ]
  }
 ],
 "metadata": {
  "kernelspec": {
   "display_name": "Python 3.7.10 ('base')",
   "language": "python",
   "name": "python3"
  },
  "language_info": {
   "codemirror_mode": {
    "name": "ipython",
    "version": 3
   },
   "file_extension": ".py",
   "mimetype": "text/x-python",
   "name": "python",
   "nbconvert_exporter": "python",
   "pygments_lexer": "ipython3",
   "version": "3.7.10"
  },
  "orig_nbformat": 4,
  "vscode": {
   "interpreter": {
    "hash": "f8b40d688a12481f01eadf7380c47edd8a49484a47dba3db091451640e880c68"
   }
  }
 },
 "nbformat": 4,
 "nbformat_minor": 2
}
