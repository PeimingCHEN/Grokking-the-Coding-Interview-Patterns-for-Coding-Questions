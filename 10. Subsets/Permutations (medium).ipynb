{
 "cells": [
  {
   "cell_type": "markdown",
   "metadata": {},
   "source": [
    "# Permutations (medium)"
   ]
  },
  {
   "cell_type": "markdown",
   "metadata": {},
   "source": [
    "### Problem Statement\n",
    "Given a set of distinct numbers, find all of its permutations.<br>\n",
    "Permutation is defined as the re-arranging of the elements of the set. For example, {1, 2, 3} has the following six permutations: {1, 2, 3}{1, 3, 2}{2, 1, 3}{2, 3, 1}{3, 1, 2}{3, 2, 1}<br>\n",
    "If a set has ‘n’ distinct elements it will have n! permutations.\n",
    "Leetcode: [46. Permutations](https://leetcode.com/problems/permutations/)\n",
    "\n",
    "##### Example 1\n",
    "**Input**: [1,3,5]<br>\n",
    "**Output**: [1,3,5], [1,5,3], [3,1,5], [3,5,1], [5,1,3], [5,3,1]"
   ]
  },
  {
   "cell_type": "markdown",
   "metadata": {},
   "source": [
    "### Solution\n",
    "Unlike Subsets, every permutation must contain all the numbers.\n",
    "\n",
    "Consider one number at a time:\n",
    " 1. If the given set is empty then we have only an empty permutation set: []\n",
    " 2. Let’s add the first element (1), the permutations will be: [1]\n",
    " 3. Let’s add the second element (3), the permutations will be: [3,1], [1,3]\n",
    " 4. Let’s add the third element (5), the permutations will be: [5,3,1], [3,5,1], [3,1,5], [5,1,3], [1,5,3], [1,3,5]\n",
    "\n",
    "In the 3rd and 4th step, when we add a new number (5), we take each permutation of the previous step and insert the new number in every position to generate the new permutations."
   ]
  },
  {
   "cell_type": "code",
   "execution_count": 1,
   "metadata": {},
   "outputs": [
    {
     "name": "stdout",
     "output_type": "stream",
     "text": [
      "Here are all the permutations: [[5, 3, 1], [3, 5, 1], [3, 1, 5], [5, 1, 3], [1, 5, 3], [1, 3, 5]]\n"
     ]
    }
   ],
   "source": [
    "from collections import deque\n",
    "\n",
    "def find_permutations(nums):\n",
    "    numsLength = len(nums)\n",
    "    result = []\n",
    "    permutations = deque()\n",
    "    permutations.append([])\n",
    "    for currentNumber in nums:\n",
    "        # we will take all existing permutations and add the current number to create new permutations\n",
    "        n = len(permutations)\n",
    "        for _ in range(n):\n",
    "            oldPermutation = permutations.popleft()\n",
    "            # create a new permutation by adding the current number at every position\n",
    "            for j in range(len(oldPermutation)+1):\n",
    "                newPermutation = list(oldPermutation)\n",
    "                newPermutation.insert(j, currentNumber)\n",
    "                if len(newPermutation) == numsLength:\n",
    "                    result.append(newPermutation)\n",
    "                else:\n",
    "                    permutations.append(newPermutation)\n",
    "    return result\n",
    "\n",
    "def main():\n",
    "    print(\"Here are all the permutations: \" + str(find_permutations([1, 3, 5])))\n",
    "\n",
    "main()"
   ]
  },
  {
   "cell_type": "markdown",
   "metadata": {},
   "source": [
    "**Time Complexity**: $O(N∗N!)$. there are a total of N! permutations of a set with ‘N’ numbers.<br>\n",
    "**Space Complexity**: $O(N∗N!)$. All the additional space used by our algorithm is for the result list and the queue to store the intermediate permutations. If you see closely, at any time, we don’t have more than N! permutations between the result list and the queue. Therefore the overall space complexity to store N! permutations each containing N elements will be O(N*N!)."
   ]
  },
  {
   "cell_type": "markdown",
   "metadata": {},
   "source": [
    "# Recursive Solution"
   ]
  },
  {
   "cell_type": "code",
   "execution_count": 3,
   "metadata": {},
   "outputs": [
    {
     "name": "stdout",
     "output_type": "stream",
     "text": [
      "Here are all the permutations: [[5, 3, 1], [3, 5, 1], [3, 1, 5], [5, 1, 3], [1, 5, 3], [1, 3, 5]]\n"
     ]
    }
   ],
   "source": [
    "def generate_permutations(nums):\n",
    "    result = []\n",
    "    generate_permutations_recursive(nums, 0, [], result)\n",
    "    return result\n",
    "\n",
    "def generate_permutations_recursive(nums, index, currentPermutation, result):\n",
    "    if index == len(nums):\n",
    "        result.append(currentPermutation)\n",
    "    else:\n",
    "        # create a new permutation by adding the current number at every position\n",
    "        for i in range(len(currentPermutation)+1):\n",
    "            newPermutation = list(currentPermutation)\n",
    "            newPermutation.insert(i, nums[index])\n",
    "            generate_permutations_recursive(\n",
    "                nums, index+1, newPermutation, result\n",
    "            )\n",
    "\n",
    "def main():\n",
    "    print(\"Here are all the permutations: \" + str(generate_permutations([1, 3, 5])))\n",
    "\n",
    "main()"
   ]
  }
 ],
 "metadata": {
  "kernelspec": {
   "display_name": "Python 3.7.10 ('base')",
   "language": "python",
   "name": "python3"
  },
  "language_info": {
   "codemirror_mode": {
    "name": "ipython",
    "version": 3
   },
   "file_extension": ".py",
   "mimetype": "text/x-python",
   "name": "python",
   "nbconvert_exporter": "python",
   "pygments_lexer": "ipython3",
   "version": "3.7.10"
  },
  "orig_nbformat": 4,
  "vscode": {
   "interpreter": {
    "hash": "f8b40d688a12481f01eadf7380c47edd8a49484a47dba3db091451640e880c68"
   }
  }
 },
 "nbformat": 4,
 "nbformat_minor": 2
}
