{
 "cells": [
  {
   "cell_type": "markdown",
   "metadata": {},
   "source": [
    "# Introduction & Subsets (easy)"
   ]
  },
  {
   "cell_type": "markdown",
   "metadata": {},
   "source": [
    "Breadth First Search (BFS) approach to handle Permutations and Combinations of a given set of elements."
   ]
  },
  {
   "cell_type": "markdown",
   "metadata": {},
   "source": [
    "### Problem Statement\n",
    "Given a set with distinct elements, find all of its distinct subsets.<br>\n",
    "Leetcode: [78. Subsets](https://leetcode.com/problems/subsets/)\n",
    "\n",
    "##### Example 1\n",
    "**Input**: [1, 3]<br>\n",
    "**Output**: [], [1], [3], [1,3]\n",
    "\n",
    "##### Example 2\n",
    "**Input**: [1, 5, 3]<br>\n",
    "**Output**: [], [1], [5], [3], [1,5], [1,3], [5,3], [1,5,3]"
   ]
  },
  {
   "cell_type": "markdown",
   "metadata": {},
   "source": [
    "### Solution\n",
    "To generate all subsets of the given set, we can use the Breadth First Search (BFS) approach. We can start with an empty set, iterate through all numbers one-by-one, and add them to existing sets to create new subsets.\n",
    "\n",
    "Let’s take the example-2 mentioned above to go through each step of our algorithm:\n",
    "\n",
    "Given set: [1, 5, 3]\n",
    "1. Start with an empty set: [[]]\n",
    "2. Add the first number (1) to all the existing subsets to create new subsets: [[], [1]];\n",
    "3. Add the second number (5) to all the existing subsets: [[], [1], [5], [1,5]];\n",
    "4. Add the third number (3) to all the existing subsets: [[], [1], [5], [1,5], [3], [1,3], [5,3], [1,5,3]].\n",
    "\n",
    "Since the input set has distinct elements, the above steps will ensure that we will not have any duplicate subsets."
   ]
  },
  {
   "cell_type": "code",
   "execution_count": 1,
   "metadata": {},
   "outputs": [
    {
     "name": "stdout",
     "output_type": "stream",
     "text": [
      "Here is the list of subsets: [[], [1], [3], [1, 3]]\n",
      "Here is the list of subsets: [[], [1], [5], [1, 5], [3], [1, 3], [5, 3], [1, 5, 3]]\n"
     ]
    }
   ],
   "source": [
    "def find_subsets(nums):\n",
    "    subsets = []\n",
    "    # start by adding the empty subset\n",
    "    subsets.append([])\n",
    "    for currentNumber in nums:\n",
    "        # we will take all existing subsets and insert the current number in them to create new subsets\n",
    "        n = len(subsets)\n",
    "        for i in range(n):\n",
    "            set1 = list(subsets[i])\n",
    "            set1.append(currentNumber)\n",
    "            subsets.append(set1)\n",
    "    return subsets\n",
    "\n",
    "def main():\n",
    "    print(\"Here is the list of subsets: \" + str(find_subsets([1, 3])))\n",
    "    print(\"Here is the list of subsets: \" + str(find_subsets([1, 5, 3])))\n",
    "\n",
    "main()"
   ]
  },
  {
   "cell_type": "markdown",
   "metadata": {},
   "source": [
    "**Time Complexity**: Since, in each step, the number of subsets doubles as we add each element to all the existing subsets, therefore, we will have a total of $O(2^N)$ subsets, where ‘N’ is the total number of elements in the input set. And since we construct a new subset from an existing set, therefore, the time complexity of the above algorithm will be $O(N*2^N)$.<br>\n",
    "**Space Complexity**: All the additional space used by our algorithm is for the output list. Since we will have a total of $O(2^N)$ subsets, and each subset can take up to $O(N)$ space, therefore, the space complexity of our algorithm will be $O(N*2^N)$."
   ]
  }
 ],
 "metadata": {
  "kernelspec": {
   "display_name": "Python 3.7.10 ('base')",
   "language": "python",
   "name": "python3"
  },
  "language_info": {
   "codemirror_mode": {
    "name": "ipython",
    "version": 3
   },
   "file_extension": ".py",
   "mimetype": "text/x-python",
   "name": "python",
   "nbconvert_exporter": "python",
   "pygments_lexer": "ipython3",
   "version": "3.7.10"
  },
  "orig_nbformat": 4,
  "vscode": {
   "interpreter": {
    "hash": "f8b40d688a12481f01eadf7380c47edd8a49484a47dba3db091451640e880c68"
   }
  }
 },
 "nbformat": 4,
 "nbformat_minor": 2
}
