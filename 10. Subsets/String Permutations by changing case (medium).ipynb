{
 "cells": [
  {
   "cell_type": "markdown",
   "metadata": {},
   "source": [
    "# String Permutations by changing case (medium)"
   ]
  },
  {
   "cell_type": "markdown",
   "metadata": {},
   "source": [
    "### Problem Statement\n",
    "Given a string, find all of its permutations preserving the character sequence but changing case.<br>\n",
    "If a set has ‘n’ distinct elements it will have n! permutations.\n",
    "Leetcode: [46. Permutations](https://leetcode.com/problems/permutations/)\n",
    "\n",
    "##### Example 1\n",
    "**Input**: \"ad52\"<br>\n",
    "**Output**: \"ad52\", \"Ad52\", \"aD52\", \"AD52\" \n",
    "\n",
    "##### Example 2\n",
    "**Input**: \"ab7c\"<br>\n",
    "**Output**: \"ab7c\", \"Ab7c\", \"aB7c\", \"AB7c\", \"ab7C\", \"Ab7C\", \"aB7C\", \"AB7C\""
   ]
  },
  {
   "cell_type": "markdown",
   "metadata": {},
   "source": [
    "### Solution\n",
    "Since we need to preserve the character sequence, we can start with the actual string and process each character (i.e., make it upper-case or lower-case) one by one:\n",
    "1. Starting with the actual string: \"ab7c\"\n",
    "2. Processing the first character (‘a’), we will get two permutations: \"ab7c\", \"Ab7c\"\n",
    "3. Processing the second character (‘b’), we will get four permutations: \"ab7c\", \"Ab7c\", \"aB7c\", \"AB7c\"\n",
    "4. Since the third character is a digit, we can skip it.\n",
    "5. Processing the fourth character (‘c’), we will get a total of eight permutations: \"ab7c\", \"Ab7c\", \"aB7c\", \"AB7c\", \"ab7C\", \"Ab7C\", \"aB7C\", \"AB7C\"\n",
    "\n",
    "In the 5th step, when we processed the new character (‘c’), we took all the permutations of the previous step (3rd) and changed the case of the letter (‘c’) in them to create four new permutations."
   ]
  },
  {
   "cell_type": "code",
   "execution_count": 1,
   "metadata": {},
   "outputs": [
    {
     "name": "stdout",
     "output_type": "stream",
     "text": [
      "String permutations are: ['ad52', 'Ad52', 'aD52', 'AD52']\n",
      "String permutations are: ['ab7c', 'Ab7c', 'aB7c', 'AB7c', 'ab7C', 'Ab7C', 'aB7C', 'AB7C']\n"
     ]
    }
   ],
   "source": [
    "def find_letter_case_string_permutations(str):\n",
    "    permutations = []\n",
    "    permutations.append(str)\n",
    "    # process every character of the string one by one\n",
    "    for i in range(len(str)):\n",
    "        if str[i].isalpha():  # only process characters, skip digits\n",
    "            # we will take all existing permutations and change the letter case appropriately\n",
    "            n = len(permutations)\n",
    "            for j in range(n):\n",
    "                chs = list(permutations[j])\n",
    "                # if the current character is in upper case, change it to lower case or vice versa\n",
    "                chs[i] = chs[i].swapcase()\n",
    "                permutations.append(''.join(chs))\n",
    "    return permutations\n",
    "\n",
    "def main():\n",
    "  print(\"String permutations are: \" +\n",
    "        str(find_letter_case_string_permutations(\"ad52\")))\n",
    "  print(\"String permutations are: \" +\n",
    "        str(find_letter_case_string_permutations(\"ab7c\")))\n",
    "\n",
    "main()"
   ]
  },
  {
   "cell_type": "markdown",
   "metadata": {},
   "source": [
    "**Time Complexity**: $O(N∗2^N)$. Since we can have $2^N$ permutations at the most and while processing each permutation we convert it into a character array.<br>\n",
    "**Space Complexity**: $O(N∗2^N)$. Since we can have a total of $O(2^N)$ permutations and each permutation has N characters."
   ]
  }
 ],
 "metadata": {
  "kernelspec": {
   "display_name": "Python 3.7.10 ('base')",
   "language": "python",
   "name": "python3"
  },
  "language_info": {
   "codemirror_mode": {
    "name": "ipython",
    "version": 3
   },
   "file_extension": ".py",
   "mimetype": "text/x-python",
   "name": "python",
   "nbconvert_exporter": "python",
   "pygments_lexer": "ipython3",
   "version": "3.7.10"
  },
  "orig_nbformat": 4,
  "vscode": {
   "interpreter": {
    "hash": "f8b40d688a12481f01eadf7380c47edd8a49484a47dba3db091451640e880c68"
   }
  }
 },
 "nbformat": 4,
 "nbformat_minor": 2
}
