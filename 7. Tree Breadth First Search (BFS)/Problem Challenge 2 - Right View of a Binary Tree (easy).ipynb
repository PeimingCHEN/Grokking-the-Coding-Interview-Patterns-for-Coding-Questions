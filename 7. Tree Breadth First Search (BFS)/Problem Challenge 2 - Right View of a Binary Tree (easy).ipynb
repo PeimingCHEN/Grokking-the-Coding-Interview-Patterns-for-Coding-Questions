{
 "cells": [
  {
   "cell_type": "markdown",
   "metadata": {},
   "source": [
    "# Problem Challenge 2: Right View of a Binary Tree (easy)"
   ]
  },
  {
   "cell_type": "markdown",
   "metadata": {},
   "source": [
    "### Problem Statement\n",
    "Given a binary tree, return an array containing nodes in its right view. The right view of a binary tree is the set of **nodes visible when the tree is seen from the right side**.<br>\n",
    "Leetcode: [199. Binary Tree Right Side View](https://leetcode.com/problems/binary-tree-right-side-view/)\n",
    "\n",
    "##### Example 1\n",
    "**Input**: root = [1,2,3,null,5,null,4]<br>\n",
    "**Output**: [1,3,4]"
   ]
  },
  {
   "cell_type": "markdown",
   "metadata": {},
   "source": [
    "### Solution\n",
    "append the last node of each level to the result array."
   ]
  },
  {
   "cell_type": "code",
   "execution_count": 2,
   "metadata": {},
   "outputs": [
    {
     "name": "stdout",
     "output_type": "stream",
     "text": [
      "Tree right view: \n",
      "12 1 5 3 "
     ]
    }
   ],
   "source": [
    "from collections import deque\n",
    "\n",
    "class TreeNode:\n",
    "    def __init__(self, val):\n",
    "        self.val = val\n",
    "        self.left, self.right = None, None\n",
    "        \n",
    "def tree_right_view(root):\n",
    "    result = []\n",
    "    if not root:\n",
    "        return result\n",
    "\n",
    "    queue = deque()\n",
    "    queue.append(root)\n",
    "    while queue:\n",
    "        levelSize = len(queue)\n",
    "        for i in range(levelSize):\n",
    "            currentNode = queue.popleft()\n",
    "            # if it is the last node of this level, add it to the result\n",
    "            if i == levelSize - 1:\n",
    "                result.append(currentNode)\n",
    "            # insert the children of current node in the queue\n",
    "            if currentNode.left:\n",
    "                queue.append(currentNode.left)\n",
    "            if currentNode.right:\n",
    "                queue.append(currentNode.right)\n",
    "    return result           \n",
    "\n",
    "def main():\n",
    "    root = TreeNode(12)\n",
    "    root.left = TreeNode(7)\n",
    "    root.right = TreeNode(1)\n",
    "    root.left.left = TreeNode(9)\n",
    "    root.right.left = TreeNode(10)\n",
    "    root.right.right = TreeNode(5)\n",
    "    root.left.left.left = TreeNode(3)\n",
    "    result = tree_right_view(root)\n",
    "    print(\"Tree right view: \")\n",
    "    for node in result:\n",
    "        print(str(node.val) + \" \", end='')\n",
    "\n",
    "main()"
   ]
  },
  {
   "cell_type": "markdown",
   "metadata": {},
   "source": [
    "**Time Complexity**: $O(N)$, where 'N' is the total number of nodes in the tree.<br>\n",
    "**Space Complexity**: $O(N)$ for the return list. We will also need $O(N)$ space for the queue. Since we can have a maximum of N/2 nodes at any level (this could happen only at the lowest level), therefore we will need $O(N)$ space to store them in the queue."
   ]
  }
 ],
 "metadata": {
  "kernelspec": {
   "display_name": "Python 3.7.10 ('base')",
   "language": "python",
   "name": "python3"
  },
  "language_info": {
   "codemirror_mode": {
    "name": "ipython",
    "version": 3
   },
   "file_extension": ".py",
   "mimetype": "text/x-python",
   "name": "python",
   "nbconvert_exporter": "python",
   "pygments_lexer": "ipython3",
   "version": "3.7.10"
  },
  "orig_nbformat": 4,
  "vscode": {
   "interpreter": {
    "hash": "f8b40d688a12481f01eadf7380c47edd8a49484a47dba3db091451640e880c68"
   }
  }
 },
 "nbformat": 4,
 "nbformat_minor": 2
}
