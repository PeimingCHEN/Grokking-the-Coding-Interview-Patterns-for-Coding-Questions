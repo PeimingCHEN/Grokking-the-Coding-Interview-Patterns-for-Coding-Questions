{
 "cells": [
  {
   "cell_type": "markdown",
   "metadata": {},
   "source": [
    "# Problem Challenge 1: Connect All Level Order Siblings (medium)"
   ]
  },
  {
   "cell_type": "markdown",
   "metadata": {},
   "source": [
    "### Problem Statement\n",
    "Given a binary tree, connect each node with its level order successor. The last node of each level should point to the first node of the next level.<br>"
   ]
  },
  {
   "cell_type": "markdown",
   "metadata": {},
   "source": [
    "### Solution\n",
    "while traversing we will remember (irrespective of the level) the previous node to connect it with the current node."
   ]
  },
  {
   "cell_type": "code",
   "execution_count": 1,
   "metadata": {},
   "outputs": [
    {
     "name": "stdout",
     "output_type": "stream",
     "text": [
      "Traversal using 'next' pointer: 12 7 1 9 10 5 "
     ]
    }
   ],
   "source": [
    "from __future__ import print_function\n",
    "from collections import deque\n",
    "\n",
    "class TreeNode:\n",
    "    def __init__(self, val):\n",
    "        self.val = val\n",
    "        self.left, self.right, self.next = None, None, None\n",
    "\n",
    "    # tree traversal using 'next' pointer\n",
    "    def print_tree(self):\n",
    "        print(\"Traversal using 'next' pointer: \", end='')\n",
    "        current = self\n",
    "        while current:\n",
    "            print(str(current.val) + \" \", end='')\n",
    "            current = current.next\n",
    "            \n",
    "def connect_all_siblings(root):\n",
    "    if not root:\n",
    "        return\n",
    "    \n",
    "    queue = deque()\n",
    "    queue.append(root)\n",
    "    currentNode, previousNode = None, None\n",
    "    while queue:\n",
    "        currentNode = queue.popleft()\n",
    "        if previousNode:\n",
    "            previousNode.next = currentNode\n",
    "        previousNode = currentNode\n",
    "        \n",
    "        # insert the children of current node in the queue\n",
    "        if currentNode.left:\n",
    "            queue.append(currentNode.left)\n",
    "        if currentNode.right:\n",
    "            queue.append(currentNode.right)\n",
    "\n",
    "def main():\n",
    "    root = TreeNode(12)\n",
    "    root.left = TreeNode(7)\n",
    "    root.right = TreeNode(1)\n",
    "    root.left.left = TreeNode(9)\n",
    "    root.right.left = TreeNode(10)\n",
    "    root.right.right = TreeNode(5)\n",
    "    connect_all_siblings(root)\n",
    "    root.print_tree()\n",
    "\n",
    "main()"
   ]
  },
  {
   "cell_type": "markdown",
   "metadata": {},
   "source": [
    "**Time Complexity**: $O(N)$, where 'N' is the total number of nodes in the tree.<br>\n",
    "**Space Complexity**: $O(N)$ for the queue. Since we can have a maximum of $N/2$ nodes at any level (this could happen only at the lowest level), therefore we will need $O(N)$ space to store them in the queue."
   ]
  }
 ],
 "metadata": {
  "kernelspec": {
   "display_name": "Python 3.7.10 ('base')",
   "language": "python",
   "name": "python3"
  },
  "language_info": {
   "codemirror_mode": {
    "name": "ipython",
    "version": 3
   },
   "file_extension": ".py",
   "mimetype": "text/x-python",
   "name": "python",
   "nbconvert_exporter": "python",
   "pygments_lexer": "ipython3",
   "version": "3.7.10"
  },
  "orig_nbformat": 4,
  "vscode": {
   "interpreter": {
    "hash": "f8b40d688a12481f01eadf7380c47edd8a49484a47dba3db091451640e880c68"
   }
  }
 },
 "nbformat": 4,
 "nbformat_minor": 2
}
