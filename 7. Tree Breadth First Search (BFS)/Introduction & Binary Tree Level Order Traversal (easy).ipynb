{
 "cells": [
  {
   "cell_type": "markdown",
   "metadata": {},
   "source": [
    "# Introduction & Binary Tree Level Order Traversal (easy)"
   ]
  },
  {
   "cell_type": "markdown",
   "metadata": {},
   "source": [
    "This pattern is based on the Breadth First Search (BFS) technique to traverse a tree in a **level-by-level** order.<br>\n",
    "\n",
    "Use a **Queue** to keep track of all the nodes of a level before jumping onto the next level.<br>\n",
    "\n",
    "This also means that the space complexity of the algorithm will be $O(W)$, where 'W' is the maximum number of nodes on any level. <br>"
   ]
  },
  {
   "cell_type": "markdown",
   "metadata": {},
   "source": [
    "### Problem Statement\n",
    "Given a binary tree, populate an array to represent its level-by-level traversal. You should populate the values of all **nodes of each level from left to right** in separate sub-arrays.<br>\n",
    "Leetcode: [102. Binary Tree Level Order Traversal](https://leetcode.com/problems/binary-tree-level-order-traversal/)\n",
    "\n",
    "##### Example 1\n",
    "Level Order Traversal:  \n",
    "                    [[1],<br>\n",
    "                    [2,3],<br>\n",
    "                    [4,5,6,7]] "
   ]
  },
  {
   "cell_type": "markdown",
   "metadata": {},
   "source": [
    "### Solution: Iteration\n",
    "Since we need to traverse all nodes of each level before moving onto the next level, we can use the Breadth First Search (BFS) with Queue in the **Iteration** form<br>\n",
    "1. Start by pushing the root node to the queue.\n",
    "2. Keep iterating until the queue is empty.\n",
    "3. In each iteration, first count the elements in the queue (let’s call it levelSize). We will have these many nodes in the current level.\n",
    "4. Next, remove levelSize nodes from the queue and push their value in an array to represent the current level.\n",
    "5. After removing each node from the queue, insert both of its children into the queue.\n",
    "6. If the queue is not empty, repeat from step 3 for the next level."
   ]
  },
  {
   "cell_type": "code",
   "execution_count": 1,
   "metadata": {},
   "outputs": [
    {
     "name": "stdout",
     "output_type": "stream",
     "text": [
      "Level order traversal: [[12], [7, 1], [9, 10, 5]]\n"
     ]
    }
   ],
   "source": [
    "from collections import deque\n",
    "\n",
    "class TreeNode:\n",
    "    def __init__(self, val):\n",
    "        self.val = val\n",
    "        self.left, self.right = None, None\n",
    "\n",
    "def traverse(root):\n",
    "    result = []\n",
    "    if root is None:\n",
    "        return result\n",
    "    queue = deque()\n",
    "    queue.append(root)\n",
    "    while queue:\n",
    "        levelSize = len(queue)\n",
    "        currentLevel = []\n",
    "        for _ in range(levelSize):\n",
    "            currentNode = queue.popleft()\n",
    "            # add the node to the current level\n",
    "            currentLevel.append(currentNode.val)\n",
    "            # insert the children of current node in the queue\n",
    "            if currentNode.left:\n",
    "                queue.append(currentNode.left)\n",
    "            if currentNode.right:\n",
    "                queue.append(currentNode.right)\n",
    "        result.append(currentLevel)\n",
    "    return result\n",
    "\n",
    "def main():\n",
    "    root = TreeNode(12)\n",
    "    root.left = TreeNode(7)\n",
    "    root.right = TreeNode(1)\n",
    "    root.left.left = TreeNode(9)\n",
    "    root.right.left = TreeNode(10)\n",
    "    root.right.right = TreeNode(5)\n",
    "    print(\"Level order traversal: \" + str(traverse(root)))\n",
    "\n",
    "main()\n",
    "            \n",
    "    "
   ]
  },
  {
   "cell_type": "markdown",
   "metadata": {},
   "source": [
    "### Solution: Recursion\n",
    "Let's first ensure that the tree is not empty, and then call recursively the function helper(node, level), which takes the current node and its level as the arguments.<br>\n",
    "1. The output list here is called *levels*, and hence the current level is just a length of this list *len(levels)*. Compare the number of a current level *len(levels)* with a node level *level*. If you're still on the previous level - add the new one by adding a new list into *levels*.\n",
    "2. Append the node value to the last list in *levels*.\n",
    "3. Process recursively child nodes if they are not *None* : *helper(node.left / node.right, level + 1)*."
   ]
  },
  {
   "cell_type": "code",
   "execution_count": 2,
   "metadata": {},
   "outputs": [
    {
     "name": "stdout",
     "output_type": "stream",
     "text": [
      "Level order traversal: [[12], [7, 1], [9, 10, 5]]\n"
     ]
    }
   ],
   "source": [
    "class TreeNode:\n",
    "    def __init__(self, val):\n",
    "        self.val = val\n",
    "        self.left, self.right = None, None\n",
    "        \n",
    "def traverse(root):\n",
    "    levels = []\n",
    "    if not root:\n",
    "        return levels\n",
    "    \n",
    "    def helper(node, level):\n",
    "        # start the current level\n",
    "        if len(levels) == level:\n",
    "            levels.append([])\n",
    "        \n",
    "        # append the current node value\n",
    "        levels[level].append(node.val)\n",
    "        \n",
    "        # process child nodes for the next level\n",
    "        if node.left:\n",
    "            helper(node.left, level + 1)\n",
    "        if node.right:\n",
    "            helper(node.right, level + 1)\n",
    "    \n",
    "    helper(root, 0)\n",
    "    return levels\n",
    "\n",
    "def main():\n",
    "    root = TreeNode(12)\n",
    "    root.left = TreeNode(7)\n",
    "    root.right = TreeNode(1)\n",
    "    root.left.left = TreeNode(9)\n",
    "    root.right.left = TreeNode(10)\n",
    "    root.right.right = TreeNode(5)\n",
    "    print(\"Level order traversal: \" + str(traverse(root)))\n",
    "\n",
    "main()"
   ]
  },
  {
   "cell_type": "markdown",
   "metadata": {},
   "source": [
    "**Time Complexity**: $O(N)$, where 'N' is the total number of nodes in the tree. This is due to the fact that we traverse each node once.<br>\n",
    "**Space Complexity**: $O(N)$, as we need to return a list containing the level order traversal."
   ]
  }
 ],
 "metadata": {
  "kernelspec": {
   "display_name": "Python 3.7.10 ('base')",
   "language": "python",
   "name": "python3"
  },
  "language_info": {
   "codemirror_mode": {
    "name": "ipython",
    "version": 3
   },
   "file_extension": ".py",
   "mimetype": "text/x-python",
   "name": "python",
   "nbconvert_exporter": "python",
   "pygments_lexer": "ipython3",
   "version": "3.7.10"
  },
  "orig_nbformat": 4,
  "vscode": {
   "interpreter": {
    "hash": "f8b40d688a12481f01eadf7380c47edd8a49484a47dba3db091451640e880c68"
   }
  }
 },
 "nbformat": 4,
 "nbformat_minor": 2
}
