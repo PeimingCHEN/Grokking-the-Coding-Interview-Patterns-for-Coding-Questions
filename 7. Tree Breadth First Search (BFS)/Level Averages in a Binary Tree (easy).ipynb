{
 "cells": [
  {
   "cell_type": "markdown",
   "metadata": {},
   "source": [
    "# Level Averages in a Binary Tree (easy)"
   ]
  },
  {
   "cell_type": "markdown",
   "metadata": {},
   "source": [
    "### Problem Statement\n",
    "Given a binary tree, populate an array to represent the **averages of all of its levels**.<br>\n",
    "Leetcode: [637. Average of Levels in Binary Tree](https://leetcode.com/problems/average-of-levels-in-binary-tree/)\n",
    "\n",
    "##### Example 1\n",
    "**Input**: root = [3,9,20,null,null,15,7]<br>\n",
    "**Output**: [3.00000,14.50000,11.00000]<br>\n",
    "**Explanation**: The average value of nodes on level 0 is 3, on level 1 is 14.5, and on level 2 is 11.\n",
    "Hence return [3, 14.5, 11]."
   ]
  },
  {
   "cell_type": "markdown",
   "metadata": {},
   "source": [
    "### Solution\n",
    "we will only track the running sum of the values of all nodes in each level. In the end, we will append the average of the current level to the result array."
   ]
  },
  {
   "cell_type": "code",
   "execution_count": 2,
   "metadata": {},
   "outputs": [
    {
     "name": "stdout",
     "output_type": "stream",
     "text": [
      "Level averages are: [12.0, 4.0, 6.5]\n"
     ]
    }
   ],
   "source": [
    "from collections import deque\n",
    "\n",
    "class TreeNode:\n",
    "    def __init__(self, val):\n",
    "        self.val = val\n",
    "        self.left, self.right = None, None\n",
    "        \n",
    "def find_level_averages(root):\n",
    "    result = []\n",
    "    if not root:\n",
    "        return result\n",
    "    \n",
    "    queue = deque()\n",
    "    queue.append(root)\n",
    "    while queue:\n",
    "        levelSize = len(queue)\n",
    "        levelSum = 0.0\n",
    "        for _ in range(levelSize):\n",
    "            currentNode = queue.popleft()\n",
    "            # add the node's value to the running sum\n",
    "            levelSum += currentNode.val\n",
    "            # insert the children of current node to the queue\n",
    "            if currentNode.left:\n",
    "                queue.append(currentNode.left)\n",
    "            if currentNode.right:\n",
    "                queue.append(currentNode.right)\n",
    "                \n",
    "        # append the current level's average to the result array\n",
    "        result.append(levelSum / levelSize)\n",
    "    \n",
    "    return result\n",
    "\n",
    "def main():\n",
    "    root = TreeNode(12)\n",
    "    root.left = TreeNode(7)\n",
    "    root.right = TreeNode(1)\n",
    "    root.left.left = TreeNode(9)\n",
    "    root.left.right = TreeNode(2)\n",
    "    root.right.left = TreeNode(10)\n",
    "    root.right.right = TreeNode(5)\n",
    "    print(\"Level averages are: \" + str(find_level_averages(root)))\n",
    "\n",
    "main()"
   ]
  },
  {
   "cell_type": "markdown",
   "metadata": {},
   "source": [
    "**Time Complexity**: $O(N)$, where 'N' is the total number of nodes in the tree.<br>\n",
    "**Space Complexity**: $O(N)$ for the queue. Since we can have a maximum of $N/2$ nodes at any level (this could happen only at the lowest level), therefore we will need $O(N)$ space to store them in the queue."
   ]
  }
 ],
 "metadata": {
  "kernelspec": {
   "display_name": "Python 3.7.10 ('base')",
   "language": "python",
   "name": "python3"
  },
  "language_info": {
   "codemirror_mode": {
    "name": "ipython",
    "version": 3
   },
   "file_extension": ".py",
   "mimetype": "text/x-python",
   "name": "python",
   "nbconvert_exporter": "python",
   "pygments_lexer": "ipython3",
   "version": "3.7.10"
  },
  "orig_nbformat": 4,
  "vscode": {
   "interpreter": {
    "hash": "f8b40d688a12481f01eadf7380c47edd8a49484a47dba3db091451640e880c68"
   }
  }
 },
 "nbformat": 4,
 "nbformat_minor": 2
}
