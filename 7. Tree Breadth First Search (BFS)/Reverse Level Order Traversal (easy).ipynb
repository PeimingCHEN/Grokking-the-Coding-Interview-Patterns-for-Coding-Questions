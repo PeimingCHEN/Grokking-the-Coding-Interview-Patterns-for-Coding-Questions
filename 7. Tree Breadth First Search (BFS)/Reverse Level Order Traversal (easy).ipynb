{
 "cells": [
  {
   "cell_type": "markdown",
   "metadata": {},
   "source": [
    "# Reverse Level Order Traversal (easy)"
   ]
  },
  {
   "cell_type": "markdown",
   "metadata": {},
   "source": [
    "### Problem Statement\n",
    "Given a binary tree, populate an array to represent its level-by-level traversal in reverse order, i.e., the **lowest level comes first**. You should populate the values of all nodes in each level from left to right in separate sub-arrays.<br>\n",
    "Leetcode: [107. Binary Tree Level Order Traversal II](https://leetcode.com/problems/binary-tree-level-order-traversal-ii/)\n",
    "\n",
    "##### Example 1\n",
    "**Input**: root = [3,9,20,null,null,15,7] <br>\n",
    "**Output**: [[15,7],[9,20],[3]]"
   ]
  },
  {
   "cell_type": "markdown",
   "metadata": {},
   "source": [
    "### Solution: Iteration\n",
    "This problem follows the Binary Tree Level Order Traversal pattern. The only difference will be that instead of appending the current level at the end, we will append the current level at the beginning of the result list."
   ]
  },
  {
   "cell_type": "code",
   "execution_count": 1,
   "metadata": {},
   "outputs": [
    {
     "name": "stdout",
     "output_type": "stream",
     "text": [
      "Reverse level order traversal: deque([[9, 10, 5], [7, 1], [12]])\n"
     ]
    }
   ],
   "source": [
    "from collections import deque\n",
    "\n",
    "class TreeNode:\n",
    "    def __init__(self, val):\n",
    "        self.val = val\n",
    "        self.left, self.right = None, None\n",
    "\n",
    "def traverse(root):\n",
    "    result = deque()\n",
    "    if not root:\n",
    "        return result\n",
    "    \n",
    "    queue = deque()\n",
    "    queue.append(root)\n",
    "    while queue:\n",
    "        levelSize = len(queue)\n",
    "        currentLevel = []\n",
    "        for _ in range(levelSize):\n",
    "            currentNode = queue.popleft()\n",
    "            # add the node to the current level\n",
    "            currentLevel.append(currentNode.val)\n",
    "            # insert the children of current node in the queue\n",
    "            if currentNode.left:\n",
    "                queue.append(currentNode.left)\n",
    "            if currentNode.right:\n",
    "                queue.append(currentNode.right)\n",
    "        result.appendleft(currentLevel)\n",
    "    return result\n",
    "\n",
    "def main():\n",
    "    root = TreeNode(12)\n",
    "    root.left = TreeNode(7)\n",
    "    root.right = TreeNode(1)\n",
    "    root.left.left = TreeNode(9)\n",
    "    root.right.left = TreeNode(10)\n",
    "    root.right.right = TreeNode(5)\n",
    "    print(\"Reverse level order traversal: \" + str(traverse(root)))\n",
    "\n",
    "main()"
   ]
  },
  {
   "cell_type": "markdown",
   "metadata": {},
   "source": [
    "### Solution: Recursion\n",
    "Let's first ensure that the tree is not empty, and then call recursively the function helper(node, level), which takes the current node and its level as the arguments.<br>\n",
    "1. Initialize the output list *levels*. The length of this list determines which level is currently updated. You should compare this level *len(levels)* with a node level *level*, to ensure that you add the node on the correct level. If you're still on the previous level - add the new level by adding a new list into *levels*.\n",
    "2. Append the node value to the last list in *levels*.\n",
    "3. Process recursively child nodes if they are not *None* : *helper(node.left / node.right, level + 1)*."
   ]
  },
  {
   "cell_type": "code",
   "execution_count": 3,
   "metadata": {},
   "outputs": [
    {
     "name": "stdout",
     "output_type": "stream",
     "text": [
      "Reverse level order traversal: [[9, 10, 5], [7, 1], [12]]\n"
     ]
    }
   ],
   "source": [
    "class TreeNode:\n",
    "    def __init__(self, val):\n",
    "        self.val = val\n",
    "        self.left, self.right = None, None\n",
    "\n",
    "def traverse(root):\n",
    "    levels = []\n",
    "    if not root:\n",
    "        return levels\n",
    "    \n",
    "    def helper(node, level):\n",
    "        # start the current level\n",
    "        if len(levels) == level:\n",
    "            levels.append([])\n",
    "        \n",
    "        # append the current node value\n",
    "        levels[level].append(node.val)\n",
    "        \n",
    "        # process child nodes for the next level\n",
    "        if node.left:\n",
    "            helper(node.left, level + 1)\n",
    "        if node.right:\n",
    "            helper(node.right, level + 1)\n",
    "    \n",
    "    helper(root, 0)\n",
    "    return levels[::-1]\n",
    "\n",
    "def main():\n",
    "    root = TreeNode(12)\n",
    "    root.left = TreeNode(7)\n",
    "    root.right = TreeNode(1)\n",
    "    root.left.left = TreeNode(9)\n",
    "    root.right.left = TreeNode(10)\n",
    "    root.right.right = TreeNode(5)\n",
    "    print(\"Reverse level order traversal: \" + str(traverse(root)))\n",
    "\n",
    "main()"
   ]
  },
  {
   "cell_type": "markdown",
   "metadata": {},
   "source": [
    "**Time Complexity**: $O(N)$, where 'N' is the total number of nodes in the tree.<br>\n",
    "**Space Complexity**: $O(N)$, as we need to return a list containing the level order traversal."
   ]
  }
 ],
 "metadata": {
  "kernelspec": {
   "display_name": "Python 3.7.5 64-bit",
   "language": "python",
   "name": "python3"
  },
  "language_info": {
   "codemirror_mode": {
    "name": "ipython",
    "version": 3
   },
   "file_extension": ".py",
   "mimetype": "text/x-python",
   "name": "python",
   "nbconvert_exporter": "python",
   "pygments_lexer": "ipython3",
   "version": "3.7.5"
  },
  "orig_nbformat": 4,
  "vscode": {
   "interpreter": {
    "hash": "3c131d9f6474af261955aa1e8207c8433a778a6baed14433cc473bd0afc9ca1d"
   }
  }
 },
 "nbformat": 4,
 "nbformat_minor": 2
}
