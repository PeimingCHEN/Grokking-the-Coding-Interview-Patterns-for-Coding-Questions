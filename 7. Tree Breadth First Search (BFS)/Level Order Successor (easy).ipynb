{
 "cells": [
  {
   "cell_type": "markdown",
   "metadata": {},
   "source": [
    "# Level Order Successor (easy)"
   ]
  },
  {
   "cell_type": "markdown",
   "metadata": {},
   "source": [
    "### Problem Statement\n",
    "Given a binary tree and a node, find the level order successor of the given node in the tree. The level order successor is the node that appears right after the given node in the level order traversal.<br>"
   ]
  },
  {
   "cell_type": "markdown",
   "metadata": {},
   "source": [
    "### Solution\n",
    "As soon as we find the given node, we will return the next node from the queue as the level order successor."
   ]
  },
  {
   "cell_type": "code",
   "execution_count": 1,
   "metadata": {},
   "outputs": [
    {
     "name": "stdout",
     "output_type": "stream",
     "text": [
      "4\n",
      "10\n",
      "7\n"
     ]
    }
   ],
   "source": [
    "from collections import deque\n",
    "\n",
    "class TreeNode:\n",
    "    def __init__(self, val):\n",
    "        self.val = val\n",
    "        self.left, self.right = None, None\n",
    "        \n",
    "def find_successor(root, key):\n",
    "    if not root:\n",
    "        return None\n",
    "    \n",
    "    queue = deque()\n",
    "    queue.append(root)\n",
    "    while queue:\n",
    "        currentNode = queue.popleft()\n",
    "        # insert the children of current node in the queue\n",
    "        if currentNode.left:\n",
    "            queue.append(currentNode.left)\n",
    "        if currentNode.right:\n",
    "            queue.append(currentNode.right)\n",
    "\n",
    "        # break if we have found the key\n",
    "        if currentNode.val == key:\n",
    "            break\n",
    "    return queue[0] if queue else None\n",
    "\n",
    "def main():\n",
    "    root = TreeNode(1)\n",
    "    root.left = TreeNode(2)\n",
    "    root.right = TreeNode(3)\n",
    "    root.left.left = TreeNode(4)\n",
    "    root.left.right = TreeNode(5)\n",
    "    \n",
    "    result = find_successor(root, 3)\n",
    "    if result:\n",
    "        print(result.val)\n",
    "\n",
    "    root = TreeNode(12)\n",
    "    root.left = TreeNode(7)\n",
    "    root.right = TreeNode(1)\n",
    "    root.left.left = TreeNode(9)\n",
    "    root.right.left = TreeNode(10)\n",
    "    root.right.right = TreeNode(5)\n",
    "    \n",
    "    result = find_successor(root, 9)\n",
    "    if result:\n",
    "        print(result.val)\n",
    "    \n",
    "    result = find_successor(root, 12)\n",
    "    if result:\n",
    "        print(result.val)\n",
    "\n",
    "main()"
   ]
  },
  {
   "cell_type": "markdown",
   "metadata": {},
   "source": [
    "**Time Complexity**: $O(N)$, where 'N' is the total number of nodes in the tree.<br>\n",
    "**Space Complexity**: $O(N)$ for the queue. Since we can have a maximum of $N/2$ nodes at any level (this could happen only at the lowest level), therefore we will need $O(N)$ space to store them in the queue."
   ]
  }
 ],
 "metadata": {
  "kernelspec": {
   "display_name": "Python 3.7.10 ('base')",
   "language": "python",
   "name": "python3"
  },
  "language_info": {
   "codemirror_mode": {
    "name": "ipython",
    "version": 3
   },
   "file_extension": ".py",
   "mimetype": "text/x-python",
   "name": "python",
   "nbconvert_exporter": "python",
   "pygments_lexer": "ipython3",
   "version": "3.7.10"
  },
  "orig_nbformat": 4,
  "vscode": {
   "interpreter": {
    "hash": "f8b40d688a12481f01eadf7380c47edd8a49484a47dba3db091451640e880c68"
   }
  }
 },
 "nbformat": 4,
 "nbformat_minor": 2
}
