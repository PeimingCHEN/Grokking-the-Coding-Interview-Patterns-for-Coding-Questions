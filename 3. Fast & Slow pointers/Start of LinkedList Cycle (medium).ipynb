{
 "cells": [
  {
   "cell_type": "markdown",
   "metadata": {},
   "source": [
    "# Start of LinkedList Cycle (medium)"
   ]
  },
  {
   "cell_type": "markdown",
   "metadata": {},
   "source": [
    "### Problem Statement\n",
    "Given the head of a **Singly LinkedList** that contains a cycle, write a function to find the **starting node of the cycle**.<br>\n",
    "Leetcode: [142. Linked List Cycle II](https://leetcode.com/problems/linked-list-cycle-ii/)"
   ]
  },
  {
   "cell_type": "markdown",
   "metadata": {},
   "source": [
    "### Solution\n",
    "Find the length of the LinkedList cycle to find the start.\n",
    "1. Take two pointers (pointer1 and pointer2) to point to the start of the LinkedList.\n",
    "2. Find the length of the LinkedList cycle like LinkedList Cycle. Assumae the length of cycle is 'K' nodes.\n",
    "3. Move pointer2 ahead by 'K' nodes.\n",
    "4. Keep incrementing pointer1 and pointer2 until they both meet.\n",
    "5. As pointer2 is 'K' nodes ahead of pointer1, which means, pointer2 must have completed one loop in the cycle when both pointers meet. Their meeting point will be the start of the cycle."
   ]
  },
  {
   "cell_type": "code",
   "execution_count": 2,
   "metadata": {},
   "outputs": [
    {
     "name": "stdout",
     "output_type": "stream",
     "text": [
      "LinkedList cycle start: 3\n",
      "LinkedList cycle start: 4\n",
      "LinkedList cycle start: 1\n"
     ]
    }
   ],
   "source": [
    "class Node:\n",
    "    def __init__(self, value, next=None):\n",
    "        self.value = value\n",
    "        self.next = next\n",
    "        \n",
    "def find_cycle_start(head):\n",
    "    cycle_length = 0\n",
    "    # find the LinkedList cycle\n",
    "    slow, fast = head, head\n",
    "    while fast and fast.next:\n",
    "        fast = fast.next.next\n",
    "        slow = slow.next\n",
    "        if fast == slow:  # found the cycle\n",
    "            cycle_length = calculate_cycle_length(slow)\n",
    "            break\n",
    "    return find_start(head, cycle_length)\n",
    "\n",
    "def calculate_cycle_length(slow):\n",
    "    current = slow\n",
    "    cycle_length = 0\n",
    "    while True:\n",
    "        current = current.next\n",
    "        cycle_length += 1\n",
    "        if current == slow:\n",
    "            break\n",
    "    return cycle_length\n",
    "\n",
    "def find_start(head, cycle_length):\n",
    "    pointer1 = head\n",
    "    pointer2 = head\n",
    "    # move pointer2 ahead 'cycle_length' nodes\n",
    "    while cycle_length > 0:\n",
    "        pointer2 = pointer2.next\n",
    "        cycle_length -= 1\n",
    "    # increment both pointers until they meet at the start of the cycle\n",
    "    while pointer1 != pointer2:\n",
    "        pointer1 = pointer1.next\n",
    "        pointer2 = pointer2.next\n",
    "    return pointer1\n",
    "\n",
    "def main():\n",
    "    head = Node(1)\n",
    "    head.next = Node(2)\n",
    "    head.next.next = Node(3)\n",
    "    head.next.next.next = Node(4)\n",
    "    head.next.next.next.next = Node(5)\n",
    "    head.next.next.next.next.next = Node(6)\n",
    "\n",
    "    head.next.next.next.next.next.next = head.next.next\n",
    "    print(\"LinkedList cycle start: \" + str(find_cycle_start(head).value))\n",
    "\n",
    "    head.next.next.next.next.next.next = head.next.next.next\n",
    "    print(\"LinkedList cycle start: \" + str(find_cycle_start(head).value))\n",
    "\n",
    "    head.next.next.next.next.next.next = head\n",
    "    print(\"LinkedList cycle start: \" + str(find_cycle_start(head).value))\n",
    "\n",
    "main()"
   ]
  },
  {
   "cell_type": "markdown",
   "metadata": {},
   "source": [
    "**Time Complexity**: $O(N)$, finding the cycle in a LinkedList with 'N' nodes, finding the length of the cycle and finding the start of the cycle need $O(N)$<br>\n",
    "**Space Complexity**: $O(1)$."
   ]
  }
 ],
 "metadata": {
  "kernelspec": {
   "display_name": "Python 3.7.10 ('base')",
   "language": "python",
   "name": "python3"
  },
  "language_info": {
   "codemirror_mode": {
    "name": "ipython",
    "version": 3
   },
   "file_extension": ".py",
   "mimetype": "text/x-python",
   "name": "python",
   "nbconvert_exporter": "python",
   "pygments_lexer": "ipython3",
   "version": "3.7.10"
  },
  "orig_nbformat": 4,
  "vscode": {
   "interpreter": {
    "hash": "f8b40d688a12481f01eadf7380c47edd8a49484a47dba3db091451640e880c68"
   }
  }
 },
 "nbformat": 4,
 "nbformat_minor": 2
}
