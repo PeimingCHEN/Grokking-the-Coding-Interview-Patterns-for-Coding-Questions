{
 "cells": [
  {
   "cell_type": "markdown",
   "metadata": {},
   "source": [
    "# Problem Challenge 2: Rearrange a LinkedList (medium)"
   ]
  },
  {
   "cell_type": "markdown",
   "metadata": {},
   "source": [
    "### Problem Statement\n",
    "Given the head of a Singly LinkedList, write a method to modify the LinkedList such that the **nodes from the second half of the LinkedList are inserted alternately to the nodes from the first half in reverse order**.<br>\n",
    "Leetcode: [143. Reorder List](https://leetcode.com/problems/reorder-list/)\n",
    "\n",
    "##### Example 1\n",
    "**Input**: 2 -> 4 -> 6 -> 8 -> 10 -> 12 -> null<br>\n",
    "**Output**: 2 -> 12 -> 4 -> 10 -> 6 -> 8 -> null<br>\n",
    "\n",
    "##### Example 2\n",
    "**Input**: 2 -> 4 -> 6 -> 8 -> 10 -> null<br>\n",
    "**Output**: 2 -> 10 -> 4 -> 8 -> 6 -> null<br>"
   ]
  },
  {
   "cell_type": "markdown",
   "metadata": {},
   "source": [
    "### Solution\n",
    "1. Use the Fast & Slow pointers method similar to Middle of the LinkedList to find the middle node of the LinkedList.\n",
    "2. Once we have the middle of the LinkedList, we will reverse the second half of the LinkedList.\n",
    "3. Iterate through the first half and the reversed second half to produce a LinkedList in the required order."
   ]
  },
  {
   "cell_type": "code",
   "execution_count": 3,
   "metadata": {},
   "outputs": [
    {
     "name": "stdout",
     "output_type": "stream",
     "text": [
      "2 12 4 10 6 8 \n"
     ]
    }
   ],
   "source": [
    "class Node:\n",
    "    def __init__(self, value, next=None):\n",
    "        self.value = value\n",
    "        self.next = next\n",
    "        \n",
    "    def print_list(self):\n",
    "        temp = self\n",
    "        while temp is not None:\n",
    "            print(str(temp.value) + \" \", end='')\n",
    "            temp = temp.next\n",
    "        print()\n",
    "        \n",
    "def reorder(head):\n",
    "    if head is None and head.next is None:\n",
    "        return \n",
    "    \n",
    "    # find middle of the LinkedList\n",
    "    slow, fast = head, head\n",
    "    while fast and fast.next:\n",
    "        slow = slow.next\n",
    "        fast = fast.next.next\n",
    "    \n",
    "    # slow is now pointing to the middle node\n",
    "    reverse_second_half = reverse(slow)  # reverse the second half\n",
    "    first_half = head\n",
    "    \n",
    "    # rearrange to produce the LinkedList in the required order\n",
    "    while first_half and reverse_second_half:\n",
    "        temp = first_half.next\n",
    "        first_half.next = reverse_second_half\n",
    "        first_half = temp\n",
    "        \n",
    "        temp = reverse_second_half.next\n",
    "        reverse_second_half.next = first_half\n",
    "        reverse_second_half = temp\n",
    "    \n",
    "    # set the next of the last node to 'None'  \n",
    "    if first_half is not None:\n",
    "        first_half.next = None\n",
    "        \n",
    "def reverse(head):\n",
    "    prev = None\n",
    "    while head:\n",
    "        next = head.next\n",
    "        head.next = prev\n",
    "        prev = head\n",
    "        head = next\n",
    "    return prev\n",
    "\n",
    "def main():\n",
    "    head = Node(2)\n",
    "    head.next = Node(4)\n",
    "    head.next.next = Node(6)\n",
    "    head.next.next.next = Node(8)\n",
    "    head.next.next.next.next = Node(10)\n",
    "    head.next.next.next.next.next = Node(12)\n",
    "    reorder(head)\n",
    "    head.print_list()\n",
    "\n",
    "main()"
   ]
  },
  {
   "cell_type": "markdown",
   "metadata": {},
   "source": [
    "**Time Complexity**: $O(N)$, where 'N' is the number of nodes in the LinkedList.<br>\n",
    "**Space Complexity**: $O(1)$."
   ]
  }
 ],
 "metadata": {
  "kernelspec": {
   "display_name": "Python 3.7.10 ('base')",
   "language": "python",
   "name": "python3"
  },
  "language_info": {
   "codemirror_mode": {
    "name": "ipython",
    "version": 3
   },
   "file_extension": ".py",
   "mimetype": "text/x-python",
   "name": "python",
   "nbconvert_exporter": "python",
   "pygments_lexer": "ipython3",
   "version": "3.7.10"
  },
  "orig_nbformat": 4,
  "vscode": {
   "interpreter": {
    "hash": "f8b40d688a12481f01eadf7380c47edd8a49484a47dba3db091451640e880c68"
   }
  }
 },
 "nbformat": 4,
 "nbformat_minor": 2
}
