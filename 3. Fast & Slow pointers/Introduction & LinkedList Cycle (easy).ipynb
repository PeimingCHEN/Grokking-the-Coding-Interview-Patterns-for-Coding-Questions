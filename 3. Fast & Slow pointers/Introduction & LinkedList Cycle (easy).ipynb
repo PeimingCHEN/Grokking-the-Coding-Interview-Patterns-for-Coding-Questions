{
 "cells": [
  {
   "cell_type": "markdown",
   "metadata": {},
   "source": [
    "# Introduction & LinkedList Cycle (easy)"
   ]
  },
  {
   "cell_type": "markdown",
   "metadata": {},
   "source": [
    "Fast & Slow pointer approach uses two pointers which move through the array (or sequence/LinkedList) at different speeds to deal with cyclic LinkedLists or arrays.\n",
    "The fast pointer should catch the slow pointer once both the pointers are in a cyclic loop."
   ]
  },
  {
   "cell_type": "markdown",
   "metadata": {},
   "source": [
    "### Problem Statement\n",
    "Given the head of a **Singly LinkedList**, write a function to determine if the LinkedList has a **cycle** in it or not.<br>\n",
    "Leetcode: [141. Linked List Cycle](https://leetcode.com/problems/linked-list-cycle/)"
   ]
  },
  {
   "cell_type": "markdown",
   "metadata": {},
   "source": [
    "### Solution\n",
    "Use a slow and fast pointer to traverse the LinkedList. In each iteration, the slow pointer moves one step and the fast pointer moves two steps. then\n",
    "1. If the LinkedList doesn’t have a cycle, the fast pointer will reach the end of the LinkedList before the slow pointer and the slow pointer will never catch up to the fast pointer.\n",
    "2. If the LinkedList has a cycle, the fast pointer enters the cycle first, followed by the slow pointer. If the two pointers can meet, there are two possibilities for the fast pointer is approaching the slow pointer: the fast pointer is one step behind the slow pointer or two steps.<br>\n",
    "All other distances between the fast and slow pointers will reduce to one of these two possibilities. Analyze the above scenarios:\n",
    "* 1. If the fast pointer is one step behind the slow pointer: The fast pointer moves two steps and the slow pointer moves one step, and they both meet.\n",
    "* 2. If the fast pointer is two steps behind the slow pointer: The fast pointer moves two steps and the slow pointer moves one step. After the moves, the fast pointer will be one step behind the slow pointer, which reduces this scenario to the first scenario. This means that the two pointers will meet in the next iteration."
   ]
  },
  {
   "cell_type": "code",
   "execution_count": 1,
   "metadata": {},
   "outputs": [
    {
     "name": "stdout",
     "output_type": "stream",
     "text": [
      "LinkedList has cycle: False\n",
      "LinkedList has cycle: True\n",
      "LinkedList has cycle: True\n"
     ]
    }
   ],
   "source": [
    "class Node:\n",
    "    def __init__(self, value, next=None):\n",
    "        self.value = value\n",
    "        self.next = next\n",
    "        \n",
    "def has_cycle(head):\n",
    "    slow, fast = head, head\n",
    "    while fast and fast.next:\n",
    "        fast = fast.next.next\n",
    "        slow = slow.next\n",
    "        if slow == fast:\n",
    "            return True  # found the cycle\n",
    "    return False\n",
    "\n",
    "def main():\n",
    "    head = Node(1)\n",
    "    head.next = Node(2)\n",
    "    head.next.next = Node(3)\n",
    "    head.next.next.next = Node(4)\n",
    "    head.next.next.next.next = Node(5)\n",
    "    head.next.next.next.next.next = Node(6)\n",
    "    print(\"LinkedList has cycle: \" + str(has_cycle(head)))\n",
    "\n",
    "    head.next.next.next.next.next.next = head.next.next\n",
    "    print(\"LinkedList has cycle: \" + str(has_cycle(head)))\n",
    "\n",
    "    head.next.next.next.next.next.next = head.next.next.next\n",
    "    print(\"LinkedList has cycle: \" + str(has_cycle(head)))\n",
    "\n",
    "main()\n"
   ]
  },
  {
   "cell_type": "markdown",
   "metadata": {},
   "source": [
    "**Time Complexity**: $O(N)$, where 'N' is the number of nodes in the LinkedList.<br>\n",
    "**Space Complexity**: $O(1)$."
   ]
  },
  {
   "cell_type": "markdown",
   "metadata": {},
   "source": [
    "# Similar Questions"
   ]
  },
  {
   "cell_type": "markdown",
   "metadata": {},
   "source": [
    "### Problem Statement\n",
    "Given the head of a LinkedList with a cycle, find the length of the cycle..<br>\n"
   ]
  },
  {
   "cell_type": "markdown",
   "metadata": {},
   "source": [
    "### Solution\n",
    "1. Find the cycle in the LinkedList\n",
    "2. Once the fast and slow pointers meet, we can save the slow pointer and iterate the whole cycle with another pointer until we see the slow pointer again to find the length of the cycle."
   ]
  },
  {
   "cell_type": "code",
   "execution_count": 2,
   "metadata": {},
   "outputs": [
    {
     "name": "stdout",
     "output_type": "stream",
     "text": [
      "LinkedList cycle length: 4\n",
      "LinkedList cycle length: 3\n"
     ]
    }
   ],
   "source": [
    "class Node:\n",
    "    def __init__(self, value, next=None):\n",
    "        self.value = value\n",
    "        self.next = next\n",
    "\n",
    "def find_cycle_length(head):\n",
    "    slow, fast = head, head\n",
    "    while fast and fast.next:\n",
    "        fast = fast.next.next\n",
    "        slow = slow.next\n",
    "        if slow == fast:\n",
    "            return calculate_cycle_length(slow)\n",
    "    return 0\n",
    "\n",
    "def calculate_cycle_length(slow):\n",
    "    current = slow\n",
    "    cycle_length = 0\n",
    "    while True:\n",
    "        current = current.next\n",
    "        cycle_length += 1\n",
    "        if current == slow:\n",
    "            break\n",
    "    return cycle_length\n",
    "\n",
    "def main():\n",
    "    head = Node(1)\n",
    "    head.next = Node(2)\n",
    "    head.next.next = Node(3)\n",
    "    head.next.next.next = Node(4)\n",
    "    head.next.next.next.next = Node(5)\n",
    "    head.next.next.next.next.next = Node(6)\n",
    "    head.next.next.next.next.next.next = head.next.next\n",
    "    print(\"LinkedList cycle length: \" + str(find_cycle_length(head)))\n",
    "\n",
    "    head.next.next.next.next.next.next = head.next.next.next\n",
    "    print(\"LinkedList cycle length: \" + str(find_cycle_length(head)))\n",
    "\n",
    "main()"
   ]
  },
  {
   "cell_type": "markdown",
   "metadata": {},
   "source": [
    "**Time Complexity**: $O(N)$, where 'N' is the number of nodes in the LinkedList.<br>\n",
    "**Space Complexity**: $O(1)$."
   ]
  }
 ],
 "metadata": {
  "kernelspec": {
   "display_name": "Python 3.7.10 ('base')",
   "language": "python",
   "name": "python3"
  },
  "language_info": {
   "codemirror_mode": {
    "name": "ipython",
    "version": 3
   },
   "file_extension": ".py",
   "mimetype": "text/x-python",
   "name": "python",
   "nbconvert_exporter": "python",
   "pygments_lexer": "ipython3",
   "version": "3.7.10"
  },
  "orig_nbformat": 4,
  "vscode": {
   "interpreter": {
    "hash": "f8b40d688a12481f01eadf7380c47edd8a49484a47dba3db091451640e880c68"
   }
  }
 },
 "nbformat": 4,
 "nbformat_minor": 2
}
