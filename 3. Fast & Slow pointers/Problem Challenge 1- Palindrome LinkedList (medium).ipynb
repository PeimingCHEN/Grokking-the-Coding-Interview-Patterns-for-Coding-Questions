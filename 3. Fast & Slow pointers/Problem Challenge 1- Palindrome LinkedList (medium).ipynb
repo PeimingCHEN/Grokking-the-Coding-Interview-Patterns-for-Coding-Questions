{
 "cells": [
  {
   "cell_type": "markdown",
   "metadata": {},
   "source": [
    "# Problem Challenge 1: Palindrome LinkedList (medium)"
   ]
  },
  {
   "cell_type": "markdown",
   "metadata": {},
   "source": [
    "### Problem Statement\n",
    "Given the head of a **Singly LinkedList**, write a method to check if the **LinkedList is a palindrome** or not.<br>\n",
    "Your algorithm should use **constant space** and the input LinkedList should be in the original form once the algorithm is finished. The algorithm should have $O(N)$ time complexity where 'N' is the number of nodes in the LinkedList.<br>\n",
    "Leetcode: [234. Palindrome Linked List](https://leetcode.com/problems/palindrome-linked-list/)\n",
    "\n",
    "##### Example 1\n",
    "**Input**: 2 -> 4 -> 6 -> 4 -> 2 -> null<br>\n",
    "**Output**: true<br>\n",
    "\n",
    "##### Example 2\n",
    "**Input**: 2 -> 4 -> 6 -> 4 -> 2 -> 2 -> null<br>\n",
    "**Output**: false<br>"
   ]
  },
  {
   "cell_type": "markdown",
   "metadata": {},
   "source": [
    "### Solution\n",
    "1. Use the Fast & Slow pointers method similar to Middle of the LinkedList to find the middle node of the LinkedList.\n",
    "2. Reverse the second half.\n",
    "3. Compare the first half with the reversed second half to see if the LinkedList represents a palindrome.\n",
    "4. Reverse the second half of the LinkedList again to revert and bring the LinkedList back to its original form."
   ]
  },
  {
   "cell_type": "code",
   "execution_count": 3,
   "metadata": {},
   "outputs": [
    {
     "name": "stdout",
     "output_type": "stream",
     "text": [
      "Is palindrome: True\n",
      "Is palindrome: False\n"
     ]
    }
   ],
   "source": [
    "class Node:\n",
    "    def __init__(self, value, next=None):\n",
    "        self.value = value\n",
    "        self.next = next\n",
    "\n",
    "def is_palindromic_linked_list(head):\n",
    "    if head is None or head.next is None:\n",
    "        return True\n",
    "    \n",
    "    # find middle of the LinkedList\n",
    "    slow, fast = head, head\n",
    "    while fast and fast.next:\n",
    "        slow = slow.next\n",
    "        fast = fast.next.next\n",
    "        \n",
    "    second_half_reverse = reverse(slow)  # reverse the second half\n",
    "    # store the head of reversed part to revert back later\n",
    "    copy_second_half_reverse = second_half_reverse\n",
    "    # compare the first and the second half\n",
    "    while head and second_half_reverse:\n",
    "        if head.value != second_half_reverse.value:\n",
    "            break  # not a palindrome\n",
    "        head = head.next\n",
    "        second_half_reverse = second_half_reverse.next\n",
    "        \n",
    "    reverse(copy_second_half_reverse)  # revert the reverse of the second half\n",
    "    if head is None or second_half_reverse is None:  # if both halves match\n",
    "        return True\n",
    "    return False\n",
    "\n",
    "def reverse(head):\n",
    "    prev = None\n",
    "    while head:\n",
    "        next = head.next\n",
    "        head.next = prev\n",
    "        prev = head\n",
    "        head = next\n",
    "    return prev\n",
    "\n",
    "def main():\n",
    "    head = Node(2)\n",
    "    head.next = Node(4)\n",
    "    head.next.next = Node(6)\n",
    "    head.next.next.next = Node(4)\n",
    "    head.next.next.next.next = Node(2)\n",
    "\n",
    "    print(\"Is palindrome: \" + str(is_palindromic_linked_list(head)))\n",
    "\n",
    "    head.next.next.next.next.next = Node(2)\n",
    "    print(\"Is palindrome: \" + str(is_palindromic_linked_list(head)))\n",
    "\n",
    "main()"
   ]
  },
  {
   "cell_type": "markdown",
   "metadata": {},
   "source": [
    "**Time Complexity**: $O(N)$, where 'N' is the number of nodes in the LinkedList.<br>\n",
    "**Space Complexity**: $O(1)$."
   ]
  }
 ],
 "metadata": {
  "kernelspec": {
   "display_name": "Python 3.7.10 ('base')",
   "language": "python",
   "name": "python3"
  },
  "language_info": {
   "codemirror_mode": {
    "name": "ipython",
    "version": 3
   },
   "file_extension": ".py",
   "mimetype": "text/x-python",
   "name": "python",
   "nbconvert_exporter": "python",
   "pygments_lexer": "ipython3",
   "version": "3.7.10"
  },
  "orig_nbformat": 4,
  "vscode": {
   "interpreter": {
    "hash": "f8b40d688a12481f01eadf7380c47edd8a49484a47dba3db091451640e880c68"
   }
  }
 },
 "nbformat": 4,
 "nbformat_minor": 2
}
