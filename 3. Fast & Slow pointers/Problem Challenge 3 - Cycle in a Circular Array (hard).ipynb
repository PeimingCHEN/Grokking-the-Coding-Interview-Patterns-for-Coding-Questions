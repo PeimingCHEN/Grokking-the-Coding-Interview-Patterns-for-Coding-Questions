{
 "cells": [
  {
   "cell_type": "markdown",
   "metadata": {},
   "source": [
    "# Problem Challenge 3: Cycle in a Circular Array (hard)"
   ]
  },
  {
   "cell_type": "markdown",
   "metadata": {},
   "source": [
    "### Problem Statement\n",
    "We are given an array containing positive and negative numbers. Suppose the array contains a number 'M' at a particular index. Now, if 'M' is positive we will move forward 'M' indices and if 'M' is negative move backwards 'M' indices. You should assume that the **array is circular** which means two things:\n",
    "1. If, while moving forward, we reach the end of the array, we will jump to the first element to continue the movement.\n",
    "2. If, while moving backward, we reach the beginning of the array, we will jump to the last element to continue the movement.<br>\n",
    "Write a method to determine if the array has a cycle. The cycle should have more than one element and should follow one direction which means the cycle should not contain both forward and backward movements.\n",
    "\n",
    "Leetcode: [457. Circular Array Loop](https://leetcode.com/problems/circular-array-loop/)\n",
    "\n",
    "##### Example 1\n",
    "**Input**: [1, 2, -1, 2, 2]<br>\n",
    "**Output**: true<br>\n",
    "**Explanation**: The array has a cycle among indices: 0 -> 1 -> 3 -> 0<br>\n",
    "\n",
    "##### Example 2\n",
    "**Input**: [2, 2, -1, 2]<br>\n",
    "**Output**: true<br>\n",
    "**Explanation**: The array has a cycle among indices: 1 -> 3 -> 1<br>\n",
    "\n",
    "##### Example 3\n",
    "**Input**: [2, 1, -1, -2]<br>\n",
    "**Output**: false<br>\n",
    "**Explanation**: The array does not have any cycle.<br>"
   ]
  },
  {
   "cell_type": "markdown",
   "metadata": {},
   "source": [
    "### Solution\n",
    "We can start from each index of the array to find the cycle. If a number does not have a cycle we will move forward to the next element.<br>\n",
    "Notice:\n",
    "1. The cycle should have more than one element. when we move a pointer forward, if the pointer points to the same element after the move, we have a one-element cycle. Therefore, we can finish our cycle search for the current element.\n",
    "2. The cycle should not contain both forward and backward movements. we can remember the direction of each element while searching for the cycle. Whenever we move a pointer forward, if there is a change in the direction, we will finish our cycle search right there for the current element."
   ]
  },
  {
   "cell_type": "code",
   "execution_count": 1,
   "metadata": {},
   "outputs": [
    {
     "name": "stdout",
     "output_type": "stream",
     "text": [
      "True\n",
      "True\n",
      "False\n"
     ]
    }
   ],
   "source": [
    "def circular_array_loop_exists(arr):\n",
    "    for i in range(len(arr)):\n",
    "        is_forward = arr[i] >= 0  # if we are moving forward or not\n",
    "        slow, fast = i, i\n",
    "        \n",
    "        # if slow or fast becomes '-1' this means we can't find cycle for this number\n",
    "        while True:\n",
    "            # move one step for slow pointer\n",
    "            slow = find_next_index(arr, is_forward, slow)\n",
    "            # move one step for fast pointer\n",
    "            fast = find_next_index(arr, is_forward, fast)\n",
    "            if fast != -1:\n",
    "                # move another step for fast pointer\n",
    "                fast = find_next_index(arr, is_forward, fast)\n",
    "            if slow == -1 or fast == -1 or slow == fast:\n",
    "                break\n",
    "        \n",
    "        if slow != -1 and slow == fast:\n",
    "            return True\n",
    "    return False\n",
    "\n",
    "def find_next_index(arr, is_forward, current_index):\n",
    "    current_direction = arr[current_index] >= 0\n",
    "    if is_forward != current_direction:\n",
    "        return -1  # change in direction, return -1\n",
    "    next_index = (current_index + arr[current_index]) % len(arr)\n",
    "    \n",
    "    # one element cycle, return -1\n",
    "    if next_index == current_index:\n",
    "        return -1\n",
    "    return next_index\n",
    "\n",
    "def main():\n",
    "    print(circular_array_loop_exists([1, 2, -1, 2, 2]))\n",
    "    print(circular_array_loop_exists([2, 2, -1, 2]))\n",
    "    print(circular_array_loop_exists([2, 1, -1, -2]))\n",
    "\n",
    "main()"
   ]
  },
  {
   "cell_type": "markdown",
   "metadata": {},
   "source": [
    "**Time Complexity**: $O(N^2)$, where 'N' is the number of elements in the array, for iterating all elements of the array and trying to find a cycle for each element. <br>\n",
    "**Space Complexity**: $O(1)$."
   ]
  }
 ],
 "metadata": {
  "kernelspec": {
   "display_name": "Python 3.7.10 ('base')",
   "language": "python",
   "name": "python3"
  },
  "language_info": {
   "codemirror_mode": {
    "name": "ipython",
    "version": 3
   },
   "file_extension": ".py",
   "mimetype": "text/x-python",
   "name": "python",
   "nbconvert_exporter": "python",
   "pygments_lexer": "ipython3",
   "version": "3.7.10"
  },
  "orig_nbformat": 4,
  "vscode": {
   "interpreter": {
    "hash": "f8b40d688a12481f01eadf7380c47edd8a49484a47dba3db091451640e880c68"
   }
  }
 },
 "nbformat": 4,
 "nbformat_minor": 2
}
