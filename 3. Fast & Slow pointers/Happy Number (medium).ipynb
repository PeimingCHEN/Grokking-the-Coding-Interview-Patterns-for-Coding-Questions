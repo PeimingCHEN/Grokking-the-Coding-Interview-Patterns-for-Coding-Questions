{
 "cells": [
  {
   "cell_type": "markdown",
   "metadata": {},
   "source": [
    "# Happy Number (medium)"
   ]
  },
  {
   "cell_type": "markdown",
   "metadata": {},
   "source": [
    "### Problem Statement\n",
    "Any number will be called a happy number if, after repeatedly replacing it with a number equal to the sum of the square of all of its digits, leads us to number '1'. All other (not-happy) numbers will never reach '1'. Instead, they will be stuck in a cycle of numbers which does not include '1'.<br>\n",
    "Leetcode: [202. Happy Number](https://leetcode.com/problems/happy-number/)\n",
    "\n",
    "##### Example 1\n",
    "**Input**: 23<br>\n",
    "**Output**: true (23 is a happy number)  \n",
    "**Explanations**: \n",
    "1. $2^2+3^2=4+9=13$\n",
    "2. $1^2+3^2=1+9=10$\n",
    "3. $1^2+0^2=1+0=1$\n",
    "\n",
    "##### Example 2\n",
    "**Input**: 12<br>\n",
    "**Output**: false (12 is not a happy number)<br>\n",
    "**Explanations**: \n",
    "1. $1^2 + 2^2 = 1 + 4 = 5$\n",
    "2. $5^2 = 25$\n",
    "3. $2^2 + 5^2 = 4 + 25 = 29$\n",
    "4. $2^2 + 9^2 = 4 + 81 = 85$\n",
    "5. $8^2 + 5^2 = 64 + 25 = 89$\n",
    "6. $8^2 + 9^2 = 64 + 81 = 145$\n",
    "7. $1^2 + 4^2 + 5^2 = 1 + 16 + 25 = 42$\n",
    "8. $4^2 + 2^2 = 16 + 4 = 20$\n",
    "9. $2^2 + 0^2 = 4 + 0 = 4$\n",
    "10. $4^2 = 16$\n",
    "11. $1^2 + 6^2 = 1 + 36 = 37$\n",
    "12. $3^2 + 7^2 = 9 + 49 = 58$\n",
    "13. $5^2 + 8^2 = 25 + 64 = 89$\n",
    "Step '13' leads us back to step '5' as the number becomes equal to '89', this means that we can never reach '1', therefore, '12' is not a happy number."
   ]
  },
  {
   "cell_type": "markdown",
   "metadata": {},
   "source": [
    "### Solution\n",
    "Each number will definitely have a cycle. Therefore, we will use the fast & slow pointer strategy to find the cycle and once the cycle is found, we will see if the cycle is stuck on number '1' to find out if the number is happy or not."
   ]
  },
  {
   "cell_type": "code",
   "execution_count": 5,
   "metadata": {},
   "outputs": [
    {
     "name": "stdout",
     "output_type": "stream",
     "text": [
      "True\n",
      "False\n"
     ]
    }
   ],
   "source": [
    "def find_happy_number(num):\n",
    "    slow, fast = num, num\n",
    "    while True:\n",
    "        slow = find_square_sum(slow)  # move one step\n",
    "        fast = find_square_sum(find_square_sum(fast))  # move two steps\n",
    "        if slow == fast:  # found the cycle\n",
    "            break\n",
    "    return slow == 1  # see if the cycle is stuck on the number '1'\n",
    "\n",
    "def find_square_sum(num):\n",
    "    _sum = 0\n",
    "    while (num > 0):\n",
    "        digit = num % 10\n",
    "        _sum += digit * digit\n",
    "        num //= 10\n",
    "    return _sum\n",
    "\n",
    "def main():\n",
    "    print(find_happy_number(23))\n",
    "    print(find_happy_number(12))\n",
    "\n",
    "main()"
   ]
  },
  {
   "cell_type": "markdown",
   "metadata": {},
   "source": [
    "**Time Complexity**: $O(logN)$<br>\n",
    "For N > 1000, suppose the number has 'M' digits and the next number is 'N1', and the sum of the squares of the digits of 'N' is at most 9^2M.<br>\n",
    "This means:\n",
    "1. $N1<81M$\n",
    "2. As we know $M = log(N+1)$\n",
    "3. Therefore: $N1 < 81 * log(N+1) => N1 = O(logN)$<br>\n",
    "\n",
    "\n",
    "**Space Complexity**: $O(1)$."
   ]
  }
 ],
 "metadata": {
  "kernelspec": {
   "display_name": "Python 3.7.10 ('base')",
   "language": "python",
   "name": "python3"
  },
  "language_info": {
   "name": "python",
   "version": "3.7.10"
  },
  "orig_nbformat": 4,
  "vscode": {
   "interpreter": {
    "hash": "f8b40d688a12481f01eadf7380c47edd8a49484a47dba3db091451640e880c68"
   }
  }
 },
 "nbformat": 4,
 "nbformat_minor": 2
}
