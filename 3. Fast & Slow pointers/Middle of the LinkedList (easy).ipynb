{
 "cells": [
  {
   "cell_type": "markdown",
   "metadata": {},
   "source": [
    "# Middle of the LinkedList (easy)"
   ]
  },
  {
   "cell_type": "markdown",
   "metadata": {},
   "source": [
    "### Problem Statement\n",
    "Given the head of a **Singly LinkedList**, write a method to return the **middle node** of the LinkedList.\n",
    "If the total number of nodes in the LinkedList is even, return the second middle node.<br>\n",
    "Leetcode: [876. Middle of the Linked List](https://leetcode.com/problems/middle-of-the-linked-list/)\n",
    "\n",
    "##### Example 1\n",
    "**Input**: 1 -> 2 -> 3 -> 4 -> 5 -> null<br>\n",
    "**Output**: 3<br>\n",
    "\n",
    "##### Example 2\n",
    "**Input**: 1 -> 2 -> 3 -> 4 -> 5 -> 6 -> null<br>\n",
    "**Output**: 4<br>\n",
    "\n",
    "##### Example 3\n",
    "**Input**: 1 -> 2 -> 3 -> 4 -> 5 -> 6 -> 7 -> null<br>\n",
    "**Output**: 4"
   ]
  },
  {
   "cell_type": "markdown",
   "metadata": {},
   "source": [
    "### Brute Force\n",
    "First count the number of nodes in the LinkedList and then find the middle node in the second iteration."
   ]
  },
  {
   "cell_type": "markdown",
   "metadata": {},
   "source": [
    "### Solution\n",
    "Use the Fast & Slow pointers so the fast pointer is always twice the nodes ahead of the slow pointer.<br>\n",
    "This way, when the fast pointer reaches the end of the LinkedList, the slow pointer will be pointing at the middle node."
   ]
  },
  {
   "cell_type": "code",
   "execution_count": 1,
   "metadata": {},
   "outputs": [
    {
     "name": "stdout",
     "output_type": "stream",
     "text": [
      "Middle Node: 3\n",
      "Middle Node: 4\n",
      "Middle Node: 4\n"
     ]
    }
   ],
   "source": [
    "class Node:\n",
    "    def __init__(self, value, next=None):\n",
    "        self.value = value\n",
    "        self.next = next\n",
    "\n",
    "def find_middle_of_linked_list(head):\n",
    "    slow, fast = head, head\n",
    "    while fast and fast.next:\n",
    "        slow = slow.next\n",
    "        fast = fast.next.next\n",
    "    return slow\n",
    "\n",
    "def main():\n",
    "    head = Node(1)\n",
    "    head.next = Node(2)\n",
    "    head.next.next = Node(3)\n",
    "    head.next.next.next = Node(4)\n",
    "    head.next.next.next.next = Node(5)\n",
    "\n",
    "    print(\"Middle Node: \" + str(find_middle_of_linked_list(head).value))\n",
    "\n",
    "    head.next.next.next.next.next = Node(6)\n",
    "    print(\"Middle Node: \" + str(find_middle_of_linked_list(head).value))\n",
    "\n",
    "    head.next.next.next.next.next.next = Node(7)\n",
    "    print(\"Middle Node: \" + str(find_middle_of_linked_list(head).value))\n",
    "\n",
    "\n",
    "main()"
   ]
  },
  {
   "cell_type": "markdown",
   "metadata": {},
   "source": [
    "**Time Complexity**: $O(N)$, where 'N' is the number of nodes in the LinkedList.<br>\n",
    "**Space Complexity**: $O(1)$."
   ]
  }
 ],
 "metadata": {
  "kernelspec": {
   "display_name": "Python 3.7.10 ('base')",
   "language": "python",
   "name": "python3"
  },
  "language_info": {
   "codemirror_mode": {
    "name": "ipython",
    "version": 3
   },
   "file_extension": ".py",
   "mimetype": "text/x-python",
   "name": "python",
   "nbconvert_exporter": "python",
   "pygments_lexer": "ipython3",
   "version": "3.7.10"
  },
  "orig_nbformat": 4,
  "vscode": {
   "interpreter": {
    "hash": "f8b40d688a12481f01eadf7380c47edd8a49484a47dba3db091451640e880c68"
   }
  }
 },
 "nbformat": 4,
 "nbformat_minor": 2
}
